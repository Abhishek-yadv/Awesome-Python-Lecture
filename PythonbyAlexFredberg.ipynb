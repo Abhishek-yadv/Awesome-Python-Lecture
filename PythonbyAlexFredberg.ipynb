{
 "cells": [
  {
   "cell_type": "markdown",
   "id": "0414c6ec",
   "metadata": {},
   "source": [
    "#  Lecture 1 Variable in Python"
   ]
  },
  {
   "cell_type": "code",
   "execution_count": 13,
   "id": "f229ed77",
   "metadata": {},
   "outputs": [
    {
     "name": "stdout",
     "output_type": "stream",
     "text": [
      "22\n"
     ]
    }
   ],
   "source": [
    "x = 22\n",
    "print(x)"
   ]
  },
  {
   "cell_type": "code",
   "execution_count": 2,
   "id": "ab5cf91e",
   "metadata": {},
   "outputs": [
    {
     "data": {
      "text/plain": [
       "int"
      ]
     },
     "execution_count": 2,
     "metadata": {},
     "output_type": "execute_result"
    }
   ],
   "source": [
    "type(x)"
   ]
  },
  {
   "cell_type": "code",
   "execution_count": 3,
   "id": "1956aaff",
   "metadata": {},
   "outputs": [
    {
     "name": "stdout",
     "output_type": "stream",
     "text": [
      "Mint Chocklate Chip\n"
     ]
    }
   ],
   "source": [
    "y = 'Mint Chocklate Chip'\n",
    "print(y)"
   ]
  },
  {
   "cell_type": "code",
   "execution_count": 4,
   "id": "ecd6f842",
   "metadata": {},
   "outputs": [
    {
     "data": {
      "text/plain": [
       "str"
      ]
     },
     "execution_count": 4,
     "metadata": {},
     "output_type": "execute_result"
    }
   ],
   "source": [
    "type(y)"
   ]
  },
  {
   "cell_type": "code",
   "execution_count": 5,
   "id": "eb3d4e11",
   "metadata": {},
   "outputs": [
    {
     "name": "stdout",
     "output_type": "stream",
     "text": [
      "Mint Chocklate Chip\n"
     ]
    }
   ],
   "source": [
    "print(y)"
   ]
  },
  {
   "cell_type": "code",
   "execution_count": 6,
   "id": "590637bd",
   "metadata": {},
   "outputs": [
    {
     "name": "stdout",
     "output_type": "stream",
     "text": [
      "Chocolate\n"
     ]
    }
   ],
   "source": [
    "y = 'Chocolate'\n",
    "print(y)"
   ]
  },
  {
   "cell_type": "code",
   "execution_count": 7,
   "id": "0844ab1b",
   "metadata": {},
   "outputs": [
    {
     "name": "stdout",
     "output_type": "stream",
     "text": [
      "Chocolate\n"
     ]
    }
   ],
   "source": [
    "y = 'Mint Chocklate Chip'\n",
    "y = 'Chocolate'\n",
    "print(y)"
   ]
  },
  {
   "cell_type": "markdown",
   "id": "5bf6a5d3",
   "metadata": {},
   "source": [
    "# Variable are case sensitive\n"
   ]
  },
  {
   "cell_type": "code",
   "execution_count": 8,
   "id": "4a814537",
   "metadata": {},
   "outputs": [
    {
     "name": "stdout",
     "output_type": "stream",
     "text": [
      "Mint Chocklate Chip\n"
     ]
    }
   ],
   "source": [
    "y = 'Mint Chocklate Chip'\n",
    "Y = 'Chocolate'\n",
    "print(y)"
   ]
  },
  {
   "cell_type": "code",
   "execution_count": 9,
   "id": "4e307b97",
   "metadata": {},
   "outputs": [
    {
     "name": "stdout",
     "output_type": "stream",
     "text": [
      "Chocolate\n"
     ]
    }
   ],
   "source": [
    "Y = 'Mint Chocklate Chip'\n",
    "y = 'Chocolate'\n",
    "print(y)"
   ]
  },
  {
   "cell_type": "code",
   "execution_count": 10,
   "id": "7a9af53e",
   "metadata": {},
   "outputs": [
    {
     "name": "stdout",
     "output_type": "stream",
     "text": [
      "chocklate\n",
      "Vanilla\n",
      "Rocky Road\n"
     ]
    }
   ],
   "source": [
    "#We can asssign multipple value to multiple variable\n",
    "x,y,z = \"chocklate\", \"Vanilla\", 'Rocky Road'\n",
    "print(x)\n",
    "print(y)\n",
    "print(z)"
   ]
  },
  {
   "cell_type": "code",
   "execution_count": 11,
   "id": "a3072157",
   "metadata": {},
   "outputs": [
    {
     "name": "stdout",
     "output_type": "stream",
     "text": [
      "Root Beer Float\n",
      "Root Beer Float\n",
      "Root Beer Float\n"
     ]
    }
   ],
   "source": [
    "x= y = z = 'Root Beer Float'\n",
    "print(x)\n",
    "print(y)\n",
    "print(z)"
   ]
  },
  {
   "cell_type": "code",
   "execution_count": 13,
   "id": "0393b65b",
   "metadata": {},
   "outputs": [
    {
     "name": "stdout",
     "output_type": "stream",
     "text": [
      "chocklate\n",
      "Vanilla\n",
      "Rocky Road\n"
     ]
    }
   ],
   "source": [
    "ice_cream = [\"chocklate\", \"Vanilla\", 'Rocky Road']\n",
    "x,y,z = ice_cream\n",
    "print(x)\n",
    "print(y)\n",
    "print(z)"
   ]
  },
  {
   "cell_type": "code",
   "execution_count": null,
   "id": "59956e01",
   "metadata": {},
   "outputs": [],
   "source": [
    "# Camel Case\n",
    "# Test Variable Case\n",
    "\n",
    "testVaribleCase = 'Vanilla Swirl'\n"
   ]
  },
  {
   "cell_type": "code",
   "execution_count": null,
   "id": "8a9a4d41",
   "metadata": {},
   "outputs": [],
   "source": [
    "# Pascal Case\n",
    "# Test Variable Case\n",
    "\n",
    "TestVaribleCase = 'Vanilla Swirl'"
   ]
  },
  {
   "cell_type": "code",
   "execution_count": null,
   "id": "bfe8b26c",
   "metadata": {},
   "outputs": [],
   "source": [
    "# Snake Case\n",
    "# Test Variable Case\n",
    "\n",
    "test_varible_case = 'Vanilla Swirl'"
   ]
  },
  {
   "cell_type": "code",
   "execution_count": null,
   "id": "2e7963cd",
   "metadata": {},
   "outputs": [],
   "source": [
    "testvar = 'Vanilla Swirl'\n",
    "test_var = 'Vanilla Swirl'\n",
    "_test_var = 'Vanilla Swirl'\n",
    "testVar = 'Vanilla Swirl'\n",
    "TestVar = 'Vanilla Swirl'\n",
    "testVar2 = 'Vanilla Swirl'\n"
   ]
  },
  {
   "cell_type": "code",
   "execution_count": null,
   "id": "ee144fb9",
   "metadata": {},
   "outputs": [],
   "source": [
    "2testvar = 'Vanilla Swirl'\n",
    "test-Var2 = 'Vanilla Swirl'\n",
    "test-Var2 = 'Vanilla Swirl'\n",
    "test Var2 = 'Vanilla Swirl'\n",
    "test,Var2 = 'Vanilla Swirl'"
   ]
  },
  {
   "cell_type": "code",
   "execution_count": 14,
   "id": "4f082540",
   "metadata": {},
   "outputs": [
    {
     "name": "stdout",
     "output_type": "stream",
     "text": [
      "Ice Cream is my favrite,\n"
     ]
    }
   ],
   "source": [
    "x = 'Ice Cream is my favrite' + ','\n",
    "print(x)\n"
   ]
  },
  {
   "cell_type": "code",
   "execution_count": 16,
   "id": "bbd10ba5",
   "metadata": {},
   "outputs": [
    {
     "ename": "TypeError",
     "evalue": "can only concatenate str (not \"int\") to str",
     "output_type": "error",
     "traceback": [
      "\u001b[1;31m---------------------------------------------------------------------------\u001b[0m",
      "\u001b[1;31mTypeError\u001b[0m                                 Traceback (most recent call last)",
      "\u001b[1;32m~\\AppData\\Local\\Temp\\ipykernel_17008\\3833150802.py\u001b[0m in \u001b[0;36m<module>\u001b[1;34m\u001b[0m\n\u001b[0;32m      1\u001b[0m \u001b[1;31m#we can not concatenate number\u001b[0m\u001b[1;33m\u001b[0m\u001b[1;33m\u001b[0m\u001b[0m\n\u001b[1;32m----> 2\u001b[1;33m \u001b[0mx\u001b[0m \u001b[1;33m=\u001b[0m \u001b[1;34m'Ice Cream is my favrite'\u001b[0m \u001b[1;33m+\u001b[0m \u001b[1;36m2\u001b[0m\u001b[1;33m\u001b[0m\u001b[1;33m\u001b[0m\u001b[0m\n\u001b[0m\u001b[0;32m      3\u001b[0m \u001b[0mprint\u001b[0m\u001b[1;33m(\u001b[0m\u001b[0mx\u001b[0m\u001b[1;33m)\u001b[0m\u001b[1;33m\u001b[0m\u001b[1;33m\u001b[0m\u001b[0m\n",
      "\u001b[1;31mTypeError\u001b[0m: can only concatenate str (not \"int\") to str"
     ]
    }
   ],
   "source": [
    "#we can not concatenate number\n",
    "x = 'Ice Cream is my favrite' + 2\n",
    "print(x)"
   ]
  },
  {
   "cell_type": "code",
   "execution_count": 17,
   "id": "7d2a3e55",
   "metadata": {},
   "outputs": [
    {
     "name": "stdout",
     "output_type": "stream",
     "text": [
      "5\n"
     ]
    }
   ],
   "source": [
    "# we can also add multiple variable in print statement\n",
    "y = 3 + 2\n",
    "print(y)"
   ]
  },
  {
   "cell_type": "code",
   "execution_count": 21,
   "id": "892085f5",
   "metadata": {},
   "outputs": [
    {
     "name": "stdout",
     "output_type": "stream",
     "text": [
      "Ice Cream is my favorite\n"
     ]
    }
   ],
   "source": [
    "x = 'Ice Cream'\n",
    "y = ' is'\n",
    "z = ' my favorite'\n",
    "print(x+y+z)\n"
   ]
  },
  {
   "cell_type": "code",
   "execution_count": 19,
   "id": "6e6b02f9",
   "metadata": {},
   "outputs": [
    {
     "name": "stdout",
     "output_type": "stream",
     "text": [
      "6\n"
     ]
    }
   ],
   "source": [
    "x = 1\n",
    "y = 2\n",
    "z = 3\n",
    "print(x+y+z)"
   ]
  },
  {
   "cell_type": "code",
   "execution_count": 22,
   "id": "07192512",
   "metadata": {},
   "outputs": [
    {
     "ename": "TypeError",
     "evalue": "can only concatenate str (not \"int\") to str",
     "output_type": "error",
     "traceback": [
      "\u001b[1;31m---------------------------------------------------------------------------\u001b[0m",
      "\u001b[1;31mTypeError\u001b[0m                                 Traceback (most recent call last)",
      "\u001b[1;32m~\\AppData\\Local\\Temp\\ipykernel_17008\\3947254012.py\u001b[0m in \u001b[0;36m<module>\u001b[1;34m\u001b[0m\n\u001b[0;32m      1\u001b[0m \u001b[0mx\u001b[0m \u001b[1;33m=\u001b[0m \u001b[1;34m\"Ice Cream\"\u001b[0m\u001b[1;33m\u001b[0m\u001b[1;33m\u001b[0m\u001b[0m\n\u001b[0;32m      2\u001b[0m \u001b[0mz\u001b[0m \u001b[1;33m=\u001b[0m \u001b[1;36m3\u001b[0m\u001b[1;33m\u001b[0m\u001b[1;33m\u001b[0m\u001b[0m\n\u001b[1;32m----> 3\u001b[1;33m \u001b[0mprint\u001b[0m\u001b[1;33m(\u001b[0m\u001b[0mx\u001b[0m\u001b[1;33m+\u001b[0m\u001b[0my\u001b[0m\u001b[1;33m+\u001b[0m\u001b[0mz\u001b[0m\u001b[1;33m)\u001b[0m\u001b[1;33m\u001b[0m\u001b[1;33m\u001b[0m\u001b[0m\n\u001b[0m",
      "\u001b[1;31mTypeError\u001b[0m: can only concatenate str (not \"int\") to str"
     ]
    }
   ],
   "source": [
    "x = \"Ice Cream\"\n",
    "z = 3\n",
    "print(x+y+z)"
   ]
  },
  {
   "cell_type": "code",
   "execution_count": 23,
   "id": "9323f12b",
   "metadata": {},
   "outputs": [
    {
     "name": "stdout",
     "output_type": "stream",
     "text": [
      "Ice Cream 3\n"
     ]
    }
   ],
   "source": [
    "# But we can combine string and number\n",
    "x = \"Ice Cream\"\n",
    "z = 3\n",
    "print(x,z)"
   ]
  },
  {
   "cell_type": "markdown",
   "id": "672f726c",
   "metadata": {},
   "source": [
    "#  Lecture 2 Data type :-\n",
    "                         data types are the classification of the data that you are storing these classifications tell you what operations can be performed on your data\n"
   ]
  },
  {
   "cell_type": "code",
   "execution_count": 27,
   "id": "a8b4b23b",
   "metadata": {},
   "outputs": [
    {
     "data": {
      "text/plain": [
       "12"
      ]
     },
     "execution_count": 27,
     "metadata": {},
     "output_type": "execute_result"
    }
   ],
   "source": [
    "# Integer:- integers an integer is basically just a whole number whether it's positive or negative.\n",
    "12"
   ]
  },
  {
   "cell_type": "code",
   "execution_count": 28,
   "id": "73bd3071",
   "metadata": {},
   "outputs": [
    {
     "data": {
      "text/plain": [
       "int"
      ]
     },
     "execution_count": 28,
     "metadata": {},
     "output_type": "execute_result"
    }
   ],
   "source": [
    "type(12)"
   ]
  },
  {
   "cell_type": "code",
   "execution_count": 29,
   "id": "e21ea352",
   "metadata": {},
   "outputs": [
    {
     "data": {
      "text/plain": [
       "int"
      ]
     },
     "execution_count": 29,
     "metadata": {},
     "output_type": "execute_result"
    }
   ],
   "source": [
    "type(-12)"
   ]
  },
  {
   "cell_type": "code",
   "execution_count": 30,
   "id": "c55aeb73",
   "metadata": {},
   "outputs": [
    {
     "data": {
      "text/plain": [
       "int"
      ]
     },
     "execution_count": 30,
     "metadata": {},
     "output_type": "execute_result"
    }
   ],
   "source": [
    "type(-12+100)"
   ]
  },
  {
   "cell_type": "code",
   "execution_count": 31,
   "id": "049c7f6e",
   "metadata": {},
   "outputs": [
    {
     "data": {
      "text/plain": [
       "float"
      ]
     },
     "execution_count": 31,
     "metadata": {},
     "output_type": "execute_result"
    }
   ],
   "source": [
    "type(12 + 10.25)"
   ]
  },
  {
   "cell_type": "code",
   "execution_count": 33,
   "id": "a2b6eaf6",
   "metadata": {},
   "outputs": [
    {
     "data": {
      "text/plain": [
       "complex"
      ]
     },
     "execution_count": 33,
     "metadata": {},
     "output_type": "execute_result"
    }
   ],
   "source": [
    "type(12 + 12j)"
   ]
  },
  {
   "cell_type": "code",
   "execution_count": 34,
   "id": "bd2d1377",
   "metadata": {},
   "outputs": [
    {
     "ename": "SyntaxError",
     "evalue": "invalid syntax (3710603497.py, line 1)",
     "output_type": "error",
     "traceback": [
      "\u001b[1;36m  File \u001b[1;32m\"C:\\Users\\admin\\AppData\\Local\\Temp\\ipykernel_17008\\3710603497.py\"\u001b[1;36m, line \u001b[1;32m1\u001b[0m\n\u001b[1;33m    type(12 + 12c)\u001b[0m\n\u001b[1;37m                ^\u001b[0m\n\u001b[1;31mSyntaxError\u001b[0m\u001b[1;31m:\u001b[0m invalid syntax\n"
     ]
    }
   ],
   "source": [
    "type(12 + 12c)"
   ]
  },
  {
   "cell_type": "markdown",
   "id": "e1e63139",
   "metadata": {},
   "source": [
    "# Boolean:-\n",
    "                    the Boolean data type only has two built-in values either true or false"
   ]
  },
  {
   "cell_type": "code",
   "execution_count": 35,
   "id": "0db4b3da",
   "metadata": {},
   "outputs": [
    {
     "data": {
      "text/plain": [
       "bool"
      ]
     },
     "execution_count": 35,
     "metadata": {},
     "output_type": "execute_result"
    }
   ],
   "source": [
    "# Boolean\n",
    "type(1>5)"
   ]
  },
  {
   "cell_type": "code",
   "execution_count": 36,
   "id": "1572e431",
   "metadata": {},
   "outputs": [
    {
     "data": {
      "text/plain": [
       "True"
      ]
     },
     "execution_count": 36,
     "metadata": {},
     "output_type": "execute_result"
    }
   ],
   "source": [
    "1 == 1"
   ]
  },
  {
   "cell_type": "markdown",
   "id": "093abefb",
   "metadata": {},
   "source": [
    "# String:- \n",
    "                strings are arrays of bytes representing Unicode characters when you're using strings you put them either in a single quote a double quote or a triple quote."
   ]
  },
  {
   "cell_type": "code",
   "execution_count": 37,
   "id": "42000b81",
   "metadata": {},
   "outputs": [
    {
     "data": {
      "text/plain": [
       "'Single Quote'"
      ]
     },
     "execution_count": 37,
     "metadata": {},
     "output_type": "execute_result"
    }
   ],
   "source": [
    "# strings\n",
    "\"Single Quote\""
   ]
  },
  {
   "cell_type": "code",
   "execution_count": 38,
   "id": "6299f719",
   "metadata": {},
   "outputs": [
    {
     "data": {
      "text/plain": [
       "'Double Quote'"
      ]
     },
     "execution_count": 38,
     "metadata": {},
     "output_type": "execute_result"
    }
   ],
   "source": [
    "\"Double Quote\""
   ]
  },
  {
   "cell_type": "code",
   "execution_count": 39,
   "id": "8fa0466b",
   "metadata": {},
   "outputs": [
    {
     "data": {
      "text/plain": [
       "'\\nThe ice cream vanquished my longing for sweets,\\nupon this diet I look away,\\nit no longer exists on this day\\n'"
      ]
     },
     "execution_count": 39,
     "metadata": {},
     "output_type": "execute_result"
    }
   ],
   "source": [
    "#multiline\n",
    "\"\"\"\n",
    "The ice cream vanquished my longing for sweets,\n",
    "upon this diet I look away,\n",
    "it no longer exists on this day\n",
    "\"\"\""
   ]
  },
  {
   "cell_type": "code",
   "execution_count": 40,
   "id": "3b1f2f5f",
   "metadata": {},
   "outputs": [
    {
     "name": "stdout",
     "output_type": "stream",
     "text": [
      "\n",
      "The ice cream vanquished my longing for sweets,\n",
      "upon this diet I look away,\n",
      "it no longer exists on this day\n",
      "\n"
     ]
    }
   ],
   "source": [
    "multiline = \"\"\"\n",
    "The ice cream vanquished my longing for sweets,\n",
    "upon this diet I look away,\n",
    "it no longer exists on this day\n",
    "\"\"\"\n",
    "print(multiline)"
   ]
  },
  {
   "cell_type": "markdown",
   "id": "8ebdc507",
   "metadata": {},
   "source": [
    "Whenever we have a single quote within statement we need to use a double quote these double quotes will\n",
    "negate any single quotes that you have within your statement \n",
    "they won't however negate another double quote so you need to make sure\n",
    "you aren't using double quotes within your sentence if you want to do something like\n",
    "that you need to use the triple quotes like we did above.\n",
    "\n",
    "So make sure don't use same quote within in your statment, same quote can not negate with itself, bcz python got confuse."
   ]
  },
  {
   "cell_type": "code",
   "execution_count": 47,
   "id": "3ae3aad1",
   "metadata": {},
   "outputs": [
    {
     "ename": "SyntaxError",
     "evalue": "invalid syntax (3367378086.py, line 1)",
     "output_type": "error",
     "traceback": [
      "\u001b[1;36m  File \u001b[1;32m\"C:\\Users\\admin\\AppData\\Local\\Temp\\ipykernel_17008\\3367378086.py\"\u001b[1;36m, line \u001b[1;32m1\u001b[0m\n\u001b[1;33m    \"I've always wanted to eat a \"gallon\" of ice cream.\"\u001b[0m\n\u001b[1;37m                                  ^\u001b[0m\n\u001b[1;31mSyntaxError\u001b[0m\u001b[1;31m:\u001b[0m invalid syntax\n"
     ]
    }
   ],
   "source": [
    "\"I've always wanted to eat a \"gallon\" of ice cream.\"\n"
   ]
  },
  {
   "cell_type": "code",
   "execution_count": 45,
   "id": "45d851ca",
   "metadata": {},
   "outputs": [
    {
     "ename": "SyntaxError",
     "evalue": "invalid syntax (3734081802.py, line 1)",
     "output_type": "error",
     "traceback": [
      "\u001b[1;36m  File \u001b[1;32m\"C:\\Users\\admin\\AppData\\Local\\Temp\\ipykernel_17008\\3734081802.py\"\u001b[1;36m, line \u001b[1;32m1\u001b[0m\n\u001b[1;33m    'I\"ve always wanted to 'eat' a gallon of ice cream'\u001b[0m\n\u001b[1;37m                            ^\u001b[0m\n\u001b[1;31mSyntaxError\u001b[0m\u001b[1;31m:\u001b[0m invalid syntax\n"
     ]
    }
   ],
   "source": [
    "'I\"ve always wanted to 'eat' a gallon of ice cream'"
   ]
  },
  {
   "cell_type": "code",
   "execution_count": 48,
   "id": "dff649c4",
   "metadata": {},
   "outputs": [
    {
     "ename": "SyntaxError",
     "evalue": "invalid syntax (2332671560.py, line 1)",
     "output_type": "error",
     "traceback": [
      "\u001b[1;36m  File \u001b[1;32m\"C:\\Users\\admin\\AppData\\Local\\Temp\\ipykernel_17008\\2332671560.py\"\u001b[1;36m, line \u001b[1;32m1\u001b[0m\n\u001b[1;33m    \"\"\" I\"ve always wanted to \"\"\"eat\"\"\" a gallon of ice cream\"\"\"\u001b[0m\n\u001b[1;37m                                 ^\u001b[0m\n\u001b[1;31mSyntaxError\u001b[0m\u001b[1;31m:\u001b[0m invalid syntax\n"
     ]
    }
   ],
   "source": [
    "\"\"\" I\"ve always wanted to \"\"\"eat\"\"\" a gallon of ice cream\"\"\""
   ]
  },
  {
   "cell_type": "code",
   "execution_count": 50,
   "id": "5b3ac656",
   "metadata": {},
   "outputs": [
    {
     "data": {
      "text/plain": [
       "' I\"ve always wanted to eat a gallon of \"ice cream\"\\n'"
      ]
     },
     "execution_count": 50,
     "metadata": {},
     "output_type": "execute_result"
    }
   ],
   "source": [
    "\"\"\" I\"ve always wanted to eat a gallon of \"ice cream\"\n",
    "\"\"\""
   ]
  },
  {
   "cell_type": "code",
   "execution_count": 52,
   "id": "7a7816ba",
   "metadata": {},
   "outputs": [
    {
     "data": {
      "text/plain": [
       "str"
      ]
     },
     "execution_count": 52,
     "metadata": {},
     "output_type": "execute_result"
    }
   ],
   "source": [
    "type(multiline)"
   ]
  },
  {
   "cell_type": "markdown",
   "id": "d9f64b96",
   "metadata": {},
   "source": [
    " Index: indexing means that you can search within it and that index starts at zero"
   ]
  },
  {
   "cell_type": "code",
   "execution_count": 61,
   "id": "b9396018",
   "metadata": {},
   "outputs": [],
   "source": [
    "a = 'Hello World!'"
   ]
  },
  {
   "cell_type": "code",
   "execution_count": 57,
   "id": "1720bec7",
   "metadata": {},
   "outputs": [
    {
     "name": "stdout",
     "output_type": "stream",
     "text": [
      "Hello\n"
     ]
    }
   ],
   "source": [
    "print(a[:5])"
   ]
  },
  {
   "cell_type": "code",
   "execution_count": 64,
   "id": "189c301e",
   "metadata": {},
   "outputs": [
    {
     "name": "stdout",
     "output_type": "stream",
     "text": [
      " \n"
     ]
    }
   ],
   "source": [
    "a = 'Hello World!'\n",
    "print(a[5])\n",
    "# At index 5 space available"
   ]
  },
  {
   "cell_type": "code",
   "execution_count": 65,
   "id": "9b619f06",
   "metadata": {},
   "outputs": [
    {
     "name": "stdout",
     "output_type": "stream",
     "text": [
      "W\n"
     ]
    }
   ],
   "source": [
    "print(a[6])"
   ]
  },
  {
   "cell_type": "code",
   "execution_count": 66,
   "id": "44d5a6cb",
   "metadata": {},
   "outputs": [
    {
     "name": "stdout",
     "output_type": "stream",
     "text": [
      "l\n"
     ]
    }
   ],
   "source": [
    "print(a[-3])"
   ]
  },
  {
   "cell_type": "code",
   "execution_count": 67,
   "id": "7a468cb2",
   "metadata": {},
   "outputs": [
    {
     "name": "stdout",
     "output_type": "stream",
     "text": [
      "llo\n"
     ]
    }
   ],
   "source": [
    "#we can aslo specify range\n",
    "a = a = 'Hello World!'\n",
    "print(a[2:5])"
   ]
  },
  {
   "cell_type": "code",
   "execution_count": 68,
   "id": "251f35d9",
   "metadata": {},
   "outputs": [
    {
     "data": {
      "text/plain": [
       "'Hello World!Hello World!Hello World!'"
      ]
     },
     "execution_count": 68,
     "metadata": {},
     "output_type": "execute_result"
    }
   ],
   "source": [
    "# we can aslo multiply string\n",
    "a*3"
   ]
  },
  {
   "cell_type": "code",
   "execution_count": 69,
   "id": "7c1f00f1",
   "metadata": {},
   "outputs": [
    {
     "data": {
      "text/plain": [
       "'Hello World!Hello World!'"
      ]
     },
     "execution_count": 69,
     "metadata": {},
     "output_type": "execute_result"
    }
   ],
   "source": [
    "# we can also add\n",
    "a+a"
   ]
  },
  {
   "cell_type": "markdown",
   "id": "3e2dc6a6",
   "metadata": {},
   "source": [
    "string: store one value with multiple character\n",
    "list : contains multiple with separate value"
   ]
  },
  {
   "cell_type": "code",
   "execution_count": 71,
   "id": "fa5e86a8",
   "metadata": {},
   "outputs": [
    {
     "data": {
      "text/plain": [
       "[1, 2, 3]"
      ]
     },
     "execution_count": 71,
     "metadata": {},
     "output_type": "execute_result"
    }
   ],
   "source": [
    "#List with numeric value\n",
    "[1,2,3]"
   ]
  },
  {
   "cell_type": "code",
   "execution_count": 72,
   "id": "c5b490cc",
   "metadata": {},
   "outputs": [],
   "source": [
    "#comma denote they are separate value"
   ]
  },
  {
   "cell_type": "code",
   "execution_count": 73,
   "id": "33f9710c",
   "metadata": {},
   "outputs": [
    {
     "data": {
      "text/plain": [
       "['a', 'b', 'c']"
      ]
     },
     "execution_count": 73,
     "metadata": {},
     "output_type": "execute_result"
    }
   ],
   "source": [
    "#List with string value\n",
    "[\"a\",\"b\",\"c\"]"
   ]
  },
  {
   "cell_type": "markdown",
   "id": "b076d06a",
   "metadata": {},
   "source": [
    "List can contain any types of data type, so you can put anything you want"
   ]
  },
  {
   "cell_type": "code",
   "execution_count": 75,
   "id": "d641f9d2",
   "metadata": {},
   "outputs": [
    {
     "data": {
      "text/plain": [
       "['Vanilla', 3, 'Strawberry', 'Chocolate']"
      ]
     },
     "execution_count": 75,
     "metadata": {},
     "output_type": "execute_result"
    }
   ],
   "source": [
    "['Vanilla', 3, \"Strawberry\", 'Chocolate']\n"
   ]
  },
  {
   "cell_type": "code",
   "execution_count": 76,
   "id": "002064b2",
   "metadata": {},
   "outputs": [
    {
     "data": {
      "text/plain": [
       "['Vanilla', 3, ['Scops', 'Spon'], 'Strawberry', 'Chocolate']"
      ]
     },
     "execution_count": 76,
     "metadata": {},
     "output_type": "execute_result"
    }
   ],
   "source": [
    "#We can create a list within list\n",
    "['Vanilla', 3,['Scops','Spon'], \"Strawberry\", 'Chocolate']"
   ]
  },
  {
   "cell_type": "code",
   "execution_count": 77,
   "id": "1a94c186",
   "metadata": {},
   "outputs": [
    {
     "data": {
      "text/plain": [
       "['Vanilla', 3, 'Strawberry', 'Chocolate', 'Salted Caramel']"
      ]
     },
     "execution_count": 77,
     "metadata": {},
     "output_type": "execute_result"
    }
   ],
   "source": [
    "ice_cream = ['Vanilla', 3, \"Strawberry\", 'Chocolate']\n",
    "ice_cream.append('Salted Caramel')\n",
    "ice_cream"
   ]
  },
  {
   "cell_type": "code",
   "execution_count": 78,
   "id": "bb6a4ee4",
   "metadata": {},
   "outputs": [
    {
     "data": {
      "text/plain": [
       "['Vanilla', 3, 'Strawberry', 'Chocolate', 'Salted Caramel']"
      ]
     },
     "execution_count": 78,
     "metadata": {},
     "output_type": "execute_result"
    }
   ],
   "source": [
    "ice_cream = ['Vanilla', 3, \"Strawberry\", 'Chocolate']\n",
    "ice_cream.append('Salted Caramel')\n",
    "ice_cream"
   ]
  },
  {
   "cell_type": "code",
   "execution_count": 80,
   "id": "5a885b65",
   "metadata": {},
   "outputs": [
    {
     "data": {
      "text/plain": [
       "['Butter Pecan', 3, 'Strawberry', 'Chocolate', 'Salted Caramel']"
      ]
     },
     "execution_count": 80,
     "metadata": {},
     "output_type": "execute_result"
    }
   ],
   "source": [
    "ice_cream[0] = 'Butter Pecan'\n",
    "ice_cream"
   ]
  },
  {
   "cell_type": "code",
   "execution_count": 82,
   "id": "3bfb45a2",
   "metadata": {},
   "outputs": [
    {
     "data": {
      "text/plain": [
       "['Scoops', 'Spoon']"
      ]
     },
     "execution_count": 82,
     "metadata": {},
     "output_type": "execute_result"
    }
   ],
   "source": [
    "nested_list = ['Vannila', 3, ['Scoops', 'Spoon'], True]\n",
    "nested_list[2]"
   ]
  },
  {
   "cell_type": "code",
   "execution_count": 83,
   "id": "1167ab35",
   "metadata": {},
   "outputs": [
    {
     "data": {
      "text/plain": [
       "'Spoon'"
      ]
     },
     "execution_count": 83,
     "metadata": {},
     "output_type": "execute_result"
    }
   ],
   "source": [
    "nested_list = ['Vannila', 3, ['Scoops', 'Spoon'], True]\n",
    "nested_list[2][1]"
   ]
  },
  {
   "cell_type": "markdown",
   "id": "4b430743",
   "metadata": {},
   "source": [
    "# Tuple:- \n",
    "tuple is something called immutable it means it cannot be modified\n",
    "or changed after it's created.\n"
   ]
  },
  {
   "cell_type": "code",
   "execution_count": 84,
   "id": "fab3bbb8",
   "metadata": {},
   "outputs": [
    {
     "data": {
      "text/plain": [
       "tuple"
      ]
     },
     "execution_count": 84,
     "metadata": {},
     "output_type": "execute_result"
    }
   ],
   "source": [
    "tuple_scoops = (1,2,3,2,1)\n",
    "type(tuple_scoops)"
   ]
  },
  {
   "cell_type": "code",
   "execution_count": 85,
   "id": "02e1d2cc",
   "metadata": {},
   "outputs": [
    {
     "data": {
      "text/plain": [
       "1"
      ]
     },
     "execution_count": 85,
     "metadata": {},
     "output_type": "execute_result"
    }
   ],
   "source": [
    "#Typle has also index \n",
    "tuple_scoops[0]\n"
   ]
  },
  {
   "cell_type": "code",
   "execution_count": 86,
   "id": "b1503e3f",
   "metadata": {},
   "outputs": [
    {
     "ename": "AttributeError",
     "evalue": "'tuple' object has no attribute 'append'",
     "output_type": "error",
     "traceback": [
      "\u001b[1;31m---------------------------------------------------------------------------\u001b[0m",
      "\u001b[1;31mAttributeError\u001b[0m                            Traceback (most recent call last)",
      "\u001b[1;32m~\\AppData\\Local\\Temp\\ipykernel_17008\\174015282.py\u001b[0m in \u001b[0;36m<module>\u001b[1;34m\u001b[0m\n\u001b[1;32m----> 1\u001b[1;33m \u001b[0mtuple_scoops\u001b[0m\u001b[1;33m.\u001b[0m\u001b[0mappend\u001b[0m\u001b[1;33m(\u001b[0m\u001b[1;36m3\u001b[0m\u001b[1;33m)\u001b[0m\u001b[1;33m\u001b[0m\u001b[1;33m\u001b[0m\u001b[0m\n\u001b[0m",
      "\u001b[1;31mAttributeError\u001b[0m: 'tuple' object has no attribute 'append'"
     ]
    }
   ],
   "source": [
    "tuple_scoops.append(3)"
   ]
  },
  {
   "cell_type": "markdown",
   "id": "b9381f7c",
   "metadata": {},
   "source": [
    "# Sets: \n",
    "set is somewhere similar to list and tuple but there is little bit diffrense in fact that they don't have any duplicate elements another big difference is that the values within a set cannot be accessed using an index because it doesn't have an index because it's actually unordered we can still Loop through the items in a set with something like a for Loop but we can't access it using the bracket and then accessing its index point "
   ]
  },
  {
   "cell_type": "code",
   "execution_count": 87,
   "id": "090761b7",
   "metadata": {},
   "outputs": [],
   "source": [
    "#sets\n",
    "daily_pints = {1,2,3}"
   ]
  },
  {
   "cell_type": "code",
   "execution_count": 88,
   "id": "715cea37",
   "metadata": {},
   "outputs": [
    {
     "data": {
      "text/plain": [
       "set"
      ]
     },
     "execution_count": 88,
     "metadata": {},
     "output_type": "execute_result"
    }
   ],
   "source": [
    "type(daily_pints)"
   ]
  },
  {
   "cell_type": "code",
   "execution_count": 89,
   "id": "a95e544a",
   "metadata": {},
   "outputs": [
    {
     "name": "stdout",
     "output_type": "stream",
     "text": [
      "{1, 2, 3}\n"
     ]
    }
   ],
   "source": [
    "print(daily_pints)"
   ]
  },
  {
   "cell_type": "code",
   "execution_count": 96,
   "id": "35fcf5f3",
   "metadata": {},
   "outputs": [
    {
     "name": "stdout",
     "output_type": "stream",
     "text": [
      "{1, 2, 3, 5, 6, 12, 31}\n"
     ]
    }
   ],
   "source": [
    "#Best use of sets\n",
    "daily_pints_log = {1,2,31,2,3,1,12,5,6,3,2}\n",
    "print(daily_pints_log)"
   ]
  },
  {
   "cell_type": "code",
   "execution_count": 97,
   "id": "8f3a023f",
   "metadata": {},
   "outputs": [],
   "source": [
    "wifes_daily_pints_log = {1,3,5,7,3,24,5,7,3,2,0}"
   ]
  },
  {
   "cell_type": "code",
   "execution_count": 98,
   "id": "73907059",
   "metadata": {},
   "outputs": [
    {
     "name": "stdout",
     "output_type": "stream",
     "text": [
      "{0, 1, 2, 3, 5, 6, 7, 12, 24, 31}\n"
     ]
    }
   ],
   "source": [
    "print(daily_pints_log|wifes_daily_pints_log)"
   ]
  },
  {
   "cell_type": "code",
   "execution_count": 101,
   "id": "3160f3e6",
   "metadata": {},
   "outputs": [
    {
     "name": "stdout",
     "output_type": "stream",
     "text": [
      "{1, 2, 3, 5}\n"
     ]
    }
   ],
   "source": [
    "# What matchs\n",
    "print(daily_pints_log&wifes_daily_pints_log)"
   ]
  },
  {
   "cell_type": "code",
   "execution_count": 102,
   "id": "3652529d",
   "metadata": {},
   "outputs": [
    {
     "name": "stdout",
     "output_type": "stream",
     "text": [
      "{12, 6, 31}\n"
     ]
    }
   ],
   "source": [
    "#What Does not match\n",
    "print(daily_pints_log - wifes_daily_pints_log)"
   ]
  },
  {
   "cell_type": "code",
   "execution_count": 103,
   "id": "8d29409a",
   "metadata": {},
   "outputs": [
    {
     "name": "stdout",
     "output_type": "stream",
     "text": [
      "{0, 24, 7}\n"
     ]
    }
   ],
   "source": [
    "#What Does not match in reverse have diffrent value\n",
    "print(wifes_daily_pints_log - daily_pints_log)"
   ]
  },
  {
   "cell_type": "code",
   "execution_count": 105,
   "id": "b87628b0",
   "metadata": {},
   "outputs": [
    {
     "name": "stdout",
     "output_type": "stream",
     "text": [
      "{0, 6, 7, 12, 24, 31}\n"
     ]
    }
   ],
   "source": [
    "#This is going to show if a value is either in one or the other but not in both\n",
    "print(daily_pints_log^wifes_daily_pints_log)"
   ]
  },
  {
   "cell_type": "markdown",
   "id": "da0273eb",
   "metadata": {},
   "source": [
    "# Dictionary:\n",
    "                     #Key/value pair\n",
    "dict_cream = {'Name': 'Alex Fredberg', 'weekly intake':5, 'Favorite icecreams:'MCC chocklate'}"
   ]
  },
  {
   "cell_type": "code",
   "execution_count": 110,
   "id": "4fa98088",
   "metadata": {},
   "outputs": [],
   "source": [
    "# Dictionary\n",
    "#Key/value pair\n",
    "dict_cream = {'Name': 'Alex Fredberg', 'weekly intake':5, 'Favorite ice creams':'MCC chocklate'}"
   ]
  },
  {
   "cell_type": "code",
   "execution_count": 111,
   "id": "78442aea",
   "metadata": {},
   "outputs": [
    {
     "data": {
      "text/plain": [
       "dict"
      ]
     },
     "execution_count": 111,
     "metadata": {},
     "output_type": "execute_result"
    }
   ],
   "source": [
    "type(dict_cream)"
   ]
  },
  {
   "cell_type": "code",
   "execution_count": 112,
   "id": "57ef2e93",
   "metadata": {},
   "outputs": [
    {
     "name": "stdout",
     "output_type": "stream",
     "text": [
      "{'Name': 'Alex Fredberg', 'weekly intake': 5, 'Favorite ice creams': 'MCC chocklate'}\n"
     ]
    }
   ],
   "source": [
    "print(dict_cream)"
   ]
  },
  {
   "cell_type": "code",
   "execution_count": 114,
   "id": "4016d2d1",
   "metadata": {},
   "outputs": [
    {
     "data": {
      "text/plain": [
       "dict_values(['Alex Fredberg', 5, 'MCC chocklate'])"
      ]
     },
     "execution_count": 114,
     "metadata": {},
     "output_type": "execute_result"
    }
   ],
   "source": [
    "dict_cream.values()"
   ]
  },
  {
   "cell_type": "code",
   "execution_count": 115,
   "id": "5ee85457",
   "metadata": {},
   "outputs": [
    {
     "data": {
      "text/plain": [
       "dict_keys(['Name', 'weekly intake', 'Favorite ice creams'])"
      ]
     },
     "execution_count": 115,
     "metadata": {},
     "output_type": "execute_result"
    }
   ],
   "source": [
    "dict_cream.keys()"
   ]
  },
  {
   "cell_type": "code",
   "execution_count": 117,
   "id": "9d332c95",
   "metadata": {},
   "outputs": [
    {
     "data": {
      "text/plain": [
       "dict_items([('Name', 'Alex Fredberg'), ('weekly intake', 5), ('Favorite ice creams', 'MCC chocklate')])"
      ]
     },
     "execution_count": 117,
     "metadata": {},
     "output_type": "execute_result"
    }
   ],
   "source": [
    "dict_cream.items()"
   ]
  },
  {
   "cell_type": "code",
   "execution_count": 118,
   "id": "55dbedae",
   "metadata": {},
   "outputs": [
    {
     "ename": "KeyError",
     "evalue": "0",
     "output_type": "error",
     "traceback": [
      "\u001b[1;31m---------------------------------------------------------------------------\u001b[0m",
      "\u001b[1;31mKeyError\u001b[0m                                  Traceback (most recent call last)",
      "\u001b[1;32m~\\AppData\\Local\\Temp\\ipykernel_17008\\3884463780.py\u001b[0m in \u001b[0;36m<module>\u001b[1;34m\u001b[0m\n\u001b[1;32m----> 1\u001b[1;33m \u001b[0mdict_cream\u001b[0m\u001b[1;33m[\u001b[0m\u001b[1;36m0\u001b[0m\u001b[1;33m]\u001b[0m\u001b[1;33m\u001b[0m\u001b[1;33m\u001b[0m\u001b[0m\n\u001b[0m",
      "\u001b[1;31mKeyError\u001b[0m: 0"
     ]
    }
   ],
   "source": [
    "dict_cream[0]"
   ]
  },
  {
   "cell_type": "markdown",
   "id": "0c6a3769",
   "metadata": {},
   "source": [
    "dictionary is the by the keys so it does not have technacally index but you can specify what you can call and take it out "
   ]
  },
  {
   "cell_type": "code",
   "execution_count": 122,
   "id": "b40657a2",
   "metadata": {},
   "outputs": [
    {
     "data": {
      "text/plain": [
       "'Alex Fredberg'"
      ]
     },
     "execution_count": 122,
     "metadata": {},
     "output_type": "execute_result"
    }
   ],
   "source": [
    "dict_cream['Name']"
   ]
  },
  {
   "cell_type": "code",
   "execution_count": 124,
   "id": "9874e68c",
   "metadata": {},
   "outputs": [
    {
     "name": "stdout",
     "output_type": "stream",
     "text": [
      "{'Name': 'Christine freberg', 'weekly intake': 5, 'Favorite ice creams': 'MCC chocklate'}\n"
     ]
    }
   ],
   "source": [
    "dict_cream['Name'] = 'Christine freberg'\n",
    "print(dict_cream)"
   ]
  },
  {
   "cell_type": "code",
   "execution_count": 125,
   "id": "31b6c80f",
   "metadata": {},
   "outputs": [
    {
     "name": "stdout",
     "output_type": "stream",
     "text": [
      "{'Name': 'Christine freberg', 'weekly intake': 5, 'Favorite ice creams': 'MCC chocklate'}\n"
     ]
    }
   ],
   "source": [
    "dict_cream.update({'Name': 'Christine freberg', 'weekly intake':5})\n",
    "print(dict_cream)"
   ]
  },
  {
   "cell_type": "code",
   "execution_count": 131,
   "id": "55e52622",
   "metadata": {},
   "outputs": [
    {
     "name": "stdout",
     "output_type": "stream",
     "text": [
      "{'Favorite ice creams': 'MCC chocklate'}\n"
     ]
    }
   ],
   "source": [
    "#Deleting value in dictionary\n",
    "del dict_cream['Name']\n",
    "print(dict_cream)"
   ]
  },
  {
   "cell_type": "markdown",
   "id": "5d0f03b2",
   "metadata": {},
   "source": [
    "#  Lecture 3 Data Comparison"
   ]
  },
  {
   "cell_type": "markdown",
   "id": "000919a9",
   "metadata": {},
   "source": [
    "Comparison Operators\n",
    "\n",
    "                 Operator                         Name\n",
    "                 \n",
    "                 ==                               Equal\n",
    "                 \n",
    "                 !=                               Not equal\n",
    "                 \n",
    "                 >                                Greater than\n",
    "                 \n",
    "                 <                                Less than\n",
    "                 \n",
    "                 >=                               Greater than r eql\n",
    "                 \n",
    "                 <=                               Less than or eqal2\n",
    "                 "
   ]
  },
  {
   "cell_type": "code",
   "execution_count": 1,
   "id": "15d636e8",
   "metadata": {},
   "outputs": [
    {
     "ename": "SyntaxError",
     "evalue": "cannot assign to literal (260838114.py, line 1)",
     "output_type": "error",
     "traceback": [
      "\u001b[1;36m  File \u001b[1;32m\"C:\\Users\\admin\\AppData\\Local\\Temp\\ipykernel_14696\\260838114.py\"\u001b[1;36m, line \u001b[1;32m1\u001b[0m\n\u001b[1;33m    10 = 10\u001b[0m\n\u001b[1;37m    ^\u001b[0m\n\u001b[1;31mSyntaxError\u001b[0m\u001b[1;31m:\u001b[0m cannot assign to literal\n"
     ]
    }
   ],
   "source": [
    "10 = 10"
   ]
  },
  {
   "cell_type": "code",
   "execution_count": 2,
   "id": "55c40dd4",
   "metadata": {},
   "outputs": [
    {
     "data": {
      "text/plain": [
       "True"
      ]
     },
     "execution_count": 2,
     "metadata": {},
     "output_type": "execute_result"
    }
   ],
   "source": [
    "10==10"
   ]
  },
  {
   "cell_type": "code",
   "execution_count": 3,
   "id": "855232d4",
   "metadata": {},
   "outputs": [
    {
     "data": {
      "text/plain": [
       "False"
      ]
     },
     "execution_count": 3,
     "metadata": {},
     "output_type": "execute_result"
    }
   ],
   "source": [
    "10 == 50"
   ]
  },
  {
   "cell_type": "code",
   "execution_count": 4,
   "id": "e824a397",
   "metadata": {},
   "outputs": [
    {
     "data": {
      "text/plain": [
       "True"
      ]
     },
     "execution_count": 4,
     "metadata": {},
     "output_type": "execute_result"
    }
   ],
   "source": [
    "10!=50"
   ]
  },
  {
   "cell_type": "code",
   "execution_count": 5,
   "id": "eb27dd49",
   "metadata": {},
   "outputs": [
    {
     "data": {
      "text/plain": [
       "False"
      ]
     },
     "execution_count": 5,
     "metadata": {},
     "output_type": "execute_result"
    }
   ],
   "source": [
    "'Vanilla' == 'Chocolate'"
   ]
  },
  {
   "cell_type": "code",
   "execution_count": 6,
   "id": "71b6efc4",
   "metadata": {},
   "outputs": [
    {
     "data": {
      "text/plain": [
       "True"
      ]
     },
     "execution_count": 6,
     "metadata": {},
     "output_type": "execute_result"
    }
   ],
   "source": [
    "'Vanilla' == 'Vanilla'"
   ]
  },
  {
   "cell_type": "code",
   "execution_count": 7,
   "id": "e146b559",
   "metadata": {},
   "outputs": [
    {
     "data": {
      "text/plain": [
       "True"
      ]
     },
     "execution_count": 7,
     "metadata": {},
     "output_type": "execute_result"
    }
   ],
   "source": [
    "x = 'Vanilla'\n",
    "y = 'Chocolate'\n",
    "x!=y"
   ]
  },
  {
   "cell_type": "code",
   "execution_count": 8,
   "id": "37d7b1b1",
   "metadata": {},
   "outputs": [
    {
     "data": {
      "text/plain": [
       "False"
      ]
     },
     "execution_count": 8,
     "metadata": {},
     "output_type": "execute_result"
    }
   ],
   "source": [
    "10<10"
   ]
  },
  {
   "cell_type": "code",
   "execution_count": 9,
   "id": "886141c5",
   "metadata": {},
   "outputs": [
    {
     "data": {
      "text/plain": [
       "True"
      ]
     },
     "execution_count": 9,
     "metadata": {},
     "output_type": "execute_result"
    }
   ],
   "source": [
    "10<=10"
   ]
  },
  {
   "cell_type": "code",
   "execution_count": 10,
   "id": "2c1f43e9",
   "metadata": {},
   "outputs": [
    {
     "data": {
      "text/plain": [
       "True"
      ]
     },
     "execution_count": 10,
     "metadata": {},
     "output_type": "execute_result"
    }
   ],
   "source": [
    "10>=10"
   ]
  },
  {
   "cell_type": "code",
   "execution_count": 12,
   "id": "9e4524cf",
   "metadata": {},
   "outputs": [
    {
     "data": {
      "text/plain": [
       "True"
      ]
     },
     "execution_count": 12,
     "metadata": {},
     "output_type": "execute_result"
    }
   ],
   "source": [
    "20>=13"
   ]
  },
  {
   "cell_type": "markdown",
   "id": "287dbc0d",
   "metadata": {},
   "source": [
    "# Logical Operators:-\n",
    "     Operator           Description\n",
    "     and                Returns True if both statement are true\n",
    "     or                 Returns True if one of statement are true\n",
    "     not                Reverse the result, returns False if the result is true\n",
    "                          "
   ]
  },
  {
   "cell_type": "code",
   "execution_count": 13,
   "id": "c4bf29b8",
   "metadata": {},
   "outputs": [
    {
     "data": {
      "text/plain": [
       "False"
      ]
     },
     "execution_count": 13,
     "metadata": {},
     "output_type": "execute_result"
    }
   ],
   "source": [
    "10> 15"
   ]
  },
  {
   "cell_type": "code",
   "execution_count": 14,
   "id": "81201242",
   "metadata": {},
   "outputs": [
    {
     "data": {
      "text/plain": [
       "False"
      ]
     },
     "execution_count": 14,
     "metadata": {},
     "output_type": "execute_result"
    }
   ],
   "source": [
    "(10 > 50) and (50 > 10)"
   ]
  },
  {
   "cell_type": "code",
   "execution_count": 15,
   "id": "d7d97008",
   "metadata": {},
   "outputs": [
    {
     "data": {
      "text/plain": [
       "True"
      ]
     },
     "execution_count": 15,
     "metadata": {},
     "output_type": "execute_result"
    }
   ],
   "source": [
    "(70 > 50) and (50 > 10)"
   ]
  },
  {
   "cell_type": "code",
   "execution_count": 16,
   "id": "8dfd6422",
   "metadata": {},
   "outputs": [
    {
     "data": {
      "text/plain": [
       "False"
      ]
     },
     "execution_count": 16,
     "metadata": {},
     "output_type": "execute_result"
    }
   ],
   "source": [
    "(10 > 50) and (50 > 10)"
   ]
  },
  {
   "cell_type": "code",
   "execution_count": 17,
   "id": "d6a89259",
   "metadata": {},
   "outputs": [
    {
     "data": {
      "text/plain": [
       "True"
      ]
     },
     "execution_count": 17,
     "metadata": {},
     "output_type": "execute_result"
    }
   ],
   "source": [
    "('Vanilla' > 'Chocolate') and (50 > 10)"
   ]
  },
  {
   "cell_type": "code",
   "execution_count": 18,
   "id": "9362e76b",
   "metadata": {},
   "outputs": [
    {
     "data": {
      "text/plain": [
       "False"
      ]
     },
     "execution_count": 18,
     "metadata": {},
     "output_type": "execute_result"
    }
   ],
   "source": [
    "not(50 > 10)"
   ]
  },
  {
   "cell_type": "markdown",
   "id": "838b0c5e",
   "metadata": {},
   "source": [
    "# Membership Operator : -\n",
    "           Operator                  Description\n",
    "           in                        Returns True if a sequence with the specified value is present in a object\n",
    "           not in                    Return True if a sequnce with the specified value is not present in a object.\n",
    "           \n",
    "           \n"
   ]
  },
  {
   "cell_type": "code",
   "execution_count": 19,
   "id": "f6bf6c7e",
   "metadata": {},
   "outputs": [
    {
     "data": {
      "text/plain": [
       "True"
      ]
     },
     "execution_count": 19,
     "metadata": {},
     "output_type": "execute_result"
    }
   ],
   "source": [
    "ice_cream = 'I love Chocolate ice cream'\n",
    "'love' in ice_cream\n"
   ]
  },
  {
   "cell_type": "code",
   "execution_count": 20,
   "id": "50651e58",
   "metadata": {},
   "outputs": [
    {
     "data": {
      "text/plain": [
       "True"
      ]
     },
     "execution_count": 20,
     "metadata": {},
     "output_type": "execute_result"
    }
   ],
   "source": [
    "scoops = [1,2,3,4,5,6]\n",
    "2 in scoops"
   ]
  },
  {
   "cell_type": "code",
   "execution_count": 21,
   "id": "d5f2a4ad",
   "metadata": {},
   "outputs": [
    {
     "data": {
      "text/plain": [
       "False"
      ]
     },
     "execution_count": 21,
     "metadata": {},
     "output_type": "execute_result"
    }
   ],
   "source": [
    "scoops = [1,2,3,4,5,6]\n",
    "6 not in scoops"
   ]
  },
  {
   "cell_type": "code",
   "execution_count": 22,
   "id": "e0329dbf",
   "metadata": {},
   "outputs": [
    {
     "data": {
      "text/plain": [
       "False"
      ]
     },
     "execution_count": 22,
     "metadata": {},
     "output_type": "execute_result"
    }
   ],
   "source": [
    "scoops = [1,2,3,4,5,6]\n",
    "wanted_scoops = 8\n",
    "wanted_scoops in scoops"
   ]
  },
  {
   "cell_type": "markdown",
   "id": "bfe11722",
   "metadata": {},
   "source": [
    "# Lecture 4 If-Elif-Else:-    \n",
    "                               False\n",
    "               If condition_____________\n",
    "                  |                    |                  \n",
    "                  |                    |            False \n",
    "                  |True      | elif condition |______________                \n",
    "                  |           ---------------                |          \n",
    "                  |                  |                       |       \n",
    "               |Body of if |         | True                  |\n",
    "               -------------         |                 | Body of else|\n",
    "                  |                  |                 ---------------\n",
    "                  |             |Body of elif|               |\n",
    "                  |             --------------               |\n",
    "                  |                  |                       |  \n",
    "                  |                  |                       | \n",
    "                  |                  |                       |  \n",
    "                  |                  |                       |     \n",
    "                  |                  |                       |        \n",
    "                  |__________________|_______________________|\n",
    "                  |                                           \n",
    "                  |                                           \n",
    "                  |\n",
    "                  ()"
   ]
  },
  {
   "cell_type": "code",
   "execution_count": 24,
   "id": "d007b17c",
   "metadata": {},
   "outputs": [
    {
     "name": "stdout",
     "output_type": "stream",
     "text": [
      "It worked!\n"
     ]
    }
   ],
   "source": [
    "if 25 > 10:\n",
    "    print('It worked!')"
   ]
  },
  {
   "cell_type": "code",
   "execution_count": 26,
   "id": "a8531302",
   "metadata": {},
   "outputs": [],
   "source": [
    "if 25 < 10:\n",
    "    print(\"it worked\")\n",
    "#Nothing happen"
   ]
  },
  {
   "cell_type": "code",
   "execution_count": 27,
   "id": "c8d94ee0",
   "metadata": {},
   "outputs": [
    {
     "name": "stdout",
     "output_type": "stream",
     "text": [
      "It did not work......\n"
     ]
    }
   ],
   "source": [
    "if 25 < 10:\n",
    "    print(\"it worked\")\n",
    "else:\n",
    "    print('It did not work......')"
   ]
  },
  {
   "cell_type": "code",
   "execution_count": 28,
   "id": "f3e30cce",
   "metadata": {},
   "outputs": [
    {
     "name": "stdout",
     "output_type": "stream",
     "text": [
      "it worked\n"
     ]
    }
   ],
   "source": [
    "if 25 > 10:\n",
    "    print(\"it worked\")\n",
    "else:\n",
    "    print('It did not work......')"
   ]
  },
  {
   "cell_type": "code",
   "execution_count": 32,
   "id": "19eb0e60",
   "metadata": {},
   "outputs": [
    {
     "name": "stdout",
     "output_type": "stream",
     "text": [
      "elif worked\n"
     ]
    }
   ],
   "source": [
    "if 25 < 10:\n",
    "    print(\"it worked\")\n",
    "elif 25 < 30:\n",
    "    print(\"elif worked\")\n",
    "else:\n",
    "    print('It did not work......')"
   ]
  },
  {
   "cell_type": "code",
   "execution_count": 31,
   "id": "c7401b4e",
   "metadata": {},
   "outputs": [
    {
     "name": "stdout",
     "output_type": "stream",
     "text": [
      "elif 3 worked!\n"
     ]
    }
   ],
   "source": [
    "if 25 < 10:\n",
    "    print(\"it worked\")\n",
    "elif 25 < 20:\n",
    "    print(\"elif worked!\")\n",
    "elif 25 < 21:\n",
    "    print(\"elif 2 worked!\")\n",
    "elif 25 < 40:\n",
    "    print(\"elif 3 worked!\")\n",
    "elif 25 < 50:\n",
    "    print(\"elif 4 worked!\")\n",
    "elif 25 < 20:\n",
    "    print(\"elif 5 worked!\")\n",
    "else:\n",
    "    print('It did not work......')"
   ]
  },
  {
   "cell_type": "code",
   "execution_count": 33,
   "id": "2f65268f",
   "metadata": {},
   "outputs": [
    {
     "name": "stdout",
     "output_type": "stream",
     "text": [
      "it worked\n"
     ]
    }
   ],
   "source": [
    "if (25 < 10) or (1 < 3):\n",
    "    print(\"it worked\")\n",
    "elif 25 < 20:\n",
    "    print(\"elif worked!\")\n",
    "elif 25 < 21:\n",
    "    print(\"elif 2 worked!\")\n",
    "elif 25 < 40:\n",
    "    print(\"elif 3 worked!\")\n",
    "elif 25 < 50:\n",
    "    print(\"elif 4 worked!\")\n",
    "else:\n",
    "    print('It did not work......')"
   ]
  },
  {
   "cell_type": "code",
   "execution_count": 34,
   "id": "a6f6a115",
   "metadata": {},
   "outputs": [
    {
     "name": "stdout",
     "output_type": "stream",
     "text": [
      "it did not worked......\n"
     ]
    }
   ],
   "source": [
    "print('it worked') if 10> 30 else print('it did not worked......')"
   ]
  },
  {
   "cell_type": "code",
   "execution_count": 35,
   "id": "0169f1e2",
   "metadata": {},
   "outputs": [
    {
     "name": "stdout",
     "output_type": "stream",
     "text": [
      "it worked\n",
      "This nested if statement worked!\n"
     ]
    }
   ],
   "source": [
    "if (25 < 10) or (1 < 3):\n",
    "    print(\"it worked\")\n",
    "    if 10 > 5:\n",
    "        print('This nested if statement worked!')\n",
    "elif 25 < 20:\n",
    "    print(\"elif worked!\")\n",
    "elif 25 < 21:\n",
    "    print(\"elif 2 worked!\")\n",
    "elif 25 < 40:\n",
    "    print(\"elif 3 worked!\")\n",
    "elif 25 < 50:\n",
    "    print(\"elif 4 worked!\")\n",
    "else:\n",
    "    print('It did not work......')"
   ]
  },
  {
   "cell_type": "markdown",
   "id": "d11b6ee2",
   "metadata": {},
   "source": [
    "# Lecture 5 For Loop:-\n",
    "                                 |\n",
    "                                 |Entering for loop for each item in sequence\n",
    "                                 |\n",
    "           ----------> Last element reached---------------\n",
    "          |            ---------------------              |\n",
    "          |                    |                          |\n",
    "          |                    |                          |\n",
    "          |                    |                          | Exiting Loop\n",
    "          |                    |                          |\n",
    "          --------------|Body of for loop|                V\n",
    "                         ----------------      Statement after the for loop                    \n",
    "                                                         \n",
    "                                                                             \n",
    "                                                                             \n",
    "                                                                             \n",
    "                                                                             \n",
    "                                                                             \n",
    "                                                                             \n",
    "                                                                             \n",
    "                                                                             \n",
    "                                                                             \n"
   ]
  },
  {
   "cell_type": "markdown",
   "id": "fc2668a5",
   "metadata": {},
   "source": [
    "For Loops\n"
   ]
  },
  {
   "cell_type": "markdown",
   "id": "2b5fdc9b",
   "metadata": {},
   "source": [
    "# For Loops"
   ]
  },
  {
   "cell_type": "code",
   "execution_count": 2,
   "id": "c94e82dd",
   "metadata": {},
   "outputs": [],
   "source": [
    "integers = [1,2,3,4,5]"
   ]
  },
  {
   "cell_type": "code",
   "execution_count": 3,
   "id": "41bb19a9",
   "metadata": {},
   "outputs": [
    {
     "name": "stdout",
     "output_type": "stream",
     "text": [
      "1\n",
      "2\n",
      "3\n",
      "4\n",
      "5\n"
     ]
    }
   ],
   "source": [
    "for number in integers:\n",
    "    print(number)"
   ]
  },
  {
   "cell_type": "code",
   "execution_count": 5,
   "id": "bfd9be41",
   "metadata": {},
   "outputs": [
    {
     "name": "stdout",
     "output_type": "stream",
     "text": [
      "yep\n",
      "yep\n",
      "yep\n",
      "yep\n",
      "yep\n"
     ]
    }
   ],
   "source": [
    "for number in integers:\n",
    "    print(\"yep\")"
   ]
  },
  {
   "cell_type": "code",
   "execution_count": 11,
   "id": "2d6a9f91",
   "metadata": {},
   "outputs": [],
   "source": [
    "integers = [1,2,3,4,5]"
   ]
  },
  {
   "cell_type": "code",
   "execution_count": 12,
   "id": "df324fd8",
   "metadata": {},
   "outputs": [
    {
     "name": "stdout",
     "output_type": "stream",
     "text": [
      "2\n",
      "4\n",
      "6\n",
      "8\n",
      "10\n"
     ]
    }
   ],
   "source": [
    "for jelly in integers:\n",
    "    print(jelly + jelly)"
   ]
  },
  {
   "cell_type": "code",
   "execution_count": 17,
   "id": "5b5fa556",
   "metadata": {},
   "outputs": [],
   "source": [
    "ice_cream_dict = {'name':'Alex fredberg', 'weekly intake': 5, 'favorite icecream':['MCC','chocolate']}"
   ]
  },
  {
   "cell_type": "code",
   "execution_count": 20,
   "id": "eb2b5834",
   "metadata": {},
   "outputs": [
    {
     "name": "stdout",
     "output_type": "stream",
     "text": [
      "Alex\n",
      "5\n",
      "['MCC', 'chocolate']\n"
     ]
    }
   ],
   "source": [
    "for ice_cream in ice_cream_dict.values():\n",
    "    print(ice_cream)"
   ]
  },
  {
   "cell_type": "code",
   "execution_count": 21,
   "id": "c38af1fe",
   "metadata": {},
   "outputs": [
    {
     "name": "stdout",
     "output_type": "stream",
     "text": [
      "name -> Alex\n",
      "weekly intake -> 5\n",
      "favorite icecream -> ['MCC', 'chocolate']\n"
     ]
    }
   ],
   "source": [
    "for key, value in ice_cream_dict.items():\n",
    "    print(key, \"->\", value)"
   ]
  },
  {
   "cell_type": "markdown",
   "id": "10245817",
   "metadata": {},
   "source": [
    "Nested For Loops"
   ]
  },
  {
   "cell_type": "code",
   "execution_count": 22,
   "id": "88a37623",
   "metadata": {},
   "outputs": [
    {
     "name": "stdout",
     "output_type": "stream",
     "text": [
      "Vanilla Topped with Hot Fudge\n",
      "Vanilla Topped with Oreos\n",
      "Vanilla Topped with Marshmallow\n",
      "Chocolate Topped with Hot Fudge\n",
      "Chocolate Topped with Oreos\n",
      "Chocolate Topped with Marshmallow\n",
      "Cookie Dough Topped with Hot Fudge\n",
      "Cookie Dough Topped with Oreos\n",
      "Cookie Dough Topped with Marshmallow\n"
     ]
    }
   ],
   "source": [
    "flavors = ['Vanilla', 'Chocolate','Cookie Dough']\n",
    "toppings = ['Hot Fudge', 'Oreos', 'Marshmallow']\n",
    "for one in flavors:\n",
    "    for two in toppings:\n",
    "        print(one, 'Topped with', two)"
   ]
  },
  {
   "cell_type": "markdown",
   "id": "bac0e40f",
   "metadata": {},
   "source": [
    "# Lecture 6:-\n",
    "                                  Enter the While Loops\n",
    "                                           |\n",
    "                                           |\n",
    "                                           |            False\n",
    "                        |-----------|Text Condition|------------|\n",
    "                        |           ----------------            |\n",
    "                        |                    |                  |\n",
    "                        |                    |True              |\n",
    "                        |                    |                  |\n",
    "                        |                    |           Exit the while loop\n",
    "                        |                    |\n",
    "                        |                -----------------\n",
    "                        |________________|While loop body|"
   ]
  },
  {
   "cell_type": "code",
   "execution_count": 23,
   "id": "95a31c70",
   "metadata": {},
   "outputs": [],
   "source": [
    "#while loops\n"
   ]
  },
  {
   "cell_type": "code",
   "execution_count": 24,
   "id": "3fa3d382",
   "metadata": {},
   "outputs": [
    {
     "name": "stdout",
     "output_type": "stream",
     "text": [
      "0\n",
      "1\n",
      "2\n",
      "3\n",
      "4\n"
     ]
    }
   ],
   "source": [
    "number = 0\n",
    "while number < 5:\n",
    "    print(number)\n",
    "    number = number + 1\n",
    "    "
   ]
  },
  {
   "cell_type": "code",
   "execution_count": 25,
   "id": "59d94e18",
   "metadata": {},
   "outputs": [
    {
     "name": "stdout",
     "output_type": "stream",
     "text": [
      "0\n",
      "1\n",
      "2\n",
      "3\n"
     ]
    }
   ],
   "source": [
    "number = 0\n",
    "while number < 5:\n",
    "    print(number)\n",
    "    if number ==3:\n",
    "        break\n",
    "    number = number + 1 "
   ]
  },
  {
   "cell_type": "code",
   "execution_count": 27,
   "id": "d4f344ac",
   "metadata": {},
   "outputs": [
    {
     "name": "stdout",
     "output_type": "stream",
     "text": [
      "0\n",
      "1\n",
      "2\n",
      "3\n",
      "4\n",
      "No longer < 5\n"
     ]
    }
   ],
   "source": [
    "number = 0\n",
    "while number < 5:\n",
    "    print(number)\n",
    "    if number ==6:\n",
    "        break\n",
    "    number = number + 1\n",
    "else:\n",
    "    print('No longer < 5')"
   ]
  },
  {
   "cell_type": "code",
   "execution_count": 28,
   "id": "3916e721",
   "metadata": {},
   "outputs": [
    {
     "name": "stdout",
     "output_type": "stream",
     "text": [
      "0\n",
      "1\n",
      "2\n",
      "3\n"
     ]
    }
   ],
   "source": [
    "number = 0\n",
    "while number < 5:\n",
    "    print(number)\n",
    "    if number ==3:\n",
    "        break\n",
    "    number = number + 1\n",
    "else:\n",
    "    print('No longer < 5')"
   ]
  },
  {
   "cell_type": "code",
   "execution_count": 31,
   "id": "5fb2afe6",
   "metadata": {},
   "outputs": [
    {
     "name": "stdout",
     "output_type": "stream",
     "text": [
      "1\n",
      "2\n",
      "4\n",
      "5\n",
      "No longer < 5\n"
     ]
    }
   ],
   "source": [
    "number = 0\n",
    "while number < 5:\n",
    "    number = number + 1\n",
    "    if number ==3:\n",
    "        continue\n",
    "    print(number)\n",
    "else:\n",
    "    print('No longer < 5')"
   ]
  },
  {
   "cell_type": "markdown",
   "id": "c89a9ee6",
   "metadata": {},
   "source": [
    "# Lecture 7 Functions:-\n",
    "                      Function is block of code that which is only runs when we call."
   ]
  },
  {
   "cell_type": "code",
   "execution_count": 33,
   "id": "6c8b8c63",
   "metadata": {},
   "outputs": [],
   "source": [
    "#Function\n",
    "def first_func():\n",
    "    print('We did it!')"
   ]
  },
  {
   "cell_type": "code",
   "execution_count": 34,
   "id": "0afaee8e",
   "metadata": {},
   "outputs": [
    {
     "name": "stdout",
     "output_type": "stream",
     "text": [
      "We did it!\n"
     ]
    }
   ],
   "source": [
    "first_func()"
   ]
  },
  {
   "cell_type": "code",
   "execution_count": 35,
   "id": "7fa40d9d",
   "metadata": {},
   "outputs": [],
   "source": [
    "def number_square(number):\n",
    "    print(number**2)"
   ]
  },
  {
   "cell_type": "code",
   "execution_count": 36,
   "id": "d6dbd54e",
   "metadata": {
    "scrolled": true
   },
   "outputs": [
    {
     "name": "stdout",
     "output_type": "stream",
     "text": [
      "25\n"
     ]
    }
   ],
   "source": [
    "number_square(5)"
   ]
  },
  {
   "cell_type": "code",
   "execution_count": 37,
   "id": "757d627d",
   "metadata": {},
   "outputs": [],
   "source": [
    "def number_squared_cust(number, power):\n",
    "    print(number**power)"
   ]
  },
  {
   "cell_type": "code",
   "execution_count": 38,
   "id": "ad66b12a",
   "metadata": {},
   "outputs": [
    {
     "name": "stdout",
     "output_type": "stream",
     "text": [
      "125\n"
     ]
    }
   ],
   "source": [
    "number_squared_cust(5,3)"
   ]
  },
  {
   "cell_type": "code",
   "execution_count": 39,
   "id": "5f97b1e5",
   "metadata": {},
   "outputs": [],
   "source": [
    "#arbitarary arguments\n",
    "def number_args(*number):\n",
    "    print(number[0]*number[1])\n",
    "    "
   ]
  },
  {
   "cell_type": "code",
   "execution_count": 40,
   "id": "a41d1c76",
   "metadata": {},
   "outputs": [
    {
     "name": "stdout",
     "output_type": "stream",
     "text": [
      "30\n"
     ]
    }
   ],
   "source": [
    "number_args(5,6,1,2,8)"
   ]
  },
  {
   "cell_type": "code",
   "execution_count": 41,
   "id": "0534ba19",
   "metadata": {},
   "outputs": [],
   "source": [
    "args_tuple = (5,6,1,2,8)\n",
    "def number_args(*number):\n",
    "    print(number[0]*number[1])"
   ]
  },
  {
   "cell_type": "code",
   "execution_count": 42,
   "id": "7a2e4741",
   "metadata": {},
   "outputs": [
    {
     "ename": "IndexError",
     "evalue": "tuple index out of range",
     "output_type": "error",
     "traceback": [
      "\u001b[1;31m---------------------------------------------------------------------------\u001b[0m",
      "\u001b[1;31mIndexError\u001b[0m                                Traceback (most recent call last)",
      "\u001b[1;32m~\\AppData\\Local\\Temp\\ipykernel_16280\\2722314966.py\u001b[0m in \u001b[0;36m<module>\u001b[1;34m\u001b[0m\n\u001b[1;32m----> 1\u001b[1;33m \u001b[0mnumber_args\u001b[0m\u001b[1;33m(\u001b[0m\u001b[0margs_tuple\u001b[0m\u001b[1;33m)\u001b[0m\u001b[1;33m\u001b[0m\u001b[1;33m\u001b[0m\u001b[0m\n\u001b[0m",
      "\u001b[1;32m~\\AppData\\Local\\Temp\\ipykernel_16280\\1425074060.py\u001b[0m in \u001b[0;36mnumber_args\u001b[1;34m(*number)\u001b[0m\n\u001b[0;32m      1\u001b[0m \u001b[0margs_tuple\u001b[0m \u001b[1;33m=\u001b[0m \u001b[1;33m(\u001b[0m\u001b[1;36m5\u001b[0m\u001b[1;33m,\u001b[0m\u001b[1;36m6\u001b[0m\u001b[1;33m,\u001b[0m\u001b[1;36m1\u001b[0m\u001b[1;33m,\u001b[0m\u001b[1;36m2\u001b[0m\u001b[1;33m,\u001b[0m\u001b[1;36m8\u001b[0m\u001b[1;33m)\u001b[0m\u001b[1;33m\u001b[0m\u001b[1;33m\u001b[0m\u001b[0m\n\u001b[0;32m      2\u001b[0m \u001b[1;32mdef\u001b[0m \u001b[0mnumber_args\u001b[0m\u001b[1;33m(\u001b[0m\u001b[1;33m*\u001b[0m\u001b[0mnumber\u001b[0m\u001b[1;33m)\u001b[0m\u001b[1;33m:\u001b[0m\u001b[1;33m\u001b[0m\u001b[1;33m\u001b[0m\u001b[0m\n\u001b[1;32m----> 3\u001b[1;33m     \u001b[0mprint\u001b[0m\u001b[1;33m(\u001b[0m\u001b[0mnumber\u001b[0m\u001b[1;33m[\u001b[0m\u001b[1;36m0\u001b[0m\u001b[1;33m]\u001b[0m\u001b[1;33m*\u001b[0m\u001b[0mnumber\u001b[0m\u001b[1;33m[\u001b[0m\u001b[1;36m1\u001b[0m\u001b[1;33m]\u001b[0m\u001b[1;33m)\u001b[0m\u001b[1;33m\u001b[0m\u001b[1;33m\u001b[0m\u001b[0m\n\u001b[0m",
      "\u001b[1;31mIndexError\u001b[0m: tuple index out of range"
     ]
    }
   ],
   "source": [
    "number_args(args_tuple)"
   ]
  },
  {
   "cell_type": "code",
   "execution_count": 43,
   "id": "0b25d408",
   "metadata": {},
   "outputs": [],
   "source": [
    "args_tuple = (5,6,1,2,8)\n",
    "def number_args(*number):\n",
    "    print(number[0]*number[1])"
   ]
  },
  {
   "cell_type": "code",
   "execution_count": 44,
   "id": "81a19bc7",
   "metadata": {},
   "outputs": [
    {
     "name": "stdout",
     "output_type": "stream",
     "text": [
      "30\n"
     ]
    }
   ],
   "source": [
    "number_args(*args_tuple)"
   ]
  },
  {
   "cell_type": "markdown",
   "id": "9ec64d59",
   "metadata": {},
   "source": [
    "Keywords arguments or arbitrary keyword arguments"
   ]
  },
  {
   "cell_type": "code",
   "execution_count": 52,
   "id": "f621021e",
   "metadata": {},
   "outputs": [
    {
     "name": "stdout",
     "output_type": "stream",
     "text": [
      "243\n"
     ]
    }
   ],
   "source": [
    "#keywords arguments\n",
    "def number_squared_cust(number, power):\n",
    "    print(number**power)\n",
    "number_squared_cust(power = 5, number = 3)"
   ]
  },
  {
   "cell_type": "code",
   "execution_count": 51,
   "id": "5b658e06",
   "metadata": {},
   "outputs": [
    {
     "name": "stdout",
     "output_type": "stream",
     "text": [
      "My number is: 2309\n"
     ]
    }
   ],
   "source": [
    "def number_kwarg(**number):\n",
    "    print('My number is: ' + number['integer'])\n",
    "number_kwarg(integer = '2309')"
   ]
  },
  {
   "cell_type": "code",
   "execution_count": 56,
   "id": "26e07fa6",
   "metadata": {},
   "outputs": [
    {
     "name": "stdout",
     "output_type": "stream",
     "text": [
      "My number is: 2309 my other number: 349\n"
     ]
    }
   ],
   "source": [
    "def number_kwarg(**number):\n",
    "    print('My number is: ' + number['integer']+'my other number: '+ number['integer2'])\n",
    "number_kwarg(integer = '2309 ', integer2 = '349')"
   ]
  },
  {
   "cell_type": "markdown",
   "id": "1f93916c",
   "metadata": {},
   "source": [
    "# Lecture 8 Converting Data Types:- \n",
    "        "
   ]
  },
  {
   "cell_type": "code",
   "execution_count": 69,
   "id": "98fb79c2",
   "metadata": {},
   "outputs": [
    {
     "data": {
      "text/plain": [
       "int"
      ]
     },
     "execution_count": 69,
     "metadata": {},
     "output_type": "execute_result"
    }
   ],
   "source": [
    "num_int = 7\n",
    "type(num_int)"
   ]
  },
  {
   "cell_type": "code",
   "execution_count": 68,
   "id": "ef921773",
   "metadata": {},
   "outputs": [
    {
     "data": {
      "text/plain": [
       "str"
      ]
     },
     "execution_count": 68,
     "metadata": {},
     "output_type": "execute_result"
    }
   ],
   "source": [
    "num_str = '7'\n",
    "type(num_str)"
   ]
  },
  {
   "cell_type": "code",
   "execution_count": 70,
   "id": "b0373700",
   "metadata": {},
   "outputs": [
    {
     "ename": "TypeError",
     "evalue": "unsupported operand type(s) for +: 'int' and 'str'",
     "output_type": "error",
     "traceback": [
      "\u001b[1;31m---------------------------------------------------------------------------\u001b[0m",
      "\u001b[1;31mTypeError\u001b[0m                                 Traceback (most recent call last)",
      "\u001b[1;32m~\\AppData\\Local\\Temp\\ipykernel_16280\\3552996677.py\u001b[0m in \u001b[0;36m<module>\u001b[1;34m\u001b[0m\n\u001b[1;32m----> 1\u001b[1;33m \u001b[0mnum_sum\u001b[0m \u001b[1;33m=\u001b[0m \u001b[0mnum_int\u001b[0m \u001b[1;33m+\u001b[0m \u001b[0mnum_str\u001b[0m\u001b[1;33m\u001b[0m\u001b[1;33m\u001b[0m\u001b[0m\n\u001b[0m",
      "\u001b[1;31mTypeError\u001b[0m: unsupported operand type(s) for +: 'int' and 'str'"
     ]
    }
   ],
   "source": [
    "num_sum = num_int + num_str"
   ]
  },
  {
   "cell_type": "code",
   "execution_count": 71,
   "id": "fc530071",
   "metadata": {},
   "outputs": [
    {
     "data": {
      "text/plain": [
       "int"
      ]
     },
     "execution_count": 71,
     "metadata": {},
     "output_type": "execute_result"
    }
   ],
   "source": [
    "num_str_conv = int(num_str)\n",
    "type(num_str_conv)"
   ]
  },
  {
   "cell_type": "code",
   "execution_count": 73,
   "id": "da8e2231",
   "metadata": {},
   "outputs": [
    {
     "data": {
      "text/plain": [
       "int"
      ]
     },
     "execution_count": 73,
     "metadata": {},
     "output_type": "execute_result"
    }
   ],
   "source": [
    "num_sum = num_int + num_str_conv\n",
    "type(num_sum)"
   ]
  },
  {
   "cell_type": "code",
   "execution_count": 74,
   "id": "13ebe312",
   "metadata": {},
   "outputs": [
    {
     "data": {
      "text/plain": [
       "list"
      ]
     },
     "execution_count": 74,
     "metadata": {},
     "output_type": "execute_result"
    }
   ],
   "source": [
    "list_type = [1,2,3]\n",
    "type(list_type)"
   ]
  },
  {
   "cell_type": "code",
   "execution_count": 75,
   "id": "d649d480",
   "metadata": {},
   "outputs": [
    {
     "data": {
      "text/plain": [
       "tuple"
      ]
     },
     "execution_count": 75,
     "metadata": {},
     "output_type": "execute_result"
    }
   ],
   "source": [
    "type(tuple(list_type))"
   ]
  },
  {
   "cell_type": "code",
   "execution_count": 77,
   "id": "0b0dfd3e",
   "metadata": {},
   "outputs": [],
   "source": [
    "list_type = [1,2,3,4,54,32,2,1,4,5,6,7]"
   ]
  },
  {
   "cell_type": "code",
   "execution_count": 78,
   "id": "73ede340",
   "metadata": {},
   "outputs": [
    {
     "data": {
      "text/plain": [
       "{1, 2, 3, 4, 5, 6, 7, 32, 54}"
      ]
     },
     "execution_count": 78,
     "metadata": {},
     "output_type": "execute_result"
    }
   ],
   "source": [
    "set(list_type)"
   ]
  },
  {
   "cell_type": "code",
   "execution_count": 79,
   "id": "dd04bab5",
   "metadata": {},
   "outputs": [
    {
     "data": {
      "text/plain": [
       "dict"
      ]
     },
     "execution_count": 79,
     "metadata": {},
     "output_type": "execute_result"
    }
   ],
   "source": [
    "dict_type = {'name':'Alex', 'Age':28, 'hair':'N/A'}\n",
    "type(dict_type)"
   ]
  },
  {
   "cell_type": "code",
   "execution_count": 81,
   "id": "dd3709c7",
   "metadata": {},
   "outputs": [
    {
     "data": {
      "text/plain": [
       "dict_items([('name', 'Alex'), ('Age', 28), ('hair', 'N/A')])"
      ]
     },
     "execution_count": 81,
     "metadata": {},
     "output_type": "execute_result"
    }
   ],
   "source": [
    "dict_type.items()"
   ]
  },
  {
   "cell_type": "code",
   "execution_count": 82,
   "id": "725e95f9",
   "metadata": {},
   "outputs": [
    {
     "data": {
      "text/plain": [
       "dict_values(['Alex', 28, 'N/A'])"
      ]
     },
     "execution_count": 82,
     "metadata": {},
     "output_type": "execute_result"
    }
   ],
   "source": [
    "dict_type.values()"
   ]
  },
  {
   "cell_type": "code",
   "execution_count": 83,
   "id": "572755f4",
   "metadata": {},
   "outputs": [
    {
     "data": {
      "text/plain": [
       "dict_keys(['name', 'Age', 'hair'])"
      ]
     },
     "execution_count": 83,
     "metadata": {},
     "output_type": "execute_result"
    }
   ],
   "source": [
    "dict_type.keys()"
   ]
  },
  {
   "cell_type": "code",
   "execution_count": 84,
   "id": "f6de267b",
   "metadata": {},
   "outputs": [
    {
     "data": {
      "text/plain": [
       "['name', 'Age', 'hair']"
      ]
     },
     "execution_count": 84,
     "metadata": {},
     "output_type": "execute_result"
    }
   ],
   "source": [
    "list(dict_type.keys())"
   ]
  },
  {
   "cell_type": "code",
   "execution_count": 85,
   "id": "6bd3a38c",
   "metadata": {},
   "outputs": [
    {
     "data": {
      "text/plain": [
       "list"
      ]
     },
     "execution_count": 85,
     "metadata": {},
     "output_type": "execute_result"
    }
   ],
   "source": [
    "type(list(dict_type.keys()))"
   ]
  },
  {
   "cell_type": "code",
   "execution_count": 86,
   "id": "7fb980e2",
   "metadata": {},
   "outputs": [
    {
     "data": {
      "text/plain": [
       "list"
      ]
     },
     "execution_count": 86,
     "metadata": {},
     "output_type": "execute_result"
    }
   ],
   "source": [
    "type(list(dict_type.values()))"
   ]
  },
  {
   "cell_type": "code",
   "execution_count": 88,
   "id": "ef0fff85",
   "metadata": {},
   "outputs": [
    {
     "data": {
      "text/plain": [
       "['A', 'b', 'b', 'a', ' ', 'z', 'a', 'b', 'b', 'a']"
      ]
     },
     "execution_count": 88,
     "metadata": {},
     "output_type": "execute_result"
    }
   ],
   "source": [
    "long_str = \"Abba zabba\"\n",
    "list(long_str)"
   ]
  },
  {
   "cell_type": "code",
   "execution_count": 89,
   "id": "d5a71f26",
   "metadata": {},
   "outputs": [
    {
     "data": {
      "text/plain": [
       "{' ', 'A', 'a', 'b', 'z'}"
      ]
     },
     "execution_count": 89,
     "metadata": {},
     "output_type": "execute_result"
    }
   ],
   "source": [
    "long_str = \"Abba zabba\"\n",
    "set(long_str)"
   ]
  },
  {
   "cell_type": "code",
   "execution_count": null,
   "id": "e428c62e",
   "metadata": {},
   "outputs": [],
   "source": []
  },
  {
   "cell_type": "code",
   "execution_count": null,
   "id": "e0bd97de",
   "metadata": {},
   "outputs": [],
   "source": []
  },
  {
   "cell_type": "code",
   "execution_count": null,
   "id": "2a2f4fab",
   "metadata": {},
   "outputs": [],
   "source": []
  },
  {
   "cell_type": "markdown",
   "id": "2ae5abb7",
   "metadata": {},
   "source": [
    "# Regular Expression Method In Python:-"
   ]
  },
  {
   "cell_type": "markdown",
   "id": "ff830cf2",
   "metadata": {},
   "source": [
    "### Re Module + Regex Method\n",
    "    Function                                  Description\n",
    "    findall                                  Returns a list containing all metches\n",
    "    search                                   Returns a match object if there is a match anywhere in the string\n",
    "    split                                    Returns a list where the string has been split at each match\n",
    "    sub                                      Replace one or many matches with a string"
   ]
  },
  {
   "cell_type": "code",
   "execution_count": 4,
   "id": "866a04e6",
   "metadata": {},
   "outputs": [],
   "source": [
    "import re"
   ]
  },
  {
   "cell_type": "code",
   "execution_count": 22,
   "id": "975b5126",
   "metadata": {},
   "outputs": [],
   "source": [
    "quote = \"There's only one thing I hate more than lying: skim milk. Which is water that's lying about being milk,- Ron Swanson\""
   ]
  },
  {
   "cell_type": "code",
   "execution_count": 10,
   "id": "a0527597",
   "metadata": {},
   "outputs": [
    {
     "data": {
      "text/plain": [
       "<re.Match object; span=(52, 56), match='milk'>"
      ]
     },
     "execution_count": 10,
     "metadata": {},
     "output_type": "execute_result"
    }
   ],
   "source": [
    "re.search(\"milk\", quote)"
   ]
  },
  {
   "cell_type": "code",
   "execution_count": 11,
   "id": "b436d8a1",
   "metadata": {},
   "outputs": [
    {
     "data": {
      "text/plain": [
       "<function Match.group>"
      ]
     },
     "execution_count": 11,
     "metadata": {},
     "output_type": "execute_result"
    }
   ],
   "source": [
    "re.search(\"milk\", quote).group"
   ]
  },
  {
   "cell_type": "code",
   "execution_count": 12,
   "id": "e92fdc9d",
   "metadata": {},
   "outputs": [
    {
     "data": {
      "text/plain": [
       "'milk'"
      ]
     },
     "execution_count": 12,
     "metadata": {},
     "output_type": "execute_result"
    }
   ],
   "source": [
    "re.search(\"milk\", quote).group()"
   ]
  },
  {
   "cell_type": "code",
   "execution_count": 13,
   "id": "655908c9",
   "metadata": {},
   "outputs": [
    {
     "data": {
      "text/plain": [
       "['milk', 'milk']"
      ]
     },
     "execution_count": 13,
     "metadata": {},
     "output_type": "execute_result"
    }
   ],
   "source": [
    "re.findall(\"milk\", quote)"
   ]
  },
  {
   "cell_type": "code",
   "execution_count": 14,
   "id": "479ed556",
   "metadata": {},
   "outputs": [
    {
     "data": {
      "text/plain": [
       "2"
      ]
     },
     "execution_count": 14,
     "metadata": {},
     "output_type": "execute_result"
    }
   ],
   "source": [
    "len(re.findall(\"milk\", quote))"
   ]
  },
  {
   "cell_type": "code",
   "execution_count": 15,
   "id": "fbfeeb48",
   "metadata": {},
   "outputs": [
    {
     "data": {
      "text/plain": [
       "[\"There's only one thing I hate more than lying: skim \",\n",
       " \". Which is water that's lying about being \",\n",
       " ',- Ron Swanson']"
      ]
     },
     "execution_count": 15,
     "metadata": {},
     "output_type": "execute_result"
    }
   ],
   "source": [
    "re.split(\"milk\", quote)"
   ]
  },
  {
   "cell_type": "code",
   "execution_count": 16,
   "id": "0bab1d2e",
   "metadata": {},
   "outputs": [
    {
     "data": {
      "text/plain": [
       "['',\n",
       " '',\n",
       " '',\n",
       " '',\n",
       " '',\n",
       " '',\n",
       " '',\n",
       " '',\n",
       " '',\n",
       " '',\n",
       " '',\n",
       " '',\n",
       " '',\n",
       " '',\n",
       " '',\n",
       " '',\n",
       " '',\n",
       " '',\n",
       " '',\n",
       " '',\n",
       " '',\n",
       " '',\n",
       " '',\n",
       " '',\n",
       " '',\n",
       " '',\n",
       " '',\n",
       " '',\n",
       " '',\n",
       " '',\n",
       " '',\n",
       " '',\n",
       " '',\n",
       " '',\n",
       " '',\n",
       " '',\n",
       " '',\n",
       " '',\n",
       " '',\n",
       " '',\n",
       " '',\n",
       " '',\n",
       " '',\n",
       " '',\n",
       " '',\n",
       " '',\n",
       " '',\n",
       " '',\n",
       " '',\n",
       " '',\n",
       " '',\n",
       " '',\n",
       " '',\n",
       " '',\n",
       " '',\n",
       " '',\n",
       " '',\n",
       " '',\n",
       " '',\n",
       " '',\n",
       " '',\n",
       " '',\n",
       " '',\n",
       " '',\n",
       " '',\n",
       " '',\n",
       " '',\n",
       " '',\n",
       " '',\n",
       " '',\n",
       " '',\n",
       " '',\n",
       " '',\n",
       " '',\n",
       " '',\n",
       " '',\n",
       " '',\n",
       " '',\n",
       " '',\n",
       " '',\n",
       " '',\n",
       " '',\n",
       " '',\n",
       " '',\n",
       " '',\n",
       " '',\n",
       " '',\n",
       " '',\n",
       " '',\n",
       " '',\n",
       " '',\n",
       " '',\n",
       " '',\n",
       " '',\n",
       " '',\n",
       " '',\n",
       " '',\n",
       " '',\n",
       " '',\n",
       " '',\n",
       " '',\n",
       " '',\n",
       " '',\n",
       " '',\n",
       " '',\n",
       " '',\n",
       " '',\n",
       " '',\n",
       " '',\n",
       " '',\n",
       " '',\n",
       " '',\n",
       " '',\n",
       " '',\n",
       " '',\n",
       " '',\n",
       " '']"
      ]
     },
     "execution_count": 16,
     "metadata": {},
     "output_type": "execute_result"
    }
   ],
   "source": [
    "re.split(\".\", quote)"
   ]
  },
  {
   "cell_type": "code",
   "execution_count": 17,
   "id": "c60403a3",
   "metadata": {},
   "outputs": [
    {
     "data": {
      "text/plain": [
       "[\"There's only one thing I hate more than lying: skim milk\",\n",
       " \" Which is water that's lying about being milk,- Ron Swanson\"]"
      ]
     },
     "execution_count": 17,
     "metadata": {},
     "output_type": "execute_result"
    }
   ],
   "source": [
    "re.split(\"\\.\", quote)"
   ]
  },
  {
   "cell_type": "markdown",
   "id": "7685f3d9",
   "metadata": {},
   "source": [
    "quote = \"There's only one thing I hate more than lying: skim milk. Which is water that's lying about being milk,- Ron Swanson\""
   ]
  },
  {
   "cell_type": "code",
   "execution_count": 18,
   "id": "e85188e1",
   "metadata": {},
   "outputs": [
    {
     "data": {
      "text/plain": [
       "\"There's only one thing You hate more than lying: skim milk. Which is water that's lying about being milk,- Ron Swanson\""
      ]
     },
     "execution_count": 18,
     "metadata": {},
     "output_type": "execute_result"
    }
   ],
   "source": [
    "re.sub(\"I\", \"You\", quote)"
   ]
  },
  {
   "cell_type": "code",
   "execution_count": 19,
   "id": "cb7a0844",
   "metadata": {},
   "outputs": [
    {
     "data": {
      "text/plain": [
       "\"There's only one thing I hate more than lying: skim dairy. Which is water that's lying about being dairy,- Ron Swanson\""
      ]
     },
     "execution_count": 19,
     "metadata": {},
     "output_type": "execute_result"
    }
   ],
   "source": [
    "re.sub(\"milk\", \"dairy\", quote)"
   ]
  },
  {
   "cell_type": "code",
   "execution_count": 23,
   "id": "c41a6a3e",
   "metadata": {},
   "outputs": [
    {
     "data": {
      "text/plain": [
       "\"There's only one thing I hate more than lying: skim dairy. Which is water that's lying about being milk,- Ron Swanson\""
      ]
     },
     "execution_count": 23,
     "metadata": {},
     "output_type": "execute_result"
    }
   ],
   "source": [
    "re.sub(\"milk\", \"dairy\", quote, count=1)"
   ]
  },
  {
   "cell_type": "code",
   "execution_count": null,
   "id": "b2d901da",
   "metadata": {},
   "outputs": [],
   "source": []
  },
  {
   "cell_type": "code",
   "execution_count": null,
   "id": "312ce993",
   "metadata": {},
   "outputs": [],
   "source": []
  },
  {
   "cell_type": "code",
   "execution_count": null,
   "id": "2aab438a",
   "metadata": {},
   "outputs": [],
   "source": []
  },
  {
   "cell_type": "markdown",
   "id": "d9f2dbb6",
   "metadata": {},
   "source": [
    "# Regex Meta-characters"
   ]
  },
  {
   "attachments": {
    "download.png": {
     "image/png": "[encoded data removed]"
    }
   },
   "cell_type": "markdown",
   "id": "c0b756ff",
   "metadata": {},
   "source": [
    "![download.png](attachment:download.png)"
   ]
  },
  {
   "cell_type": "code",
   "execution_count": 24,
   "id": "a53cf56d",
   "metadata": {},
   "outputs": [],
   "source": [
    "import re"
   ]
  },
  {
   "cell_type": "code",
   "execution_count": 29,
   "id": "285056d6",
   "metadata": {},
   "outputs": [
    {
     "data": {
      "text/plain": [
       "[]"
      ]
     },
     "execution_count": 29,
     "metadata": {},
     "output_type": "execute_result"
    }
   ],
   "source": [
    "string = 'I like the mountains in the spring. 234098'\n",
    "re.findall('a-m', string)"
   ]
  },
  {
   "cell_type": "code",
   "execution_count": 30,
   "id": "7b43aa9a",
   "metadata": {},
   "outputs": [
    {
     "data": {
      "text/plain": [
       "[' ', ' ', ' ', ' ', ' ', ' ', ' ']"
      ]
     },
     "execution_count": 30,
     "metadata": {},
     "output_type": "execute_result"
    }
   ],
   "source": [
    "string = 'I like the mountains in the spring. 234098'\n",
    "re.findall('[ ]', string)"
   ]
  },
  {
   "cell_type": "code",
   "execution_count": 31,
   "id": "5f9550e2",
   "metadata": {},
   "outputs": [
    {
     "data": {
      "text/plain": [
       "['l', 'i', 'k', 'e', 'h', 'e', 'm', 'a', 'i', 'i', 'h', 'e', 'i', 'g']"
      ]
     },
     "execution_count": 31,
     "metadata": {},
     "output_type": "execute_result"
    }
   ],
   "source": [
    "string = 'I like the mountains in the spring. 234098'\n",
    "re.findall('[a-m]', string)"
   ]
  },
  {
   "cell_type": "code",
   "execution_count": 32,
   "id": "971c7f9c",
   "metadata": {},
   "outputs": [
    {
     "data": {
      "text/plain": [
       "['I',\n",
       " 'l',\n",
       " 'i',\n",
       " 'k',\n",
       " 'e',\n",
       " 't',\n",
       " 'h',\n",
       " 'e',\n",
       " 'm',\n",
       " 'o',\n",
       " 'u',\n",
       " 'n',\n",
       " 't',\n",
       " 'a',\n",
       " 'i',\n",
       " 'n',\n",
       " 's',\n",
       " 'i',\n",
       " 'n',\n",
       " 't',\n",
       " 'h',\n",
       " 'e',\n",
       " 's',\n",
       " 'p',\n",
       " 'r',\n",
       " 'i',\n",
       " 'n',\n",
       " 'g']"
      ]
     },
     "execution_count": 32,
     "metadata": {},
     "output_type": "execute_result"
    }
   ],
   "source": [
    "string = 'I like the mountains in the spring. 234098'\n",
    "re.findall('[a-zA-Z]', string)"
   ]
  },
  {
   "cell_type": "code",
   "execution_count": 33,
   "id": "47a54636",
   "metadata": {},
   "outputs": [
    {
     "data": {
      "text/plain": [
       "['I',\n",
       " 'l',\n",
       " 'i',\n",
       " 'k',\n",
       " 'e',\n",
       " 't',\n",
       " 'h',\n",
       " 'e',\n",
       " 'm',\n",
       " 'o',\n",
       " 'u',\n",
       " 'n',\n",
       " 't',\n",
       " 'a',\n",
       " 'i',\n",
       " 'n',\n",
       " 's',\n",
       " 'i',\n",
       " 'n',\n",
       " 't',\n",
       " 'h',\n",
       " 'e',\n",
       " 's',\n",
       " 'p',\n",
       " 'r',\n",
       " 'i',\n",
       " 'n',\n",
       " 'g',\n",
       " '2',\n",
       " '3',\n",
       " '4',\n",
       " '0',\n",
       " '9',\n",
       " '8']"
      ]
     },
     "execution_count": 33,
     "metadata": {},
     "output_type": "execute_result"
    }
   ],
   "source": [
    "string = 'I like the mountains in the spring. 234098'\n",
    "re.findall('[a-zA-Z0-9]', string)"
   ]
  },
  {
   "cell_type": "code",
   "execution_count": 35,
   "id": "d6a27cc5",
   "metadata": {},
   "outputs": [
    {
     "data": {
      "text/plain": [
       "['1', '2', '3', '4']"
      ]
     },
     "execution_count": 35,
     "metadata": {},
     "output_type": "execute_result"
    }
   ],
   "source": [
    "string = 'I have 123,456 koalas!'\n",
    "re.findall('[0-4]', string)"
   ]
  },
  {
   "cell_type": "code",
   "execution_count": 36,
   "id": "b2efd5f3",
   "metadata": {},
   "outputs": [
    {
     "data": {
      "text/plain": [
       "[]"
      ]
     },
     "execution_count": 36,
     "metadata": {},
     "output_type": "execute_result"
    }
   ],
   "source": [
    "string = 'You can see sea shells by the sea shore. sba'\n",
    "re.findall(',', string)"
   ]
  },
  {
   "cell_type": "code",
   "execution_count": 37,
   "id": "b8c8e5b6",
   "metadata": {},
   "outputs": [
    {
     "data": {
      "text/plain": [
       "['Y',\n",
       " 'o',\n",
       " 'u',\n",
       " ' ',\n",
       " 'c',\n",
       " 'a',\n",
       " 'n',\n",
       " ' ',\n",
       " 's',\n",
       " 'e',\n",
       " 'e',\n",
       " ' ',\n",
       " 's',\n",
       " 'e',\n",
       " 'a',\n",
       " ' ',\n",
       " 's',\n",
       " 'h',\n",
       " 'e',\n",
       " 'l',\n",
       " 'l',\n",
       " 's',\n",
       " ' ',\n",
       " 'b',\n",
       " 'y',\n",
       " ' ',\n",
       " 't',\n",
       " 'h',\n",
       " 'e',\n",
       " ' ',\n",
       " 's',\n",
       " 'e',\n",
       " 'a',\n",
       " ' ',\n",
       " 's',\n",
       " 'h',\n",
       " 'o',\n",
       " 'r',\n",
       " 'e',\n",
       " '.',\n",
       " ' ',\n",
       " 's',\n",
       " 'b',\n",
       " 'a']"
      ]
     },
     "execution_count": 37,
     "metadata": {},
     "output_type": "execute_result"
    }
   ],
   "source": [
    "string = 'You can see sea shells by the sea shore. sba'\n",
    "re.findall('.', string)"
   ]
  },
  {
   "cell_type": "code",
   "execution_count": null,
   "id": "2117d187",
   "metadata": {},
   "outputs": [],
   "source": [
    "string = 'You can see sea shells by the sea shore. sba'\n",
    "re.findall('.', string)"
   ]
  },
  {
   "cell_type": "code",
   "execution_count": 39,
   "id": "9b09bfc1",
   "metadata": {},
   "outputs": [
    {
     "data": {
      "text/plain": [
       "['sea', 'sea', 'sba']"
      ]
     },
     "execution_count": 39,
     "metadata": {},
     "output_type": "execute_result"
    }
   ],
   "source": [
    "string = 'You can see sea shells by the sea shore. sba'\n",
    "re.findall('s.a', string)"
   ]
  },
  {
   "cell_type": "code",
   "execution_count": 40,
   "id": "459f56ae",
   "metadata": {},
   "outputs": [
    {
     "data": {
      "text/plain": [
       "['can']"
      ]
     },
     "execution_count": 40,
     "metadata": {},
     "output_type": "execute_result"
    }
   ],
   "source": [
    "string = 'You can see sea shells by the sea shore. sba'\n",
    "re.findall('c..', string)"
   ]
  },
  {
   "cell_type": "code",
   "execution_count": 41,
   "id": "e8faebf2",
   "metadata": {},
   "outputs": [
    {
     "data": {
      "text/plain": [
       "['sea', 'sea', 'sba']"
      ]
     },
     "execution_count": 41,
     "metadata": {},
     "output_type": "execute_result"
    }
   ],
   "source": [
    "string = 'You can see sea shells by the sea shore. sba'\n",
    "re.findall('s.{1}a', string)"
   ]
  },
  {
   "cell_type": "code",
   "execution_count": 48,
   "id": "dca74450",
   "metadata": {},
   "outputs": [
    {
     "data": {
      "text/plain": [
       "[]"
      ]
     },
     "execution_count": 48,
     "metadata": {},
     "output_type": "execute_result"
    }
   ],
   "source": [
    "string = 'You can see sea shells by the sea shore. sba'\n",
    "re.findall('s.{1}s', string)"
   ]
  },
  {
   "cell_type": "code",
   "execution_count": 49,
   "id": "5bd2fc05",
   "metadata": {},
   "outputs": [
    {
     "data": {
      "text/plain": [
       "['shells']"
      ]
     },
     "execution_count": 49,
     "metadata": {},
     "output_type": "execute_result"
    }
   ],
   "source": [
    "string = 'You can see sea shells by the sea shore. sba'\n",
    "re.findall('s.{4}s', string)"
   ]
  },
  {
   "cell_type": "code",
   "execution_count": 50,
   "id": "b3e30ffc",
   "metadata": {},
   "outputs": [
    {
     "data": {
      "text/plain": [
       "[]"
      ]
     },
     "execution_count": 50,
     "metadata": {},
     "output_type": "execute_result"
    }
   ],
   "source": [
    "string = \"Well well well... if it isn't Will Wilmer\"\n",
    "re.findall('w{2}l', string)"
   ]
  },
  {
   "cell_type": "code",
   "execution_count": 59,
   "id": "4e320c06",
   "metadata": {},
   "outputs": [
    {
     "data": {
      "text/plain": [
       "['Well', 'Will']"
      ]
     },
     "execution_count": 59,
     "metadata": {},
     "output_type": "execute_result"
    }
   ],
   "source": [
    "string = \"Well well well... if it isn't Will Wilmer\"\n",
    "re.findall('W..l', string)"
   ]
  },
  {
   "cell_type": "code",
   "execution_count": 60,
   "id": "2d02f94c",
   "metadata": {},
   "outputs": [
    {
     "data": {
      "text/plain": [
       "['Well', 'Will']"
      ]
     },
     "execution_count": 60,
     "metadata": {},
     "output_type": "execute_result"
    }
   ],
   "source": [
    "string = \"Well well well... if it isn't Will Wilmer\"\n",
    "re.findall('W.{2}l', string)"
   ]
  },
  {
   "cell_type": "code",
   "execution_count": null,
   "id": "63501303",
   "metadata": {},
   "outputs": [],
   "source": [
    "# $:- End of string\n",
    "# ^:- start of string\n",
    "string = \"Well well well... if it isn't Will Wilmer\"\n",
    "re.findall('W.{2}l', string)"
   ]
  },
  {
   "cell_type": "code",
   "execution_count": 61,
   "id": "3619127e",
   "metadata": {},
   "outputs": [
    {
     "data": {
      "text/plain": [
       "['Happy', 'Happy', 'Happy']"
      ]
     },
     "execution_count": 61,
     "metadata": {},
     "output_type": "execute_result"
    }
   ],
   "source": [
    "string = 'Happy birthday to you. Happy birthday to you. Happy birthday dear Alex, happy birthday to you.'\n",
    "re.findall(\"Happy\", string)"
   ]
  },
  {
   "cell_type": "code",
   "execution_count": 62,
   "id": "89380c1e",
   "metadata": {},
   "outputs": [
    {
     "data": {
      "text/plain": [
       "['Happy']"
      ]
     },
     "execution_count": 62,
     "metadata": {},
     "output_type": "execute_result"
    }
   ],
   "source": [
    "string = 'Happy birthday to you. Happy birthday to you. Happy birthday dear Alex, happy birthday to you.'\n",
    "re.findall(\"^Happy\", string)"
   ]
  },
  {
   "cell_type": "code",
   "execution_count": 63,
   "id": "849321c1",
   "metadata": {},
   "outputs": [
    {
     "data": {
      "text/plain": [
       "[]"
      ]
     },
     "execution_count": 63,
     "metadata": {},
     "output_type": "execute_result"
    }
   ],
   "source": [
    "string = 'Happy birthday to you. Happy birthday to you. Happy birthday dear Alex, happy birthday to you.'\n",
    "re.findall(\"Happy^\", string)"
   ]
  },
  {
   "cell_type": "code",
   "execution_count": 64,
   "id": "fb69a518",
   "metadata": {},
   "outputs": [
    {
     "data": {
      "text/plain": [
       "[]"
      ]
     },
     "execution_count": 64,
     "metadata": {},
     "output_type": "execute_result"
    }
   ],
   "source": [
    "string = 'Happy birthday to you. Happy birthday to you. Happy birthday dear Alex, happy birthday to you.'\n",
    "re.findall(\"^you\", string)"
   ]
  },
  {
   "cell_type": "code",
   "execution_count": 65,
   "id": "d7ccbef2",
   "metadata": {},
   "outputs": [
    {
     "data": {
      "text/plain": [
       "[]"
      ]
     },
     "execution_count": 65,
     "metadata": {},
     "output_type": "execute_result"
    }
   ],
   "source": [
    "string = 'Happy birthday to you. Happy birthday to you. Happy birthday dear Alex, happy birthday to you.'\n",
    "re.findall(\"$you.\", string)"
   ]
  },
  {
   "cell_type": "code",
   "execution_count": 66,
   "id": "018806c4",
   "metadata": {},
   "outputs": [
    {
     "data": {
      "text/plain": [
       "['you.']"
      ]
     },
     "execution_count": 66,
     "metadata": {},
     "output_type": "execute_result"
    }
   ],
   "source": [
    "string = 'Happy birthday to you. Happy birthday to you. Happy birthday dear Alex, happy birthday to you.'\n",
    "re.findall(\"you.$\", string)"
   ]
  },
  {
   "cell_type": "code",
   "execution_count": null,
   "id": "628bf98e",
   "metadata": {},
   "outputs": [],
   "source": []
  },
  {
   "cell_type": "code",
   "execution_count": null,
   "id": "4f6e9234",
   "metadata": {},
   "outputs": [],
   "source": []
  },
  {
   "cell_type": "markdown",
   "id": "a7230c72",
   "metadata": {},
   "source": [
    "### Most often usefull notetion"
   ]
  },
  {
   "cell_type": "markdown",
   "id": "a549f5ad",
   "metadata": {},
   "source": [
    "`# . :-matches any character except for a newline`\n",
    "\n",
    "`# * :- zero or more (matches zero or more occurrences of the preceding )`\n",
    "\n",
    "`# + :- one or more (matches one or more occurrences of the preceding character or group.`\n",
    "\n",
    "`# ? :- zero or one`"
   ]
  },
  {
   "cell_type": "code",
   "execution_count": 72,
   "id": "7b0b75f7",
   "metadata": {},
   "outputs": [
    {
     "data": {
      "text/plain": [
       "['This Thing called a Thimble has Thrice hurt me']"
      ]
     },
     "execution_count": 72,
     "metadata": {},
     "output_type": "execute_result"
    }
   ],
   "source": [
    "string = 'This Thing called a Thimble has Thrice hurt me'\n",
    "\n",
    "re.findall('Thi.*', string)"
   ]
  },
  {
   "cell_type": "code",
   "execution_count": 76,
   "id": "ddc1473e",
   "metadata": {},
   "outputs": [
    {
     "data": {
      "text/plain": [
       "['This Thing called a Thimble has']"
      ]
     },
     "execution_count": 76,
     "metadata": {},
     "output_type": "execute_result"
    }
   ],
   "source": [
    "string = 'This Thing called a Thimble has Thrice hurt me'\n",
    "\n",
    "re.findall('Thi.*s', string)"
   ]
  },
  {
   "cell_type": "code",
   "execution_count": 78,
   "id": "1c177476",
   "metadata": {},
   "outputs": [
    {
     "data": {
      "text/plain": [
       "['This']"
      ]
     },
     "execution_count": 78,
     "metadata": {},
     "output_type": "execute_result"
    }
   ],
   "source": [
    "# Noteable doesn't have any character b/w Thi and s(or simply zero character) that's what \"*\" character say zero or more character matching\n",
    "# \"*\" looking zero or more charcter\n",
    "string = 'This Thing called a Thimble ha Thrice hurt me'\n",
    "\n",
    "re.findall('Thi.*s', string)"
   ]
  },
  {
   "cell_type": "code",
   "execution_count": 82,
   "id": "12352950",
   "metadata": {},
   "outputs": [
    {
     "data": {
      "text/plain": [
       "['This Thing called a Thimble ha Thrice hurt me']"
      ]
     },
     "execution_count": 82,
     "metadata": {},
     "output_type": "execute_result"
    }
   ],
   "source": [
    "string = 'This Thing called a Thimble ha Thrice hurt me'\n",
    "\n",
    "re.findall('Thi.*e', string)"
   ]
  },
  {
   "cell_type": "code",
   "execution_count": null,
   "id": "3d1de74c",
   "metadata": {},
   "outputs": [],
   "source": []
  },
  {
   "cell_type": "code",
   "execution_count": 80,
   "id": "af46553f",
   "metadata": {},
   "outputs": [
    {
     "data": {
      "text/plain": [
       "[]"
      ]
     },
     "execution_count": 80,
     "metadata": {},
     "output_type": "execute_result"
    }
   ],
   "source": [
    "# Noteable doesn't have any character b/w Thi and s(or simply zero character) so \"+\" returning empty []\n",
    "# \"+\" looking one or more charcter\n",
    "string = 'This Thing called a Thimble ha Thrice hurt me'\n",
    "\n",
    "re.findall('Thi.+s', string)"
   ]
  },
  {
   "cell_type": "code",
   "execution_count": 84,
   "id": "06d4c4af",
   "metadata": {},
   "outputs": [
    {
     "data": {
      "text/plain": [
       "['This Thing called a Thimble ha Thrice hurt me']"
      ]
     },
     "execution_count": 84,
     "metadata": {},
     "output_type": "execute_result"
    }
   ],
   "source": [
    "string = 'This Thing called a Thimble ha Thrice hurt me'\n",
    "\n",
    "re.findall('Thi.+e', string)"
   ]
  },
  {
   "cell_type": "code",
   "execution_count": 83,
   "id": "b21b105d",
   "metadata": {},
   "outputs": [
    {
     "data": {
      "text/plain": [
       "['This Thing called a Thimble has']"
      ]
     },
     "execution_count": 83,
     "metadata": {},
     "output_type": "execute_result"
    }
   ],
   "source": [
    "string = 'This Thing called a Thimble has Thrice hurt me'\n",
    "\n",
    "re.findall('Thi.+s', string)"
   ]
  },
  {
   "cell_type": "code",
   "execution_count": 81,
   "id": "54a2560a",
   "metadata": {},
   "outputs": [
    {
     "data": {
      "text/plain": [
       "['This']"
      ]
     },
     "execution_count": 81,
     "metadata": {},
     "output_type": "execute_result"
    }
   ],
   "source": [
    "# Noteable doesn't have any character b/w Thi and s(or simply zero character) \n",
    "# looking one or zero character\n",
    "string = 'This Thing called a Thimble ha Thrice hurt me'\n",
    "\n",
    "re.findall('Thi.?s', string)"
   ]
  },
  {
   "cell_type": "code",
   "execution_count": 85,
   "id": "0257a156",
   "metadata": {},
   "outputs": [
    {
     "data": {
      "text/plain": [
       "[]"
      ]
     },
     "execution_count": 85,
     "metadata": {},
     "output_type": "execute_result"
    }
   ],
   "source": [
    "string = 'This Thing called a Thimble ha Thrice hurt me'\n",
    "\n",
    "re.findall('Thi.?e', string)"
   ]
  },
  {
   "cell_type": "code",
   "execution_count": 86,
   "id": "7eb01178",
   "metadata": {},
   "outputs": [
    {
     "data": {
      "text/plain": [
       "['Thimble']"
      ]
     },
     "execution_count": 86,
     "metadata": {},
     "output_type": "execute_result"
    }
   ],
   "source": [
    "string = 'This Thing called a Thimble ha Thrice hurt me'\n",
    "\n",
    "re.findall('Thi.{3}?e', string)"
   ]
  },
  {
   "cell_type": "code",
   "execution_count": null,
   "id": "0567ec97",
   "metadata": {},
   "outputs": [],
   "source": []
  },
  {
   "cell_type": "code",
   "execution_count": 88,
   "id": "5b4f403e",
   "metadata": {},
   "outputs": [
    {
     "data": {
      "text/plain": [
       "['',\n",
       " '',\n",
       " '',\n",
       " '',\n",
       " '',\n",
       " '',\n",
       " '',\n",
       " '',\n",
       " '',\n",
       " '',\n",
       " '',\n",
       " '',\n",
       " '',\n",
       " '',\n",
       " '',\n",
       " '',\n",
       " '',\n",
       " '',\n",
       " '',\n",
       " '',\n",
       " '',\n",
       " '',\n",
       " '',\n",
       " '',\n",
       " '',\n",
       " '',\n",
       " '',\n",
       " '',\n",
       " '',\n",
       " '',\n",
       " '',\n",
       " '',\n",
       " '',\n",
       " '',\n",
       " '',\n",
       " '',\n",
       " '',\n",
       " '',\n",
       " '',\n",
       " '',\n",
       " '',\n",
       " '',\n",
       " '',\n",
       " '',\n",
       " '',\n",
       " '',\n",
       " '',\n",
       " '',\n",
       " '',\n",
       " '',\n",
       " '',\n",
       " '',\n",
       " '',\n",
       " '',\n",
       " '',\n",
       " '']"
      ]
     },
     "execution_count": 88,
     "metadata": {},
     "output_type": "execute_result"
    }
   ],
   "source": [
    "string = 'I hate that I love balloon animals. They are beautiful.'\n",
    "\n",
    "re.findall('|', string)"
   ]
  },
  {
   "cell_type": "code",
   "execution_count": 89,
   "id": "4205b171",
   "metadata": {},
   "outputs": [
    {
     "data": {
      "text/plain": [
       "['hate', 'beautiful']"
      ]
     },
     "execution_count": 89,
     "metadata": {},
     "output_type": "execute_result"
    }
   ],
   "source": [
    "string = 'I hate that I love balloon animals. They are beautiful.'\n",
    "\n",
    "re.findall('hate|beautiful', string)"
   ]
  },
  {
   "cell_type": "code",
   "execution_count": null,
   "id": "838b3a1c",
   "metadata": {},
   "outputs": [],
   "source": [
    "string = 'I hate that I love balloon animals. They are beautiful.'\n",
    "\n",
    "re.findall('lovely|beautiful', string)"
   ]
  },
  {
   "cell_type": "code",
   "execution_count": null,
   "id": "a996a0ff",
   "metadata": {},
   "outputs": [],
   "source": []
  },
  {
   "cell_type": "code",
   "execution_count": 90,
   "id": "631c5589",
   "metadata": {},
   "outputs": [
    {
     "data": {
      "text/plain": [
       "['I',\n",
       " ' ',\n",
       " 'l',\n",
       " 'i',\n",
       " 'k',\n",
       " 'e',\n",
       " ' ',\n",
       " 'c',\n",
       " 'a',\n",
       " 't',\n",
       " 's',\n",
       " '.',\n",
       " ' ',\n",
       " 'Y',\n",
       " 'o',\n",
       " 'u',\n",
       " ' ',\n",
       " 'l',\n",
       " 'i',\n",
       " 'k',\n",
       " 'e',\n",
       " ' ',\n",
       " 'c',\n",
       " 'a',\n",
       " 't',\n",
       " 's',\n",
       " '?',\n",
       " ' ',\n",
       " 'W',\n",
       " 'e',\n",
       " ' ',\n",
       " 'a',\n",
       " 'l',\n",
       " 'l',\n",
       " ' ',\n",
       " 'l',\n",
       " 'i',\n",
       " 'k',\n",
       " 'e',\n",
       " ' ',\n",
       " 'c',\n",
       " 'a',\n",
       " 't',\n",
       " 's',\n",
       " '.']"
      ]
     },
     "execution_count": 90,
     "metadata": {},
     "output_type": "execute_result"
    }
   ],
   "source": [
    "string = 'I like cats. You like cats? We all like cats.'\n",
    "re.findall('.', string)"
   ]
  },
  {
   "cell_type": "code",
   "execution_count": 92,
   "id": "0f071ec0",
   "metadata": {},
   "outputs": [
    {
     "data": {
      "text/plain": [
       "['.', '.']"
      ]
     },
     "execution_count": 92,
     "metadata": {},
     "output_type": "execute_result"
    }
   ],
   "source": [
    "string = 'I like cats. You like cats? We all like cats.'\n",
    "re.findall('\\.', string)"
   ]
  },
  {
   "cell_type": "code",
   "execution_count": 93,
   "id": "34d0e159",
   "metadata": {},
   "outputs": [
    {
     "ename": "error",
     "evalue": "nothing to repeat at position 0",
     "output_type": "error",
     "traceback": [
      "\u001b[1;31m---------------------------------------------------------------------------\u001b[0m",
      "\u001b[1;31merror\u001b[0m                                     Traceback (most recent call last)",
      "Cell \u001b[1;32mIn[93], line 2\u001b[0m\n\u001b[0;32m      1\u001b[0m string \u001b[38;5;241m=\u001b[39m \u001b[38;5;124m'\u001b[39m\u001b[38;5;124mI like cats. You like cats? We all like cats.\u001b[39m\u001b[38;5;124m'\u001b[39m\n\u001b[1;32m----> 2\u001b[0m \u001b[43mre\u001b[49m\u001b[38;5;241;43m.\u001b[39;49m\u001b[43mfindall\u001b[49m\u001b[43m(\u001b[49m\u001b[38;5;124;43m'\u001b[39;49m\u001b[38;5;124;43m?\u001b[39;49m\u001b[38;5;124;43m'\u001b[39;49m\u001b[43m,\u001b[49m\u001b[43m \u001b[49m\u001b[43mstring\u001b[49m\u001b[43m)\u001b[49m\n",
      "File \u001b[1;32m~\\anaconda3\\lib\\re.py:240\u001b[0m, in \u001b[0;36mfindall\u001b[1;34m(pattern, string, flags)\u001b[0m\n\u001b[0;32m    232\u001b[0m \u001b[38;5;28;01mdef\u001b[39;00m \u001b[38;5;21mfindall\u001b[39m(pattern, string, flags\u001b[38;5;241m=\u001b[39m\u001b[38;5;241m0\u001b[39m):\n\u001b[0;32m    233\u001b[0m     \u001b[38;5;124;03m\"\"\"Return a list of all non-overlapping matches in the string.\u001b[39;00m\n\u001b[0;32m    234\u001b[0m \n\u001b[0;32m    235\u001b[0m \u001b[38;5;124;03m    If one or more capturing groups are present in the pattern, return\u001b[39;00m\n\u001b[1;32m   (...)\u001b[0m\n\u001b[0;32m    238\u001b[0m \n\u001b[0;32m    239\u001b[0m \u001b[38;5;124;03m    Empty matches are included in the result.\"\"\"\u001b[39;00m\n\u001b[1;32m--> 240\u001b[0m     \u001b[38;5;28;01mreturn\u001b[39;00m \u001b[43m_compile\u001b[49m\u001b[43m(\u001b[49m\u001b[43mpattern\u001b[49m\u001b[43m,\u001b[49m\u001b[43m \u001b[49m\u001b[43mflags\u001b[49m\u001b[43m)\u001b[49m\u001b[38;5;241m.\u001b[39mfindall(string)\n",
      "File \u001b[1;32m~\\anaconda3\\lib\\re.py:303\u001b[0m, in \u001b[0;36m_compile\u001b[1;34m(pattern, flags)\u001b[0m\n\u001b[0;32m    301\u001b[0m \u001b[38;5;28;01mif\u001b[39;00m \u001b[38;5;129;01mnot\u001b[39;00m sre_compile\u001b[38;5;241m.\u001b[39misstring(pattern):\n\u001b[0;32m    302\u001b[0m     \u001b[38;5;28;01mraise\u001b[39;00m \u001b[38;5;167;01mTypeError\u001b[39;00m(\u001b[38;5;124m\"\u001b[39m\u001b[38;5;124mfirst argument must be string or compiled pattern\u001b[39m\u001b[38;5;124m\"\u001b[39m)\n\u001b[1;32m--> 303\u001b[0m p \u001b[38;5;241m=\u001b[39m \u001b[43msre_compile\u001b[49m\u001b[38;5;241;43m.\u001b[39;49m\u001b[43mcompile\u001b[49m\u001b[43m(\u001b[49m\u001b[43mpattern\u001b[49m\u001b[43m,\u001b[49m\u001b[43m \u001b[49m\u001b[43mflags\u001b[49m\u001b[43m)\u001b[49m\n\u001b[0;32m    304\u001b[0m \u001b[38;5;28;01mif\u001b[39;00m \u001b[38;5;129;01mnot\u001b[39;00m (flags \u001b[38;5;241m&\u001b[39m DEBUG):\n\u001b[0;32m    305\u001b[0m     \u001b[38;5;28;01mif\u001b[39;00m \u001b[38;5;28mlen\u001b[39m(_cache) \u001b[38;5;241m>\u001b[39m\u001b[38;5;241m=\u001b[39m _MAXCACHE:\n\u001b[0;32m    306\u001b[0m         \u001b[38;5;66;03m# Drop the oldest item\u001b[39;00m\n",
      "File \u001b[1;32m~\\anaconda3\\lib\\sre_compile.py:788\u001b[0m, in \u001b[0;36mcompile\u001b[1;34m(p, flags)\u001b[0m\n\u001b[0;32m    786\u001b[0m \u001b[38;5;28;01mif\u001b[39;00m isstring(p):\n\u001b[0;32m    787\u001b[0m     pattern \u001b[38;5;241m=\u001b[39m p\n\u001b[1;32m--> 788\u001b[0m     p \u001b[38;5;241m=\u001b[39m \u001b[43msre_parse\u001b[49m\u001b[38;5;241;43m.\u001b[39;49m\u001b[43mparse\u001b[49m\u001b[43m(\u001b[49m\u001b[43mp\u001b[49m\u001b[43m,\u001b[49m\u001b[43m \u001b[49m\u001b[43mflags\u001b[49m\u001b[43m)\u001b[49m\n\u001b[0;32m    789\u001b[0m \u001b[38;5;28;01melse\u001b[39;00m:\n\u001b[0;32m    790\u001b[0m     pattern \u001b[38;5;241m=\u001b[39m \u001b[38;5;28;01mNone\u001b[39;00m\n",
      "File \u001b[1;32m~\\anaconda3\\lib\\sre_parse.py:955\u001b[0m, in \u001b[0;36mparse\u001b[1;34m(str, flags, state)\u001b[0m\n\u001b[0;32m    952\u001b[0m state\u001b[38;5;241m.\u001b[39mstr \u001b[38;5;241m=\u001b[39m \u001b[38;5;28mstr\u001b[39m\n\u001b[0;32m    954\u001b[0m \u001b[38;5;28;01mtry\u001b[39;00m:\n\u001b[1;32m--> 955\u001b[0m     p \u001b[38;5;241m=\u001b[39m \u001b[43m_parse_sub\u001b[49m\u001b[43m(\u001b[49m\u001b[43msource\u001b[49m\u001b[43m,\u001b[49m\u001b[43m \u001b[49m\u001b[43mstate\u001b[49m\u001b[43m,\u001b[49m\u001b[43m \u001b[49m\u001b[43mflags\u001b[49m\u001b[43m \u001b[49m\u001b[38;5;241;43m&\u001b[39;49m\u001b[43m \u001b[49m\u001b[43mSRE_FLAG_VERBOSE\u001b[49m\u001b[43m,\u001b[49m\u001b[43m \u001b[49m\u001b[38;5;241;43m0\u001b[39;49m\u001b[43m)\u001b[49m\n\u001b[0;32m    956\u001b[0m \u001b[38;5;28;01mexcept\u001b[39;00m Verbose:\n\u001b[0;32m    957\u001b[0m     \u001b[38;5;66;03m# the VERBOSE flag was switched on inside the pattern.  to be\u001b[39;00m\n\u001b[0;32m    958\u001b[0m     \u001b[38;5;66;03m# on the safe side, we'll parse the whole thing again...\u001b[39;00m\n\u001b[0;32m    959\u001b[0m     state \u001b[38;5;241m=\u001b[39m State()\n",
      "File \u001b[1;32m~\\anaconda3\\lib\\sre_parse.py:444\u001b[0m, in \u001b[0;36m_parse_sub\u001b[1;34m(source, state, verbose, nested)\u001b[0m\n\u001b[0;32m    442\u001b[0m start \u001b[38;5;241m=\u001b[39m source\u001b[38;5;241m.\u001b[39mtell()\n\u001b[0;32m    443\u001b[0m \u001b[38;5;28;01mwhile\u001b[39;00m \u001b[38;5;28;01mTrue\u001b[39;00m:\n\u001b[1;32m--> 444\u001b[0m     itemsappend(\u001b[43m_parse\u001b[49m\u001b[43m(\u001b[49m\u001b[43msource\u001b[49m\u001b[43m,\u001b[49m\u001b[43m \u001b[49m\u001b[43mstate\u001b[49m\u001b[43m,\u001b[49m\u001b[43m \u001b[49m\u001b[43mverbose\u001b[49m\u001b[43m,\u001b[49m\u001b[43m \u001b[49m\u001b[43mnested\u001b[49m\u001b[43m \u001b[49m\u001b[38;5;241;43m+\u001b[39;49m\u001b[43m \u001b[49m\u001b[38;5;241;43m1\u001b[39;49m\u001b[43m,\u001b[49m\n\u001b[0;32m    445\u001b[0m \u001b[43m                       \u001b[49m\u001b[38;5;129;43;01mnot\u001b[39;49;00m\u001b[43m \u001b[49m\u001b[43mnested\u001b[49m\u001b[43m \u001b[49m\u001b[38;5;129;43;01mand\u001b[39;49;00m\u001b[43m \u001b[49m\u001b[38;5;129;43;01mnot\u001b[39;49;00m\u001b[43m \u001b[49m\u001b[43mitems\u001b[49m\u001b[43m)\u001b[49m)\n\u001b[0;32m    446\u001b[0m     \u001b[38;5;28;01mif\u001b[39;00m \u001b[38;5;129;01mnot\u001b[39;00m sourcematch(\u001b[38;5;124m\"\u001b[39m\u001b[38;5;124m|\u001b[39m\u001b[38;5;124m\"\u001b[39m):\n\u001b[0;32m    447\u001b[0m         \u001b[38;5;28;01mbreak\u001b[39;00m\n",
      "File \u001b[1;32m~\\anaconda3\\lib\\sre_parse.py:669\u001b[0m, in \u001b[0;36m_parse\u001b[1;34m(source, state, verbose, nested, first)\u001b[0m\n\u001b[0;32m    667\u001b[0m     item \u001b[38;5;241m=\u001b[39m \u001b[38;5;28;01mNone\u001b[39;00m\n\u001b[0;32m    668\u001b[0m \u001b[38;5;28;01mif\u001b[39;00m \u001b[38;5;129;01mnot\u001b[39;00m item \u001b[38;5;129;01mor\u001b[39;00m item[\u001b[38;5;241m0\u001b[39m][\u001b[38;5;241m0\u001b[39m] \u001b[38;5;129;01mis\u001b[39;00m AT:\n\u001b[1;32m--> 669\u001b[0m     \u001b[38;5;28;01mraise\u001b[39;00m source\u001b[38;5;241m.\u001b[39merror(\u001b[38;5;124m\"\u001b[39m\u001b[38;5;124mnothing to repeat\u001b[39m\u001b[38;5;124m\"\u001b[39m,\n\u001b[0;32m    670\u001b[0m                        source\u001b[38;5;241m.\u001b[39mtell() \u001b[38;5;241m-\u001b[39m here \u001b[38;5;241m+\u001b[39m \u001b[38;5;28mlen\u001b[39m(this))\n\u001b[0;32m    671\u001b[0m \u001b[38;5;28;01mif\u001b[39;00m item[\u001b[38;5;241m0\u001b[39m][\u001b[38;5;241m0\u001b[39m] \u001b[38;5;129;01min\u001b[39;00m _REPEATCODES:\n\u001b[0;32m    672\u001b[0m     \u001b[38;5;28;01mraise\u001b[39;00m source\u001b[38;5;241m.\u001b[39merror(\u001b[38;5;124m\"\u001b[39m\u001b[38;5;124mmultiple repeat\u001b[39m\u001b[38;5;124m\"\u001b[39m,\n\u001b[0;32m    673\u001b[0m                        source\u001b[38;5;241m.\u001b[39mtell() \u001b[38;5;241m-\u001b[39m here \u001b[38;5;241m+\u001b[39m \u001b[38;5;28mlen\u001b[39m(this))\n",
      "\u001b[1;31merror\u001b[0m: nothing to repeat at position 0"
     ]
    }
   ],
   "source": [
    "string = 'I like cats. You like cats? We all like cats.'\n",
    "re.findall('?', string)"
   ]
  },
  {
   "cell_type": "code",
   "execution_count": 94,
   "id": "54cfbb6a",
   "metadata": {},
   "outputs": [
    {
     "data": {
      "text/plain": [
       "['?']"
      ]
     },
     "execution_count": 94,
     "metadata": {},
     "output_type": "execute_result"
    }
   ],
   "source": [
    "string = 'I like cats. You like cats? We all like cats.'\n",
    "re.findall('\\?', string)"
   ]
  },
  {
   "cell_type": "code",
   "execution_count": 73,
   "id": "cf2f8115",
   "metadata": {},
   "outputs": [
    {
     "data": {
      "text/plain": [
       "['This hing called a himble has hrice hurt me']"
      ]
     },
     "execution_count": 73,
     "metadata": {},
     "output_type": "execute_result"
    }
   ],
   "source": [
    "string = 'This hing called a himble has hrice hurt me'\n",
    "# it's s\n",
    "\n",
    "re.findall('Thi.*', string)"
   ]
  },
  {
   "cell_type": "code",
   "execution_count": 74,
   "id": "d6ff7a95",
   "metadata": {},
   "outputs": [
    {
     "data": {
      "text/plain": [
       "[]"
      ]
     },
     "execution_count": 74,
     "metadata": {},
     "output_type": "execute_result"
    }
   ],
   "source": [
    "string = 'is hing called a himble has hrice hurt me'\n",
    "\n",
    "re.findall('Thi.*', string)"
   ]
  },
  {
   "cell_type": "code",
   "execution_count": null,
   "id": "e87e0b6d",
   "metadata": {},
   "outputs": [],
   "source": []
  },
  {
   "cell_type": "code",
   "execution_count": null,
   "id": "feed1be3",
   "metadata": {},
   "outputs": [],
   "source": []
  },
  {
   "cell_type": "code",
   "execution_count": null,
   "id": "6057d9f7",
   "metadata": {},
   "outputs": [],
   "source": []
  },
  {
   "cell_type": "markdown",
   "id": "16c05d04",
   "metadata": {},
   "source": [
    "# Lecture 9 BMI Calculater"
   ]
  },
  {
   "cell_type": "code",
   "execution_count": 1,
   "id": "3414f2fb",
   "metadata": {},
   "outputs": [
    {
     "name": "stdout",
     "output_type": "stream",
     "text": [
      "alex\n"
     ]
    }
   ],
   "source": [
    "weight = input()"
   ]
  },
  {
   "cell_type": "code",
   "execution_count": 2,
   "id": "2b2ca387",
   "metadata": {},
   "outputs": [
    {
     "name": "stdout",
     "output_type": "stream",
     "text": [
      "alex\n"
     ]
    }
   ],
   "source": [
    "print(weight)"
   ]
  },
  {
   "cell_type": "code",
   "execution_count": null,
   "id": "7446f392",
   "metadata": {},
   "outputs": [],
   "source": [
    "weight = int(input(\"Enter your weight in pounds: \"))\n",
    "height = int(input(\"Enter your height in inches: \"))\n",
    "\n",
    "#BMI = (weight in pounds x 703)/(height in inches x height in inches)\n",
    "\n",
    "BMI = (weight * 703)/(height * height)\n",
    "print(round(BMI,2))"
   ]
  },
  {
   "cell_type": "code",
   "execution_count": null,
   "id": "d653639a",
   "metadata": {},
   "outputs": [],
   "source": [
    "Under 18.5\tUnder weight\tMinimal\n",
    "18.5 - 24.9\tNormal Weight\tMinimal\n",
    "25 - 29.9\tOver weight\tIncreased\n",
    "30 - 34.9\tObese\tHigh\n",
    "35 - 39.9\tSeverely Obese\tVery High\n",
    "40 and over\tMorbidly Obese\tExtremely High"
   ]
  },
  {
   "cell_type": "code",
   "execution_count": null,
   "id": "03b79285",
   "metadata": {},
   "outputs": [],
   "source": [
    "if BMI > 0:\n",
    "    if (BMI < 18.5):\n",
    "        print(name + ,\"You are underweight.\")\n",
    "    elif (BMI <= 24.9):\n",
    "        print(name + ,\"You are Normal weights.\")\n",
    "    elif (BMI <= 29.9):\n",
    "        print(name + ,\"You are over weight.\")\n",
    "    elif (BMI <= 34.9):\n",
    "        print(name + ,\"You are Obese.\")\n",
    "    elif (BMI <= 39.9):\n",
    "        print(name + ,\"You are Severely Obese.\")\n",
    "    else:\n",
    "        print(name +,\"Morbidly Obese\")\n",
    "else:\n",
    "    print(\"Enter valid inpur: \")"
   ]
  },
  {
   "cell_type": "code",
   "execution_count": 18,
   "id": "6200cb74",
   "metadata": {},
   "outputs": [
    {
     "name": "stdout",
     "output_type": "stream",
     "text": [
      "Enter your name: Abhishek\n",
      "Enter your weight in pounds: 170\n",
      "Enter your height in inches: 69\n",
      "25.1\n",
      "Abhishek, You are over weight. You need to exercise more and stop sitting and writing more python tutorials \n"
     ]
    }
   ],
   "source": [
    "name = input(\"Enter your name: \")\n",
    "weight = int(input(\"Enter your weight in pounds: \"))\n",
    "height = int(input(\"Enter your height in inches: \"))\n",
    "\n",
    "#BMI = (weight in pounds x 703)/(height in inches x height in inches)\n",
    "\n",
    "BMI = (weight * 703)/(height * height)\n",
    "print(round(BMI,2))\n",
    "if BMI > 0:\n",
    "    if (BMI < 18.5):\n",
    "        print(name + \", You are underweight.\")\n",
    "    elif (BMI <= 24.9):\n",
    "        print(name +  \", You are Normal weights.\")\n",
    "    elif (BMI <= 29.9):\n",
    "        print(name + \", You are over weight. You need to exercise more and stop sitting and writing more python tutorials \")\n",
    "    elif (BMI <= 34.9):\n",
    "        print(name + \", You are Obese.\")\n",
    "    elif (BMI <= 39.9):\n",
    "        print(name + \", You are Severely Obese.\")\n",
    "    else:\n",
    "        print(name + \", Morbidly Obese\")\n",
    "else:\n",
    "    print(\"Enter valid inpur: \")"
   ]
  },
  {
   "cell_type": "markdown",
   "id": "ff1b8a40",
   "metadata": {},
   "source": [
    "# Lecture 10 Automatic Sorter in File Explorer\n",
    "                       "
   ]
  },
  {
   "cell_type": "code",
   "execution_count": 73,
   "id": "9c02aa8f",
   "metadata": {},
   "outputs": [],
   "source": [
    "import os, shutil"
   ]
  },
  {
   "cell_type": "code",
   "execution_count": 74,
   "id": "bc64a937",
   "metadata": {},
   "outputs": [],
   "source": [
    "path = r\"C:\\Users\\admin\\Downloads\""
   ]
  },
  {
   "cell_type": "code",
   "execution_count": 79,
   "id": "8e043f11",
   "metadata": {},
   "outputs": [
    {
     "data": {
      "text/plain": [
       "[\"(1) Adam D'Angelo on Twitter_ _Subscriptions are available in most countries worldwide immediately, but we will be working to expand the set of countries further going forward._ _ Twitter.html\",\n",
       " \"(1) Adam D'Angelo on Twitter_ _Subscriptions are available in most countries worldwide immediately, but we will be working to expand the set of countries further going forward._ _ Twitter_files\",\n",
       " '00-Master.ppt',\n",
       " '100 Great Copywriting Ideas from Leading Companies Around the World by Andy Maslen.pdf',\n",
       " '14th_UniDemMed_Thijs_EUPAN_CustomerSatisfaction_English__FINAL.pdf',\n",
       " '20230322_112037.mp4',\n",
       " '64504c8d-44aa-4dcc-8449-79380cd34f91.jpg',\n",
       " '6dbDES.wav',\n",
       " '6dbDESAUD.wav',\n",
       " '98d76b01-8154-45cd-8f03-1f9e62006a26 (1).jpg',\n",
       " '98d76b01-8154-45cd-8f03-1f9e62006a26 (2) (1).jpg',\n",
       " '98d76b01-8154-45cd-8f03-1f9e62006a26 (2).jpg',\n",
       " '98d76b01-8154-45cd-8f03-1f9e62006a26.jpg',\n",
       " 'Abhishekh Mapping.xlsx',\n",
       " 'Abstract_black_liquid_wave_background__Luxurious_design_of_elegant_curves_black_material__Animation_4K (1).mp4',\n",
       " 'Abstract_black_liquid_wave_background__Luxurious_design_of_elegant_curves_black_material__Animation_4K.mp4',\n",
       " 'Abstract_black_liquid_wave_background__Luxurious_design_of_elegant_curves_black_material__Animation_4K_3.mp4',\n",
       " 'ac926087-e025-4657-908b-3b2eb9af9a5a.jpg',\n",
       " 'AccessDatabaseEngine.exe',\n",
       " 'AIhyp-3 (1).jpg',\n",
       " 'AIhyp-3 (1).webp',\n",
       " 'AIhyp-3 (2).jpg',\n",
       " 'AIhyp-3 (3) (2).jpg',\n",
       " 'AIhyp-3 (3).jpg',\n",
       " 'AIhyp-3.jpg',\n",
       " 'AIhyp-3_3_2_10.jpg',\n",
       " 'AIhyp-3__3___1_-removebg-preview(2).png',\n",
       " 'AIhyp-3__3___1_-removebg-preview.png',\n",
       " 'AIhyp.png',\n",
       " 'Airbnb.wav',\n",
       " 'Airbnbau.wav',\n",
       " 'AIspark.mp3',\n",
       " 'AIsparknormalize.mp3',\n",
       " 'amcharts_5.2.45.zip',\n",
       " 'Anaconda3-2022.10-Windows-x86_64 (1).exe',\n",
       " 'Apocolypse Food Prep - Bins Lists Tutorial.xlsx',\n",
       " 'Apocolypse Food Prep - Conditional Formatting Tutorial.xlsx',\n",
       " 'Apocolypse Food Prep - DAX Tutorial.xlsx',\n",
       " 'Apocolypse Food Prep - Drill Down Tutorial.xlsx',\n",
       " 'Apocolypse Food Prep - Power Query Editor Tutorial.xlsx',\n",
       " 'Apocolypse Food Prep - Relationship Tutorial.xlsx',\n",
       " 'Apocolypse Food Prep - Visualizations Tutorial.xlsx',\n",
       " 'Apocolypse Food Prep.xlsx',\n",
       " 'archive',\n",
       " 'archive.zip',\n",
       " 'Automate the Boring Stuff with Python, 2nd Edition (Al Sweigart) (z-lib.org).pdf',\n",
       " 'BI full project.pbix',\n",
       " 'BingImageCreator_Hero_16x9-1536x864 (1) (1).jpg',\n",
       " 'BingImageCreator_Hero_16x9-1536x864 (1).jpg',\n",
       " 'BingImageCreator_Hero_16x9-1536x864-_1_.webp',\n",
       " 'BingImageCreator_Hero_16x9-1536x864.jpg',\n",
       " 'BingWallpaper.jpg',\n",
       " 'Bins&Lists.pbix',\n",
       " 'Blockbuster Sales Letters.pdf',\n",
       " 'Book (5).xlsx',\n",
       " 'cocacola.wav',\n",
       " 'cocacolaau.wav',\n",
       " 'code3',\n",
       " 'Conditional Formatting Excel Tutorial File.xlsx',\n",
       " 'Conditionalformating.pbix',\n",
       " 'Confessions of an Advertising Man by David Ogilvy.pdf',\n",
       " 'Copyblogger-How-to-Write-Magnetic-Headlines.pdf',\n",
       " 'CovidDeaths.xlsx',\n",
       " 'CovidVaccinations.xlsx',\n",
       " 'credits.csv',\n",
       " 'csv files',\n",
       " 'CustomerSatisfactionCaseStudyFINAL.pdf',\n",
       " 'customersatisfactionMSIFastFoward2010Series.pdf',\n",
       " 'Data Cleaning Excel Tutorial.xlsx',\n",
       " 'DaVinci_Resolve_18.0.4_Windows',\n",
       " 'DAX in Power BI.pbix',\n",
       " 'Descript Setup 60.1.2-release.20230328.1.exe',\n",
       " 'desktop.ini',\n",
       " 'diff (Perfect).debackup',\n",
       " 'difflatest310323.mp3',\n",
       " 'difftnew.mp4',\n",
       " 'difftnew.wav',\n",
       " 'diffWITAUDONENOTCH.wav',\n",
       " 'diffWITHAUD2NOTCH.wav',\n",
       " 'diffWITHAUD3NOTCH.wav',\n",
       " 'diffWITHAUDCITYONLYLIMITER.wav',\n",
       " 'diffWITHOUTAUD.wav',\n",
       " 'directory.csv',\n",
       " 'directory.csv (1).zip',\n",
       " 'directory.csv.zip',\n",
       " 'DiscordSetup.exe',\n",
       " 'DOC-20220823-WA0140_ (1)',\n",
       " 'Documents - Shortcut.lnk',\n",
       " 'download (1).jpg',\n",
       " 'download.jpg',\n",
       " 'download.png',\n",
       " 'Drill.pbix',\n",
       " 'Evernote-10.52.8-win-ddl-ga-3911-111c1a8a34-setup.exe',\n",
       " 'Excel Charts Tutorial File.xlsx',\n",
       " 'Excel Project Dataset.xlsx',\n",
       " 'Explain-Decorator-Functionality (1).png',\n",
       " 'Explain-Decorator-Functionality.png',\n",
       " 'Facebookbanner.png',\n",
       " 'favicon_io (1)',\n",
       " 'favicon_io (1).zip',\n",
       " 'favicon_io.zip',\n",
       " 'Feedify-Free-Version-1.0',\n",
       " 'Firefox Installer.exe',\n",
       " 'first-steps-with-python.pdf',\n",
       " 'flags.csv',\n",
       " 'fontawesome-free-5.15.4-web.zip',\n",
       " 'Formula Excel Template.xlsx',\n",
       " 'Freebify v1.3 Pro.rar',\n",
       " 'Freebify-Free-XML.xml',\n",
       " 'FrMf7uqaAAA-dFo (1).jpg',\n",
       " 'FrMf7uqaAAA-dFo.jpg',\n",
       " 'Fso8albacAEH31p (1).jpg',\n",
       " 'Fso8cUtaAAAX8b7 (1).jpg',\n",
       " 'Fso8dmoaYAA2M-X (1).jpg',\n",
       " 'Fso8ewSakAEpvqM (1).jpg',\n",
       " 'Fso8gpjaQAEvged (1).jpg',\n",
       " 'Fso8YgNaYAEQ6iO.jpg',\n",
       " 'gpt4 (1).jpg',\n",
       " 'gpt4.jpg',\n",
       " 'gpt4.mp3',\n",
       " 'GrammarlyInstaller.c0000059dGyjmwJkS4dC.exe',\n",
       " 'GreatMag.zip',\n",
       " 'HAI_AI-Index-Report_2023.pdf',\n",
       " 'Hangman-DataFlair.zip',\n",
       " 'image files',\n",
       " 'Insta.png',\n",
       " 'Learning the Pandas Library Python Tools for Data Munging, Analysis, and Visual (Matt Harrison Michael Prentiss) (z-lib.org).pdf',\n",
       " 'Loom Setup 0.154.3.exe',\n",
       " 'Madrona_AI_Models_Market_Map_2023_web_Logo-V4-1.png',\n",
       " 'magicmic_setup-com_filme.exe',\n",
       " 'Magnetic Sales Letters.pdf',\n",
       " 'main-qimg-058cf8b7a717d13eeb1990a0f6905062-pjlq.jpeg',\n",
       " 'markgo_setup_x64-com_filme.exe',\n",
       " 'masking-effect.png',\n",
       " 'masking-effect.webp',\n",
       " 'Microsoft.DataTools.IntegrationServices.exe',\n",
       " 'mysql-workbench-community-8.0.31-winx64.msi',\n",
       " 'Nashville Housing Data for Data Cleaning.xlsx',\n",
       " 'nikefull.mp4',\n",
       " 'Notion Setup 2.0.39.exe',\n",
       " 'nvidia.wav',\n",
       " 'OpenShot-v3.0.0-x86_64.exe',\n",
       " 'Partical_Project_011 (1).mov',\n",
       " 'Partical_Project_011.mov',\n",
       " 'pexels-designecologist-1779487.jpg',\n",
       " 'pexels-luis-quintero-3611031-1920x1080-24fps.mp4',\n",
       " 'pexels-luis-quintero-4990247-1920x1080-30fps.mp4',\n",
       " 'Poe by Quora _ Discover AI use cases.html',\n",
       " 'Poe by Quora _ Discover AI use cases_files',\n",
       " 'PopSQL-Setup-1.0.84.exe',\n",
       " 'Popular Visulization.pbix',\n",
       " 'Power BI - Final Project.xlsx',\n",
       " 'PowerBI1st Tutorial.pbix',\n",
       " 'Projectfile.pbix',\n",
       " 'Purple Pink Gradient FAQ Q&A Instagram Post.png',\n",
       " 'Python Automation Cookbook 75 Python automation ideas for web scraping, data wrangling, and processing Excel, reports, emails,... (Jaime Buelta) (z-lib.org).pdf',\n",
       " 'Python by Example Learning to Program in 150 Challenges [truePDF] by Nichola Lacey (z-lib.org).pdf',\n",
       " 'python-3.11.2-amd64.exe',\n",
       " 'Python-Automation-Cookbook-Second-Edition-master.zip',\n",
       " 'Sales.csv',\n",
       " 'Sales.csv.zip',\n",
       " 'Screenshot-18-1-2_shpzhd.webp',\n",
       " 'Screenshot_20230331_083706_Instagram.jpg',\n",
       " 'Screenshot_20230401_132641_Twitter (1).jpg',\n",
       " 'Screenshot_20230401_132641_Twitter (2).jpg',\n",
       " 'Screenshot_20230401_132641_Twitter (3).jpg',\n",
       " 'Screenshot_20230401_132641_Twitter.jpg',\n",
       " 'shotcut-win64-221221.exe',\n",
       " 'SpotiFlyer-3.6.3.msi',\n",
       " 'SQL2022-SSEI-Expr (1).exe',\n",
       " 'sqlite-dll-win64-x64-3390400',\n",
       " 'SQLServerReportingServices.exe',\n",
       " 'SSMS-Setup-ENU (1).exe',\n",
       " 'stock-footage-abstract-luxury-background-with-golden-lines-on-black-background-gold-polygonal-random-network.webm',\n",
       " 'Tableau Full Project.xlsx',\n",
       " 'Tableau Full Project.xlsx.zip',\n",
       " 'Tableau Joins File.xlsx',\n",
       " 'TableauPublicDesktop-64bit-2023-1-0.exe',\n",
       " 'text files',\n",
       " 'titles.csv',\n",
       " 'TrialDes.wav',\n",
       " 'twitter_20230323_150902.mp4',\n",
       " 'twitter_20230323_150919.mp4',\n",
       " 'twitter_20230323_150959.mp4',\n",
       " 'twitter_20230323_151029.mp4',\n",
       " 'uivision-xmodules-setup-v2022a.exe',\n",
       " 'Unconfirmed 684723.crdownload',\n",
       " 'Unconfirmed 934144.crdownload',\n",
       " 'VdejI_g5_400x400.jpg',\n",
       " 'VdhCoAppSetup-1.6.3.exe',\n",
       " 'vgsales.csv',\n",
       " 'vgsales.csv.zip',\n",
       " 'video (1).mp4',\n",
       " 'video (2).mp4',\n",
       " 'video (3).mp4',\n",
       " 'video (4).mp4',\n",
       " 'video (5).mp4',\n",
       " 'video (6).mp4',\n",
       " 'video (7).mp4',\n",
       " 'video (8).mp4',\n",
       " 'video.mp4',\n",
       " 'video_editor_x64.exe',\n",
       " 'WebBrowsingOptimizer.exe',\n",
       " 'winrar-x64-620.exe',\n",
       " 'XLOOKUP Excel Tutorial File.xlsx']"
      ]
     },
     "execution_count": 79,
     "metadata": {},
     "output_type": "execute_result"
    }
   ],
   "source": [
    "os.listdir(path)"
   ]
  },
  {
   "cell_type": "code",
   "execution_count": 102,
   "id": "db3927e7",
   "metadata": {},
   "outputs": [
    {
     "data": {
      "text/plain": [
       "True"
      ]
     },
     "execution_count": 102,
     "metadata": {},
     "output_type": "execute_result"
    }
   ],
   "source": [
    "os.path.exists(path + 'csv files')"
   ]
  },
  {
   "cell_type": "code",
   "execution_count": 103,
   "id": "ef80d9b0",
   "metadata": {},
   "outputs": [],
   "source": [
    "folder_names = ['csv files', 'image files', 'text files']\n",
    "for loop in range(0,2):\n",
    "    if not os.path.exists(path + folder_names[loop]):\n",
    "        print(path + folder_names[loop])\n",
    "        os.makedirs((path + folder_names[loop])) #we might have put back slash instead of forward slash let's see further"
   ]
  },
  {
   "cell_type": "code",
   "execution_count": null,
   "id": "ce216f7a",
   "metadata": {},
   "outputs": [],
   "source": []
  },
  {
   "cell_type": "code",
   "execution_count": 104,
   "id": "ad6ea49e",
   "metadata": {},
   "outputs": [],
   "source": [
    "import os, shutil"
   ]
  },
  {
   "cell_type": "code",
   "execution_count": 105,
   "id": "3fd8cdcd",
   "metadata": {},
   "outputs": [],
   "source": [
    "path = r\"C:/Users/admin/Downloads/\""
   ]
  },
  {
   "cell_type": "code",
   "execution_count": 106,
   "id": "9139b4d8",
   "metadata": {},
   "outputs": [
    {
     "data": {
      "text/plain": [
       "True"
      ]
     },
     "execution_count": 106,
     "metadata": {},
     "output_type": "execute_result"
    }
   ],
   "source": [
    "os.path.exists(path + 'csv files')"
   ]
  },
  {
   "cell_type": "code",
   "execution_count": 107,
   "id": "8f9033bb",
   "metadata": {},
   "outputs": [],
   "source": [
    "folder_names = ['csv files', 'image files', 'text files']\n",
    "for loop in range(0,3):\n",
    "    if not os.path.exists(path + folder_names[loop]):\n",
    "        print(path + folder_names[loop])\n",
    "        os.makedirs((path + folder_names[loop])) #take a proper range"
   ]
  },
  {
   "cell_type": "code",
   "execution_count": null,
   "id": "bb3fb09f",
   "metadata": {},
   "outputs": [],
   "source": []
  },
  {
   "cell_type": "code",
   "execution_count": 97,
   "id": "90522c87",
   "metadata": {},
   "outputs": [],
   "source": [
    "import os, shutil"
   ]
  },
  {
   "cell_type": "code",
   "execution_count": 98,
   "id": "ad676d3e",
   "metadata": {},
   "outputs": [],
   "source": [
    "path = r\"C:/Users/admin/Downloads\""
   ]
  },
  {
   "cell_type": "code",
   "execution_count": 99,
   "id": "c0b6068e",
   "metadata": {},
   "outputs": [],
   "source": [
    "file_name = os.listdir(path)"
   ]
  },
  {
   "cell_type": "code",
   "execution_count": 100,
   "id": "6a77d06e",
   "metadata": {},
   "outputs": [],
   "source": [
    "folder_names = ['csv files', 'image files', 'text files']\n",
    "for loop in range(0,3):\n",
    "    if not os.path.exists(path + folder_names[loop]):\n",
    "        print(path + folder_names[loop])\n",
    "        os.makedirs((path + folder_names[loop])) #take a proper range"
   ]
  },
  {
   "cell_type": "code",
   "execution_count": 117,
   "id": "e28ec379",
   "metadata": {},
   "outputs": [
    {
     "name": "stdout",
     "output_type": "stream",
     "text": [
      "(1) Adam D'Angelo on Twitter_ _Subscriptions are available in most countries worldwide immediately, but we will be working to expand the set of countries further going forward._ _ Twitter.html are files in path that were not moved,\n",
      "(1) Adam D'Angelo on Twitter_ _Subscriptions are available in most countries worldwide immediately, but we will be working to expand the set of countries further going forward._ _ Twitter_files are files in path that were not moved,\n",
      "00-Master.ppt are files in path that were not moved,\n",
      "100 Great Copywriting Ideas from Leading Companies Around the World by Andy Maslen.pdf are files in path that were not moved,\n",
      "14th_UniDemMed_Thijs_EUPAN_CustomerSatisfaction_English__FINAL.pdf are files in path that were not moved,\n",
      "20230322_112037.mp4 are files in path that were not moved,\n",
      "64504c8d-44aa-4dcc-8449-79380cd34f91.jpg are files in path that were not moved,\n",
      "6dbDES.wav are files in path that were not moved,\n",
      "6dbDESAUD.wav are files in path that were not moved,\n",
      "98d76b01-8154-45cd-8f03-1f9e62006a26 (1).jpg are files in path that were not moved,\n",
      "98d76b01-8154-45cd-8f03-1f9e62006a26 (2) (1).jpg are files in path that were not moved,\n",
      "98d76b01-8154-45cd-8f03-1f9e62006a26 (2).jpg are files in path that were not moved,\n",
      "98d76b01-8154-45cd-8f03-1f9e62006a26.jpg are files in path that were not moved,\n",
      "Abhishekh Mapping.xlsx are files in path that were not moved,\n",
      "Abstract_black_liquid_wave_background__Luxurious_design_of_elegant_curves_black_material__Animation_4K (1).mp4 are files in path that were not moved,\n",
      "Abstract_black_liquid_wave_background__Luxurious_design_of_elegant_curves_black_material__Animation_4K.mp4 are files in path that were not moved,\n",
      "Abstract_black_liquid_wave_background__Luxurious_design_of_elegant_curves_black_material__Animation_4K_3.mp4 are files in path that were not moved,\n",
      "ac926087-e025-4657-908b-3b2eb9af9a5a.jpg are files in path that were not moved,\n",
      "AccessDatabaseEngine.exe are files in path that were not moved,\n",
      "AIhyp-3 (1).jpg are files in path that were not moved,\n",
      "AIhyp-3 (1).webp are files in path that were not moved,\n",
      "AIhyp-3 (2).jpg are files in path that were not moved,\n",
      "AIhyp-3 (3) (2).jpg are files in path that were not moved,\n",
      "AIhyp-3 (3).jpg are files in path that were not moved,\n",
      "AIhyp-3.jpg are files in path that were not moved,\n",
      "AIhyp-3_3_2_10.jpg are files in path that were not moved,\n",
      "AIhyp-3__3___1_-removebg-preview(2).png are files in path that were not moved,\n",
      "AIhyp-3__3___1_-removebg-preview.png are files in path that were not moved,\n",
      "AIhyp.png are files in path that were not moved,\n",
      "Airbnb.wav are files in path that were not moved,\n",
      "Airbnbau.wav are files in path that were not moved,\n",
      "AIspark.mp3 are files in path that were not moved,\n",
      "AIsparknormalize.mp3 are files in path that were not moved,\n",
      "amcharts_5.2.45.zip are files in path that were not moved,\n",
      "Anaconda3-2022.10-Windows-x86_64 (1).exe are files in path that were not moved,\n",
      "Apocolypse Food Prep - Bins Lists Tutorial.xlsx are files in path that were not moved,\n",
      "Apocolypse Food Prep - Conditional Formatting Tutorial.xlsx are files in path that were not moved,\n",
      "Apocolypse Food Prep - DAX Tutorial.xlsx are files in path that were not moved,\n",
      "Apocolypse Food Prep - Drill Down Tutorial.xlsx are files in path that were not moved,\n",
      "Apocolypse Food Prep - Power Query Editor Tutorial.xlsx are files in path that were not moved,\n",
      "Apocolypse Food Prep - Relationship Tutorial.xlsx are files in path that were not moved,\n",
      "Apocolypse Food Prep - Visualizations Tutorial.xlsx are files in path that were not moved,\n",
      "Apocolypse Food Prep.xlsx are files in path that were not moved,\n",
      "archive are files in path that were not moved,\n",
      "archive.zip are files in path that were not moved,\n",
      "Automate the Boring Stuff with Python, 2nd Edition (Al Sweigart) (z-lib.org).pdf are files in path that were not moved,\n",
      "BI full project.pbix are files in path that were not moved,\n",
      "BingImageCreator_Hero_16x9-1536x864 (1) (1).jpg are files in path that were not moved,\n",
      "BingImageCreator_Hero_16x9-1536x864 (1).jpg are files in path that were not moved,\n",
      "BingImageCreator_Hero_16x9-1536x864-_1_.webp are files in path that were not moved,\n",
      "BingImageCreator_Hero_16x9-1536x864.jpg are files in path that were not moved,\n",
      "BingWallpaper.jpg are files in path that were not moved,\n",
      "Bins&Lists.pbix are files in path that were not moved,\n",
      "Blockbuster Sales Letters.pdf are files in path that were not moved,\n",
      "Book (5).xlsx are files in path that were not moved,\n",
      "cocacola.wav are files in path that were not moved,\n",
      "cocacolaau.wav are files in path that were not moved,\n",
      "code3 are files in path that were not moved,\n",
      "Conditional Formatting Excel Tutorial File.xlsx are files in path that were not moved,\n",
      "Conditionalformating.pbix are files in path that were not moved,\n",
      "Confessions of an Advertising Man by David Ogilvy.pdf are files in path that were not moved,\n",
      "Copyblogger-How-to-Write-Magnetic-Headlines.pdf are files in path that were not moved,\n",
      "CovidDeaths.xlsx are files in path that were not moved,\n",
      "CovidVaccinations.xlsx are files in path that were not moved,\n",
      "credits.csv are files in path that were not moved,\n",
      "csv files are files in path that were not moved,\n",
      "CustomerSatisfactionCaseStudyFINAL.pdf are files in path that were not moved,\n",
      "customersatisfactionMSIFastFoward2010Series.pdf are files in path that were not moved,\n",
      "Data Cleaning Excel Tutorial.xlsx are files in path that were not moved,\n",
      "DaVinci_Resolve_18.0.4_Windows are files in path that were not moved,\n",
      "DAX in Power BI.pbix are files in path that were not moved,\n",
      "Descript Setup 60.1.2-release.20230328.1.exe are files in path that were not moved,\n",
      "desktop.ini are files in path that were not moved,\n",
      "diff (Perfect).debackup are files in path that were not moved,\n",
      "difflatest310323.mp3 are files in path that were not moved,\n",
      "difftnew.mp4 are files in path that were not moved,\n",
      "difftnew.wav are files in path that were not moved,\n",
      "diffWITAUDONENOTCH.wav are files in path that were not moved,\n",
      "diffWITHAUD2NOTCH.wav are files in path that were not moved,\n",
      "diffWITHAUD3NOTCH.wav are files in path that were not moved,\n",
      "diffWITHAUDCITYONLYLIMITER.wav are files in path that were not moved,\n",
      "diffWITHOUTAUD.wav are files in path that were not moved,\n",
      "directory.csv are files in path that were not moved,\n",
      "directory.csv (1).zip are files in path that were not moved,\n",
      "directory.csv.zip are files in path that were not moved,\n",
      "DiscordSetup.exe are files in path that were not moved,\n",
      "DOC-20220823-WA0140_ (1) are files in path that were not moved,\n",
      "Documents - Shortcut.lnk are files in path that were not moved,\n",
      "download (1).jpg are files in path that were not moved,\n",
      "download.jpg are files in path that were not moved,\n",
      "download.png are files in path that were not moved,\n",
      "Drill.pbix are files in path that were not moved,\n",
      "Evernote-10.52.8-win-ddl-ga-3911-111c1a8a34-setup.exe are files in path that were not moved,\n",
      "Excel Charts Tutorial File.xlsx are files in path that were not moved,\n",
      "Excel Project Dataset.xlsx are files in path that were not moved,\n",
      "Explain-Decorator-Functionality (1).png are files in path that were not moved,\n",
      "Explain-Decorator-Functionality.png are files in path that were not moved,\n",
      "Facebookbanner.png are files in path that were not moved,\n",
      "favicon_io (1) are files in path that were not moved,\n",
      "favicon_io (1).zip are files in path that were not moved,\n",
      "favicon_io.zip are files in path that were not moved,\n",
      "Feedify-Free-Version-1.0 are files in path that were not moved,\n",
      "Firefox Installer.exe are files in path that were not moved,\n",
      "first-steps-with-python.pdf are files in path that were not moved,\n",
      "flags.csv are files in path that were not moved,\n",
      "fontawesome-free-5.15.4-web.zip are files in path that were not moved,\n",
      "Formula Excel Template.xlsx are files in path that were not moved,\n",
      "Freebify v1.3 Pro.rar are files in path that were not moved,\n",
      "Freebify-Free-XML.xml are files in path that were not moved,\n",
      "FrMf7uqaAAA-dFo (1).jpg are files in path that were not moved,\n",
      "FrMf7uqaAAA-dFo.jpg are files in path that were not moved,\n",
      "Fso8albacAEH31p (1).jpg are files in path that were not moved,\n",
      "Fso8cUtaAAAX8b7 (1).jpg are files in path that were not moved,\n",
      "Fso8dmoaYAA2M-X (1).jpg are files in path that were not moved,\n",
      "Fso8ewSakAEpvqM (1).jpg are files in path that were not moved,\n",
      "Fso8gpjaQAEvged (1).jpg are files in path that were not moved,\n",
      "Fso8YgNaYAEQ6iO.jpg are files in path that were not moved,\n",
      "gpt4 (1).jpg are files in path that were not moved,\n",
      "gpt4.jpg are files in path that were not moved,\n",
      "gpt4.mp3 are files in path that were not moved,\n",
      "GrammarlyInstaller.c0000059dGyjmwJkS4dC.exe are files in path that were not moved,\n",
      "GreatMag.zip are files in path that were not moved,\n",
      "HAI_AI-Index-Report_2023.pdf are files in path that were not moved,\n",
      "Hangman-DataFlair.zip are files in path that were not moved,\n",
      "image files are files in path that were not moved,\n",
      "Insta.png are files in path that were not moved,\n",
      "Learning the Pandas Library Python Tools for Data Munging, Analysis, and Visual (Matt Harrison Michael Prentiss) (z-lib.org).pdf are files in path that were not moved,\n",
      "Loom Setup 0.154.3.exe are files in path that were not moved,\n",
      "Madrona_AI_Models_Market_Map_2023_web_Logo-V4-1.png are files in path that were not moved,\n",
      "magicmic_setup-com_filme.exe are files in path that were not moved,\n",
      "Magnetic Sales Letters.pdf are files in path that were not moved,\n",
      "main-qimg-058cf8b7a717d13eeb1990a0f6905062-pjlq.jpeg are files in path that were not moved,\n",
      "markgo_setup_x64-com_filme.exe are files in path that were not moved,\n",
      "masking-effect.png are files in path that were not moved,\n",
      "masking-effect.webp are files in path that were not moved,\n",
      "Microsoft.DataTools.IntegrationServices.exe are files in path that were not moved,\n",
      "mysql-workbench-community-8.0.31-winx64.msi are files in path that were not moved,\n",
      "Nashville Housing Data for Data Cleaning.xlsx are files in path that were not moved,\n",
      "nikefull.mp4 are files in path that were not moved,\n",
      "Notion Setup 2.0.39.exe are files in path that were not moved,\n",
      "nvidia.wav are files in path that were not moved,\n",
      "OpenShot-v3.0.0-x86_64.exe are files in path that were not moved,\n",
      "Partical_Project_011 (1).mov are files in path that were not moved,\n",
      "Partical_Project_011.mov are files in path that were not moved,\n",
      "pexels-designecologist-1779487.jpg are files in path that were not moved,\n",
      "pexels-luis-quintero-3611031-1920x1080-24fps.mp4 are files in path that were not moved,\n",
      "pexels-luis-quintero-4990247-1920x1080-30fps.mp4 are files in path that were not moved,\n",
      "Poe by Quora _ Discover AI use cases.html are files in path that were not moved,\n",
      "Poe by Quora _ Discover AI use cases_files are files in path that were not moved,\n",
      "PopSQL-Setup-1.0.84.exe are files in path that were not moved,\n",
      "Popular Visulization.pbix are files in path that were not moved,\n",
      "Power BI - Final Project.xlsx are files in path that were not moved,\n",
      "PowerBI1st Tutorial.pbix are files in path that were not moved,\n",
      "Projectfile.pbix are files in path that were not moved,\n",
      "Purple Pink Gradient FAQ Q&A Instagram Post.png are files in path that were not moved,\n",
      "Python Automation Cookbook 75 Python automation ideas for web scraping, data wrangling, and processing Excel, reports, emails,... (Jaime Buelta) (z-lib.org).pdf are files in path that were not moved,\n",
      "Python by Example Learning to Program in 150 Challenges [truePDF] by Nichola Lacey (z-lib.org).pdf are files in path that were not moved,\n",
      "python-3.11.2-amd64.exe are files in path that were not moved,\n",
      "Python-Automation-Cookbook-Second-Edition-master.zip are files in path that were not moved,\n",
      "Sales.csv are files in path that were not moved,\n",
      "Sales.csv.zip are files in path that were not moved,\n",
      "Screenshot-18-1-2_shpzhd.webp are files in path that were not moved,\n",
      "Screenshot_20230331_083706_Instagram.jpg are files in path that were not moved,\n",
      "Screenshot_20230401_132641_Twitter (1).jpg are files in path that were not moved,\n",
      "Screenshot_20230401_132641_Twitter (2).jpg are files in path that were not moved,\n",
      "Screenshot_20230401_132641_Twitter (3).jpg are files in path that were not moved,\n",
      "Screenshot_20230401_132641_Twitter.jpg are files in path that were not moved,\n",
      "shotcut-win64-221221.exe are files in path that were not moved,\n",
      "SpotiFlyer-3.6.3.msi are files in path that were not moved,\n",
      "SQL2022-SSEI-Expr (1).exe are files in path that were not moved,\n",
      "sqlite-dll-win64-x64-3390400 are files in path that were not moved,\n",
      "SQLServerReportingServices.exe are files in path that were not moved,\n",
      "SSMS-Setup-ENU (1).exe are files in path that were not moved,\n",
      "stock-footage-abstract-luxury-background-with-golden-lines-on-black-background-gold-polygonal-random-network.webm are files in path that were not moved,\n",
      "Tableau Full Project.xlsx are files in path that were not moved,\n",
      "Tableau Full Project.xlsx.zip are files in path that were not moved,\n",
      "Tableau Joins File.xlsx are files in path that were not moved,\n",
      "TableauPublicDesktop-64bit-2023-1-0.exe are files in path that were not moved,\n",
      "text files are files in path that were not moved,\n",
      "titles.csv are files in path that were not moved,\n",
      "TrialDes.wav are files in path that were not moved,\n",
      "twitter_20230323_150902.mp4 are files in path that were not moved,\n",
      "twitter_20230323_150919.mp4 are files in path that were not moved,\n",
      "twitter_20230323_150959.mp4 are files in path that were not moved,\n",
      "twitter_20230323_151029.mp4 are files in path that were not moved,\n",
      "uivision-xmodules-setup-v2022a.exe are files in path that were not moved,\n",
      "Unconfirmed 684723.crdownload are files in path that were not moved,\n",
      "Unconfirmed 934144.crdownload are files in path that were not moved,\n",
      "VdejI_g5_400x400.jpg are files in path that were not moved,\n",
      "VdhCoAppSetup-1.6.3.exe are files in path that were not moved,\n",
      "vgsales.csv are files in path that were not moved,\n",
      "vgsales.csv.zip are files in path that were not moved,\n",
      "video (1).mp4 are files in path that were not moved,\n",
      "video (2).mp4 are files in path that were not moved,\n",
      "video (3).mp4 are files in path that were not moved,\n",
      "video (4).mp4 are files in path that were not moved,\n",
      "video (5).mp4 are files in path that were not moved,\n",
      "video (6).mp4 are files in path that were not moved,\n",
      "video (7).mp4 are files in path that were not moved,\n",
      "video (8).mp4 are files in path that were not moved,\n",
      "video.mp4 are files in path that were not moved,\n",
      "video_editor_x64.exe are files in path that were not moved,\n",
      "WebBrowsingOptimizer.exe are files in path that were not moved,\n",
      "winrar-x64-620.exe are files in path that were not moved,\n",
      "XLOOKUP Excel Tutorial File.xlsx are files in path that were not moved,\n"
     ]
    }
   ],
   "source": [
    "for file in file_name:\n",
    "    if \".csv\" in file and not os.path.exists(path + \"csv files/\" + file):\n",
    "        shutil.move(path + file, path + \"csv files/\" + file)\n",
    "    elif \".png\" in file and not os.path.exists(path + \"image files/\" + file):\n",
    "        shutil.move(path + file, path + \"image files/\" + file)\n",
    "    elif \".jpg\" in file and not os.path.exists(path + \"image files/\" + file):\n",
    "        shutil.move(path + file, path + \"image files/\" + file)\n",
    "    elif \".pdf\" in file and not os.path.exists(path + \"text files/\" + file):\n",
    "        shutil.move(path + file, path + \"text files/\" + file)\n",
    "    elif \".txt\" in file and not os.path.exists(path + \"text files/\" + file):\n",
    "        shutil.move(path + file, path + \"text files/\" + file)\n",
    "    elif \".xlxs\" in file and not os.path.exists(path + \"text files/\" + file):\n",
    "        shutil.move(path + file, path + \"text files/\" + file)\n",
    "    else:\n",
    "        print(file,\"are files in path that were not moved,\")"
   ]
  },
  {
   "cell_type": "markdown",
   "id": "5f76e9ea",
   "metadata": {},
   "source": [
    "Final code"
   ]
  },
  {
   "cell_type": "code",
   "execution_count": 1,
   "id": "dde06ec9",
   "metadata": {
    "scrolled": true
   },
   "outputs": [
    {
     "name": "stdout",
     "output_type": "stream",
     "text": [
      "(1) Adam D'Angelo on Twitter_ _Subscriptions are available in most countries worldwide immediately, but we will be working to expand the set of countries further going forward._ _ Twitter.html are files in path that were not moved,\n",
      "(1) Adam D'Angelo on Twitter_ _Subscriptions are available in most countries worldwide immediately, but we will be working to expand the set of countries further going forward._ _ Twitter_files are files in path that were not moved,\n",
      "00-Master.ppt are files in path that were not moved,\n",
      "20230322_112037.mp4 are files in path that were not moved,\n",
      "6dbDES.wav are files in path that were not moved,\n",
      "6dbDESAUD.wav are files in path that were not moved,\n",
      "Abhishekh Mapping.xlsx are files in path that were not moved,\n",
      "Abstract_black_liquid_wave_background__Luxurious_design_of_elegant_curves_black_material__Animation_4K (1).mp4 are files in path that were not moved,\n",
      "Abstract_black_liquid_wave_background__Luxurious_design_of_elegant_curves_black_material__Animation_4K.mp4 are files in path that were not moved,\n",
      "Abstract_black_liquid_wave_background__Luxurious_design_of_elegant_curves_black_material__Animation_4K_3.mp4 are files in path that were not moved,\n",
      "AccessDatabaseEngine.exe are files in path that were not moved,\n",
      "AIhyp-3 (1).webp are files in path that were not moved,\n",
      "Airbnb.wav are files in path that were not moved,\n",
      "Airbnbau.wav are files in path that were not moved,\n",
      "AIspark.mp3 are files in path that were not moved,\n",
      "AIsparknormalize.mp3 are files in path that were not moved,\n",
      "amcharts_5.2.45.zip are files in path that were not moved,\n",
      "Anaconda3-2022.10-Windows-x86_64 (1).exe are files in path that were not moved,\n",
      "Apocolypse Food Prep - Bins Lists Tutorial.xlsx are files in path that were not moved,\n",
      "Apocolypse Food Prep - Conditional Formatting Tutorial.xlsx are files in path that were not moved,\n",
      "Apocolypse Food Prep - DAX Tutorial.xlsx are files in path that were not moved,\n",
      "Apocolypse Food Prep - Drill Down Tutorial.xlsx are files in path that were not moved,\n",
      "Apocolypse Food Prep - Power Query Editor Tutorial.xlsx are files in path that were not moved,\n",
      "Apocolypse Food Prep - Relationship Tutorial.xlsx are files in path that were not moved,\n",
      "Apocolypse Food Prep - Visualizations Tutorial.xlsx are files in path that were not moved,\n",
      "Apocolypse Food Prep.xlsx are files in path that were not moved,\n",
      "archive are files in path that were not moved,\n",
      "archive.zip are files in path that were not moved,\n",
      "BI full project.pbix are files in path that were not moved,\n",
      "BingImageCreator_Hero_16x9-1536x864-_1_.webp are files in path that were not moved,\n",
      "Bins&Lists.pbix are files in path that were not moved,\n",
      "Book (5).xlsx are files in path that were not moved,\n",
      "cocacola.wav are files in path that were not moved,\n",
      "cocacolaau.wav are files in path that were not moved,\n",
      "code3 are files in path that were not moved,\n",
      "Conditional Formatting Excel Tutorial File.xlsx are files in path that were not moved,\n",
      "Conditionalformating.pbix are files in path that were not moved,\n",
      "CovidDeaths.xlsx are files in path that were not moved,\n",
      "CovidVaccinations.xlsx are files in path that were not moved,\n",
      "csv files are files in path that were not moved,\n",
      "Data Cleaning Excel Tutorial.xlsx are files in path that were not moved,\n",
      "DaVinci_Resolve_18.0.4_Windows are files in path that were not moved,\n",
      "DAX in Power BI.pbix are files in path that were not moved,\n",
      "Descript Setup 60.1.2-release.20230328.1.exe are files in path that were not moved,\n",
      "desktop.ini are files in path that were not moved,\n",
      "diff (Perfect).debackup are files in path that were not moved,\n",
      "difflatest310323.mp3 are files in path that were not moved,\n",
      "difftnew.mp4 are files in path that were not moved,\n",
      "difftnew.wav are files in path that were not moved,\n",
      "diffWITAUDONENOTCH.wav are files in path that were not moved,\n",
      "diffWITHAUD2NOTCH.wav are files in path that were not moved,\n",
      "diffWITHAUD3NOTCH.wav are files in path that were not moved,\n",
      "diffWITHAUDCITYONLYLIMITER.wav are files in path that were not moved,\n",
      "diffWITHOUTAUD.wav are files in path that were not moved,\n",
      "DiscordSetup.exe are files in path that were not moved,\n",
      "DOC-20220823-WA0140_ (1) are files in path that were not moved,\n",
      "Documents - Shortcut.lnk are files in path that were not moved,\n",
      "Drill.pbix are files in path that were not moved,\n",
      "Evernote-10.52.8-win-ddl-ga-3911-111c1a8a34-setup.exe are files in path that were not moved,\n",
      "Excel Charts Tutorial File.xlsx are files in path that were not moved,\n",
      "Excel Project Dataset.xlsx are files in path that were not moved,\n",
      "favicon_io (1) are files in path that were not moved,\n",
      "favicon_io (1).zip are files in path that were not moved,\n",
      "favicon_io.zip are files in path that were not moved,\n",
      "Feedify-Free-Version-1.0 are files in path that were not moved,\n",
      "Firefox Installer.exe are files in path that were not moved,\n",
      "fontawesome-free-5.15.4-web.zip are files in path that were not moved,\n",
      "Formula Excel Template.xlsx are files in path that were not moved,\n",
      "Freebify v1.3 Pro.rar are files in path that were not moved,\n",
      "Freebify-Free-XML.xml are files in path that were not moved,\n",
      "gpt4.mp3 are files in path that were not moved,\n",
      "GrammarlyInstaller.c0000059dGyjmwJkS4dC.exe are files in path that were not moved,\n",
      "GreatMag.zip are files in path that were not moved,\n",
      "Hangman-DataFlair.zip are files in path that were not moved,\n",
      "image files are files in path that were not moved,\n",
      "Loom Setup 0.154.3.exe are files in path that were not moved,\n",
      "magicmic_setup-com_filme.exe are files in path that were not moved,\n",
      "main-qimg-058cf8b7a717d13eeb1990a0f6905062-pjlq.jpeg are files in path that were not moved,\n",
      "markgo_setup_x64-com_filme.exe are files in path that were not moved,\n",
      "masking-effect.webp are files in path that were not moved,\n",
      "Microsoft.DataTools.IntegrationServices.exe are files in path that were not moved,\n",
      "mysql-workbench-community-8.0.31-winx64.msi are files in path that were not moved,\n",
      "Nashville Housing Data for Data Cleaning.xlsx are files in path that were not moved,\n",
      "nikefull.mp4 are files in path that were not moved,\n",
      "Notion Setup 2.0.39.exe are files in path that were not moved,\n",
      "nvidia.wav are files in path that were not moved,\n",
      "OpenShot-v3.0.0-x86_64.exe are files in path that were not moved,\n",
      "Partical_Project_011 (1).mov are files in path that were not moved,\n",
      "Partical_Project_011.mov are files in path that were not moved,\n",
      "pexels-luis-quintero-3611031-1920x1080-24fps.mp4 are files in path that were not moved,\n",
      "pexels-luis-quintero-4990247-1920x1080-30fps.mp4 are files in path that were not moved,\n",
      "Poe by Quora _ Discover AI use cases.html are files in path that were not moved,\n",
      "Poe by Quora _ Discover AI use cases_files are files in path that were not moved,\n",
      "PopSQL-Setup-1.0.84.exe are files in path that were not moved,\n",
      "Popular Visulization.pbix are files in path that were not moved,\n",
      "Power BI - Final Project.xlsx are files in path that were not moved,\n",
      "PowerBI1st Tutorial.pbix are files in path that were not moved,\n",
      "Projectfile.pbix are files in path that were not moved,\n",
      "python-3.11.2-amd64.exe are files in path that were not moved,\n",
      "Python-Automation-Cookbook-Second-Edition-master.zip are files in path that were not moved,\n",
      "Screenshot-18-1-2_shpzhd.webp are files in path that were not moved,\n",
      "shotcut-win64-221221.exe are files in path that were not moved,\n",
      "SpotiFlyer-3.6.3.msi are files in path that were not moved,\n",
      "SQL2022-SSEI-Expr (1).exe are files in path that were not moved,\n",
      "sqlite-dll-win64-x64-3390400 are files in path that were not moved,\n",
      "SQLServerReportingServices.exe are files in path that were not moved,\n",
      "SSMS-Setup-ENU (1).exe are files in path that were not moved,\n",
      "stock-footage-abstract-luxury-background-with-golden-lines-on-black-background-gold-polygonal-random-network.webm are files in path that were not moved,\n",
      "Tableau Full Project.xlsx are files in path that were not moved,\n",
      "Tableau Full Project.xlsx.zip are files in path that were not moved,\n",
      "Tableau Joins File.xlsx are files in path that were not moved,\n",
      "TableauPublicDesktop-64bit-2023-1-0.exe are files in path that were not moved,\n",
      "text files are files in path that were not moved,\n",
      "TrialDes.wav are files in path that were not moved,\n",
      "twitter_20230323_150902.mp4 are files in path that were not moved,\n",
      "twitter_20230323_150919.mp4 are files in path that were not moved,\n",
      "twitter_20230323_150959.mp4 are files in path that were not moved,\n",
      "twitter_20230323_151029.mp4 are files in path that were not moved,\n",
      "uivision-xmodules-setup-v2022a.exe are files in path that were not moved,\n",
      "Unconfirmed 684723.crdownload are files in path that were not moved,\n",
      "Unconfirmed 934144.crdownload are files in path that were not moved,\n",
      "VdhCoAppSetup-1.6.3.exe are files in path that were not moved,\n",
      "video (1).mp4 are files in path that were not moved,\n",
      "video (2).mp4 are files in path that were not moved,\n",
      "video (3).mp4 are files in path that were not moved,\n",
      "video (4).mp4 are files in path that were not moved,\n",
      "video (5).mp4 are files in path that were not moved,\n",
      "video (6).mp4 are files in path that were not moved,\n",
      "video (7).mp4 are files in path that were not moved,\n",
      "video (8).mp4 are files in path that were not moved,\n",
      "video.mp4 are files in path that were not moved,\n",
      "video_editor_x64.exe are files in path that were not moved,\n",
      "WebBrowsingOptimizer.exe are files in path that were not moved,\n",
      "winrar-x64-620.exe are files in path that were not moved,\n",
      "XLOOKUP Excel Tutorial File.xlsx are files in path that were not moved,\n"
     ]
    }
   ],
   "source": [
    "import os\n",
    "import shutil\n",
    "path = r\"C:/Users/admin/Downloads/\"\n",
    "file_name = os.listdir(path)\n",
    "folder_name = [\"csv files\", \"image files\", \"text files\"]\n",
    "for folder in range(0,3):\n",
    "    if not os.path.exists(path + folder_name[folder]):\n",
    "        print.makedirs(path + folder_names[folder])\n",
    "        os.makedirs(path + folder_name[folder])\n",
    "        \n",
    "for file in file_name:\n",
    "    if \".csv\" in file and not os.path.exists(path + \"csv files/\" + file):\n",
    "        shutil.move(path + file, path + \"csv files/\" + file)\n",
    "    elif \".png\" in file and not os.path.exists(path + \"image files/\" + file):\n",
    "        shutil.move(path + file, path + \"image files/\" + file)\n",
    "    elif \".jpg\" in file and not os.path.exists(path + \"image files/\" + file):\n",
    "        shutil.move(path + file, path + \"image files/\" + file)\n",
    "    elif \".pdf\" in file and not os.path.exists(path + \"text files/\" + file):\n",
    "        shutil.move(path + file, path + \"text files/\" + file)\n",
    "    elif \".txt\" in file and not os.path.exists(path + \"text files/\" + file):\n",
    "        shutil.move(path + file, path + \"text files/\" + file)\n",
    "    else:\n",
    "        print(file,\"are files in path that were not moved,\")        "
   ]
  },
  {
   "cell_type": "markdown",
   "id": "454dce6c",
   "metadata": {},
   "source": []
  },
  {
   "cell_type": "markdown",
   "id": "12931bba",
   "metadata": {},
   "source": []
  },
  {
   "cell_type": "markdown",
   "id": "7b12190c",
   "metadata": {},
   "source": []
  },
  {
   "cell_type": "code",
   "execution_count": null,
   "id": "c9d3229c",
   "metadata": {},
   "outputs": [],
   "source": []
  },
  {
   "cell_type": "code",
   "execution_count": null,
   "id": "17d20ae6",
   "metadata": {},
   "outputs": [],
   "source": []
  },
  {
   "cell_type": "code",
   "execution_count": null,
   "id": "9b25ce80",
   "metadata": {},
   "outputs": [],
   "source": []
  },
  {
   "cell_type": "markdown",
   "id": "eb4d5b90",
   "metadata": {},
   "source": [
    "# Lecture 11 Amazon web scraping project"
   ]
  },
  {
   "cell_type": "code",
   "execution_count": 1,
   "id": "7e295dfc",
   "metadata": {},
   "outputs": [],
   "source": [
    "#import library\n",
    "from bs4 import BeautifulSoup\n",
    "import requests\n",
    "import time\n",
    "import datetime\n",
    "import smtplib"
   ]
  },
  {
   "cell_type": "code",
   "execution_count": 2,
   "id": "a281d47e",
   "metadata": {},
   "outputs": [
    {
     "name": "stdout",
     "output_type": "stream",
     "text": [
      "\n",
      "              Under Armour Women's Charged Assert 9 Running Shoe\n",
      "             \n",
      "\n",
      "                   $37.97\n",
      "                  \n",
      "\n",
      "                   4.6\n",
      "                  \n"
     ]
    }
   ],
   "source": [
    "# Connect to website\n",
    "URL = 'https://www.amazon.com/Under-Armour-Charged-Assert-Running/dp/B087YYNBFB/ref=sr_1_15?crid=2WY3XNZDOFU21&keywords=funky+shoes+for+men&qid=1682761985&sprefix=funky+shoesfor+%2Caps%2C2500&sr=8-15'\n",
    "\n",
    "head_ers = {\"User-Agent\": \"Mozilla/5.0 (Windows NT 10.0; Win64; x64) AppleWebKit/537.36 (KHTML, like Gecko) Chrome/78.0.3904.108 Safari/537.36\", \"Accept-Encoding\":\"gzip, deflate\", \"Accept\":\"text/html,application/xhtml+xml,application/xml;q=0.9,*/*;q=0.8\", \"DNT\":\"1\",\"Connection\":\"close\", \"Upgrade-Insecure-Requests\":\"1\"}\n",
    "\n",
    "page = requests.get(URL, headers = head_ers)\n",
    "\n",
    "soup_ = BeautifulSoup(page.content, \"html.parser\")\n",
    "\n",
    "soup = BeautifulSoup(soup_.prettify(),\"html.parser\")\n",
    "\n",
    "title = soup.find('span',{'id':'productTitle'}).get_text() #,text\n",
    "# title = soup.find(id = 'productTitle').get_text() #,text\n",
    "\n",
    "\n",
    "#price_ = soup.find('span', attrs={'aria-hidden': 'true'})\n",
    "\n",
    "price = soup.find('span', {'class': 'a-offscreen'}).get_text()\n",
    "\n",
    "review = soup.find('span', {'class' :'a-size-base a-color-base'}).get_text()\n",
    "print(title)\n",
    "print(price)\n",
    "print(review)\n"
   ]
  },
  {
   "cell_type": "code",
   "execution_count": 4,
   "id": "acb21e02",
   "metadata": {},
   "outputs": [
    {
     "name": "stdout",
     "output_type": "stream",
     "text": [
      "Under Armour Men's Charged Assert 9 Running Shoe\n",
      "37.97\n",
      "(4.6)\n"
     ]
    }
   ],
   "source": [
    "price = price.strip()[1:]\n",
    "title = title.strip()\n",
    "review = review.strip()\n",
    "print(title)\n",
    "print(price)\n",
    "print(review)"
   ]
  },
  {
   "cell_type": "code",
   "execution_count": 5,
   "id": "7b1a365f",
   "metadata": {},
   "outputs": [],
   "source": [
    "import csv\n",
    "header = ['Title', 'Price', 'Review']\n",
    "data = [title, price, review]\n",
    "with open('AmazonWebScrapperDataset.csv', 'w', newline=\"\", encoding = \"UTF8\") as file:\n",
    "    writer = csv.writer(file)\n",
    "    writer.writerow(header)\n",
    "    writer.writerow(data)\n",
    "    \n"
   ]
  },
  {
   "cell_type": "code",
   "execution_count": 6,
   "id": "2b299630",
   "metadata": {},
   "outputs": [
    {
     "name": "stdout",
     "output_type": "stream",
     "text": [
      "2023-05-01\n"
     ]
    }
   ],
   "source": [
    "#import date time module\n",
    "import datetime \n",
    "today = datetime.date.today()\n",
    "print(today)"
   ]
  },
  {
   "cell_type": "code",
   "execution_count": 7,
   "id": "b57e9178",
   "metadata": {},
   "outputs": [
    {
     "name": "stdout",
     "output_type": "stream",
     "text": [
      "                                              Title  Price Review\n",
      "0  Under Armour Men's Charged Assert 9 Running Shoe  37.97  (4.6)\n"
     ]
    }
   ],
   "source": [
    "#Import pandas modle\n",
    "import pandas as pd\n",
    "dataframe = pd.read_csv(r\"C:\\Users\\admin\\AmazonWebScrapperDataset.csv\")\n",
    "print(dataframe)"
   ]
  },
  {
   "cell_type": "code",
   "execution_count": 8,
   "id": "7ffa6329",
   "metadata": {},
   "outputs": [],
   "source": [
    "#Now we are appending data to csv\n",
    "import csv\n",
    "with open('AmazonWebScrapperDataset.csv', 'w', newline='', encoding = \"UTF8\") as file:\n",
    "    writer = csv.writer(file)\n",
    "    writer.writerow(data)"
   ]
  },
  {
   "cell_type": "code",
   "execution_count": 9,
   "id": "232a9676",
   "metadata": {},
   "outputs": [],
   "source": [
    "# Now we are appending data to csv\n",
    "with open('AmazonWebScraperDataset.csv', mode='a+', newline='', encoding='UTF8') as file:\n",
    "    writer = csv.writer(file)\n",
    "    writer.writerow(data)"
   ]
  },
  {
   "cell_type": "code",
   "execution_count": 14,
   "id": "ff942b61",
   "metadata": {},
   "outputs": [],
   "source": [
    "from bs4 import BeautifulSoup\n",
    "import requests\n",
    "import time\n",
    "import datetime\n",
    "import smtplib\n",
    "import csv\n",
    "\n",
    "def check_price():\n",
    "    # Connect to website\n",
    "    URL = 'https://www.amazon.com/Under-Armour-Charged-Assert-Running/dp/B087YYNBFB/ref=sr_1_15?crid=2WY3XNZDOFU21&keywords=funky+shoes+for+men&qid=1682761985&sprefix=funky+shoesfor+%2Caps%2C2500&sr=8-15'\n",
    "\n",
    "    head_ers = {\"User-Agent\": \"Mozilla/5.0 (Windows NT 10.0; Win64; x64) AppleWebKit/537.36 (KHTML, like Gecko) Chrome/78.0.3904.108 Safari/537.36\", \"Accept-Encoding\":\"gzip, deflate\", \"Accept\":\"text/html,application/xhtml+xml,application/xml;q=0.9,*/*;q=0.8\", \"DNT\":\"1\",\"Connection\":\"close\", \"Upgrade-Insecure-Requests\":\"1\"}\n",
    "\n",
    "    page = requests.get(URL, headers = head_ers)\n",
    "\n",
    "    soup_ = BeautifulSoup(page.content, \"html.parser\")\n",
    "\n",
    "    soup = BeautifulSoup(soup_.prettify(),\"html.parser\")\n",
    "\n",
    "    title = soup.find('span',{'id':'productTitle'}).get_text()\n",
    "    #price_ = soup.find('span', attrs={'aria-hidden': 'true'})\n",
    "\n",
    "    price = soup.find('span', {'class': 'a-offscreen'}).get_text()\n",
    "\n",
    "    review = soup.find('span', {'class' :'a-size-base a-color-base'}).get_text()\n",
    "\n",
    "    price = price.strip()[1:]    \n",
    "    title = title.strip()    \n",
    "    review = review.strip()\n",
    "    import datetime\n",
    "    import csv\n",
    "    header = ['Title', 'Price', 'Review']\n",
    "    data = [title, price, review]\n",
    "    with open('AmazonWebScrapperDataset.csv', 'a+', newline='', encoding = \"UTF8\") as file:\n",
    "        writer = csv.writer(file)    \n",
    "        writer.writerow(data)\n",
    "    "
   ]
  },
  {
   "cell_type": "code",
   "execution_count": null,
   "id": "282aeaee",
   "metadata": {},
   "outputs": [],
   "source": [
    "while(True):\n",
    "    check_price()\n",
    "    time.sleep(5)"
   ]
  },
  {
   "cell_type": "code",
   "execution_count": 24,
   "id": "18ef836d",
   "metadata": {},
   "outputs": [
    {
     "name": "stdout",
     "output_type": "stream",
     "text": [
      "Empty DataFrame\n",
      "Columns: [Under Armour Men's Charged Assert 9 Running Shoe, 7.97, 4.6]\n",
      "Index: []\n"
     ]
    }
   ],
   "source": [
    "#Import pandas modle\n",
    "import pandas as pd\n",
    "dataframe = pd.read_csv(r\"C:\\Users\\admin\\AmazonWebScrapperDataset.csv\")\n",
    "print(dataframe)"
   ]
  },
  {
   "cell_type": "code",
   "execution_count": null,
   "id": "c407f5d3",
   "metadata": {},
   "outputs": [],
   "source": [
    "#sending email on price falctuation\n",
    "from bs4 import BeautifulSoup\n",
    "import requests\n",
    "import time\n",
    "import datetime\n",
    "import smtplib\n",
    "import csv\n",
    "\n",
    "def check_price():\n",
    "    # Connect to website\n",
    "    URL = 'https://www.amazon.com/Under-Armour-Charged-Assert-Running/dp/B087YYNBFB/ref=sr_1_15?crid=2WY3XNZDOFU21&keywords=funky+shoes+for+men&qid=1682761985&sprefix=funky+shoesfor+%2Caps%2C2500&sr=8-15'\n",
    "\n",
    "    head_ers = {\"User-Agent\": \"Mozilla/5.0 (Windows NT 10.0; Win64; x64) AppleWebKit/537.36 (KHTML, like Gecko) Chrome/78.0.3904.108 Safari/537.36\", \"Accept-Encoding\":\"gzip, deflate\", \"Accept\":\"text/html,application/xhtml+xml,application/xml;q=0.9,*/*;q=0.8\", \"DNT\":\"1\",\"Connection\":\"close\", \"Upgrade-Insecure-Requests\":\"1\"}\n",
    "\n",
    "    page = requests.get(URL, headers = head_ers)\n",
    "\n",
    "    soup_ = BeautifulSoup(page.content, \"html.parser\")\n",
    "\n",
    "    soup = BeautifulSoup(soup_.prettify(),\"html.parser\")\n",
    "\n",
    "    title = soup.find(id =\"title\").get_text() #,text\n",
    "\n",
    "    #price_ = soup.find('span', attrs={'aria-hidden': 'true'})\n",
    "\n",
    "    price = soup.find('span', {'class': 'a-offscreen'}).get_text()\n",
    "\n",
    "    review = soup.find('span', {'class' :'a-size-base a-color-base'}).get_text()\n",
    "\n",
    "    price = price.strip()[1:]    \n",
    "    title = title.strip()    \n",
    "    review = review.strip()\n",
    "    header = ['Title', 'Price', 'Review']\n",
    "    data = [title, price, review]\n",
    "    with open('AmazonWebScrapperDataset.csv', 'a+', newline='', encoding = \"UTF8\") as file:\n",
    "        writer = csv.writer(file)    \n",
    "        writer.writerow(data)\n",
    "    if price =< 6:\n",
    "        send_email() "
   ]
  },
  {
   "cell_type": "code",
   "execution_count": null,
   "id": "a416cde7",
   "metadata": {},
   "outputs": [],
   "source": [
    "while(True):\n",
    "    check_price()\n",
    "    time.sleep(5)\n"
   ]
  },
  {
   "cell_type": "code",
   "execution_count": 40,
   "id": "5a1a659d",
   "metadata": {},
   "outputs": [],
   "source": [
    "#sendind email\n",
    "# If uou want to try sending yourself an email (just for fun) when a price hits below a certain level you can try it\n",
    "# out with this script\n",
    "\n",
    "def send_mail():\n",
    "    server = smtplib.SMTP_SSL('smtp.gmail.com',465)\n",
    "    server.ehlo()\n",
    "    #server.starttls()\n",
    "    server.ehlo()\n",
    "    server.login('AlexTheAnalyst95@gmail.com','xxxxxxxxxxxxxx')\n",
    "    \n",
    "    subject = \"The Shirt you want is below $15! Now is your chance to buy!\"\n",
    "    body = \"Alex, This is the moment we have been waiting for. Now is your chance to pick up the shirt of your dreams. Don't mess it up! Link here: https://www.amazon.com/Funny-Data-Systems-Business-Analyst/dp/B07FNW9FGJ/ref=sr_1_3?dchild=1&keywords=data+analyst+tshirt&qid=1626655184&sr=8-3\"\n",
    "   \n",
    "    msg = f\"Subject: {subject}\\n\\n{body}\"\n",
    "    \n",
    "    server.sendmail(\n",
    "        'AlexTheAnalyst95@gmail.com',\n",
    "        msg\n",
    "     \n",
    "    )"
   ]
  },
  {
   "cell_type": "code",
   "execution_count": null,
   "id": "0d8f0b1e",
   "metadata": {},
   "outputs": [],
   "source": []
  },
  {
   "cell_type": "code",
   "execution_count": null,
   "id": "80f04ed7",
   "metadata": {},
   "outputs": [],
   "source": [
    "# scrap webpage link from webpage"
   ]
  },
  {
   "cell_type": "code",
   "execution_count": 25,
   "id": "bd1ee3d0",
   "metadata": {},
   "outputs": [
    {
     "name": "stdout",
     "output_type": "stream",
     "text": [
      "/ref=cs_503_logo\n",
      "/ref=cs_503_link\n",
      "/dogsofamazon/ref=cs_503_d\n"
     ]
    }
   ],
   "source": [
    "from bs4 import BeautifulSoup\n",
    "import requests\n",
    "import time\n",
    "import datetime\n",
    "import smtplib\n",
    "url = \"https://www.py4e.com/\"\n",
    "head_ers = {\"User-Agent\": \"Mozilla/5.0 (Windows NT 10.0; Win64; x64) AppleWebKit/537.36 (KHTML, like Gecko) Chrome/78.0.3904.108 Safari/537.36\", \"Accept-Encoding\":\"gzip, deflate\", \"Accept\":\"text/html,application/xhtml+xml,application/xml;q=0.9,*/*;q=0.8\", \"DNT\":\"1\",\"Connection\":\"close\", \"Upgrade-Insecure-Requests\":\"1\"}\n",
    "page = requests.get(URL, head_ers)\n",
    "soup_ = BeautifulSoup(page.content, \"html.parser\")\n",
    "links = soup_.find_all('a')\n",
    "for link in links:\n",
    "        href = link.get('href')\n",
    "        print(href)\n",
    "\n"
   ]
  },
  {
   "cell_type": "code",
   "execution_count": 26,
   "id": "a9d77b99",
   "metadata": {},
   "outputs": [
    {
     "name": "stdout",
     "output_type": "stream",
     "text": [
      "Enter - http://www.dr-chuck.com\n",
      "https://www.learnerprivacy.org/\n",
      "https://www.si.umich.edu/\n",
      "https://www.ratemyprofessors.com/ShowRatings.jsp?tid=1159280\n",
      "https://www.learnerprivacy.org\n",
      "https://www.dr-chuck.com/csev-blog/\n",
      "https://www.twitter.com/drchuck/\n",
      "https://www.dr-chuck.com/dr-chuck/resume/speaking.htm\n",
      "https://www.slideshare.net/csev\n",
      "/dr-chuck/resume/index.htm\n",
      "https://amzn.to/1K5Q81K\n",
      "https://www.coursera.org/instructor/drchuck\n",
      "http://afs.dr-chuck.com/papers/\n",
      "https://itunes.apple.com/us/podcast/computing-conversations/id731495760\n",
      "https://www.youtube.com/playlist?list=PLHJB2bhmgB7dFuY7HmrXLj5BmHGKTD-3R\n",
      "https://developers.imsglobal.org/\n",
      "https://www.youtube.com/user/csev\n",
      "https://vimeo.com/drchuck/videos\n",
      "https://backpack.openbadges.org/share/4f76699ddb399d162a00b89a452074b3/\n",
      "https://www.linkedin.com/in/charlesseverance/\n",
      "https://www.researchgate.net/profile/Charles_Severance/\n",
      "https://www.learnerprivacy.org/\n",
      "https://www.py4e.com/\n",
      "https://www.dj4e.com/\n",
      "https://www.wa4e.com/\n",
      "https://www.coursera.org/course/insidetheinternet\n",
      "https://www.sakaiproject.org/\n",
      "https://www.tsugi.org/\n",
      "https://developers.imsglobal.org/\n",
      "http://www.py4e.com/book\n",
      "/sakai-book\n",
      "http://www.amazon.com/gp/product/1624311393/ref=as_li_ss_tl?ie=UTF8&camp=1789&creative=390957&creativeASIN=1624311393&linkCode=as2&tag=drchu02-20\n",
      "http://www.amazon.com/gp/product/059680069X/ref=as_li_ss_tl?ie=UTF8&camp=1789&creative=390957&creativeASIN=059680069X&linkCode=as2&tag=drchu02-20\n",
      "http://www.amazon.com/Performance-Computing-Architectures-Optimization-Benchmarks/dp/156592312X/\n",
      "http://oreilly.com/catalog/9781565923126/\n",
      "http://cnx.org/content/col11136/latest/\n",
      "http://www.youtube.com/playlist?list=PLHJB2bhmgB7dFuY7HmrXLj5BmHGKTD-3R\n",
      "https://www.vimeo.com/17207620\n",
      "https://www.youtube.com/watch?v=BVKpW02hsrU\n",
      "https://www.youtube.com/watch?v=sa2WsgCvn7c\n",
      "https://www.vimeo.com/17213019\n",
      "https://www.youtube.com/watch?v=FJ078sO35M0\n",
      "http://afs.dr-chuck.com/citoolkit\n",
      "https://twitter.com/drchuck\n"
     ]
    }
   ],
   "source": [
    "import urllib.request, urllib.parse, urllib.error\n",
    "from bs4 import BeautifulSoup\n",
    "import ssl\n",
    "\n",
    "#Ignore SSL certficate errors\n",
    "ctx = ssl.create_default_context()\n",
    "ctx.check_hostname = False\n",
    "ctx.verify_mode = ssl.CERT_NONE\n",
    "url = input('Enter - ') #http://www.dr-chuck.com\n",
    "html = urllib.request.urlopen(url, context = ctx).read()\n",
    "soup = BeautifulSoup(html,'html.parser') # get error if you done htlm here bs4.FeatureNotFound: Couldn't find a tree builder with the features you requested: htlm.parser. Do you need to install a parser librry?\n",
    "# Retrieve all of the anchor tags\n",
    "tags = soup('a')\n",
    "for tag in tags:\n",
    "    print(tag.get('href',None))"
   ]
  },
  {
   "cell_type": "code",
   "execution_count": null,
   "id": "9dea8c1a",
   "metadata": {},
   "outputs": [],
   "source": []
  },
  {
   "cell_type": "code",
   "execution_count": null,
   "id": "8946711e",
   "metadata": {},
   "outputs": [],
   "source": []
  },
  {
   "cell_type": "code",
   "execution_count": null,
   "id": "3d4751c8",
   "metadata": {},
   "outputs": [],
   "source": []
  },
  {
   "cell_type": "code",
   "execution_count": null,
   "id": "e99a8786",
   "metadata": {},
   "outputs": [],
   "source": []
  },
  {
   "cell_type": "markdown",
   "id": "f5c45ff1",
   "metadata": {},
   "source": [
    "# Lecture 13 Automatic Crypto Website API"
   ]
  },
  {
   "cell_type": "code",
   "execution_count": 1,
   "id": "966c73ae",
   "metadata": {
    "scrolled": false
   },
   "outputs": [
    {
     "name": "stderr",
     "output_type": "stream",
     "text": [
      "IOPub data rate exceeded.\n",
      "The notebook server will temporarily stop sending output\n",
      "to the client in order to avoid crashing it.\n",
      "To change this limit, set the config variable\n",
      "`--NotebookApp.iopub_data_rate_limit`.\n",
      "\n",
      "Current values:\n",
      "NotebookApp.iopub_data_rate_limit=1000000.0 (bytes/sec)\n",
      "NotebookApp.rate_limit_window=3.0 (secs)\n",
      "\n"
     ]
    }
   ],
   "source": [
    "from requests import Request, Session\n",
    "from requests.exceptions import ConnectionError, Timeout, TooManyRedirects\n",
    "import json\n",
    "\n",
    "url = 'https://pro-api.coinmarketcap.com/v1/cryptocurrency/listings/latest'\n",
    "parameters = {\n",
    "  'start':'1',\n",
    "  'limit':'5000',\n",
    "  'convert':'USD'\n",
    "}\n",
    "headers = {\n",
    "  'Accepts': 'application/json',\n",
    "  'X-CMC_PRO_API_KEY': '761dde62-9394-45dd-83e0-27c4411900e6',\n",
    "}\n",
    "\n",
    "session = Session()\n",
    "session.headers.update(headers)\n",
    "\n",
    "try:\n",
    "  response = session.get(url, params=parameters)\n",
    "  data = json.loads(response.text)\n",
    "  print(data)\n",
    "except (ConnectionError, Timeout, TooManyRedirects) as e:\n",
    "  print(e)\n",
    "#To extend rate litmit run this \"--NotebookApp.iopub_data_rate_limit\" in anaconda prompt"
   ]
  },
  {
   "cell_type": "code",
   "execution_count": 18,
   "id": "b1889920",
   "metadata": {},
   "outputs": [
    {
     "data": {
      "text/plain": [
       "dict"
      ]
     },
     "execution_count": 18,
     "metadata": {},
     "output_type": "execute_result"
    }
   ],
   "source": [
    "type(data)"
   ]
  },
  {
   "cell_type": "code",
   "execution_count": 19,
   "id": "f48e6dc2",
   "metadata": {},
   "outputs": [],
   "source": [
    "import pandas as pd\n",
    "from datetime import datetime\n",
    "import time\n",
    "#this allows you to see all the columns, not just 15 or 20\n",
    "pd.set_option('display.max_columns', None)\n",
    "pd.set_option('display.max_rows', None)\n",
    "#pd.set_option('display.max_column', None)"
   ]
  },
  {
   "cell_type": "code",
   "execution_count": 23,
   "id": "a26aedff",
   "metadata": {},
   "outputs": [
    {
     "data": {
      "text/html": [
       "<div>\n",
       "<style scoped>\n",
       "    .dataframe tbody tr th:only-of-type {\n",
       "        vertical-align: middle;\n",
       "    }\n",
       "\n",
       "    .dataframe tbody tr th {\n",
       "        vertical-align: top;\n",
       "    }\n",
       "\n",
       "    .dataframe thead th {\n",
       "        text-align: right;\n",
       "    }\n",
       "</style>\n",
       "<table border=\"1\" class=\"dataframe\">\n",
       "  <thead>\n",
       "    <tr style=\"text-align: right;\">\n",
       "      <th></th>\n",
       "      <th>timestamp</th>\n",
       "      <th>error_code</th>\n",
       "      <th>error_message</th>\n",
       "      <th>elapsed</th>\n",
       "      <th>credit_count</th>\n",
       "      <th>notice</th>\n",
       "      <th>total_count</th>\n",
       "    </tr>\n",
       "  </thead>\n",
       "  <tbody>\n",
       "    <tr>\n",
       "      <th>0</th>\n",
       "      <td>2023-05-02T14:42:47.964Z</td>\n",
       "      <td>0</td>\n",
       "      <td>None</td>\n",
       "      <td>31</td>\n",
       "      <td>1</td>\n",
       "      <td>None</td>\n",
       "      <td>9442</td>\n",
       "    </tr>\n",
       "  </tbody>\n",
       "</table>\n",
       "</div>"
      ],
      "text/plain": [
       "                  timestamp  error_code error_message  elapsed  credit_count  \\\n",
       "0  2023-05-02T14:42:47.964Z           0          None       31             1   \n",
       "\n",
       "  notice  total_count  \n",
       "0   None         9442  "
      ]
     },
     "execution_count": 23,
     "metadata": {},
     "output_type": "execute_result"
    }
   ],
   "source": [
    "pd.json_normalize(data['status'])"
   ]
  },
  {
   "cell_type": "code",
   "execution_count": 22,
   "id": "2e1abe93",
   "metadata": {},
   "outputs": [
    {
     "data": {
      "text/html": [
       "<div>\n",
       "<style scoped>\n",
       "    .dataframe tbody tr th:only-of-type {\n",
       "        vertical-align: middle;\n",
       "    }\n",
       "\n",
       "    .dataframe tbody tr th {\n",
       "        vertical-align: top;\n",
       "    }\n",
       "\n",
       "    .dataframe thead th {\n",
       "        text-align: right;\n",
       "    }\n",
       "</style>\n",
       "<table border=\"1\" class=\"dataframe\">\n",
       "  <thead>\n",
       "    <tr style=\"text-align: right;\">\n",
       "      <th></th>\n",
       "      <th>id</th>\n",
       "      <th>name</th>\n",
       "      <th>symbol</th>\n",
       "      <th>slug</th>\n",
       "      <th>num_market_pairs</th>\n",
       "      <th>date_added</th>\n",
       "      <th>tags</th>\n",
       "      <th>max_supply</th>\n",
       "      <th>circulating_supply</th>\n",
       "      <th>total_supply</th>\n",
       "      <th>infinite_supply</th>\n",
       "      <th>platform</th>\n",
       "      <th>cmc_rank</th>\n",
       "      <th>self_reported_circulating_supply</th>\n",
       "      <th>self_reported_market_cap</th>\n",
       "      <th>tvl_ratio</th>\n",
       "      <th>last_updated</th>\n",
       "      <th>quote.USD.price</th>\n",
       "      <th>quote.USD.volume_24h</th>\n",
       "      <th>quote.USD.volume_change_24h</th>\n",
       "      <th>quote.USD.percent_change_1h</th>\n",
       "      <th>quote.USD.percent_change_24h</th>\n",
       "      <th>quote.USD.percent_change_7d</th>\n",
       "      <th>quote.USD.percent_change_30d</th>\n",
       "      <th>quote.USD.percent_change_60d</th>\n",
       "      <th>quote.USD.percent_change_90d</th>\n",
       "      <th>quote.USD.market_cap</th>\n",
       "      <th>quote.USD.market_cap_dominance</th>\n",
       "      <th>quote.USD.fully_diluted_market_cap</th>\n",
       "      <th>quote.USD.tvl</th>\n",
       "      <th>quote.USD.last_updated</th>\n",
       "      <th>platform.id</th>\n",
       "      <th>platform.name</th>\n",
       "      <th>platform.symbol</th>\n",
       "      <th>platform.slug</th>\n",
       "      <th>platform.token_address</th>\n",
       "    </tr>\n",
       "  </thead>\n",
       "  <tbody>\n",
       "    <tr>\n",
       "      <th>0</th>\n",
       "      <td>1</td>\n",
       "      <td>Bitcoin</td>\n",
       "      <td>BTC</td>\n",
       "      <td>bitcoin</td>\n",
       "      <td>10198</td>\n",
       "      <td>2010-07-13T00:00:00.000Z</td>\n",
       "      <td>[mineable, pow, sha-256, store-of-value, state...</td>\n",
       "      <td>2.100000e+07</td>\n",
       "      <td>1.936222e+07</td>\n",
       "      <td>1.936222e+07</td>\n",
       "      <td>False</td>\n",
       "      <td>NaN</td>\n",
       "      <td>1</td>\n",
       "      <td>NaN</td>\n",
       "      <td>NaN</td>\n",
       "      <td>None</td>\n",
       "      <td>2023-05-02T14:41:00.000Z</td>\n",
       "      <td>28573.306127</td>\n",
       "      <td>1.683674e+10</td>\n",
       "      <td>-11.5751</td>\n",
       "      <td>2.132560</td>\n",
       "      <td>0.506637</td>\n",
       "      <td>4.734199</td>\n",
       "      <td>0.938417</td>\n",
       "      <td>27.568497</td>\n",
       "      <td>23.825092</td>\n",
       "      <td>5.532426e+11</td>\n",
       "      <td>47.0390</td>\n",
       "      <td>6.000394e+11</td>\n",
       "      <td>None</td>\n",
       "      <td>2023-05-02T14:41:00.000Z</td>\n",
       "      <td>NaN</td>\n",
       "      <td>NaN</td>\n",
       "      <td>NaN</td>\n",
       "      <td>NaN</td>\n",
       "      <td>NaN</td>\n",
       "    </tr>\n",
       "    <tr>\n",
       "      <th>1</th>\n",
       "      <td>1027</td>\n",
       "      <td>Ethereum</td>\n",
       "      <td>ETH</td>\n",
       "      <td>ethereum</td>\n",
       "      <td>6812</td>\n",
       "      <td>2015-08-07T00:00:00.000Z</td>\n",
       "      <td>[pos, smart-contracts, ethereum-ecosystem, coi...</td>\n",
       "      <td>NaN</td>\n",
       "      <td>1.203889e+08</td>\n",
       "      <td>1.203889e+08</td>\n",
       "      <td>False</td>\n",
       "      <td>NaN</td>\n",
       "      <td>2</td>\n",
       "      <td>NaN</td>\n",
       "      <td>NaN</td>\n",
       "      <td>None</td>\n",
       "      <td>2023-05-02T14:41:00.000Z</td>\n",
       "      <td>1860.108491</td>\n",
       "      <td>7.598358e+09</td>\n",
       "      <td>-15.4969</td>\n",
       "      <td>1.767998</td>\n",
       "      <td>1.202031</td>\n",
       "      <td>2.726796</td>\n",
       "      <td>2.443954</td>\n",
       "      <td>18.283707</td>\n",
       "      <td>17.727322</td>\n",
       "      <td>2.239365e+11</td>\n",
       "      <td>19.0191</td>\n",
       "      <td>2.239365e+11</td>\n",
       "      <td>None</td>\n",
       "      <td>2023-05-02T14:41:00.000Z</td>\n",
       "      <td>NaN</td>\n",
       "      <td>NaN</td>\n",
       "      <td>NaN</td>\n",
       "      <td>NaN</td>\n",
       "      <td>NaN</td>\n",
       "    </tr>\n",
       "    <tr>\n",
       "      <th>2</th>\n",
       "      <td>825</td>\n",
       "      <td>Tether</td>\n",
       "      <td>USDT</td>\n",
       "      <td>tether</td>\n",
       "      <td>52387</td>\n",
       "      <td>2015-02-25T00:00:00.000Z</td>\n",
       "      <td>[payments, stablecoin, asset-backed-stablecoin...</td>\n",
       "      <td>NaN</td>\n",
       "      <td>8.180120e+10</td>\n",
       "      <td>8.509064e+10</td>\n",
       "      <td>False</td>\n",
       "      <td>NaN</td>\n",
       "      <td>3</td>\n",
       "      <td>NaN</td>\n",
       "      <td>NaN</td>\n",
       "      <td>None</td>\n",
       "      <td>2023-05-02T14:41:00.000Z</td>\n",
       "      <td>1.000195</td>\n",
       "      <td>2.578696e+10</td>\n",
       "      <td>-13.9981</td>\n",
       "      <td>0.006540</td>\n",
       "      <td>0.004633</td>\n",
       "      <td>-0.013335</td>\n",
       "      <td>0.017869</td>\n",
       "      <td>0.005936</td>\n",
       "      <td>0.004477</td>\n",
       "      <td>8.181712e+10</td>\n",
       "      <td>6.9488</td>\n",
       "      <td>8.510720e+10</td>\n",
       "      <td>None</td>\n",
       "      <td>2023-05-02T14:41:00.000Z</td>\n",
       "      <td>1027.0</td>\n",
       "      <td>Ethereum</td>\n",
       "      <td>ETH</td>\n",
       "      <td>ethereum</td>\n",
       "      <td>0xdac17f958d2ee523a2206206994597c13d831ec7</td>\n",
       "    </tr>\n",
       "    <tr>\n",
       "      <th>3</th>\n",
       "      <td>1839</td>\n",
       "      <td>BNB</td>\n",
       "      <td>BNB</td>\n",
       "      <td>bnb</td>\n",
       "      <td>1309</td>\n",
       "      <td>2017-07-25T00:00:00.000Z</td>\n",
       "      <td>[marketplace, centralized-exchange, payments, ...</td>\n",
       "      <td>NaN</td>\n",
       "      <td>1.558411e+08</td>\n",
       "      <td>1.558411e+08</td>\n",
       "      <td>False</td>\n",
       "      <td>NaN</td>\n",
       "      <td>4</td>\n",
       "      <td>NaN</td>\n",
       "      <td>NaN</td>\n",
       "      <td>None</td>\n",
       "      <td>2023-05-02T14:41:00.000Z</td>\n",
       "      <td>325.132814</td>\n",
       "      <td>7.235622e+08</td>\n",
       "      <td>-39.1095</td>\n",
       "      <td>0.411915</td>\n",
       "      <td>-2.589604</td>\n",
       "      <td>-1.296774</td>\n",
       "      <td>3.438425</td>\n",
       "      <td>12.287694</td>\n",
       "      <td>5.235130</td>\n",
       "      <td>5.066906e+10</td>\n",
       "      <td>4.3034</td>\n",
       "      <td>5.066906e+10</td>\n",
       "      <td>None</td>\n",
       "      <td>2023-05-02T14:41:00.000Z</td>\n",
       "      <td>NaN</td>\n",
       "      <td>NaN</td>\n",
       "      <td>NaN</td>\n",
       "      <td>NaN</td>\n",
       "      <td>NaN</td>\n",
       "    </tr>\n",
       "    <tr>\n",
       "      <th>4</th>\n",
       "      <td>3408</td>\n",
       "      <td>USD Coin</td>\n",
       "      <td>USDC</td>\n",
       "      <td>usd-coin</td>\n",
       "      <td>12129</td>\n",
       "      <td>2018-10-08T00:00:00.000Z</td>\n",
       "      <td>[medium-of-exchange, stablecoin, asset-backed-...</td>\n",
       "      <td>NaN</td>\n",
       "      <td>3.040235e+10</td>\n",
       "      <td>3.040235e+10</td>\n",
       "      <td>False</td>\n",
       "      <td>NaN</td>\n",
       "      <td>5</td>\n",
       "      <td>NaN</td>\n",
       "      <td>NaN</td>\n",
       "      <td>None</td>\n",
       "      <td>2023-05-02T14:41:00.000Z</td>\n",
       "      <td>1.000025</td>\n",
       "      <td>3.153224e+09</td>\n",
       "      <td>-16.0793</td>\n",
       "      <td>-0.009324</td>\n",
       "      <td>0.017037</td>\n",
       "      <td>-0.007871</td>\n",
       "      <td>0.047601</td>\n",
       "      <td>0.006445</td>\n",
       "      <td>0.016451</td>\n",
       "      <td>3.040310e+10</td>\n",
       "      <td>2.5822</td>\n",
       "      <td>3.040310e+10</td>\n",
       "      <td>None</td>\n",
       "      <td>2023-05-02T14:41:00.000Z</td>\n",
       "      <td>1027.0</td>\n",
       "      <td>Ethereum</td>\n",
       "      <td>ETH</td>\n",
       "      <td>ethereum</td>\n",
       "      <td>0xa0b86991c6218b36c1d19d4a2e9eb0ce3606eb48</td>\n",
       "    </tr>\n",
       "    <tr>\n",
       "      <th>5</th>\n",
       "      <td>52</td>\n",
       "      <td>XRP</td>\n",
       "      <td>XRP</td>\n",
       "      <td>xrp</td>\n",
       "      <td>940</td>\n",
       "      <td>2013-08-04T00:00:00.000Z</td>\n",
       "      <td>[medium-of-exchange, enterprise-solutions, arr...</td>\n",
       "      <td>1.000000e+11</td>\n",
       "      <td>5.175081e+10</td>\n",
       "      <td>9.998900e+10</td>\n",
       "      <td>False</td>\n",
       "      <td>NaN</td>\n",
       "      <td>6</td>\n",
       "      <td>NaN</td>\n",
       "      <td>NaN</td>\n",
       "      <td>None</td>\n",
       "      <td>2023-05-02T14:41:00.000Z</td>\n",
       "      <td>0.463684</td>\n",
       "      <td>9.743213e+08</td>\n",
       "      <td>13.4700</td>\n",
       "      <td>0.466008</td>\n",
       "      <td>-0.021289</td>\n",
       "      <td>2.102577</td>\n",
       "      <td>-11.135062</td>\n",
       "      <td>26.136508</td>\n",
       "      <td>14.973027</td>\n",
       "      <td>2.399604e+10</td>\n",
       "      <td>2.0380</td>\n",
       "      <td>4.636844e+10</td>\n",
       "      <td>None</td>\n",
       "      <td>2023-05-02T14:41:00.000Z</td>\n",
       "      <td>NaN</td>\n",
       "      <td>NaN</td>\n",
       "      <td>NaN</td>\n",
       "      <td>NaN</td>\n",
       "      <td>NaN</td>\n",
       "    </tr>\n",
       "    <tr>\n",
       "      <th>6</th>\n",
       "      <td>2010</td>\n",
       "      <td>Cardano</td>\n",
       "      <td>ADA</td>\n",
       "      <td>cardano</td>\n",
       "      <td>776</td>\n",
       "      <td>2017-10-01T00:00:00.000Z</td>\n",
       "      <td>[dpos, pos, platform, research, smart-contract...</td>\n",
       "      <td>4.500000e+10</td>\n",
       "      <td>3.481094e+10</td>\n",
       "      <td>3.574457e+10</td>\n",
       "      <td>False</td>\n",
       "      <td>NaN</td>\n",
       "      <td>7</td>\n",
       "      <td>NaN</td>\n",
       "      <td>NaN</td>\n",
       "      <td>None</td>\n",
       "      <td>2023-05-02T14:41:00.000Z</td>\n",
       "      <td>0.388226</td>\n",
       "      <td>2.218057e+08</td>\n",
       "      <td>-25.9541</td>\n",
       "      <td>1.054938</td>\n",
       "      <td>-0.038813</td>\n",
       "      <td>2.418610</td>\n",
       "      <td>0.990881</td>\n",
       "      <td>14.682875</td>\n",
       "      <td>1.898072</td>\n",
       "      <td>1.351452e+10</td>\n",
       "      <td>1.1489</td>\n",
       "      <td>1.747018e+10</td>\n",
       "      <td>None</td>\n",
       "      <td>2023-05-02T14:41:00.000Z</td>\n",
       "      <td>NaN</td>\n",
       "      <td>NaN</td>\n",
       "      <td>NaN</td>\n",
       "      <td>NaN</td>\n",
       "      <td>NaN</td>\n",
       "    </tr>\n",
       "    <tr>\n",
       "      <th>7</th>\n",
       "      <td>74</td>\n",
       "      <td>Dogecoin</td>\n",
       "      <td>DOGE</td>\n",
       "      <td>dogecoin</td>\n",
       "      <td>699</td>\n",
       "      <td>2013-12-15T00:00:00.000Z</td>\n",
       "      <td>[mineable, pow, scrypt, medium-of-exchange, me...</td>\n",
       "      <td>NaN</td>\n",
       "      <td>1.391797e+11</td>\n",
       "      <td>1.391797e+11</td>\n",
       "      <td>False</td>\n",
       "      <td>NaN</td>\n",
       "      <td>8</td>\n",
       "      <td>NaN</td>\n",
       "      <td>NaN</td>\n",
       "      <td>None</td>\n",
       "      <td>2023-05-02T14:41:00.000Z</td>\n",
       "      <td>0.078758</td>\n",
       "      <td>2.747030e+08</td>\n",
       "      <td>-15.2831</td>\n",
       "      <td>0.936825</td>\n",
       "      <td>0.182916</td>\n",
       "      <td>0.919411</td>\n",
       "      <td>-1.867942</td>\n",
       "      <td>3.428892</td>\n",
       "      <td>-13.522462</td>\n",
       "      <td>1.096155e+10</td>\n",
       "      <td>0.9315</td>\n",
       "      <td>1.096155e+10</td>\n",
       "      <td>None</td>\n",
       "      <td>2023-05-02T14:41:00.000Z</td>\n",
       "      <td>NaN</td>\n",
       "      <td>NaN</td>\n",
       "      <td>NaN</td>\n",
       "      <td>NaN</td>\n",
       "      <td>NaN</td>\n",
       "    </tr>\n",
       "    <tr>\n",
       "      <th>8</th>\n",
       "      <td>3890</td>\n",
       "      <td>Polygon</td>\n",
       "      <td>MATIC</td>\n",
       "      <td>polygon</td>\n",
       "      <td>681</td>\n",
       "      <td>2019-04-28T00:00:00.000Z</td>\n",
       "      <td>[platform, enterprise-solutions, zero-knowledg...</td>\n",
       "      <td>1.000000e+10</td>\n",
       "      <td>9.249469e+09</td>\n",
       "      <td>1.000000e+10</td>\n",
       "      <td>False</td>\n",
       "      <td>NaN</td>\n",
       "      <td>9</td>\n",
       "      <td>NaN</td>\n",
       "      <td>NaN</td>\n",
       "      <td>None</td>\n",
       "      <td>2023-05-02T14:41:00.000Z</td>\n",
       "      <td>0.969838</td>\n",
       "      <td>3.587681e+08</td>\n",
       "      <td>-9.7923</td>\n",
       "      <td>1.320290</td>\n",
       "      <td>-0.175157</td>\n",
       "      <td>1.500615</td>\n",
       "      <td>-12.737340</td>\n",
       "      <td>-17.097243</td>\n",
       "      <td>-11.296202</td>\n",
       "      <td>8.970484e+09</td>\n",
       "      <td>0.7627</td>\n",
       "      <td>9.698378e+09</td>\n",
       "      <td>None</td>\n",
       "      <td>2023-05-02T14:41:00.000Z</td>\n",
       "      <td>NaN</td>\n",
       "      <td>NaN</td>\n",
       "      <td>NaN</td>\n",
       "      <td>NaN</td>\n",
       "      <td>NaN</td>\n",
       "    </tr>\n",
       "    <tr>\n",
       "      <th>9</th>\n",
       "      <td>5426</td>\n",
       "      <td>Solana</td>\n",
       "      <td>SOL</td>\n",
       "      <td>solana</td>\n",
       "      <td>458</td>\n",
       "      <td>2020-04-10T00:00:00.000Z</td>\n",
       "      <td>[pos, platform, solana-ecosystem, cms-holdings...</td>\n",
       "      <td>NaN</td>\n",
       "      <td>3.932362e+08</td>\n",
       "      <td>5.393127e+08</td>\n",
       "      <td>False</td>\n",
       "      <td>NaN</td>\n",
       "      <td>10</td>\n",
       "      <td>NaN</td>\n",
       "      <td>NaN</td>\n",
       "      <td>None</td>\n",
       "      <td>2023-05-02T14:41:00.000Z</td>\n",
       "      <td>22.207965</td>\n",
       "      <td>3.279574e+08</td>\n",
       "      <td>-32.9634</td>\n",
       "      <td>1.148996</td>\n",
       "      <td>0.635951</td>\n",
       "      <td>6.560071</td>\n",
       "      <td>6.578717</td>\n",
       "      <td>4.123337</td>\n",
       "      <td>-4.979319</td>\n",
       "      <td>8.732975e+09</td>\n",
       "      <td>0.7425</td>\n",
       "      <td>1.197704e+10</td>\n",
       "      <td>None</td>\n",
       "      <td>2023-05-02T14:41:00.000Z</td>\n",
       "      <td>NaN</td>\n",
       "      <td>NaN</td>\n",
       "      <td>NaN</td>\n",
       "      <td>NaN</td>\n",
       "      <td>NaN</td>\n",
       "    </tr>\n",
       "    <tr>\n",
       "      <th>10</th>\n",
       "      <td>6636</td>\n",
       "      <td>Polkadot</td>\n",
       "      <td>DOT</td>\n",
       "      <td>polkadot-new</td>\n",
       "      <td>499</td>\n",
       "      <td>2020-08-19T00:00:00.000Z</td>\n",
       "      <td>[substrate, polkadot, binance-chain, polkadot-...</td>\n",
       "      <td>NaN</td>\n",
       "      <td>1.179537e+09</td>\n",
       "      <td>1.309016e+09</td>\n",
       "      <td>False</td>\n",
       "      <td>NaN</td>\n",
       "      <td>11</td>\n",
       "      <td>NaN</td>\n",
       "      <td>NaN</td>\n",
       "      <td>None</td>\n",
       "      <td>2023-05-02T14:41:00.000Z</td>\n",
       "      <td>5.720663</td>\n",
       "      <td>1.310086e+08</td>\n",
       "      <td>2.1240</td>\n",
       "      <td>1.040196</td>\n",
       "      <td>-1.234959</td>\n",
       "      <td>-1.743346</td>\n",
       "      <td>-10.292166</td>\n",
       "      <td>-5.627200</td>\n",
       "      <td>-7.330873</td>\n",
       "      <td>6.747735e+09</td>\n",
       "      <td>0.5731</td>\n",
       "      <td>7.488440e+09</td>\n",
       "      <td>None</td>\n",
       "      <td>2023-05-02T14:41:00.000Z</td>\n",
       "      <td>NaN</td>\n",
       "      <td>NaN</td>\n",
       "      <td>NaN</td>\n",
       "      <td>NaN</td>\n",
       "      <td>NaN</td>\n",
       "    </tr>\n",
       "    <tr>\n",
       "      <th>11</th>\n",
       "      <td>2</td>\n",
       "      <td>Litecoin</td>\n",
       "      <td>LTC</td>\n",
       "      <td>litecoin</td>\n",
       "      <td>909</td>\n",
       "      <td>2013-04-28T00:00:00.000Z</td>\n",
       "      <td>[mineable, pow, scrypt, medium-of-exchange]</td>\n",
       "      <td>8.400000e+07</td>\n",
       "      <td>7.283375e+07</td>\n",
       "      <td>8.400000e+07</td>\n",
       "      <td>False</td>\n",
       "      <td>NaN</td>\n",
       "      <td>12</td>\n",
       "      <td>NaN</td>\n",
       "      <td>NaN</td>\n",
       "      <td>None</td>\n",
       "      <td>2023-05-02T14:41:00.000Z</td>\n",
       "      <td>88.864971</td>\n",
       "      <td>4.971528e+08</td>\n",
       "      <td>8.3261</td>\n",
       "      <td>0.970499</td>\n",
       "      <td>1.388311</td>\n",
       "      <td>0.153916</td>\n",
       "      <td>-5.645055</td>\n",
       "      <td>-0.372703</td>\n",
       "      <td>-6.980022</td>\n",
       "      <td>6.472369e+09</td>\n",
       "      <td>0.5500</td>\n",
       "      <td>7.464658e+09</td>\n",
       "      <td>None</td>\n",
       "      <td>2023-05-02T14:41:00.000Z</td>\n",
       "      <td>NaN</td>\n",
       "      <td>NaN</td>\n",
       "      <td>NaN</td>\n",
       "      <td>NaN</td>\n",
       "      <td>NaN</td>\n",
       "    </tr>\n",
       "    <tr>\n",
       "      <th>12</th>\n",
       "      <td>1958</td>\n",
       "      <td>TRON</td>\n",
       "      <td>TRX</td>\n",
       "      <td>tron</td>\n",
       "      <td>756</td>\n",
       "      <td>2017-09-13T00:00:00.000Z</td>\n",
       "      <td>[media, payments, tron-ecosystem]</td>\n",
       "      <td>NaN</td>\n",
       "      <td>9.060030e+10</td>\n",
       "      <td>9.060045e+10</td>\n",
       "      <td>False</td>\n",
       "      <td>NaN</td>\n",
       "      <td>13</td>\n",
       "      <td>7.165966e+10</td>\n",
       "      <td>4.933818e+09</td>\n",
       "      <td>None</td>\n",
       "      <td>2023-05-02T14:41:00.000Z</td>\n",
       "      <td>0.068851</td>\n",
       "      <td>2.354631e+08</td>\n",
       "      <td>-7.1872</td>\n",
       "      <td>0.595781</td>\n",
       "      <td>-0.431460</td>\n",
       "      <td>5.299177</td>\n",
       "      <td>4.132228</td>\n",
       "      <td>2.234861</td>\n",
       "      <td>10.604823</td>\n",
       "      <td>6.237894e+09</td>\n",
       "      <td>0.5298</td>\n",
       "      <td>6.237905e+09</td>\n",
       "      <td>None</td>\n",
       "      <td>2023-05-02T14:41:00.000Z</td>\n",
       "      <td>NaN</td>\n",
       "      <td>NaN</td>\n",
       "      <td>NaN</td>\n",
       "      <td>NaN</td>\n",
       "      <td>NaN</td>\n",
       "    </tr>\n",
       "    <tr>\n",
       "      <th>13</th>\n",
       "      <td>4687</td>\n",
       "      <td>Binance USD</td>\n",
       "      <td>BUSD</td>\n",
       "      <td>binance-usd</td>\n",
       "      <td>6692</td>\n",
       "      <td>2019-09-20T00:00:00.000Z</td>\n",
       "      <td>[stablecoin, asset-backed-stablecoin, binance-...</td>\n",
       "      <td>NaN</td>\n",
       "      <td>6.155960e+09</td>\n",
       "      <td>6.155960e+09</td>\n",
       "      <td>False</td>\n",
       "      <td>NaN</td>\n",
       "      <td>14</td>\n",
       "      <td>NaN</td>\n",
       "      <td>NaN</td>\n",
       "      <td>None</td>\n",
       "      <td>2023-05-02T14:41:00.000Z</td>\n",
       "      <td>1.000085</td>\n",
       "      <td>2.587874e+09</td>\n",
       "      <td>-17.9468</td>\n",
       "      <td>0.034905</td>\n",
       "      <td>0.036424</td>\n",
       "      <td>0.019908</td>\n",
       "      <td>0.069037</td>\n",
       "      <td>-0.010790</td>\n",
       "      <td>0.011746</td>\n",
       "      <td>6.156484e+09</td>\n",
       "      <td>0.5232</td>\n",
       "      <td>6.156484e+09</td>\n",
       "      <td>None</td>\n",
       "      <td>2023-05-02T14:41:00.000Z</td>\n",
       "      <td>1839.0</td>\n",
       "      <td>BNB</td>\n",
       "      <td>BNB</td>\n",
       "      <td>bnb</td>\n",
       "      <td>BUSD-BD1</td>\n",
       "    </tr>\n",
       "    <tr>\n",
       "      <th>14</th>\n",
       "      <td>5994</td>\n",
       "      <td>Shiba Inu</td>\n",
       "      <td>SHIB</td>\n",
       "      <td>shiba-inu</td>\n",
       "      <td>509</td>\n",
       "      <td>2020-08-01T00:00:00.000Z</td>\n",
       "      <td>[memes, ethereum-ecosystem, doggone-doggerel]</td>\n",
       "      <td>NaN</td>\n",
       "      <td>5.895446e+14</td>\n",
       "      <td>5.896045e+14</td>\n",
       "      <td>False</td>\n",
       "      <td>NaN</td>\n",
       "      <td>15</td>\n",
       "      <td>NaN</td>\n",
       "      <td>NaN</td>\n",
       "      <td>None</td>\n",
       "      <td>2023-05-02T14:41:00.000Z</td>\n",
       "      <td>0.000010</td>\n",
       "      <td>1.103450e+08</td>\n",
       "      <td>-14.2955</td>\n",
       "      <td>0.878593</td>\n",
       "      <td>0.128495</td>\n",
       "      <td>-1.519181</td>\n",
       "      <td>-9.409823</td>\n",
       "      <td>-12.290178</td>\n",
       "      <td>-14.022516</td>\n",
       "      <td>5.877001e+09</td>\n",
       "      <td>0.4991</td>\n",
       "      <td>5.877598e+09</td>\n",
       "      <td>None</td>\n",
       "      <td>2023-05-02T14:41:00.000Z</td>\n",
       "      <td>1027.0</td>\n",
       "      <td>Ethereum</td>\n",
       "      <td>ETH</td>\n",
       "      <td>ethereum</td>\n",
       "      <td>0x95ad61b0a150d79219dcf64e1e6cc01f0b64c4ce</td>\n",
       "    </tr>\n",
       "  </tbody>\n",
       "</table>\n",
       "</div>"
      ],
      "text/plain": [
       "      id         name symbol          slug  num_market_pairs  \\\n",
       "0      1      Bitcoin    BTC       bitcoin             10198   \n",
       "1   1027     Ethereum    ETH      ethereum              6812   \n",
       "2    825       Tether   USDT        tether             52387   \n",
       "3   1839          BNB    BNB           bnb              1309   \n",
       "4   3408     USD Coin   USDC      usd-coin             12129   \n",
       "5     52          XRP    XRP           xrp               940   \n",
       "6   2010      Cardano    ADA       cardano               776   \n",
       "7     74     Dogecoin   DOGE      dogecoin               699   \n",
       "8   3890      Polygon  MATIC       polygon               681   \n",
       "9   5426       Solana    SOL        solana               458   \n",
       "10  6636     Polkadot    DOT  polkadot-new               499   \n",
       "11     2     Litecoin    LTC      litecoin               909   \n",
       "12  1958         TRON    TRX          tron               756   \n",
       "13  4687  Binance USD   BUSD   binance-usd              6692   \n",
       "14  5994    Shiba Inu   SHIB     shiba-inu               509   \n",
       "\n",
       "                  date_added  \\\n",
       "0   2010-07-13T00:00:00.000Z   \n",
       "1   2015-08-07T00:00:00.000Z   \n",
       "2   2015-02-25T00:00:00.000Z   \n",
       "3   2017-07-25T00:00:00.000Z   \n",
       "4   2018-10-08T00:00:00.000Z   \n",
       "5   2013-08-04T00:00:00.000Z   \n",
       "6   2017-10-01T00:00:00.000Z   \n",
       "7   2013-12-15T00:00:00.000Z   \n",
       "8   2019-04-28T00:00:00.000Z   \n",
       "9   2020-04-10T00:00:00.000Z   \n",
       "10  2020-08-19T00:00:00.000Z   \n",
       "11  2013-04-28T00:00:00.000Z   \n",
       "12  2017-09-13T00:00:00.000Z   \n",
       "13  2019-09-20T00:00:00.000Z   \n",
       "14  2020-08-01T00:00:00.000Z   \n",
       "\n",
       "                                                 tags    max_supply  \\\n",
       "0   [mineable, pow, sha-256, store-of-value, state...  2.100000e+07   \n",
       "1   [pos, smart-contracts, ethereum-ecosystem, coi...           NaN   \n",
       "2   [payments, stablecoin, asset-backed-stablecoin...           NaN   \n",
       "3   [marketplace, centralized-exchange, payments, ...           NaN   \n",
       "4   [medium-of-exchange, stablecoin, asset-backed-...           NaN   \n",
       "5   [medium-of-exchange, enterprise-solutions, arr...  1.000000e+11   \n",
       "6   [dpos, pos, platform, research, smart-contract...  4.500000e+10   \n",
       "7   [mineable, pow, scrypt, medium-of-exchange, me...           NaN   \n",
       "8   [platform, enterprise-solutions, zero-knowledg...  1.000000e+10   \n",
       "9   [pos, platform, solana-ecosystem, cms-holdings...           NaN   \n",
       "10  [substrate, polkadot, binance-chain, polkadot-...           NaN   \n",
       "11        [mineable, pow, scrypt, medium-of-exchange]  8.400000e+07   \n",
       "12                  [media, payments, tron-ecosystem]           NaN   \n",
       "13  [stablecoin, asset-backed-stablecoin, binance-...           NaN   \n",
       "14      [memes, ethereum-ecosystem, doggone-doggerel]           NaN   \n",
       "\n",
       "    circulating_supply  total_supply  infinite_supply  platform  cmc_rank  \\\n",
       "0         1.936222e+07  1.936222e+07            False       NaN         1   \n",
       "1         1.203889e+08  1.203889e+08            False       NaN         2   \n",
       "2         8.180120e+10  8.509064e+10            False       NaN         3   \n",
       "3         1.558411e+08  1.558411e+08            False       NaN         4   \n",
       "4         3.040235e+10  3.040235e+10            False       NaN         5   \n",
       "5         5.175081e+10  9.998900e+10            False       NaN         6   \n",
       "6         3.481094e+10  3.574457e+10            False       NaN         7   \n",
       "7         1.391797e+11  1.391797e+11            False       NaN         8   \n",
       "8         9.249469e+09  1.000000e+10            False       NaN         9   \n",
       "9         3.932362e+08  5.393127e+08            False       NaN        10   \n",
       "10        1.179537e+09  1.309016e+09            False       NaN        11   \n",
       "11        7.283375e+07  8.400000e+07            False       NaN        12   \n",
       "12        9.060030e+10  9.060045e+10            False       NaN        13   \n",
       "13        6.155960e+09  6.155960e+09            False       NaN        14   \n",
       "14        5.895446e+14  5.896045e+14            False       NaN        15   \n",
       "\n",
       "    self_reported_circulating_supply  self_reported_market_cap tvl_ratio  \\\n",
       "0                                NaN                       NaN      None   \n",
       "1                                NaN                       NaN      None   \n",
       "2                                NaN                       NaN      None   \n",
       "3                                NaN                       NaN      None   \n",
       "4                                NaN                       NaN      None   \n",
       "5                                NaN                       NaN      None   \n",
       "6                                NaN                       NaN      None   \n",
       "7                                NaN                       NaN      None   \n",
       "8                                NaN                       NaN      None   \n",
       "9                                NaN                       NaN      None   \n",
       "10                               NaN                       NaN      None   \n",
       "11                               NaN                       NaN      None   \n",
       "12                      7.165966e+10              4.933818e+09      None   \n",
       "13                               NaN                       NaN      None   \n",
       "14                               NaN                       NaN      None   \n",
       "\n",
       "                last_updated  quote.USD.price  quote.USD.volume_24h  \\\n",
       "0   2023-05-02T14:41:00.000Z     28573.306127          1.683674e+10   \n",
       "1   2023-05-02T14:41:00.000Z      1860.108491          7.598358e+09   \n",
       "2   2023-05-02T14:41:00.000Z         1.000195          2.578696e+10   \n",
       "3   2023-05-02T14:41:00.000Z       325.132814          7.235622e+08   \n",
       "4   2023-05-02T14:41:00.000Z         1.000025          3.153224e+09   \n",
       "5   2023-05-02T14:41:00.000Z         0.463684          9.743213e+08   \n",
       "6   2023-05-02T14:41:00.000Z         0.388226          2.218057e+08   \n",
       "7   2023-05-02T14:41:00.000Z         0.078758          2.747030e+08   \n",
       "8   2023-05-02T14:41:00.000Z         0.969838          3.587681e+08   \n",
       "9   2023-05-02T14:41:00.000Z        22.207965          3.279574e+08   \n",
       "10  2023-05-02T14:41:00.000Z         5.720663          1.310086e+08   \n",
       "11  2023-05-02T14:41:00.000Z        88.864971          4.971528e+08   \n",
       "12  2023-05-02T14:41:00.000Z         0.068851          2.354631e+08   \n",
       "13  2023-05-02T14:41:00.000Z         1.000085          2.587874e+09   \n",
       "14  2023-05-02T14:41:00.000Z         0.000010          1.103450e+08   \n",
       "\n",
       "    quote.USD.volume_change_24h  quote.USD.percent_change_1h  \\\n",
       "0                      -11.5751                     2.132560   \n",
       "1                      -15.4969                     1.767998   \n",
       "2                      -13.9981                     0.006540   \n",
       "3                      -39.1095                     0.411915   \n",
       "4                      -16.0793                    -0.009324   \n",
       "5                       13.4700                     0.466008   \n",
       "6                      -25.9541                     1.054938   \n",
       "7                      -15.2831                     0.936825   \n",
       "8                       -9.7923                     1.320290   \n",
       "9                      -32.9634                     1.148996   \n",
       "10                       2.1240                     1.040196   \n",
       "11                       8.3261                     0.970499   \n",
       "12                      -7.1872                     0.595781   \n",
       "13                     -17.9468                     0.034905   \n",
       "14                     -14.2955                     0.878593   \n",
       "\n",
       "    quote.USD.percent_change_24h  quote.USD.percent_change_7d  \\\n",
       "0                       0.506637                     4.734199   \n",
       "1                       1.202031                     2.726796   \n",
       "2                       0.004633                    -0.013335   \n",
       "3                      -2.589604                    -1.296774   \n",
       "4                       0.017037                    -0.007871   \n",
       "5                      -0.021289                     2.102577   \n",
       "6                      -0.038813                     2.418610   \n",
       "7                       0.182916                     0.919411   \n",
       "8                      -0.175157                     1.500615   \n",
       "9                       0.635951                     6.560071   \n",
       "10                     -1.234959                    -1.743346   \n",
       "11                      1.388311                     0.153916   \n",
       "12                     -0.431460                     5.299177   \n",
       "13                      0.036424                     0.019908   \n",
       "14                      0.128495                    -1.519181   \n",
       "\n",
       "    quote.USD.percent_change_30d  quote.USD.percent_change_60d  \\\n",
       "0                       0.938417                     27.568497   \n",
       "1                       2.443954                     18.283707   \n",
       "2                       0.017869                      0.005936   \n",
       "3                       3.438425                     12.287694   \n",
       "4                       0.047601                      0.006445   \n",
       "5                     -11.135062                     26.136508   \n",
       "6                       0.990881                     14.682875   \n",
       "7                      -1.867942                      3.428892   \n",
       "8                     -12.737340                    -17.097243   \n",
       "9                       6.578717                      4.123337   \n",
       "10                    -10.292166                     -5.627200   \n",
       "11                     -5.645055                     -0.372703   \n",
       "12                      4.132228                      2.234861   \n",
       "13                      0.069037                     -0.010790   \n",
       "14                     -9.409823                    -12.290178   \n",
       "\n",
       "    quote.USD.percent_change_90d  quote.USD.market_cap  \\\n",
       "0                      23.825092          5.532426e+11   \n",
       "1                      17.727322          2.239365e+11   \n",
       "2                       0.004477          8.181712e+10   \n",
       "3                       5.235130          5.066906e+10   \n",
       "4                       0.016451          3.040310e+10   \n",
       "5                      14.973027          2.399604e+10   \n",
       "6                       1.898072          1.351452e+10   \n",
       "7                     -13.522462          1.096155e+10   \n",
       "8                     -11.296202          8.970484e+09   \n",
       "9                      -4.979319          8.732975e+09   \n",
       "10                     -7.330873          6.747735e+09   \n",
       "11                     -6.980022          6.472369e+09   \n",
       "12                     10.604823          6.237894e+09   \n",
       "13                      0.011746          6.156484e+09   \n",
       "14                    -14.022516          5.877001e+09   \n",
       "\n",
       "    quote.USD.market_cap_dominance  quote.USD.fully_diluted_market_cap  \\\n",
       "0                          47.0390                        6.000394e+11   \n",
       "1                          19.0191                        2.239365e+11   \n",
       "2                           6.9488                        8.510720e+10   \n",
       "3                           4.3034                        5.066906e+10   \n",
       "4                           2.5822                        3.040310e+10   \n",
       "5                           2.0380                        4.636844e+10   \n",
       "6                           1.1489                        1.747018e+10   \n",
       "7                           0.9315                        1.096155e+10   \n",
       "8                           0.7627                        9.698378e+09   \n",
       "9                           0.7425                        1.197704e+10   \n",
       "10                          0.5731                        7.488440e+09   \n",
       "11                          0.5500                        7.464658e+09   \n",
       "12                          0.5298                        6.237905e+09   \n",
       "13                          0.5232                        6.156484e+09   \n",
       "14                          0.4991                        5.877598e+09   \n",
       "\n",
       "   quote.USD.tvl    quote.USD.last_updated  platform.id platform.name  \\\n",
       "0           None  2023-05-02T14:41:00.000Z          NaN           NaN   \n",
       "1           None  2023-05-02T14:41:00.000Z          NaN           NaN   \n",
       "2           None  2023-05-02T14:41:00.000Z       1027.0      Ethereum   \n",
       "3           None  2023-05-02T14:41:00.000Z          NaN           NaN   \n",
       "4           None  2023-05-02T14:41:00.000Z       1027.0      Ethereum   \n",
       "5           None  2023-05-02T14:41:00.000Z          NaN           NaN   \n",
       "6           None  2023-05-02T14:41:00.000Z          NaN           NaN   \n",
       "7           None  2023-05-02T14:41:00.000Z          NaN           NaN   \n",
       "8           None  2023-05-02T14:41:00.000Z          NaN           NaN   \n",
       "9           None  2023-05-02T14:41:00.000Z          NaN           NaN   \n",
       "10          None  2023-05-02T14:41:00.000Z          NaN           NaN   \n",
       "11          None  2023-05-02T14:41:00.000Z          NaN           NaN   \n",
       "12          None  2023-05-02T14:41:00.000Z          NaN           NaN   \n",
       "13          None  2023-05-02T14:41:00.000Z       1839.0           BNB   \n",
       "14          None  2023-05-02T14:41:00.000Z       1027.0      Ethereum   \n",
       "\n",
       "   platform.symbol platform.slug                      platform.token_address  \n",
       "0              NaN           NaN                                         NaN  \n",
       "1              NaN           NaN                                         NaN  \n",
       "2              ETH      ethereum  0xdac17f958d2ee523a2206206994597c13d831ec7  \n",
       "3              NaN           NaN                                         NaN  \n",
       "4              ETH      ethereum  0xa0b86991c6218b36c1d19d4a2e9eb0ce3606eb48  \n",
       "5              NaN           NaN                                         NaN  \n",
       "6              NaN           NaN                                         NaN  \n",
       "7              NaN           NaN                                         NaN  \n",
       "8              NaN           NaN                                         NaN  \n",
       "9              NaN           NaN                                         NaN  \n",
       "10             NaN           NaN                                         NaN  \n",
       "11             NaN           NaN                                         NaN  \n",
       "12             NaN           NaN                                         NaN  \n",
       "13             BNB           bnb                                    BUSD-BD1  \n",
       "14             ETH      ethereum  0x95ad61b0a150d79219dcf64e1e6cc01f0b64c4ce  "
      ]
     },
     "execution_count": 22,
     "metadata": {},
     "output_type": "execute_result"
    }
   ],
   "source": [
    "#thi normalizes the data and makes it pretty in dataframe\n",
    "pd.json_normalize(data['data'])  #you can set above 15 or any number you want to of row you want see that makes easier to see\n",
    "#it's giving somehow error However, since 'data' is a list of dictionaries, you need to pass it directly to pd.json_normalize()"
   ]
  },
  {
   "cell_type": "code",
   "execution_count": null,
   "id": "967d154f",
   "metadata": {},
   "outputs": [],
   "source": [
    "#thi normalizes the data and makes it pretty in dataframe\n",
    "pd.json_normalize(data,'data')"
   ]
  },
  {
   "cell_type": "code",
   "execution_count": 24,
   "id": "5239f3a6",
   "metadata": {},
   "outputs": [],
   "source": [
    "import pandas as pd\n",
    "from datetime import datetime\n",
    "pd.set_option('display.max_column', None)\n",
    "#pd.set_option('display.max_rows', None)\n",
    "#This allows you to see all the columns, not just like 15"
   ]
  },
  {
   "cell_type": "code",
   "execution_count": 28,
   "id": "cc7cc0d9",
   "metadata": {},
   "outputs": [
    {
     "data": {
      "text/html": [
       "<div>\n",
       "<style scoped>\n",
       "    .dataframe tbody tr th:only-of-type {\n",
       "        vertical-align: middle;\n",
       "    }\n",
       "\n",
       "    .dataframe tbody tr th {\n",
       "        vertical-align: top;\n",
       "    }\n",
       "\n",
       "    .dataframe thead th {\n",
       "        text-align: right;\n",
       "    }\n",
       "</style>\n",
       "<table border=\"1\" class=\"dataframe\">\n",
       "  <thead>\n",
       "    <tr style=\"text-align: right;\">\n",
       "      <th></th>\n",
       "      <th>id</th>\n",
       "      <th>name</th>\n",
       "      <th>symbol</th>\n",
       "      <th>slug</th>\n",
       "      <th>num_market_pairs</th>\n",
       "      <th>date_added</th>\n",
       "      <th>tags</th>\n",
       "      <th>max_supply</th>\n",
       "      <th>circulating_supply</th>\n",
       "      <th>total_supply</th>\n",
       "      <th>infinite_supply</th>\n",
       "      <th>platform</th>\n",
       "      <th>cmc_rank</th>\n",
       "      <th>self_reported_circulating_supply</th>\n",
       "      <th>self_reported_market_cap</th>\n",
       "      <th>tvl_ratio</th>\n",
       "      <th>last_updated</th>\n",
       "      <th>quote.USD.price</th>\n",
       "      <th>quote.USD.volume_24h</th>\n",
       "      <th>quote.USD.volume_change_24h</th>\n",
       "      <th>quote.USD.percent_change_1h</th>\n",
       "      <th>quote.USD.percent_change_24h</th>\n",
       "      <th>quote.USD.percent_change_7d</th>\n",
       "      <th>quote.USD.percent_change_30d</th>\n",
       "      <th>quote.USD.percent_change_60d</th>\n",
       "      <th>quote.USD.percent_change_90d</th>\n",
       "      <th>quote.USD.market_cap</th>\n",
       "      <th>quote.USD.market_cap_dominance</th>\n",
       "      <th>quote.USD.fully_diluted_market_cap</th>\n",
       "      <th>quote.USD.tvl</th>\n",
       "      <th>quote.USD.last_updated</th>\n",
       "      <th>platform.id</th>\n",
       "      <th>platform.name</th>\n",
       "      <th>platform.symbol</th>\n",
       "      <th>platform.slug</th>\n",
       "      <th>platform.token_address</th>\n",
       "      <th>timestamp</th>\n",
       "    </tr>\n",
       "  </thead>\n",
       "  <tbody>\n",
       "    <tr>\n",
       "      <th>0</th>\n",
       "      <td>1</td>\n",
       "      <td>Bitcoin</td>\n",
       "      <td>BTC</td>\n",
       "      <td>bitcoin</td>\n",
       "      <td>10198</td>\n",
       "      <td>2010-07-13T00:00:00.000Z</td>\n",
       "      <td>[mineable, pow, sha-256, store-of-value, state...</td>\n",
       "      <td>2.100000e+07</td>\n",
       "      <td>1.936222e+07</td>\n",
       "      <td>1.936222e+07</td>\n",
       "      <td>False</td>\n",
       "      <td>NaN</td>\n",
       "      <td>1</td>\n",
       "      <td>NaN</td>\n",
       "      <td>NaN</td>\n",
       "      <td>None</td>\n",
       "      <td>2023-05-02T14:41:00.000Z</td>\n",
       "      <td>28573.306127</td>\n",
       "      <td>1.683674e+10</td>\n",
       "      <td>-11.5751</td>\n",
       "      <td>2.132560</td>\n",
       "      <td>0.506637</td>\n",
       "      <td>4.734199</td>\n",
       "      <td>0.938417</td>\n",
       "      <td>27.568497</td>\n",
       "      <td>23.825092</td>\n",
       "      <td>5.532426e+11</td>\n",
       "      <td>47.0390</td>\n",
       "      <td>6.000394e+11</td>\n",
       "      <td>None</td>\n",
       "      <td>2023-05-02T14:41:00.000Z</td>\n",
       "      <td>NaN</td>\n",
       "      <td>NaN</td>\n",
       "      <td>NaN</td>\n",
       "      <td>NaN</td>\n",
       "      <td>NaN</td>\n",
       "      <td>2023-05-02 14:50:17.006873</td>\n",
       "    </tr>\n",
       "    <tr>\n",
       "      <th>1</th>\n",
       "      <td>1027</td>\n",
       "      <td>Ethereum</td>\n",
       "      <td>ETH</td>\n",
       "      <td>ethereum</td>\n",
       "      <td>6812</td>\n",
       "      <td>2015-08-07T00:00:00.000Z</td>\n",
       "      <td>[pos, smart-contracts, ethereum-ecosystem, coi...</td>\n",
       "      <td>NaN</td>\n",
       "      <td>1.203889e+08</td>\n",
       "      <td>1.203889e+08</td>\n",
       "      <td>False</td>\n",
       "      <td>NaN</td>\n",
       "      <td>2</td>\n",
       "      <td>NaN</td>\n",
       "      <td>NaN</td>\n",
       "      <td>None</td>\n",
       "      <td>2023-05-02T14:41:00.000Z</td>\n",
       "      <td>1860.108491</td>\n",
       "      <td>7.598358e+09</td>\n",
       "      <td>-15.4969</td>\n",
       "      <td>1.767998</td>\n",
       "      <td>1.202031</td>\n",
       "      <td>2.726796</td>\n",
       "      <td>2.443954</td>\n",
       "      <td>18.283707</td>\n",
       "      <td>17.727322</td>\n",
       "      <td>2.239365e+11</td>\n",
       "      <td>19.0191</td>\n",
       "      <td>2.239365e+11</td>\n",
       "      <td>None</td>\n",
       "      <td>2023-05-02T14:41:00.000Z</td>\n",
       "      <td>NaN</td>\n",
       "      <td>NaN</td>\n",
       "      <td>NaN</td>\n",
       "      <td>NaN</td>\n",
       "      <td>NaN</td>\n",
       "      <td>2023-05-02 14:50:17.006873</td>\n",
       "    </tr>\n",
       "    <tr>\n",
       "      <th>2</th>\n",
       "      <td>825</td>\n",
       "      <td>Tether</td>\n",
       "      <td>USDT</td>\n",
       "      <td>tether</td>\n",
       "      <td>52387</td>\n",
       "      <td>2015-02-25T00:00:00.000Z</td>\n",
       "      <td>[payments, stablecoin, asset-backed-stablecoin...</td>\n",
       "      <td>NaN</td>\n",
       "      <td>8.180120e+10</td>\n",
       "      <td>8.509064e+10</td>\n",
       "      <td>False</td>\n",
       "      <td>NaN</td>\n",
       "      <td>3</td>\n",
       "      <td>NaN</td>\n",
       "      <td>NaN</td>\n",
       "      <td>None</td>\n",
       "      <td>2023-05-02T14:41:00.000Z</td>\n",
       "      <td>1.000195</td>\n",
       "      <td>2.578696e+10</td>\n",
       "      <td>-13.9981</td>\n",
       "      <td>0.006540</td>\n",
       "      <td>0.004633</td>\n",
       "      <td>-0.013335</td>\n",
       "      <td>0.017869</td>\n",
       "      <td>0.005936</td>\n",
       "      <td>0.004477</td>\n",
       "      <td>8.181712e+10</td>\n",
       "      <td>6.9488</td>\n",
       "      <td>8.510720e+10</td>\n",
       "      <td>None</td>\n",
       "      <td>2023-05-02T14:41:00.000Z</td>\n",
       "      <td>1027.0</td>\n",
       "      <td>Ethereum</td>\n",
       "      <td>ETH</td>\n",
       "      <td>ethereum</td>\n",
       "      <td>0xdac17f958d2ee523a2206206994597c13d831ec7</td>\n",
       "      <td>2023-05-02 14:50:17.006873</td>\n",
       "    </tr>\n",
       "    <tr>\n",
       "      <th>3</th>\n",
       "      <td>1839</td>\n",
       "      <td>BNB</td>\n",
       "      <td>BNB</td>\n",
       "      <td>bnb</td>\n",
       "      <td>1309</td>\n",
       "      <td>2017-07-25T00:00:00.000Z</td>\n",
       "      <td>[marketplace, centralized-exchange, payments, ...</td>\n",
       "      <td>NaN</td>\n",
       "      <td>1.558411e+08</td>\n",
       "      <td>1.558411e+08</td>\n",
       "      <td>False</td>\n",
       "      <td>NaN</td>\n",
       "      <td>4</td>\n",
       "      <td>NaN</td>\n",
       "      <td>NaN</td>\n",
       "      <td>None</td>\n",
       "      <td>2023-05-02T14:41:00.000Z</td>\n",
       "      <td>325.132814</td>\n",
       "      <td>7.235622e+08</td>\n",
       "      <td>-39.1095</td>\n",
       "      <td>0.411915</td>\n",
       "      <td>-2.589604</td>\n",
       "      <td>-1.296774</td>\n",
       "      <td>3.438425</td>\n",
       "      <td>12.287694</td>\n",
       "      <td>5.235130</td>\n",
       "      <td>5.066906e+10</td>\n",
       "      <td>4.3034</td>\n",
       "      <td>5.066906e+10</td>\n",
       "      <td>None</td>\n",
       "      <td>2023-05-02T14:41:00.000Z</td>\n",
       "      <td>NaN</td>\n",
       "      <td>NaN</td>\n",
       "      <td>NaN</td>\n",
       "      <td>NaN</td>\n",
       "      <td>NaN</td>\n",
       "      <td>2023-05-02 14:50:17.006873</td>\n",
       "    </tr>\n",
       "    <tr>\n",
       "      <th>4</th>\n",
       "      <td>3408</td>\n",
       "      <td>USD Coin</td>\n",
       "      <td>USDC</td>\n",
       "      <td>usd-coin</td>\n",
       "      <td>12129</td>\n",
       "      <td>2018-10-08T00:00:00.000Z</td>\n",
       "      <td>[medium-of-exchange, stablecoin, asset-backed-...</td>\n",
       "      <td>NaN</td>\n",
       "      <td>3.040235e+10</td>\n",
       "      <td>3.040235e+10</td>\n",
       "      <td>False</td>\n",
       "      <td>NaN</td>\n",
       "      <td>5</td>\n",
       "      <td>NaN</td>\n",
       "      <td>NaN</td>\n",
       "      <td>None</td>\n",
       "      <td>2023-05-02T14:41:00.000Z</td>\n",
       "      <td>1.000025</td>\n",
       "      <td>3.153224e+09</td>\n",
       "      <td>-16.0793</td>\n",
       "      <td>-0.009324</td>\n",
       "      <td>0.017037</td>\n",
       "      <td>-0.007871</td>\n",
       "      <td>0.047601</td>\n",
       "      <td>0.006445</td>\n",
       "      <td>0.016451</td>\n",
       "      <td>3.040310e+10</td>\n",
       "      <td>2.5822</td>\n",
       "      <td>3.040310e+10</td>\n",
       "      <td>None</td>\n",
       "      <td>2023-05-02T14:41:00.000Z</td>\n",
       "      <td>1027.0</td>\n",
       "      <td>Ethereum</td>\n",
       "      <td>ETH</td>\n",
       "      <td>ethereum</td>\n",
       "      <td>0xa0b86991c6218b36c1d19d4a2e9eb0ce3606eb48</td>\n",
       "      <td>2023-05-02 14:50:17.006873</td>\n",
       "    </tr>\n",
       "    <tr>\n",
       "      <th>5</th>\n",
       "      <td>52</td>\n",
       "      <td>XRP</td>\n",
       "      <td>XRP</td>\n",
       "      <td>xrp</td>\n",
       "      <td>940</td>\n",
       "      <td>2013-08-04T00:00:00.000Z</td>\n",
       "      <td>[medium-of-exchange, enterprise-solutions, arr...</td>\n",
       "      <td>1.000000e+11</td>\n",
       "      <td>5.175081e+10</td>\n",
       "      <td>9.998900e+10</td>\n",
       "      <td>False</td>\n",
       "      <td>NaN</td>\n",
       "      <td>6</td>\n",
       "      <td>NaN</td>\n",
       "      <td>NaN</td>\n",
       "      <td>None</td>\n",
       "      <td>2023-05-02T14:41:00.000Z</td>\n",
       "      <td>0.463684</td>\n",
       "      <td>9.743213e+08</td>\n",
       "      <td>13.4700</td>\n",
       "      <td>0.466008</td>\n",
       "      <td>-0.021289</td>\n",
       "      <td>2.102577</td>\n",
       "      <td>-11.135062</td>\n",
       "      <td>26.136508</td>\n",
       "      <td>14.973027</td>\n",
       "      <td>2.399604e+10</td>\n",
       "      <td>2.0380</td>\n",
       "      <td>4.636844e+10</td>\n",
       "      <td>None</td>\n",
       "      <td>2023-05-02T14:41:00.000Z</td>\n",
       "      <td>NaN</td>\n",
       "      <td>NaN</td>\n",
       "      <td>NaN</td>\n",
       "      <td>NaN</td>\n",
       "      <td>NaN</td>\n",
       "      <td>2023-05-02 14:50:17.006873</td>\n",
       "    </tr>\n",
       "    <tr>\n",
       "      <th>6</th>\n",
       "      <td>2010</td>\n",
       "      <td>Cardano</td>\n",
       "      <td>ADA</td>\n",
       "      <td>cardano</td>\n",
       "      <td>776</td>\n",
       "      <td>2017-10-01T00:00:00.000Z</td>\n",
       "      <td>[dpos, pos, platform, research, smart-contract...</td>\n",
       "      <td>4.500000e+10</td>\n",
       "      <td>3.481094e+10</td>\n",
       "      <td>3.574457e+10</td>\n",
       "      <td>False</td>\n",
       "      <td>NaN</td>\n",
       "      <td>7</td>\n",
       "      <td>NaN</td>\n",
       "      <td>NaN</td>\n",
       "      <td>None</td>\n",
       "      <td>2023-05-02T14:41:00.000Z</td>\n",
       "      <td>0.388226</td>\n",
       "      <td>2.218057e+08</td>\n",
       "      <td>-25.9541</td>\n",
       "      <td>1.054938</td>\n",
       "      <td>-0.038813</td>\n",
       "      <td>2.418610</td>\n",
       "      <td>0.990881</td>\n",
       "      <td>14.682875</td>\n",
       "      <td>1.898072</td>\n",
       "      <td>1.351452e+10</td>\n",
       "      <td>1.1489</td>\n",
       "      <td>1.747018e+10</td>\n",
       "      <td>None</td>\n",
       "      <td>2023-05-02T14:41:00.000Z</td>\n",
       "      <td>NaN</td>\n",
       "      <td>NaN</td>\n",
       "      <td>NaN</td>\n",
       "      <td>NaN</td>\n",
       "      <td>NaN</td>\n",
       "      <td>2023-05-02 14:50:17.006873</td>\n",
       "    </tr>\n",
       "    <tr>\n",
       "      <th>7</th>\n",
       "      <td>74</td>\n",
       "      <td>Dogecoin</td>\n",
       "      <td>DOGE</td>\n",
       "      <td>dogecoin</td>\n",
       "      <td>699</td>\n",
       "      <td>2013-12-15T00:00:00.000Z</td>\n",
       "      <td>[mineable, pow, scrypt, medium-of-exchange, me...</td>\n",
       "      <td>NaN</td>\n",
       "      <td>1.391797e+11</td>\n",
       "      <td>1.391797e+11</td>\n",
       "      <td>False</td>\n",
       "      <td>NaN</td>\n",
       "      <td>8</td>\n",
       "      <td>NaN</td>\n",
       "      <td>NaN</td>\n",
       "      <td>None</td>\n",
       "      <td>2023-05-02T14:41:00.000Z</td>\n",
       "      <td>0.078758</td>\n",
       "      <td>2.747030e+08</td>\n",
       "      <td>-15.2831</td>\n",
       "      <td>0.936825</td>\n",
       "      <td>0.182916</td>\n",
       "      <td>0.919411</td>\n",
       "      <td>-1.867942</td>\n",
       "      <td>3.428892</td>\n",
       "      <td>-13.522462</td>\n",
       "      <td>1.096155e+10</td>\n",
       "      <td>0.9315</td>\n",
       "      <td>1.096155e+10</td>\n",
       "      <td>None</td>\n",
       "      <td>2023-05-02T14:41:00.000Z</td>\n",
       "      <td>NaN</td>\n",
       "      <td>NaN</td>\n",
       "      <td>NaN</td>\n",
       "      <td>NaN</td>\n",
       "      <td>NaN</td>\n",
       "      <td>2023-05-02 14:50:17.006873</td>\n",
       "    </tr>\n",
       "    <tr>\n",
       "      <th>8</th>\n",
       "      <td>3890</td>\n",
       "      <td>Polygon</td>\n",
       "      <td>MATIC</td>\n",
       "      <td>polygon</td>\n",
       "      <td>681</td>\n",
       "      <td>2019-04-28T00:00:00.000Z</td>\n",
       "      <td>[platform, enterprise-solutions, zero-knowledg...</td>\n",
       "      <td>1.000000e+10</td>\n",
       "      <td>9.249469e+09</td>\n",
       "      <td>1.000000e+10</td>\n",
       "      <td>False</td>\n",
       "      <td>NaN</td>\n",
       "      <td>9</td>\n",
       "      <td>NaN</td>\n",
       "      <td>NaN</td>\n",
       "      <td>None</td>\n",
       "      <td>2023-05-02T14:41:00.000Z</td>\n",
       "      <td>0.969838</td>\n",
       "      <td>3.587681e+08</td>\n",
       "      <td>-9.7923</td>\n",
       "      <td>1.320290</td>\n",
       "      <td>-0.175157</td>\n",
       "      <td>1.500615</td>\n",
       "      <td>-12.737340</td>\n",
       "      <td>-17.097243</td>\n",
       "      <td>-11.296202</td>\n",
       "      <td>8.970484e+09</td>\n",
       "      <td>0.7627</td>\n",
       "      <td>9.698378e+09</td>\n",
       "      <td>None</td>\n",
       "      <td>2023-05-02T14:41:00.000Z</td>\n",
       "      <td>NaN</td>\n",
       "      <td>NaN</td>\n",
       "      <td>NaN</td>\n",
       "      <td>NaN</td>\n",
       "      <td>NaN</td>\n",
       "      <td>2023-05-02 14:50:17.006873</td>\n",
       "    </tr>\n",
       "    <tr>\n",
       "      <th>9</th>\n",
       "      <td>5426</td>\n",
       "      <td>Solana</td>\n",
       "      <td>SOL</td>\n",
       "      <td>solana</td>\n",
       "      <td>458</td>\n",
       "      <td>2020-04-10T00:00:00.000Z</td>\n",
       "      <td>[pos, platform, solana-ecosystem, cms-holdings...</td>\n",
       "      <td>NaN</td>\n",
       "      <td>3.932362e+08</td>\n",
       "      <td>5.393127e+08</td>\n",
       "      <td>False</td>\n",
       "      <td>NaN</td>\n",
       "      <td>10</td>\n",
       "      <td>NaN</td>\n",
       "      <td>NaN</td>\n",
       "      <td>None</td>\n",
       "      <td>2023-05-02T14:41:00.000Z</td>\n",
       "      <td>22.207965</td>\n",
       "      <td>3.279574e+08</td>\n",
       "      <td>-32.9634</td>\n",
       "      <td>1.148996</td>\n",
       "      <td>0.635951</td>\n",
       "      <td>6.560071</td>\n",
       "      <td>6.578717</td>\n",
       "      <td>4.123337</td>\n",
       "      <td>-4.979319</td>\n",
       "      <td>8.732975e+09</td>\n",
       "      <td>0.7425</td>\n",
       "      <td>1.197704e+10</td>\n",
       "      <td>None</td>\n",
       "      <td>2023-05-02T14:41:00.000Z</td>\n",
       "      <td>NaN</td>\n",
       "      <td>NaN</td>\n",
       "      <td>NaN</td>\n",
       "      <td>NaN</td>\n",
       "      <td>NaN</td>\n",
       "      <td>2023-05-02 14:50:17.006873</td>\n",
       "    </tr>\n",
       "    <tr>\n",
       "      <th>10</th>\n",
       "      <td>6636</td>\n",
       "      <td>Polkadot</td>\n",
       "      <td>DOT</td>\n",
       "      <td>polkadot-new</td>\n",
       "      <td>499</td>\n",
       "      <td>2020-08-19T00:00:00.000Z</td>\n",
       "      <td>[substrate, polkadot, binance-chain, polkadot-...</td>\n",
       "      <td>NaN</td>\n",
       "      <td>1.179537e+09</td>\n",
       "      <td>1.309016e+09</td>\n",
       "      <td>False</td>\n",
       "      <td>NaN</td>\n",
       "      <td>11</td>\n",
       "      <td>NaN</td>\n",
       "      <td>NaN</td>\n",
       "      <td>None</td>\n",
       "      <td>2023-05-02T14:41:00.000Z</td>\n",
       "      <td>5.720663</td>\n",
       "      <td>1.310086e+08</td>\n",
       "      <td>2.1240</td>\n",
       "      <td>1.040196</td>\n",
       "      <td>-1.234959</td>\n",
       "      <td>-1.743346</td>\n",
       "      <td>-10.292166</td>\n",
       "      <td>-5.627200</td>\n",
       "      <td>-7.330873</td>\n",
       "      <td>6.747735e+09</td>\n",
       "      <td>0.5731</td>\n",
       "      <td>7.488440e+09</td>\n",
       "      <td>None</td>\n",
       "      <td>2023-05-02T14:41:00.000Z</td>\n",
       "      <td>NaN</td>\n",
       "      <td>NaN</td>\n",
       "      <td>NaN</td>\n",
       "      <td>NaN</td>\n",
       "      <td>NaN</td>\n",
       "      <td>2023-05-02 14:50:17.006873</td>\n",
       "    </tr>\n",
       "    <tr>\n",
       "      <th>11</th>\n",
       "      <td>2</td>\n",
       "      <td>Litecoin</td>\n",
       "      <td>LTC</td>\n",
       "      <td>litecoin</td>\n",
       "      <td>909</td>\n",
       "      <td>2013-04-28T00:00:00.000Z</td>\n",
       "      <td>[mineable, pow, scrypt, medium-of-exchange]</td>\n",
       "      <td>8.400000e+07</td>\n",
       "      <td>7.283375e+07</td>\n",
       "      <td>8.400000e+07</td>\n",
       "      <td>False</td>\n",
       "      <td>NaN</td>\n",
       "      <td>12</td>\n",
       "      <td>NaN</td>\n",
       "      <td>NaN</td>\n",
       "      <td>None</td>\n",
       "      <td>2023-05-02T14:41:00.000Z</td>\n",
       "      <td>88.864971</td>\n",
       "      <td>4.971528e+08</td>\n",
       "      <td>8.3261</td>\n",
       "      <td>0.970499</td>\n",
       "      <td>1.388311</td>\n",
       "      <td>0.153916</td>\n",
       "      <td>-5.645055</td>\n",
       "      <td>-0.372703</td>\n",
       "      <td>-6.980022</td>\n",
       "      <td>6.472369e+09</td>\n",
       "      <td>0.5500</td>\n",
       "      <td>7.464658e+09</td>\n",
       "      <td>None</td>\n",
       "      <td>2023-05-02T14:41:00.000Z</td>\n",
       "      <td>NaN</td>\n",
       "      <td>NaN</td>\n",
       "      <td>NaN</td>\n",
       "      <td>NaN</td>\n",
       "      <td>NaN</td>\n",
       "      <td>2023-05-02 14:50:17.006873</td>\n",
       "    </tr>\n",
       "    <tr>\n",
       "      <th>12</th>\n",
       "      <td>1958</td>\n",
       "      <td>TRON</td>\n",
       "      <td>TRX</td>\n",
       "      <td>tron</td>\n",
       "      <td>756</td>\n",
       "      <td>2017-09-13T00:00:00.000Z</td>\n",
       "      <td>[media, payments, tron-ecosystem]</td>\n",
       "      <td>NaN</td>\n",
       "      <td>9.060030e+10</td>\n",
       "      <td>9.060045e+10</td>\n",
       "      <td>False</td>\n",
       "      <td>NaN</td>\n",
       "      <td>13</td>\n",
       "      <td>7.165966e+10</td>\n",
       "      <td>4.933818e+09</td>\n",
       "      <td>None</td>\n",
       "      <td>2023-05-02T14:41:00.000Z</td>\n",
       "      <td>0.068851</td>\n",
       "      <td>2.354631e+08</td>\n",
       "      <td>-7.1872</td>\n",
       "      <td>0.595781</td>\n",
       "      <td>-0.431460</td>\n",
       "      <td>5.299177</td>\n",
       "      <td>4.132228</td>\n",
       "      <td>2.234861</td>\n",
       "      <td>10.604823</td>\n",
       "      <td>6.237894e+09</td>\n",
       "      <td>0.5298</td>\n",
       "      <td>6.237905e+09</td>\n",
       "      <td>None</td>\n",
       "      <td>2023-05-02T14:41:00.000Z</td>\n",
       "      <td>NaN</td>\n",
       "      <td>NaN</td>\n",
       "      <td>NaN</td>\n",
       "      <td>NaN</td>\n",
       "      <td>NaN</td>\n",
       "      <td>2023-05-02 14:50:17.006873</td>\n",
       "    </tr>\n",
       "    <tr>\n",
       "      <th>13</th>\n",
       "      <td>4687</td>\n",
       "      <td>Binance USD</td>\n",
       "      <td>BUSD</td>\n",
       "      <td>binance-usd</td>\n",
       "      <td>6692</td>\n",
       "      <td>2019-09-20T00:00:00.000Z</td>\n",
       "      <td>[stablecoin, asset-backed-stablecoin, binance-...</td>\n",
       "      <td>NaN</td>\n",
       "      <td>6.155960e+09</td>\n",
       "      <td>6.155960e+09</td>\n",
       "      <td>False</td>\n",
       "      <td>NaN</td>\n",
       "      <td>14</td>\n",
       "      <td>NaN</td>\n",
       "      <td>NaN</td>\n",
       "      <td>None</td>\n",
       "      <td>2023-05-02T14:41:00.000Z</td>\n",
       "      <td>1.000085</td>\n",
       "      <td>2.587874e+09</td>\n",
       "      <td>-17.9468</td>\n",
       "      <td>0.034905</td>\n",
       "      <td>0.036424</td>\n",
       "      <td>0.019908</td>\n",
       "      <td>0.069037</td>\n",
       "      <td>-0.010790</td>\n",
       "      <td>0.011746</td>\n",
       "      <td>6.156484e+09</td>\n",
       "      <td>0.5232</td>\n",
       "      <td>6.156484e+09</td>\n",
       "      <td>None</td>\n",
       "      <td>2023-05-02T14:41:00.000Z</td>\n",
       "      <td>1839.0</td>\n",
       "      <td>BNB</td>\n",
       "      <td>BNB</td>\n",
       "      <td>bnb</td>\n",
       "      <td>BUSD-BD1</td>\n",
       "      <td>2023-05-02 14:50:17.006873</td>\n",
       "    </tr>\n",
       "    <tr>\n",
       "      <th>14</th>\n",
       "      <td>5994</td>\n",
       "      <td>Shiba Inu</td>\n",
       "      <td>SHIB</td>\n",
       "      <td>shiba-inu</td>\n",
       "      <td>509</td>\n",
       "      <td>2020-08-01T00:00:00.000Z</td>\n",
       "      <td>[memes, ethereum-ecosystem, doggone-doggerel]</td>\n",
       "      <td>NaN</td>\n",
       "      <td>5.895446e+14</td>\n",
       "      <td>5.896045e+14</td>\n",
       "      <td>False</td>\n",
       "      <td>NaN</td>\n",
       "      <td>15</td>\n",
       "      <td>NaN</td>\n",
       "      <td>NaN</td>\n",
       "      <td>None</td>\n",
       "      <td>2023-05-02T14:41:00.000Z</td>\n",
       "      <td>0.000010</td>\n",
       "      <td>1.103450e+08</td>\n",
       "      <td>-14.2955</td>\n",
       "      <td>0.878593</td>\n",
       "      <td>0.128495</td>\n",
       "      <td>-1.519181</td>\n",
       "      <td>-9.409823</td>\n",
       "      <td>-12.290178</td>\n",
       "      <td>-14.022516</td>\n",
       "      <td>5.877001e+09</td>\n",
       "      <td>0.4991</td>\n",
       "      <td>5.877598e+09</td>\n",
       "      <td>None</td>\n",
       "      <td>2023-05-02T14:41:00.000Z</td>\n",
       "      <td>1027.0</td>\n",
       "      <td>Ethereum</td>\n",
       "      <td>ETH</td>\n",
       "      <td>ethereum</td>\n",
       "      <td>0x95ad61b0a150d79219dcf64e1e6cc01f0b64c4ce</td>\n",
       "      <td>2023-05-02 14:50:17.006873</td>\n",
       "    </tr>\n",
       "  </tbody>\n",
       "</table>\n",
       "</div>"
      ],
      "text/plain": [
       "      id         name symbol          slug  num_market_pairs  \\\n",
       "0      1      Bitcoin    BTC       bitcoin             10198   \n",
       "1   1027     Ethereum    ETH      ethereum              6812   \n",
       "2    825       Tether   USDT        tether             52387   \n",
       "3   1839          BNB    BNB           bnb              1309   \n",
       "4   3408     USD Coin   USDC      usd-coin             12129   \n",
       "5     52          XRP    XRP           xrp               940   \n",
       "6   2010      Cardano    ADA       cardano               776   \n",
       "7     74     Dogecoin   DOGE      dogecoin               699   \n",
       "8   3890      Polygon  MATIC       polygon               681   \n",
       "9   5426       Solana    SOL        solana               458   \n",
       "10  6636     Polkadot    DOT  polkadot-new               499   \n",
       "11     2     Litecoin    LTC      litecoin               909   \n",
       "12  1958         TRON    TRX          tron               756   \n",
       "13  4687  Binance USD   BUSD   binance-usd              6692   \n",
       "14  5994    Shiba Inu   SHIB     shiba-inu               509   \n",
       "\n",
       "                  date_added  \\\n",
       "0   2010-07-13T00:00:00.000Z   \n",
       "1   2015-08-07T00:00:00.000Z   \n",
       "2   2015-02-25T00:00:00.000Z   \n",
       "3   2017-07-25T00:00:00.000Z   \n",
       "4   2018-10-08T00:00:00.000Z   \n",
       "5   2013-08-04T00:00:00.000Z   \n",
       "6   2017-10-01T00:00:00.000Z   \n",
       "7   2013-12-15T00:00:00.000Z   \n",
       "8   2019-04-28T00:00:00.000Z   \n",
       "9   2020-04-10T00:00:00.000Z   \n",
       "10  2020-08-19T00:00:00.000Z   \n",
       "11  2013-04-28T00:00:00.000Z   \n",
       "12  2017-09-13T00:00:00.000Z   \n",
       "13  2019-09-20T00:00:00.000Z   \n",
       "14  2020-08-01T00:00:00.000Z   \n",
       "\n",
       "                                                 tags    max_supply  \\\n",
       "0   [mineable, pow, sha-256, store-of-value, state...  2.100000e+07   \n",
       "1   [pos, smart-contracts, ethereum-ecosystem, coi...           NaN   \n",
       "2   [payments, stablecoin, asset-backed-stablecoin...           NaN   \n",
       "3   [marketplace, centralized-exchange, payments, ...           NaN   \n",
       "4   [medium-of-exchange, stablecoin, asset-backed-...           NaN   \n",
       "5   [medium-of-exchange, enterprise-solutions, arr...  1.000000e+11   \n",
       "6   [dpos, pos, platform, research, smart-contract...  4.500000e+10   \n",
       "7   [mineable, pow, scrypt, medium-of-exchange, me...           NaN   \n",
       "8   [platform, enterprise-solutions, zero-knowledg...  1.000000e+10   \n",
       "9   [pos, platform, solana-ecosystem, cms-holdings...           NaN   \n",
       "10  [substrate, polkadot, binance-chain, polkadot-...           NaN   \n",
       "11        [mineable, pow, scrypt, medium-of-exchange]  8.400000e+07   \n",
       "12                  [media, payments, tron-ecosystem]           NaN   \n",
       "13  [stablecoin, asset-backed-stablecoin, binance-...           NaN   \n",
       "14      [memes, ethereum-ecosystem, doggone-doggerel]           NaN   \n",
       "\n",
       "    circulating_supply  total_supply  infinite_supply  platform  cmc_rank  \\\n",
       "0         1.936222e+07  1.936222e+07            False       NaN         1   \n",
       "1         1.203889e+08  1.203889e+08            False       NaN         2   \n",
       "2         8.180120e+10  8.509064e+10            False       NaN         3   \n",
       "3         1.558411e+08  1.558411e+08            False       NaN         4   \n",
       "4         3.040235e+10  3.040235e+10            False       NaN         5   \n",
       "5         5.175081e+10  9.998900e+10            False       NaN         6   \n",
       "6         3.481094e+10  3.574457e+10            False       NaN         7   \n",
       "7         1.391797e+11  1.391797e+11            False       NaN         8   \n",
       "8         9.249469e+09  1.000000e+10            False       NaN         9   \n",
       "9         3.932362e+08  5.393127e+08            False       NaN        10   \n",
       "10        1.179537e+09  1.309016e+09            False       NaN        11   \n",
       "11        7.283375e+07  8.400000e+07            False       NaN        12   \n",
       "12        9.060030e+10  9.060045e+10            False       NaN        13   \n",
       "13        6.155960e+09  6.155960e+09            False       NaN        14   \n",
       "14        5.895446e+14  5.896045e+14            False       NaN        15   \n",
       "\n",
       "    self_reported_circulating_supply  self_reported_market_cap tvl_ratio  \\\n",
       "0                                NaN                       NaN      None   \n",
       "1                                NaN                       NaN      None   \n",
       "2                                NaN                       NaN      None   \n",
       "3                                NaN                       NaN      None   \n",
       "4                                NaN                       NaN      None   \n",
       "5                                NaN                       NaN      None   \n",
       "6                                NaN                       NaN      None   \n",
       "7                                NaN                       NaN      None   \n",
       "8                                NaN                       NaN      None   \n",
       "9                                NaN                       NaN      None   \n",
       "10                               NaN                       NaN      None   \n",
       "11                               NaN                       NaN      None   \n",
       "12                      7.165966e+10              4.933818e+09      None   \n",
       "13                               NaN                       NaN      None   \n",
       "14                               NaN                       NaN      None   \n",
       "\n",
       "                last_updated  quote.USD.price  quote.USD.volume_24h  \\\n",
       "0   2023-05-02T14:41:00.000Z     28573.306127          1.683674e+10   \n",
       "1   2023-05-02T14:41:00.000Z      1860.108491          7.598358e+09   \n",
       "2   2023-05-02T14:41:00.000Z         1.000195          2.578696e+10   \n",
       "3   2023-05-02T14:41:00.000Z       325.132814          7.235622e+08   \n",
       "4   2023-05-02T14:41:00.000Z         1.000025          3.153224e+09   \n",
       "5   2023-05-02T14:41:00.000Z         0.463684          9.743213e+08   \n",
       "6   2023-05-02T14:41:00.000Z         0.388226          2.218057e+08   \n",
       "7   2023-05-02T14:41:00.000Z         0.078758          2.747030e+08   \n",
       "8   2023-05-02T14:41:00.000Z         0.969838          3.587681e+08   \n",
       "9   2023-05-02T14:41:00.000Z        22.207965          3.279574e+08   \n",
       "10  2023-05-02T14:41:00.000Z         5.720663          1.310086e+08   \n",
       "11  2023-05-02T14:41:00.000Z        88.864971          4.971528e+08   \n",
       "12  2023-05-02T14:41:00.000Z         0.068851          2.354631e+08   \n",
       "13  2023-05-02T14:41:00.000Z         1.000085          2.587874e+09   \n",
       "14  2023-05-02T14:41:00.000Z         0.000010          1.103450e+08   \n",
       "\n",
       "    quote.USD.volume_change_24h  quote.USD.percent_change_1h  \\\n",
       "0                      -11.5751                     2.132560   \n",
       "1                      -15.4969                     1.767998   \n",
       "2                      -13.9981                     0.006540   \n",
       "3                      -39.1095                     0.411915   \n",
       "4                      -16.0793                    -0.009324   \n",
       "5                       13.4700                     0.466008   \n",
       "6                      -25.9541                     1.054938   \n",
       "7                      -15.2831                     0.936825   \n",
       "8                       -9.7923                     1.320290   \n",
       "9                      -32.9634                     1.148996   \n",
       "10                       2.1240                     1.040196   \n",
       "11                       8.3261                     0.970499   \n",
       "12                      -7.1872                     0.595781   \n",
       "13                     -17.9468                     0.034905   \n",
       "14                     -14.2955                     0.878593   \n",
       "\n",
       "    quote.USD.percent_change_24h  quote.USD.percent_change_7d  \\\n",
       "0                       0.506637                     4.734199   \n",
       "1                       1.202031                     2.726796   \n",
       "2                       0.004633                    -0.013335   \n",
       "3                      -2.589604                    -1.296774   \n",
       "4                       0.017037                    -0.007871   \n",
       "5                      -0.021289                     2.102577   \n",
       "6                      -0.038813                     2.418610   \n",
       "7                       0.182916                     0.919411   \n",
       "8                      -0.175157                     1.500615   \n",
       "9                       0.635951                     6.560071   \n",
       "10                     -1.234959                    -1.743346   \n",
       "11                      1.388311                     0.153916   \n",
       "12                     -0.431460                     5.299177   \n",
       "13                      0.036424                     0.019908   \n",
       "14                      0.128495                    -1.519181   \n",
       "\n",
       "    quote.USD.percent_change_30d  quote.USD.percent_change_60d  \\\n",
       "0                       0.938417                     27.568497   \n",
       "1                       2.443954                     18.283707   \n",
       "2                       0.017869                      0.005936   \n",
       "3                       3.438425                     12.287694   \n",
       "4                       0.047601                      0.006445   \n",
       "5                     -11.135062                     26.136508   \n",
       "6                       0.990881                     14.682875   \n",
       "7                      -1.867942                      3.428892   \n",
       "8                     -12.737340                    -17.097243   \n",
       "9                       6.578717                      4.123337   \n",
       "10                    -10.292166                     -5.627200   \n",
       "11                     -5.645055                     -0.372703   \n",
       "12                      4.132228                      2.234861   \n",
       "13                      0.069037                     -0.010790   \n",
       "14                     -9.409823                    -12.290178   \n",
       "\n",
       "    quote.USD.percent_change_90d  quote.USD.market_cap  \\\n",
       "0                      23.825092          5.532426e+11   \n",
       "1                      17.727322          2.239365e+11   \n",
       "2                       0.004477          8.181712e+10   \n",
       "3                       5.235130          5.066906e+10   \n",
       "4                       0.016451          3.040310e+10   \n",
       "5                      14.973027          2.399604e+10   \n",
       "6                       1.898072          1.351452e+10   \n",
       "7                     -13.522462          1.096155e+10   \n",
       "8                     -11.296202          8.970484e+09   \n",
       "9                      -4.979319          8.732975e+09   \n",
       "10                     -7.330873          6.747735e+09   \n",
       "11                     -6.980022          6.472369e+09   \n",
       "12                     10.604823          6.237894e+09   \n",
       "13                      0.011746          6.156484e+09   \n",
       "14                    -14.022516          5.877001e+09   \n",
       "\n",
       "    quote.USD.market_cap_dominance  quote.USD.fully_diluted_market_cap  \\\n",
       "0                          47.0390                        6.000394e+11   \n",
       "1                          19.0191                        2.239365e+11   \n",
       "2                           6.9488                        8.510720e+10   \n",
       "3                           4.3034                        5.066906e+10   \n",
       "4                           2.5822                        3.040310e+10   \n",
       "5                           2.0380                        4.636844e+10   \n",
       "6                           1.1489                        1.747018e+10   \n",
       "7                           0.9315                        1.096155e+10   \n",
       "8                           0.7627                        9.698378e+09   \n",
       "9                           0.7425                        1.197704e+10   \n",
       "10                          0.5731                        7.488440e+09   \n",
       "11                          0.5500                        7.464658e+09   \n",
       "12                          0.5298                        6.237905e+09   \n",
       "13                          0.5232                        6.156484e+09   \n",
       "14                          0.4991                        5.877598e+09   \n",
       "\n",
       "   quote.USD.tvl    quote.USD.last_updated  platform.id platform.name  \\\n",
       "0           None  2023-05-02T14:41:00.000Z          NaN           NaN   \n",
       "1           None  2023-05-02T14:41:00.000Z          NaN           NaN   \n",
       "2           None  2023-05-02T14:41:00.000Z       1027.0      Ethereum   \n",
       "3           None  2023-05-02T14:41:00.000Z          NaN           NaN   \n",
       "4           None  2023-05-02T14:41:00.000Z       1027.0      Ethereum   \n",
       "5           None  2023-05-02T14:41:00.000Z          NaN           NaN   \n",
       "6           None  2023-05-02T14:41:00.000Z          NaN           NaN   \n",
       "7           None  2023-05-02T14:41:00.000Z          NaN           NaN   \n",
       "8           None  2023-05-02T14:41:00.000Z          NaN           NaN   \n",
       "9           None  2023-05-02T14:41:00.000Z          NaN           NaN   \n",
       "10          None  2023-05-02T14:41:00.000Z          NaN           NaN   \n",
       "11          None  2023-05-02T14:41:00.000Z          NaN           NaN   \n",
       "12          None  2023-05-02T14:41:00.000Z          NaN           NaN   \n",
       "13          None  2023-05-02T14:41:00.000Z       1839.0           BNB   \n",
       "14          None  2023-05-02T14:41:00.000Z       1027.0      Ethereum   \n",
       "\n",
       "   platform.symbol platform.slug                      platform.token_address  \\\n",
       "0              NaN           NaN                                         NaN   \n",
       "1              NaN           NaN                                         NaN   \n",
       "2              ETH      ethereum  0xdac17f958d2ee523a2206206994597c13d831ec7   \n",
       "3              NaN           NaN                                         NaN   \n",
       "4              ETH      ethereum  0xa0b86991c6218b36c1d19d4a2e9eb0ce3606eb48   \n",
       "5              NaN           NaN                                         NaN   \n",
       "6              NaN           NaN                                         NaN   \n",
       "7              NaN           NaN                                         NaN   \n",
       "8              NaN           NaN                                         NaN   \n",
       "9              NaN           NaN                                         NaN   \n",
       "10             NaN           NaN                                         NaN   \n",
       "11             NaN           NaN                                         NaN   \n",
       "12             NaN           NaN                                         NaN   \n",
       "13             BNB           bnb                                    BUSD-BD1   \n",
       "14             ETH      ethereum  0x95ad61b0a150d79219dcf64e1e6cc01f0b64c4ce   \n",
       "\n",
       "                    timestamp  \n",
       "0  2023-05-02 14:50:17.006873  \n",
       "1  2023-05-02 14:50:17.006873  \n",
       "2  2023-05-02 14:50:17.006873  \n",
       "3  2023-05-02 14:50:17.006873  \n",
       "4  2023-05-02 14:50:17.006873  \n",
       "5  2023-05-02 14:50:17.006873  \n",
       "6  2023-05-02 14:50:17.006873  \n",
       "7  2023-05-02 14:50:17.006873  \n",
       "8  2023-05-02 14:50:17.006873  \n",
       "9  2023-05-02 14:50:17.006873  \n",
       "10 2023-05-02 14:50:17.006873  \n",
       "11 2023-05-02 14:50:17.006873  \n",
       "12 2023-05-02 14:50:17.006873  \n",
       "13 2023-05-02 14:50:17.006873  \n",
       "14 2023-05-02 14:50:17.006873  "
      ]
     },
     "execution_count": 28,
     "metadata": {},
     "output_type": "execute_result"
    }
   ],
   "source": [
    "dataframe = pd.json_normalize(data['data'])\n",
    "dataframe['timestamp'] = pd.to_datetime(datetime.utcnow())\n",
    "dataframe"
   ]
  },
  {
   "cell_type": "code",
   "execution_count": null,
   "id": "8dcb30d7",
   "metadata": {},
   "outputs": [],
   "source": []
  },
  {
   "cell_type": "code",
   "execution_count": null,
   "id": "49291036",
   "metadata": {},
   "outputs": [],
   "source": [
    "#Automate above process"
   ]
  },
  {
   "cell_type": "code",
   "execution_count": null,
   "id": "102e47aa",
   "metadata": {},
   "outputs": [],
   "source": [
    "def api_runner():\n",
    "    global dataframe\n",
    "    url = 'https://pro-api.coinmarketcap.com/v1/cryptocurrency/listings/latest'\n",
    "    parameters = {\n",
    "      'start':'1',\n",
    "      'limit':'15',\n",
    "      'convert':'USD'\n",
    "    }\n",
    "    headers = {\n",
    "      'Accepts': 'application/json',\n",
    "      'X-CMC_PRO_API_KEY': '761dde62-9394-45dd-83e0-27c4411900e6',\n",
    "    }\n",
    "\n",
    "    session = Session()\n",
    "    session.headers.update(headers)\n",
    "\n",
    "    try:\n",
    "        response = session.get(url, params=parameters)\n",
    "        data = json.loads(response.text)\n",
    "        print(data)\n",
    "    except (ConnectionError, Timeout, TooManyRedirects) as e:\n",
    "        print(e)\n",
    "        \n",
    "    dataframe2 = pd.json_normalize(data['data'])\n",
    "    dataframe2['timestamp'] = pd.to_datetime(datetime.utcnow())\n",
    "    dataframe = dataframe.concat(dataframe2)"
   ]
  },
  {
   "cell_type": "code",
   "execution_count": null,
   "id": "bd4862b7",
   "metadata": {},
   "outputs": [],
   "source": [
    "import os\n",
    "from time import time\n",
    "from time import sleep\n",
    "\n",
    "for i in range(333):\n",
    "    api_runner()\n",
    "    print('API runner completed')\n",
    "    sleep(60) #sleep for 60 seconf\n",
    "exit()"
   ]
  },
  {
   "cell_type": "code",
   "execution_count": null,
   "id": "3d86ae56",
   "metadata": {
    "scrolled": true
   },
   "outputs": [],
   "source": [
    "dataframe"
   ]
  },
  {
   "cell_type": "code",
   "execution_count": null,
   "id": "a242e05c",
   "metadata": {},
   "outputs": [],
   "source": []
  },
  {
   "cell_type": "code",
   "execution_count": 40,
   "id": "25b9ea87",
   "metadata": {},
   "outputs": [],
   "source": [
    "#Convert dataframe into csv file\n",
    "def api_runner():\n",
    "    global dataframe\n",
    "    url = 'https://pro-api.coinmarketcap.com/v1/cryptocurrency/listings/latest'\n",
    "    parameters = {\n",
    "      'start':'1',\n",
    "      'limit':'15',\n",
    "      'convert':'USD'\n",
    "    }\n",
    "    headers = {\n",
    "      'Accepts': 'application/json',\n",
    "      'X-CMC_PRO_API_KEY': '761dde62-9394-45dd-83e0-27c4411900e6',\n",
    "    }\n",
    "\n",
    "    session = Session()\n",
    "    session.headers.update(headers)\n",
    "\n",
    "    try:\n",
    "        response = session.get(url, params=parameters)\n",
    "        data = json.loads(response.text)\n",
    "        print(data)\n",
    "    except (ConnectionError, Timeout, TooManyRedirects) as e:\n",
    "        print(e)\n",
    "        \n",
    "    dataframe = pd.json_normalize(data['data'])\n",
    "    dataframe['timestamp'] = pd.to_datetime(datetime.utcnow())\n",
    "    dataframe\n",
    "    if not os.path.isfile(r'C:\\Users\\admin\\Downloads\\API.csv'):\n",
    "        dataframe.to_csv(r'C:\\Users\\admin\\Downloads\\API.csv', header= 'column_names')\n",
    "    else:\n",
    "        dataframe.to_csv(r'C:\\Users\\admin\\Downloads\\API.csv', mode = 'a', header = False)\n",
    "        \n"
   ]
  },
  {
   "cell_type": "code",
   "execution_count": null,
   "id": "de87656d",
   "metadata": {},
   "outputs": [],
   "source": [
    "import os\n",
    "import pandas as pd\n",
    "import datetime\n",
    "from datetime import datetime\n",
    "from time import time\n",
    "from time import sleep\n",
    "\n",
    "for i in range(333):\n",
    "    api_runner()\n",
    "    print('API runner completed')\n",
    "    sleep(60) #sleep for 60 seconf\n",
    "exit()"
   ]
  },
  {
   "cell_type": "code",
   "execution_count": null,
   "id": "056c7fb3",
   "metadata": {},
   "outputs": [],
   "source": [
    "dataframe2 = pd.read_csv(r\"C:\\Users\\admin\\Downloads\\API.csv\")\n",
    "dataframe2"
   ]
  },
  {
   "cell_type": "code",
   "execution_count": 55,
   "id": "61d4ff56",
   "metadata": {},
   "outputs": [],
   "source": [
    "pd.set_option('display.float', lambda x: '%.5f' % x)"
   ]
  },
  {
   "cell_type": "code",
   "execution_count": 56,
   "id": "2116d6bd",
   "metadata": {},
   "outputs": [
    {
     "data": {
      "text/html": [
       "<div>\n",
       "<style scoped>\n",
       "    .dataframe tbody tr th:only-of-type {\n",
       "        vertical-align: middle;\n",
       "    }\n",
       "\n",
       "    .dataframe tbody tr th {\n",
       "        vertical-align: top;\n",
       "    }\n",
       "\n",
       "    .dataframe thead th {\n",
       "        text-align: right;\n",
       "    }\n",
       "</style>\n",
       "<table border=\"1\" class=\"dataframe\">\n",
       "  <thead>\n",
       "    <tr style=\"text-align: right;\">\n",
       "      <th></th>\n",
       "      <th>id</th>\n",
       "      <th>name</th>\n",
       "      <th>symbol</th>\n",
       "      <th>slug</th>\n",
       "      <th>num_market_pairs</th>\n",
       "      <th>date_added</th>\n",
       "      <th>tags</th>\n",
       "      <th>max_supply</th>\n",
       "      <th>circulating_supply</th>\n",
       "      <th>total_supply</th>\n",
       "      <th>infinite_supply</th>\n",
       "      <th>platform</th>\n",
       "      <th>cmc_rank</th>\n",
       "      <th>self_reported_circulating_supply</th>\n",
       "      <th>self_reported_market_cap</th>\n",
       "      <th>tvl_ratio</th>\n",
       "      <th>last_updated</th>\n",
       "      <th>quote.USD.price</th>\n",
       "      <th>quote.USD.volume_24h</th>\n",
       "      <th>quote.USD.volume_change_24h</th>\n",
       "      <th>quote.USD.percent_change_1h</th>\n",
       "      <th>quote.USD.percent_change_24h</th>\n",
       "      <th>quote.USD.percent_change_7d</th>\n",
       "      <th>quote.USD.percent_change_30d</th>\n",
       "      <th>quote.USD.percent_change_60d</th>\n",
       "      <th>quote.USD.percent_change_90d</th>\n",
       "      <th>quote.USD.market_cap</th>\n",
       "      <th>quote.USD.market_cap_dominance</th>\n",
       "      <th>quote.USD.fully_diluted_market_cap</th>\n",
       "      <th>quote.USD.tvl</th>\n",
       "      <th>quote.USD.last_updated</th>\n",
       "      <th>platform.id</th>\n",
       "      <th>platform.name</th>\n",
       "      <th>platform.symbol</th>\n",
       "      <th>platform.slug</th>\n",
       "      <th>platform.token_address</th>\n",
       "      <th>timestamp</th>\n",
       "    </tr>\n",
       "  </thead>\n",
       "  <tbody>\n",
       "    <tr>\n",
       "      <th>0</th>\n",
       "      <td>1</td>\n",
       "      <td>Bitcoin</td>\n",
       "      <td>BTC</td>\n",
       "      <td>bitcoin</td>\n",
       "      <td>10198</td>\n",
       "      <td>2010-07-13T00:00:00.000Z</td>\n",
       "      <td>[mineable, pow, sha-256, store-of-value, state...</td>\n",
       "      <td>21000000.00000</td>\n",
       "      <td>19362218.00000</td>\n",
       "      <td>19362218.00000</td>\n",
       "      <td>False</td>\n",
       "      <td>NaN</td>\n",
       "      <td>1</td>\n",
       "      <td>NaN</td>\n",
       "      <td>NaN</td>\n",
       "      <td>None</td>\n",
       "      <td>2023-05-02T15:36:00.000Z</td>\n",
       "      <td>28464.27836</td>\n",
       "      <td>17141964774.40785</td>\n",
       "      <td>-6.94110</td>\n",
       "      <td>-0.01312</td>\n",
       "      <td>1.04523</td>\n",
       "      <td>4.07019</td>\n",
       "      <td>1.26226</td>\n",
       "      <td>27.22807</td>\n",
       "      <td>23.35532</td>\n",
       "      <td>551131562829.89697</td>\n",
       "      <td>46.83020</td>\n",
       "      <td>597749845571.81995</td>\n",
       "      <td>None</td>\n",
       "      <td>2023-05-02T15:36:00.000Z</td>\n",
       "      <td>NaN</td>\n",
       "      <td>NaN</td>\n",
       "      <td>NaN</td>\n",
       "      <td>NaN</td>\n",
       "      <td>NaN</td>\n",
       "      <td>2023-05-02 15:37:28.846709</td>\n",
       "    </tr>\n",
       "    <tr>\n",
       "      <th>1</th>\n",
       "      <td>1027</td>\n",
       "      <td>Ethereum</td>\n",
       "      <td>ETH</td>\n",
       "      <td>ethereum</td>\n",
       "      <td>6812</td>\n",
       "      <td>2015-08-07T00:00:00.000Z</td>\n",
       "      <td>[pos, smart-contracts, ethereum-ecosystem, coi...</td>\n",
       "      <td>NaN</td>\n",
       "      <td>120388949.61997</td>\n",
       "      <td>120388949.61997</td>\n",
       "      <td>False</td>\n",
       "      <td>NaN</td>\n",
       "      <td>2</td>\n",
       "      <td>NaN</td>\n",
       "      <td>NaN</td>\n",
       "      <td>None</td>\n",
       "      <td>2023-05-02T15:36:00.000Z</td>\n",
       "      <td>1857.23365</td>\n",
       "      <td>7806155726.24787</td>\n",
       "      <td>-10.54170</td>\n",
       "      <td>0.19667</td>\n",
       "      <td>1.22840</td>\n",
       "      <td>2.28906</td>\n",
       "      <td>3.40524</td>\n",
       "      <td>18.23896</td>\n",
       "      <td>17.40687</td>\n",
       "      <td>223590407951.48721</td>\n",
       "      <td>19.03380</td>\n",
       "      <td>223590407951.48999</td>\n",
       "      <td>None</td>\n",
       "      <td>2023-05-02T15:36:00.000Z</td>\n",
       "      <td>NaN</td>\n",
       "      <td>NaN</td>\n",
       "      <td>NaN</td>\n",
       "      <td>NaN</td>\n",
       "      <td>NaN</td>\n",
       "      <td>2023-05-02 15:37:28.846709</td>\n",
       "    </tr>\n",
       "    <tr>\n",
       "      <th>2</th>\n",
       "      <td>825</td>\n",
       "      <td>Tether</td>\n",
       "      <td>USDT</td>\n",
       "      <td>tether</td>\n",
       "      <td>52387</td>\n",
       "      <td>2015-02-25T00:00:00.000Z</td>\n",
       "      <td>[payments, stablecoin, asset-backed-stablecoin...</td>\n",
       "      <td>NaN</td>\n",
       "      <td>81801198099.12396</td>\n",
       "      <td>85090638896.27005</td>\n",
       "      <td>False</td>\n",
       "      <td>NaN</td>\n",
       "      <td>3</td>\n",
       "      <td>NaN</td>\n",
       "      <td>NaN</td>\n",
       "      <td>None</td>\n",
       "      <td>2023-05-02T15:36:00.000Z</td>\n",
       "      <td>1.00036</td>\n",
       "      <td>26044889659.42856</td>\n",
       "      <td>-11.69130</td>\n",
       "      <td>0.01783</td>\n",
       "      <td>0.03244</td>\n",
       "      <td>0.05451</td>\n",
       "      <td>0.03601</td>\n",
       "      <td>0.02429</td>\n",
       "      <td>0.02709</td>\n",
       "      <td>81830460919.77492</td>\n",
       "      <td>6.96610</td>\n",
       "      <td>85121078451.72000</td>\n",
       "      <td>None</td>\n",
       "      <td>2023-05-02T15:36:00.000Z</td>\n",
       "      <td>1027.00000</td>\n",
       "      <td>Ethereum</td>\n",
       "      <td>ETH</td>\n",
       "      <td>ethereum</td>\n",
       "      <td>0xdac17f958d2ee523a2206206994597c13d831ec7</td>\n",
       "      <td>2023-05-02 15:37:28.846709</td>\n",
       "    </tr>\n",
       "    <tr>\n",
       "      <th>3</th>\n",
       "      <td>1839</td>\n",
       "      <td>BNB</td>\n",
       "      <td>BNB</td>\n",
       "      <td>bnb</td>\n",
       "      <td>1309</td>\n",
       "      <td>2017-07-25T00:00:00.000Z</td>\n",
       "      <td>[marketplace, centralized-exchange, payments, ...</td>\n",
       "      <td>NaN</td>\n",
       "      <td>155841125.16187</td>\n",
       "      <td>155841125.16187</td>\n",
       "      <td>False</td>\n",
       "      <td>NaN</td>\n",
       "      <td>4</td>\n",
       "      <td>NaN</td>\n",
       "      <td>NaN</td>\n",
       "      <td>None</td>\n",
       "      <td>2023-05-02T15:36:00.000Z</td>\n",
       "      <td>324.31074</td>\n",
       "      <td>716117951.60655</td>\n",
       "      <td>-39.64610</td>\n",
       "      <td>-0.18603</td>\n",
       "      <td>-2.15460</td>\n",
       "      <td>-2.15427</td>\n",
       "      <td>3.73015</td>\n",
       "      <td>11.93057</td>\n",
       "      <td>4.88787</td>\n",
       "      <td>50540950836.40139</td>\n",
       "      <td>4.30240</td>\n",
       "      <td>50540950836.40000</td>\n",
       "      <td>None</td>\n",
       "      <td>2023-05-02T15:36:00.000Z</td>\n",
       "      <td>NaN</td>\n",
       "      <td>NaN</td>\n",
       "      <td>NaN</td>\n",
       "      <td>NaN</td>\n",
       "      <td>NaN</td>\n",
       "      <td>2023-05-02 15:37:28.846709</td>\n",
       "    </tr>\n",
       "    <tr>\n",
       "      <th>4</th>\n",
       "      <td>3408</td>\n",
       "      <td>USD Coin</td>\n",
       "      <td>USDC</td>\n",
       "      <td>usd-coin</td>\n",
       "      <td>12130</td>\n",
       "      <td>2018-10-08T00:00:00.000Z</td>\n",
       "      <td>[medium-of-exchange, stablecoin, asset-backed-...</td>\n",
       "      <td>NaN</td>\n",
       "      <td>30402345031.18930</td>\n",
       "      <td>30402345031.18930</td>\n",
       "      <td>False</td>\n",
       "      <td>NaN</td>\n",
       "      <td>5</td>\n",
       "      <td>NaN</td>\n",
       "      <td>NaN</td>\n",
       "      <td>None</td>\n",
       "      <td>2023-05-02T15:36:00.000Z</td>\n",
       "      <td>1.00014</td>\n",
       "      <td>3159757756.92697</td>\n",
       "      <td>-13.78370</td>\n",
       "      <td>-0.00507</td>\n",
       "      <td>0.02856</td>\n",
       "      <td>0.03902</td>\n",
       "      <td>0.06473</td>\n",
       "      <td>0.01154</td>\n",
       "      <td>0.02824</td>\n",
       "      <td>30406679244.39961</td>\n",
       "      <td>2.58850</td>\n",
       "      <td>30406679244.40000</td>\n",
       "      <td>None</td>\n",
       "      <td>2023-05-02T15:36:00.000Z</td>\n",
       "      <td>1027.00000</td>\n",
       "      <td>Ethereum</td>\n",
       "      <td>ETH</td>\n",
       "      <td>ethereum</td>\n",
       "      <td>0xa0b86991c6218b36c1d19d4a2e9eb0ce3606eb48</td>\n",
       "      <td>2023-05-02 15:37:28.846709</td>\n",
       "    </tr>\n",
       "    <tr>\n",
       "      <th>5</th>\n",
       "      <td>52</td>\n",
       "      <td>XRP</td>\n",
       "      <td>XRP</td>\n",
       "      <td>xrp</td>\n",
       "      <td>940</td>\n",
       "      <td>2013-08-04T00:00:00.000Z</td>\n",
       "      <td>[medium-of-exchange, enterprise-solutions, arr...</td>\n",
       "      <td>100000000000.00000</td>\n",
       "      <td>51750810378.00000</td>\n",
       "      <td>99988998998.00000</td>\n",
       "      <td>False</td>\n",
       "      <td>NaN</td>\n",
       "      <td>6</td>\n",
       "      <td>NaN</td>\n",
       "      <td>NaN</td>\n",
       "      <td>None</td>\n",
       "      <td>2023-05-02T15:36:00.000Z</td>\n",
       "      <td>0.46250</td>\n",
       "      <td>961158040.85727</td>\n",
       "      <td>10.16670</td>\n",
       "      <td>-0.24086</td>\n",
       "      <td>0.54868</td>\n",
       "      <td>1.26900</td>\n",
       "      <td>-11.65434</td>\n",
       "      <td>25.65749</td>\n",
       "      <td>15.21062</td>\n",
       "      <td>23934994786.92199</td>\n",
       "      <td>2.03750</td>\n",
       "      <td>46250473397.61000</td>\n",
       "      <td>None</td>\n",
       "      <td>2023-05-02T15:36:00.000Z</td>\n",
       "      <td>NaN</td>\n",
       "      <td>NaN</td>\n",
       "      <td>NaN</td>\n",
       "      <td>NaN</td>\n",
       "      <td>NaN</td>\n",
       "      <td>2023-05-02 15:37:28.846709</td>\n",
       "    </tr>\n",
       "    <tr>\n",
       "      <th>6</th>\n",
       "      <td>2010</td>\n",
       "      <td>Cardano</td>\n",
       "      <td>ADA</td>\n",
       "      <td>cardano</td>\n",
       "      <td>776</td>\n",
       "      <td>2017-10-01T00:00:00.000Z</td>\n",
       "      <td>[dpos, pos, platform, research, smart-contract...</td>\n",
       "      <td>45000000000.00000</td>\n",
       "      <td>34810936145.55100</td>\n",
       "      <td>35744572183.81100</td>\n",
       "      <td>False</td>\n",
       "      <td>NaN</td>\n",
       "      <td>7</td>\n",
       "      <td>NaN</td>\n",
       "      <td>NaN</td>\n",
       "      <td>None</td>\n",
       "      <td>2023-05-02T15:36:00.000Z</td>\n",
       "      <td>0.38890</td>\n",
       "      <td>219139033.06477</td>\n",
       "      <td>-26.28670</td>\n",
       "      <td>0.16862</td>\n",
       "      <td>0.67912</td>\n",
       "      <td>2.34605</td>\n",
       "      <td>2.21498</td>\n",
       "      <td>14.74907</td>\n",
       "      <td>2.47001</td>\n",
       "      <td>13537855653.67926</td>\n",
       "      <td>1.15130</td>\n",
       "      <td>17500348220.12000</td>\n",
       "      <td>None</td>\n",
       "      <td>2023-05-02T15:36:00.000Z</td>\n",
       "      <td>NaN</td>\n",
       "      <td>NaN</td>\n",
       "      <td>NaN</td>\n",
       "      <td>NaN</td>\n",
       "      <td>NaN</td>\n",
       "      <td>2023-05-02 15:37:28.846709</td>\n",
       "    </tr>\n",
       "    <tr>\n",
       "      <th>7</th>\n",
       "      <td>74</td>\n",
       "      <td>Dogecoin</td>\n",
       "      <td>DOGE</td>\n",
       "      <td>dogecoin</td>\n",
       "      <td>699</td>\n",
       "      <td>2013-12-15T00:00:00.000Z</td>\n",
       "      <td>[mineable, pow, scrypt, medium-of-exchange, me...</td>\n",
       "      <td>NaN</td>\n",
       "      <td>139179676383.70523</td>\n",
       "      <td>139179676383.70523</td>\n",
       "      <td>False</td>\n",
       "      <td>NaN</td>\n",
       "      <td>8</td>\n",
       "      <td>NaN</td>\n",
       "      <td>NaN</td>\n",
       "      <td>None</td>\n",
       "      <td>2023-05-02T15:36:00.000Z</td>\n",
       "      <td>0.07847</td>\n",
       "      <td>273556135.46359</td>\n",
       "      <td>-15.16310</td>\n",
       "      <td>-0.30102</td>\n",
       "      <td>0.17393</td>\n",
       "      <td>0.38368</td>\n",
       "      <td>-0.38514</td>\n",
       "      <td>3.01802</td>\n",
       "      <td>-13.67901</td>\n",
       "      <td>10921251205.66109</td>\n",
       "      <td>0.92800</td>\n",
       "      <td>10921251205.66000</td>\n",
       "      <td>None</td>\n",
       "      <td>2023-05-02T15:36:00.000Z</td>\n",
       "      <td>NaN</td>\n",
       "      <td>NaN</td>\n",
       "      <td>NaN</td>\n",
       "      <td>NaN</td>\n",
       "      <td>NaN</td>\n",
       "      <td>2023-05-02 15:37:28.846709</td>\n",
       "    </tr>\n",
       "    <tr>\n",
       "      <th>8</th>\n",
       "      <td>3890</td>\n",
       "      <td>Polygon</td>\n",
       "      <td>MATIC</td>\n",
       "      <td>polygon</td>\n",
       "      <td>681</td>\n",
       "      <td>2019-04-28T00:00:00.000Z</td>\n",
       "      <td>[platform, enterprise-solutions, zero-knowledg...</td>\n",
       "      <td>10000000000.00000</td>\n",
       "      <td>9249469069.28493</td>\n",
       "      <td>10000000000.00000</td>\n",
       "      <td>False</td>\n",
       "      <td>NaN</td>\n",
       "      <td>9</td>\n",
       "      <td>NaN</td>\n",
       "      <td>NaN</td>\n",
       "      <td>None</td>\n",
       "      <td>2023-05-02T15:36:00.000Z</td>\n",
       "      <td>0.96775</td>\n",
       "      <td>358126782.07699</td>\n",
       "      <td>-8.71440</td>\n",
       "      <td>-0.18132</td>\n",
       "      <td>0.24303</td>\n",
       "      <td>1.40955</td>\n",
       "      <td>-11.40086</td>\n",
       "      <td>-17.00877</td>\n",
       "      <td>-11.51974</td>\n",
       "      <td>8951128524.71785</td>\n",
       "      <td>0.76060</td>\n",
       "      <td>9677451167.92000</td>\n",
       "      <td>None</td>\n",
       "      <td>2023-05-02T15:36:00.000Z</td>\n",
       "      <td>NaN</td>\n",
       "      <td>NaN</td>\n",
       "      <td>NaN</td>\n",
       "      <td>NaN</td>\n",
       "      <td>NaN</td>\n",
       "      <td>2023-05-02 15:37:28.846709</td>\n",
       "    </tr>\n",
       "    <tr>\n",
       "      <th>9</th>\n",
       "      <td>5426</td>\n",
       "      <td>Solana</td>\n",
       "      <td>SOL</td>\n",
       "      <td>solana</td>\n",
       "      <td>458</td>\n",
       "      <td>2020-04-10T00:00:00.000Z</td>\n",
       "      <td>[pos, platform, solana-ecosystem, cms-holdings...</td>\n",
       "      <td>NaN</td>\n",
       "      <td>393236153.61922</td>\n",
       "      <td>539312704.88753</td>\n",
       "      <td>False</td>\n",
       "      <td>NaN</td>\n",
       "      <td>10</td>\n",
       "      <td>NaN</td>\n",
       "      <td>NaN</td>\n",
       "      <td>None</td>\n",
       "      <td>2023-05-02T15:36:00.000Z</td>\n",
       "      <td>22.13681</td>\n",
       "      <td>322832765.45995</td>\n",
       "      <td>-33.73320</td>\n",
       "      <td>-0.22411</td>\n",
       "      <td>0.78610</td>\n",
       "      <td>5.73878</td>\n",
       "      <td>7.65392</td>\n",
       "      <td>3.80923</td>\n",
       "      <td>-4.83883</td>\n",
       "      <td>8704993797.25675</td>\n",
       "      <td>0.73970</td>\n",
       "      <td>11938662576.21000</td>\n",
       "      <td>None</td>\n",
       "      <td>2023-05-02T15:36:00.000Z</td>\n",
       "      <td>NaN</td>\n",
       "      <td>NaN</td>\n",
       "      <td>NaN</td>\n",
       "      <td>NaN</td>\n",
       "      <td>NaN</td>\n",
       "      <td>2023-05-02 15:37:28.846709</td>\n",
       "    </tr>\n",
       "    <tr>\n",
       "      <th>10</th>\n",
       "      <td>6636</td>\n",
       "      <td>Polkadot</td>\n",
       "      <td>DOT</td>\n",
       "      <td>polkadot-new</td>\n",
       "      <td>499</td>\n",
       "      <td>2020-08-19T00:00:00.000Z</td>\n",
       "      <td>[substrate, polkadot, binance-chain, polkadot-...</td>\n",
       "      <td>NaN</td>\n",
       "      <td>1179537355.34854</td>\n",
       "      <td>1309016232.65372</td>\n",
       "      <td>False</td>\n",
       "      <td>NaN</td>\n",
       "      <td>11</td>\n",
       "      <td>NaN</td>\n",
       "      <td>NaN</td>\n",
       "      <td>None</td>\n",
       "      <td>2023-05-02T15:36:00.000Z</td>\n",
       "      <td>5.70058</td>\n",
       "      <td>130372914.31040</td>\n",
       "      <td>3.50940</td>\n",
       "      <td>-0.31694</td>\n",
       "      <td>-1.22892</td>\n",
       "      <td>-2.05960</td>\n",
       "      <td>-9.37515</td>\n",
       "      <td>-5.91265</td>\n",
       "      <td>-7.47763</td>\n",
       "      <td>6724041749.25571</td>\n",
       "      <td>0.57240</td>\n",
       "      <td>7462145864.99000</td>\n",
       "      <td>None</td>\n",
       "      <td>2023-05-02T15:36:00.000Z</td>\n",
       "      <td>NaN</td>\n",
       "      <td>NaN</td>\n",
       "      <td>NaN</td>\n",
       "      <td>NaN</td>\n",
       "      <td>NaN</td>\n",
       "      <td>2023-05-02 15:37:28.846709</td>\n",
       "    </tr>\n",
       "    <tr>\n",
       "      <th>11</th>\n",
       "      <td>2</td>\n",
       "      <td>Litecoin</td>\n",
       "      <td>LTC</td>\n",
       "      <td>litecoin</td>\n",
       "      <td>909</td>\n",
       "      <td>2013-04-28T00:00:00.000Z</td>\n",
       "      <td>[mineable, pow, scrypt, medium-of-exchange]</td>\n",
       "      <td>84000000.00000</td>\n",
       "      <td>72833751.82080</td>\n",
       "      <td>84000000.00000</td>\n",
       "      <td>False</td>\n",
       "      <td>NaN</td>\n",
       "      <td>12</td>\n",
       "      <td>NaN</td>\n",
       "      <td>NaN</td>\n",
       "      <td>None</td>\n",
       "      <td>2023-05-02T15:36:00.000Z</td>\n",
       "      <td>88.30502</td>\n",
       "      <td>462908470.60181</td>\n",
       "      <td>0.05690</td>\n",
       "      <td>-0.74913</td>\n",
       "      <td>1.58541</td>\n",
       "      <td>-0.81579</td>\n",
       "      <td>-4.00244</td>\n",
       "      <td>-1.35124</td>\n",
       "      <td>-6.86043</td>\n",
       "      <td>6431585794.74580</td>\n",
       "      <td>0.54650</td>\n",
       "      <td>7417621545.68000</td>\n",
       "      <td>None</td>\n",
       "      <td>2023-05-02T15:36:00.000Z</td>\n",
       "      <td>NaN</td>\n",
       "      <td>NaN</td>\n",
       "      <td>NaN</td>\n",
       "      <td>NaN</td>\n",
       "      <td>NaN</td>\n",
       "      <td>2023-05-02 15:37:28.846709</td>\n",
       "    </tr>\n",
       "    <tr>\n",
       "      <th>12</th>\n",
       "      <td>1958</td>\n",
       "      <td>TRON</td>\n",
       "      <td>TRX</td>\n",
       "      <td>tron</td>\n",
       "      <td>756</td>\n",
       "      <td>2017-09-13T00:00:00.000Z</td>\n",
       "      <td>[media, payments, tron-ecosystem]</td>\n",
       "      <td>NaN</td>\n",
       "      <td>90600297556.89882</td>\n",
       "      <td>90600452347.79079</td>\n",
       "      <td>False</td>\n",
       "      <td>NaN</td>\n",
       "      <td>13</td>\n",
       "      <td>71659659264.00000</td>\n",
       "      <td>4920494652.84319</td>\n",
       "      <td>None</td>\n",
       "      <td>2023-05-02T15:36:00.000Z</td>\n",
       "      <td>0.06866</td>\n",
       "      <td>231840081.03354</td>\n",
       "      <td>-10.07100</td>\n",
       "      <td>-0.25516</td>\n",
       "      <td>0.28065</td>\n",
       "      <td>4.96375</td>\n",
       "      <td>4.66268</td>\n",
       "      <td>1.87685</td>\n",
       "      <td>10.21794</td>\n",
       "      <td>6221049391.71376</td>\n",
       "      <td>0.52960</td>\n",
       "      <td>6221060020.40000</td>\n",
       "      <td>None</td>\n",
       "      <td>2023-05-02T15:36:00.000Z</td>\n",
       "      <td>NaN</td>\n",
       "      <td>NaN</td>\n",
       "      <td>NaN</td>\n",
       "      <td>NaN</td>\n",
       "      <td>NaN</td>\n",
       "      <td>2023-05-02 15:37:28.846709</td>\n",
       "    </tr>\n",
       "    <tr>\n",
       "      <th>13</th>\n",
       "      <td>4687</td>\n",
       "      <td>Binance USD</td>\n",
       "      <td>BUSD</td>\n",
       "      <td>binance-usd</td>\n",
       "      <td>6692</td>\n",
       "      <td>2019-09-20T00:00:00.000Z</td>\n",
       "      <td>[stablecoin, asset-backed-stablecoin, binance-...</td>\n",
       "      <td>NaN</td>\n",
       "      <td>6155960293.11338</td>\n",
       "      <td>6155960293.11338</td>\n",
       "      <td>False</td>\n",
       "      <td>NaN</td>\n",
       "      <td>14</td>\n",
       "      <td>NaN</td>\n",
       "      <td>NaN</td>\n",
       "      <td>None</td>\n",
       "      <td>2023-05-02T15:36:00.000Z</td>\n",
       "      <td>1.00001</td>\n",
       "      <td>2557121342.19500</td>\n",
       "      <td>-18.20600</td>\n",
       "      <td>-0.01348</td>\n",
       "      <td>0.01837</td>\n",
       "      <td>0.04114</td>\n",
       "      <td>0.06681</td>\n",
       "      <td>-0.00659</td>\n",
       "      <td>-0.01532</td>\n",
       "      <td>6156046757.91444</td>\n",
       "      <td>0.52310</td>\n",
       "      <td>6156046757.91000</td>\n",
       "      <td>None</td>\n",
       "      <td>2023-05-02T15:36:00.000Z</td>\n",
       "      <td>1839.00000</td>\n",
       "      <td>BNB</td>\n",
       "      <td>BNB</td>\n",
       "      <td>bnb</td>\n",
       "      <td>BUSD-BD1</td>\n",
       "      <td>2023-05-02 15:37:28.846709</td>\n",
       "    </tr>\n",
       "    <tr>\n",
       "      <th>14</th>\n",
       "      <td>5994</td>\n",
       "      <td>Shiba Inu</td>\n",
       "      <td>SHIB</td>\n",
       "      <td>shiba-inu</td>\n",
       "      <td>509</td>\n",
       "      <td>2020-08-01T00:00:00.000Z</td>\n",
       "      <td>[memes, ethereum-ecosystem, doggone-doggerel]</td>\n",
       "      <td>NaN</td>\n",
       "      <td>589544571244948.75000</td>\n",
       "      <td>589604534417650.12500</td>\n",
       "      <td>False</td>\n",
       "      <td>NaN</td>\n",
       "      <td>15</td>\n",
       "      <td>NaN</td>\n",
       "      <td>NaN</td>\n",
       "      <td>None</td>\n",
       "      <td>2023-05-02T15:36:00.000Z</td>\n",
       "      <td>0.00001</td>\n",
       "      <td>107984424.11374</td>\n",
       "      <td>-16.88500</td>\n",
       "      <td>-0.13419</td>\n",
       "      <td>0.42483</td>\n",
       "      <td>-1.85230</td>\n",
       "      <td>-8.17492</td>\n",
       "      <td>-12.28061</td>\n",
       "      <td>-14.09099</td>\n",
       "      <td>5865868224.25250</td>\n",
       "      <td>0.49930</td>\n",
       "      <td>5866464847.62000</td>\n",
       "      <td>None</td>\n",
       "      <td>2023-05-02T15:36:00.000Z</td>\n",
       "      <td>1027.00000</td>\n",
       "      <td>Ethereum</td>\n",
       "      <td>ETH</td>\n",
       "      <td>ethereum</td>\n",
       "      <td>0x95ad61b0a150d79219dcf64e1e6cc01f0b64c4ce</td>\n",
       "      <td>2023-05-02 15:37:28.846709</td>\n",
       "    </tr>\n",
       "  </tbody>\n",
       "</table>\n",
       "</div>"
      ],
      "text/plain": [
       "      id         name symbol          slug  num_market_pairs  \\\n",
       "0      1      Bitcoin    BTC       bitcoin             10198   \n",
       "1   1027     Ethereum    ETH      ethereum              6812   \n",
       "2    825       Tether   USDT        tether             52387   \n",
       "3   1839          BNB    BNB           bnb              1309   \n",
       "4   3408     USD Coin   USDC      usd-coin             12130   \n",
       "5     52          XRP    XRP           xrp               940   \n",
       "6   2010      Cardano    ADA       cardano               776   \n",
       "7     74     Dogecoin   DOGE      dogecoin               699   \n",
       "8   3890      Polygon  MATIC       polygon               681   \n",
       "9   5426       Solana    SOL        solana               458   \n",
       "10  6636     Polkadot    DOT  polkadot-new               499   \n",
       "11     2     Litecoin    LTC      litecoin               909   \n",
       "12  1958         TRON    TRX          tron               756   \n",
       "13  4687  Binance USD   BUSD   binance-usd              6692   \n",
       "14  5994    Shiba Inu   SHIB     shiba-inu               509   \n",
       "\n",
       "                  date_added  \\\n",
       "0   2010-07-13T00:00:00.000Z   \n",
       "1   2015-08-07T00:00:00.000Z   \n",
       "2   2015-02-25T00:00:00.000Z   \n",
       "3   2017-07-25T00:00:00.000Z   \n",
       "4   2018-10-08T00:00:00.000Z   \n",
       "5   2013-08-04T00:00:00.000Z   \n",
       "6   2017-10-01T00:00:00.000Z   \n",
       "7   2013-12-15T00:00:00.000Z   \n",
       "8   2019-04-28T00:00:00.000Z   \n",
       "9   2020-04-10T00:00:00.000Z   \n",
       "10  2020-08-19T00:00:00.000Z   \n",
       "11  2013-04-28T00:00:00.000Z   \n",
       "12  2017-09-13T00:00:00.000Z   \n",
       "13  2019-09-20T00:00:00.000Z   \n",
       "14  2020-08-01T00:00:00.000Z   \n",
       "\n",
       "                                                 tags         max_supply  \\\n",
       "0   [mineable, pow, sha-256, store-of-value, state...     21000000.00000   \n",
       "1   [pos, smart-contracts, ethereum-ecosystem, coi...                NaN   \n",
       "2   [payments, stablecoin, asset-backed-stablecoin...                NaN   \n",
       "3   [marketplace, centralized-exchange, payments, ...                NaN   \n",
       "4   [medium-of-exchange, stablecoin, asset-backed-...                NaN   \n",
       "5   [medium-of-exchange, enterprise-solutions, arr... 100000000000.00000   \n",
       "6   [dpos, pos, platform, research, smart-contract...  45000000000.00000   \n",
       "7   [mineable, pow, scrypt, medium-of-exchange, me...                NaN   \n",
       "8   [platform, enterprise-solutions, zero-knowledg...  10000000000.00000   \n",
       "9   [pos, platform, solana-ecosystem, cms-holdings...                NaN   \n",
       "10  [substrate, polkadot, binance-chain, polkadot-...                NaN   \n",
       "11        [mineable, pow, scrypt, medium-of-exchange]     84000000.00000   \n",
       "12                  [media, payments, tron-ecosystem]                NaN   \n",
       "13  [stablecoin, asset-backed-stablecoin, binance-...                NaN   \n",
       "14      [memes, ethereum-ecosystem, doggone-doggerel]                NaN   \n",
       "\n",
       "      circulating_supply          total_supply  infinite_supply  platform  \\\n",
       "0         19362218.00000        19362218.00000            False       NaN   \n",
       "1        120388949.61997       120388949.61997            False       NaN   \n",
       "2      81801198099.12396     85090638896.27005            False       NaN   \n",
       "3        155841125.16187       155841125.16187            False       NaN   \n",
       "4      30402345031.18930     30402345031.18930            False       NaN   \n",
       "5      51750810378.00000     99988998998.00000            False       NaN   \n",
       "6      34810936145.55100     35744572183.81100            False       NaN   \n",
       "7     139179676383.70523    139179676383.70523            False       NaN   \n",
       "8       9249469069.28493     10000000000.00000            False       NaN   \n",
       "9        393236153.61922       539312704.88753            False       NaN   \n",
       "10      1179537355.34854      1309016232.65372            False       NaN   \n",
       "11        72833751.82080        84000000.00000            False       NaN   \n",
       "12     90600297556.89882     90600452347.79079            False       NaN   \n",
       "13      6155960293.11338      6155960293.11338            False       NaN   \n",
       "14 589544571244948.75000 589604534417650.12500            False       NaN   \n",
       "\n",
       "    cmc_rank  self_reported_circulating_supply  self_reported_market_cap  \\\n",
       "0          1                               NaN                       NaN   \n",
       "1          2                               NaN                       NaN   \n",
       "2          3                               NaN                       NaN   \n",
       "3          4                               NaN                       NaN   \n",
       "4          5                               NaN                       NaN   \n",
       "5          6                               NaN                       NaN   \n",
       "6          7                               NaN                       NaN   \n",
       "7          8                               NaN                       NaN   \n",
       "8          9                               NaN                       NaN   \n",
       "9         10                               NaN                       NaN   \n",
       "10        11                               NaN                       NaN   \n",
       "11        12                               NaN                       NaN   \n",
       "12        13                 71659659264.00000          4920494652.84319   \n",
       "13        14                               NaN                       NaN   \n",
       "14        15                               NaN                       NaN   \n",
       "\n",
       "   tvl_ratio              last_updated  quote.USD.price  quote.USD.volume_24h  \\\n",
       "0       None  2023-05-02T15:36:00.000Z      28464.27836     17141964774.40785   \n",
       "1       None  2023-05-02T15:36:00.000Z       1857.23365      7806155726.24787   \n",
       "2       None  2023-05-02T15:36:00.000Z          1.00036     26044889659.42856   \n",
       "3       None  2023-05-02T15:36:00.000Z        324.31074       716117951.60655   \n",
       "4       None  2023-05-02T15:36:00.000Z          1.00014      3159757756.92697   \n",
       "5       None  2023-05-02T15:36:00.000Z          0.46250       961158040.85727   \n",
       "6       None  2023-05-02T15:36:00.000Z          0.38890       219139033.06477   \n",
       "7       None  2023-05-02T15:36:00.000Z          0.07847       273556135.46359   \n",
       "8       None  2023-05-02T15:36:00.000Z          0.96775       358126782.07699   \n",
       "9       None  2023-05-02T15:36:00.000Z         22.13681       322832765.45995   \n",
       "10      None  2023-05-02T15:36:00.000Z          5.70058       130372914.31040   \n",
       "11      None  2023-05-02T15:36:00.000Z         88.30502       462908470.60181   \n",
       "12      None  2023-05-02T15:36:00.000Z          0.06866       231840081.03354   \n",
       "13      None  2023-05-02T15:36:00.000Z          1.00001      2557121342.19500   \n",
       "14      None  2023-05-02T15:36:00.000Z          0.00001       107984424.11374   \n",
       "\n",
       "    quote.USD.volume_change_24h  quote.USD.percent_change_1h  \\\n",
       "0                      -6.94110                     -0.01312   \n",
       "1                     -10.54170                      0.19667   \n",
       "2                     -11.69130                      0.01783   \n",
       "3                     -39.64610                     -0.18603   \n",
       "4                     -13.78370                     -0.00507   \n",
       "5                      10.16670                     -0.24086   \n",
       "6                     -26.28670                      0.16862   \n",
       "7                     -15.16310                     -0.30102   \n",
       "8                      -8.71440                     -0.18132   \n",
       "9                     -33.73320                     -0.22411   \n",
       "10                      3.50940                     -0.31694   \n",
       "11                      0.05690                     -0.74913   \n",
       "12                    -10.07100                     -0.25516   \n",
       "13                    -18.20600                     -0.01348   \n",
       "14                    -16.88500                     -0.13419   \n",
       "\n",
       "    quote.USD.percent_change_24h  quote.USD.percent_change_7d  \\\n",
       "0                        1.04523                      4.07019   \n",
       "1                        1.22840                      2.28906   \n",
       "2                        0.03244                      0.05451   \n",
       "3                       -2.15460                     -2.15427   \n",
       "4                        0.02856                      0.03902   \n",
       "5                        0.54868                      1.26900   \n",
       "6                        0.67912                      2.34605   \n",
       "7                        0.17393                      0.38368   \n",
       "8                        0.24303                      1.40955   \n",
       "9                        0.78610                      5.73878   \n",
       "10                      -1.22892                     -2.05960   \n",
       "11                       1.58541                     -0.81579   \n",
       "12                       0.28065                      4.96375   \n",
       "13                       0.01837                      0.04114   \n",
       "14                       0.42483                     -1.85230   \n",
       "\n",
       "    quote.USD.percent_change_30d  quote.USD.percent_change_60d  \\\n",
       "0                        1.26226                      27.22807   \n",
       "1                        3.40524                      18.23896   \n",
       "2                        0.03601                       0.02429   \n",
       "3                        3.73015                      11.93057   \n",
       "4                        0.06473                       0.01154   \n",
       "5                      -11.65434                      25.65749   \n",
       "6                        2.21498                      14.74907   \n",
       "7                       -0.38514                       3.01802   \n",
       "8                      -11.40086                     -17.00877   \n",
       "9                        7.65392                       3.80923   \n",
       "10                      -9.37515                      -5.91265   \n",
       "11                      -4.00244                      -1.35124   \n",
       "12                       4.66268                       1.87685   \n",
       "13                       0.06681                      -0.00659   \n",
       "14                      -8.17492                     -12.28061   \n",
       "\n",
       "    quote.USD.percent_change_90d  quote.USD.market_cap  \\\n",
       "0                       23.35532    551131562829.89697   \n",
       "1                       17.40687    223590407951.48721   \n",
       "2                        0.02709     81830460919.77492   \n",
       "3                        4.88787     50540950836.40139   \n",
       "4                        0.02824     30406679244.39961   \n",
       "5                       15.21062     23934994786.92199   \n",
       "6                        2.47001     13537855653.67926   \n",
       "7                      -13.67901     10921251205.66109   \n",
       "8                      -11.51974      8951128524.71785   \n",
       "9                       -4.83883      8704993797.25675   \n",
       "10                      -7.47763      6724041749.25571   \n",
       "11                      -6.86043      6431585794.74580   \n",
       "12                      10.21794      6221049391.71376   \n",
       "13                      -0.01532      6156046757.91444   \n",
       "14                     -14.09099      5865868224.25250   \n",
       "\n",
       "    quote.USD.market_cap_dominance  quote.USD.fully_diluted_market_cap  \\\n",
       "0                         46.83020                  597749845571.81995   \n",
       "1                         19.03380                  223590407951.48999   \n",
       "2                          6.96610                   85121078451.72000   \n",
       "3                          4.30240                   50540950836.40000   \n",
       "4                          2.58850                   30406679244.40000   \n",
       "5                          2.03750                   46250473397.61000   \n",
       "6                          1.15130                   17500348220.12000   \n",
       "7                          0.92800                   10921251205.66000   \n",
       "8                          0.76060                    9677451167.92000   \n",
       "9                          0.73970                   11938662576.21000   \n",
       "10                         0.57240                    7462145864.99000   \n",
       "11                         0.54650                    7417621545.68000   \n",
       "12                         0.52960                    6221060020.40000   \n",
       "13                         0.52310                    6156046757.91000   \n",
       "14                         0.49930                    5866464847.62000   \n",
       "\n",
       "   quote.USD.tvl    quote.USD.last_updated  platform.id platform.name  \\\n",
       "0           None  2023-05-02T15:36:00.000Z          NaN           NaN   \n",
       "1           None  2023-05-02T15:36:00.000Z          NaN           NaN   \n",
       "2           None  2023-05-02T15:36:00.000Z   1027.00000      Ethereum   \n",
       "3           None  2023-05-02T15:36:00.000Z          NaN           NaN   \n",
       "4           None  2023-05-02T15:36:00.000Z   1027.00000      Ethereum   \n",
       "5           None  2023-05-02T15:36:00.000Z          NaN           NaN   \n",
       "6           None  2023-05-02T15:36:00.000Z          NaN           NaN   \n",
       "7           None  2023-05-02T15:36:00.000Z          NaN           NaN   \n",
       "8           None  2023-05-02T15:36:00.000Z          NaN           NaN   \n",
       "9           None  2023-05-02T15:36:00.000Z          NaN           NaN   \n",
       "10          None  2023-05-02T15:36:00.000Z          NaN           NaN   \n",
       "11          None  2023-05-02T15:36:00.000Z          NaN           NaN   \n",
       "12          None  2023-05-02T15:36:00.000Z          NaN           NaN   \n",
       "13          None  2023-05-02T15:36:00.000Z   1839.00000           BNB   \n",
       "14          None  2023-05-02T15:36:00.000Z   1027.00000      Ethereum   \n",
       "\n",
       "   platform.symbol platform.slug                      platform.token_address  \\\n",
       "0              NaN           NaN                                         NaN   \n",
       "1              NaN           NaN                                         NaN   \n",
       "2              ETH      ethereum  0xdac17f958d2ee523a2206206994597c13d831ec7   \n",
       "3              NaN           NaN                                         NaN   \n",
       "4              ETH      ethereum  0xa0b86991c6218b36c1d19d4a2e9eb0ce3606eb48   \n",
       "5              NaN           NaN                                         NaN   \n",
       "6              NaN           NaN                                         NaN   \n",
       "7              NaN           NaN                                         NaN   \n",
       "8              NaN           NaN                                         NaN   \n",
       "9              NaN           NaN                                         NaN   \n",
       "10             NaN           NaN                                         NaN   \n",
       "11             NaN           NaN                                         NaN   \n",
       "12             NaN           NaN                                         NaN   \n",
       "13             BNB           bnb                                    BUSD-BD1   \n",
       "14             ETH      ethereum  0x95ad61b0a150d79219dcf64e1e6cc01f0b64c4ce   \n",
       "\n",
       "                    timestamp  \n",
       "0  2023-05-02 15:37:28.846709  \n",
       "1  2023-05-02 15:37:28.846709  \n",
       "2  2023-05-02 15:37:28.846709  \n",
       "3  2023-05-02 15:37:28.846709  \n",
       "4  2023-05-02 15:37:28.846709  \n",
       "5  2023-05-02 15:37:28.846709  \n",
       "6  2023-05-02 15:37:28.846709  \n",
       "7  2023-05-02 15:37:28.846709  \n",
       "8  2023-05-02 15:37:28.846709  \n",
       "9  2023-05-02 15:37:28.846709  \n",
       "10 2023-05-02 15:37:28.846709  \n",
       "11 2023-05-02 15:37:28.846709  \n",
       "12 2023-05-02 15:37:28.846709  \n",
       "13 2023-05-02 15:37:28.846709  \n",
       "14 2023-05-02 15:37:28.846709  "
      ]
     },
     "execution_count": 56,
     "metadata": {},
     "output_type": "execute_result"
    }
   ],
   "source": [
    "dataframe"
   ]
  },
  {
   "cell_type": "code",
   "execution_count": 60,
   "id": "b35bc6e1",
   "metadata": {
    "scrolled": true
   },
   "outputs": [
    {
     "data": {
      "text/html": [
       "<div>\n",
       "<style scoped>\n",
       "    .dataframe tbody tr th:only-of-type {\n",
       "        vertical-align: middle;\n",
       "    }\n",
       "\n",
       "    .dataframe tbody tr th {\n",
       "        vertical-align: top;\n",
       "    }\n",
       "\n",
       "    .dataframe thead th {\n",
       "        text-align: right;\n",
       "    }\n",
       "</style>\n",
       "<table border=\"1\" class=\"dataframe\">\n",
       "  <thead>\n",
       "    <tr style=\"text-align: right;\">\n",
       "      <th></th>\n",
       "      <th>quote.USD.percent_change_1h</th>\n",
       "      <th>quote.USD.percent_change_24h</th>\n",
       "      <th>quote.USD.percent_change_7d</th>\n",
       "      <th>quote.USD.percent_change_30d</th>\n",
       "      <th>quote.USD.percent_change_60d</th>\n",
       "      <th>quote.USD.percent_change_90d</th>\n",
       "    </tr>\n",
       "    <tr>\n",
       "      <th>name</th>\n",
       "      <th></th>\n",
       "      <th></th>\n",
       "      <th></th>\n",
       "      <th></th>\n",
       "      <th></th>\n",
       "      <th></th>\n",
       "    </tr>\n",
       "  </thead>\n",
       "  <tbody>\n",
       "    <tr>\n",
       "      <th>Bitcoin</th>\n",
       "      <td>-0.01312</td>\n",
       "      <td>1.04523</td>\n",
       "      <td>4.07019</td>\n",
       "      <td>1.26226</td>\n",
       "      <td>27.22807</td>\n",
       "      <td>23.35532</td>\n",
       "    </tr>\n",
       "    <tr>\n",
       "      <th>Ethereum</th>\n",
       "      <td>0.19667</td>\n",
       "      <td>1.22840</td>\n",
       "      <td>2.28906</td>\n",
       "      <td>3.40524</td>\n",
       "      <td>18.23896</td>\n",
       "      <td>17.40687</td>\n",
       "    </tr>\n",
       "    <tr>\n",
       "      <th>Tether</th>\n",
       "      <td>0.01783</td>\n",
       "      <td>0.03244</td>\n",
       "      <td>0.05451</td>\n",
       "      <td>0.03601</td>\n",
       "      <td>0.02429</td>\n",
       "      <td>0.02709</td>\n",
       "    </tr>\n",
       "    <tr>\n",
       "      <th>BNB</th>\n",
       "      <td>-0.18603</td>\n",
       "      <td>-2.15460</td>\n",
       "      <td>-2.15427</td>\n",
       "      <td>3.73015</td>\n",
       "      <td>11.93057</td>\n",
       "      <td>4.88787</td>\n",
       "    </tr>\n",
       "    <tr>\n",
       "      <th>USD Coin</th>\n",
       "      <td>-0.00507</td>\n",
       "      <td>0.02856</td>\n",
       "      <td>0.03902</td>\n",
       "      <td>0.06473</td>\n",
       "      <td>0.01154</td>\n",
       "      <td>0.02824</td>\n",
       "    </tr>\n",
       "    <tr>\n",
       "      <th>XRP</th>\n",
       "      <td>-0.24086</td>\n",
       "      <td>0.54868</td>\n",
       "      <td>1.26900</td>\n",
       "      <td>-11.65434</td>\n",
       "      <td>25.65749</td>\n",
       "      <td>15.21062</td>\n",
       "    </tr>\n",
       "    <tr>\n",
       "      <th>Cardano</th>\n",
       "      <td>0.16862</td>\n",
       "      <td>0.67912</td>\n",
       "      <td>2.34605</td>\n",
       "      <td>2.21498</td>\n",
       "      <td>14.74907</td>\n",
       "      <td>2.47001</td>\n",
       "    </tr>\n",
       "    <tr>\n",
       "      <th>Dogecoin</th>\n",
       "      <td>-0.30102</td>\n",
       "      <td>0.17393</td>\n",
       "      <td>0.38368</td>\n",
       "      <td>-0.38514</td>\n",
       "      <td>3.01802</td>\n",
       "      <td>-13.67901</td>\n",
       "    </tr>\n",
       "    <tr>\n",
       "      <th>Polygon</th>\n",
       "      <td>-0.18132</td>\n",
       "      <td>0.24303</td>\n",
       "      <td>1.40955</td>\n",
       "      <td>-11.40086</td>\n",
       "      <td>-17.00877</td>\n",
       "      <td>-11.51974</td>\n",
       "    </tr>\n",
       "    <tr>\n",
       "      <th>Solana</th>\n",
       "      <td>-0.22411</td>\n",
       "      <td>0.78610</td>\n",
       "      <td>5.73878</td>\n",
       "      <td>7.65392</td>\n",
       "      <td>3.80923</td>\n",
       "      <td>-4.83883</td>\n",
       "    </tr>\n",
       "    <tr>\n",
       "      <th>Polkadot</th>\n",
       "      <td>-0.31694</td>\n",
       "      <td>-1.22892</td>\n",
       "      <td>-2.05960</td>\n",
       "      <td>-9.37515</td>\n",
       "      <td>-5.91265</td>\n",
       "      <td>-7.47763</td>\n",
       "    </tr>\n",
       "    <tr>\n",
       "      <th>Litecoin</th>\n",
       "      <td>-0.74913</td>\n",
       "      <td>1.58541</td>\n",
       "      <td>-0.81579</td>\n",
       "      <td>-4.00244</td>\n",
       "      <td>-1.35124</td>\n",
       "      <td>-6.86043</td>\n",
       "    </tr>\n",
       "    <tr>\n",
       "      <th>TRON</th>\n",
       "      <td>-0.25516</td>\n",
       "      <td>0.28065</td>\n",
       "      <td>4.96375</td>\n",
       "      <td>4.66268</td>\n",
       "      <td>1.87685</td>\n",
       "      <td>10.21794</td>\n",
       "    </tr>\n",
       "    <tr>\n",
       "      <th>Binance USD</th>\n",
       "      <td>-0.01348</td>\n",
       "      <td>0.01837</td>\n",
       "      <td>0.04114</td>\n",
       "      <td>0.06681</td>\n",
       "      <td>-0.00659</td>\n",
       "      <td>-0.01532</td>\n",
       "    </tr>\n",
       "    <tr>\n",
       "      <th>Shiba Inu</th>\n",
       "      <td>-0.13419</td>\n",
       "      <td>0.42483</td>\n",
       "      <td>-1.85230</td>\n",
       "      <td>-8.17492</td>\n",
       "      <td>-12.28061</td>\n",
       "      <td>-14.09099</td>\n",
       "    </tr>\n",
       "  </tbody>\n",
       "</table>\n",
       "</div>"
      ],
      "text/plain": [
       "             quote.USD.percent_change_1h  quote.USD.percent_change_24h  \\\n",
       "name                                                                     \n",
       "Bitcoin                         -0.01312                       1.04523   \n",
       "Ethereum                         0.19667                       1.22840   \n",
       "Tether                           0.01783                       0.03244   \n",
       "BNB                             -0.18603                      -2.15460   \n",
       "USD Coin                        -0.00507                       0.02856   \n",
       "XRP                             -0.24086                       0.54868   \n",
       "Cardano                          0.16862                       0.67912   \n",
       "Dogecoin                        -0.30102                       0.17393   \n",
       "Polygon                         -0.18132                       0.24303   \n",
       "Solana                          -0.22411                       0.78610   \n",
       "Polkadot                        -0.31694                      -1.22892   \n",
       "Litecoin                        -0.74913                       1.58541   \n",
       "TRON                            -0.25516                       0.28065   \n",
       "Binance USD                     -0.01348                       0.01837   \n",
       "Shiba Inu                       -0.13419                       0.42483   \n",
       "\n",
       "             quote.USD.percent_change_7d  quote.USD.percent_change_30d  \\\n",
       "name                                                                     \n",
       "Bitcoin                          4.07019                       1.26226   \n",
       "Ethereum                         2.28906                       3.40524   \n",
       "Tether                           0.05451                       0.03601   \n",
       "BNB                             -2.15427                       3.73015   \n",
       "USD Coin                         0.03902                       0.06473   \n",
       "XRP                              1.26900                     -11.65434   \n",
       "Cardano                          2.34605                       2.21498   \n",
       "Dogecoin                         0.38368                      -0.38514   \n",
       "Polygon                          1.40955                     -11.40086   \n",
       "Solana                           5.73878                       7.65392   \n",
       "Polkadot                        -2.05960                      -9.37515   \n",
       "Litecoin                        -0.81579                      -4.00244   \n",
       "TRON                             4.96375                       4.66268   \n",
       "Binance USD                      0.04114                       0.06681   \n",
       "Shiba Inu                       -1.85230                      -8.17492   \n",
       "\n",
       "             quote.USD.percent_change_60d  quote.USD.percent_change_90d  \n",
       "name                                                                     \n",
       "Bitcoin                          27.22807                      23.35532  \n",
       "Ethereum                         18.23896                      17.40687  \n",
       "Tether                            0.02429                       0.02709  \n",
       "BNB                              11.93057                       4.88787  \n",
       "USD Coin                          0.01154                       0.02824  \n",
       "XRP                              25.65749                      15.21062  \n",
       "Cardano                          14.74907                       2.47001  \n",
       "Dogecoin                          3.01802                     -13.67901  \n",
       "Polygon                         -17.00877                     -11.51974  \n",
       "Solana                            3.80923                      -4.83883  \n",
       "Polkadot                         -5.91265                      -7.47763  \n",
       "Litecoin                         -1.35124                      -6.86043  \n",
       "TRON                              1.87685                      10.21794  \n",
       "Binance USD                      -0.00659                      -0.01532  \n",
       "Shiba Inu                       -12.28061                     -14.09099  "
      ]
     },
     "execution_count": 60,
     "metadata": {},
     "output_type": "execute_result"
    }
   ],
   "source": [
    "dataframe3 = dataframe.groupby('name', sort= False)[['quote.USD.percent_change_1h','quote.USD.percent_change_24h','quote.USD.percent_change_7d','quote.USD.percent_change_30d','quote.USD.percent_change_60d','quote.USD.percent_change_90d']].mean()\n",
    "dataframe3"
   ]
  },
  {
   "cell_type": "code",
   "execution_count": 62,
   "id": "cb87decf",
   "metadata": {},
   "outputs": [
    {
     "data": {
      "text/plain": [
       "name                                     \n",
       "Bitcoin      quote.USD.percent_change_1h     -0.01312\n",
       "             quote.USD.percent_change_24h     1.04523\n",
       "             quote.USD.percent_change_7d      4.07019\n",
       "             quote.USD.percent_change_30d     1.26226\n",
       "             quote.USD.percent_change_60d    27.22807\n",
       "             quote.USD.percent_change_90d    23.35532\n",
       "Ethereum     quote.USD.percent_change_1h      0.19667\n",
       "             quote.USD.percent_change_24h     1.22840\n",
       "             quote.USD.percent_change_7d      2.28906\n",
       "             quote.USD.percent_change_30d     3.40524\n",
       "             quote.USD.percent_change_60d    18.23896\n",
       "             quote.USD.percent_change_90d    17.40687\n",
       "Tether       quote.USD.percent_change_1h      0.01783\n",
       "             quote.USD.percent_change_24h     0.03244\n",
       "             quote.USD.percent_change_7d      0.05451\n",
       "             quote.USD.percent_change_30d     0.03601\n",
       "             quote.USD.percent_change_60d     0.02429\n",
       "             quote.USD.percent_change_90d     0.02709\n",
       "BNB          quote.USD.percent_change_1h     -0.18603\n",
       "             quote.USD.percent_change_24h    -2.15460\n",
       "             quote.USD.percent_change_7d     -2.15427\n",
       "             quote.USD.percent_change_30d     3.73015\n",
       "             quote.USD.percent_change_60d    11.93057\n",
       "             quote.USD.percent_change_90d     4.88787\n",
       "USD Coin     quote.USD.percent_change_1h     -0.00507\n",
       "             quote.USD.percent_change_24h     0.02856\n",
       "             quote.USD.percent_change_7d      0.03902\n",
       "             quote.USD.percent_change_30d     0.06473\n",
       "             quote.USD.percent_change_60d     0.01154\n",
       "             quote.USD.percent_change_90d     0.02824\n",
       "XRP          quote.USD.percent_change_1h     -0.24086\n",
       "             quote.USD.percent_change_24h     0.54868\n",
       "             quote.USD.percent_change_7d      1.26900\n",
       "             quote.USD.percent_change_30d   -11.65434\n",
       "             quote.USD.percent_change_60d    25.65749\n",
       "             quote.USD.percent_change_90d    15.21062\n",
       "Cardano      quote.USD.percent_change_1h      0.16862\n",
       "             quote.USD.percent_change_24h     0.67912\n",
       "             quote.USD.percent_change_7d      2.34605\n",
       "             quote.USD.percent_change_30d     2.21498\n",
       "             quote.USD.percent_change_60d    14.74907\n",
       "             quote.USD.percent_change_90d     2.47001\n",
       "Dogecoin     quote.USD.percent_change_1h     -0.30102\n",
       "             quote.USD.percent_change_24h     0.17393\n",
       "             quote.USD.percent_change_7d      0.38368\n",
       "             quote.USD.percent_change_30d    -0.38514\n",
       "             quote.USD.percent_change_60d     3.01802\n",
       "             quote.USD.percent_change_90d   -13.67901\n",
       "Polygon      quote.USD.percent_change_1h     -0.18132\n",
       "             quote.USD.percent_change_24h     0.24303\n",
       "             quote.USD.percent_change_7d      1.40955\n",
       "             quote.USD.percent_change_30d   -11.40086\n",
       "             quote.USD.percent_change_60d   -17.00877\n",
       "             quote.USD.percent_change_90d   -11.51974\n",
       "Solana       quote.USD.percent_change_1h     -0.22411\n",
       "             quote.USD.percent_change_24h     0.78610\n",
       "             quote.USD.percent_change_7d      5.73878\n",
       "             quote.USD.percent_change_30d     7.65392\n",
       "             quote.USD.percent_change_60d     3.80923\n",
       "             quote.USD.percent_change_90d    -4.83883\n",
       "Polkadot     quote.USD.percent_change_1h     -0.31694\n",
       "             quote.USD.percent_change_24h    -1.22892\n",
       "             quote.USD.percent_change_7d     -2.05960\n",
       "             quote.USD.percent_change_30d    -9.37515\n",
       "             quote.USD.percent_change_60d    -5.91265\n",
       "             quote.USD.percent_change_90d    -7.47763\n",
       "Litecoin     quote.USD.percent_change_1h     -0.74913\n",
       "             quote.USD.percent_change_24h     1.58541\n",
       "             quote.USD.percent_change_7d     -0.81579\n",
       "             quote.USD.percent_change_30d    -4.00244\n",
       "             quote.USD.percent_change_60d    -1.35124\n",
       "             quote.USD.percent_change_90d    -6.86043\n",
       "TRON         quote.USD.percent_change_1h     -0.25516\n",
       "             quote.USD.percent_change_24h     0.28065\n",
       "             quote.USD.percent_change_7d      4.96375\n",
       "             quote.USD.percent_change_30d     4.66268\n",
       "             quote.USD.percent_change_60d     1.87685\n",
       "             quote.USD.percent_change_90d    10.21794\n",
       "Binance USD  quote.USD.percent_change_1h     -0.01348\n",
       "             quote.USD.percent_change_24h     0.01837\n",
       "             quote.USD.percent_change_7d      0.04114\n",
       "             quote.USD.percent_change_30d     0.06681\n",
       "             quote.USD.percent_change_60d    -0.00659\n",
       "             quote.USD.percent_change_90d    -0.01532\n",
       "Shiba Inu    quote.USD.percent_change_1h     -0.13419\n",
       "             quote.USD.percent_change_24h     0.42483\n",
       "             quote.USD.percent_change_7d     -1.85230\n",
       "             quote.USD.percent_change_30d    -8.17492\n",
       "             quote.USD.percent_change_60d   -12.28061\n",
       "             quote.USD.percent_change_90d   -14.09099\n",
       "dtype: float64"
      ]
     },
     "execution_count": 62,
     "metadata": {},
     "output_type": "execute_result"
    }
   ],
   "source": [
    "dataframe4 = dataframe3.stack()\n",
    "dataframe4"
   ]
  },
  {
   "cell_type": "code",
   "execution_count": 63,
   "id": "c4c48516",
   "metadata": {},
   "outputs": [
    {
     "data": {
      "text/plain": [
       "pandas.core.frame.DataFrame"
      ]
     },
     "execution_count": 63,
     "metadata": {},
     "output_type": "execute_result"
    }
   ],
   "source": [
    "type(dataframe3)"
   ]
  },
  {
   "cell_type": "code",
   "execution_count": 64,
   "id": "29e31510",
   "metadata": {},
   "outputs": [
    {
     "data": {
      "text/plain": [
       "pandas.core.series.Series"
      ]
     },
     "execution_count": 64,
     "metadata": {},
     "output_type": "execute_result"
    }
   ],
   "source": [
    "type(dataframe4)"
   ]
  },
  {
   "cell_type": "code",
   "execution_count": 65,
   "id": "41b0d7ff",
   "metadata": {},
   "outputs": [
    {
     "data": {
      "text/html": [
       "<div>\n",
       "<style scoped>\n",
       "    .dataframe tbody tr th:only-of-type {\n",
       "        vertical-align: middle;\n",
       "    }\n",
       "\n",
       "    .dataframe tbody tr th {\n",
       "        vertical-align: top;\n",
       "    }\n",
       "\n",
       "    .dataframe thead th {\n",
       "        text-align: right;\n",
       "    }\n",
       "</style>\n",
       "<table border=\"1\" class=\"dataframe\">\n",
       "  <thead>\n",
       "    <tr style=\"text-align: right;\">\n",
       "      <th></th>\n",
       "      <th></th>\n",
       "      <th>values</th>\n",
       "    </tr>\n",
       "    <tr>\n",
       "      <th>name</th>\n",
       "      <th></th>\n",
       "      <th></th>\n",
       "    </tr>\n",
       "  </thead>\n",
       "  <tbody>\n",
       "    <tr>\n",
       "      <th rowspan=\"6\" valign=\"top\">Bitcoin</th>\n",
       "      <th>quote.USD.percent_change_1h</th>\n",
       "      <td>-0.01312</td>\n",
       "    </tr>\n",
       "    <tr>\n",
       "      <th>quote.USD.percent_change_24h</th>\n",
       "      <td>1.04523</td>\n",
       "    </tr>\n",
       "    <tr>\n",
       "      <th>quote.USD.percent_change_7d</th>\n",
       "      <td>4.07019</td>\n",
       "    </tr>\n",
       "    <tr>\n",
       "      <th>quote.USD.percent_change_30d</th>\n",
       "      <td>1.26226</td>\n",
       "    </tr>\n",
       "    <tr>\n",
       "      <th>quote.USD.percent_change_60d</th>\n",
       "      <td>27.22807</td>\n",
       "    </tr>\n",
       "    <tr>\n",
       "      <th>quote.USD.percent_change_90d</th>\n",
       "      <td>23.35532</td>\n",
       "    </tr>\n",
       "    <tr>\n",
       "      <th rowspan=\"6\" valign=\"top\">Ethereum</th>\n",
       "      <th>quote.USD.percent_change_1h</th>\n",
       "      <td>0.19667</td>\n",
       "    </tr>\n",
       "    <tr>\n",
       "      <th>quote.USD.percent_change_24h</th>\n",
       "      <td>1.22840</td>\n",
       "    </tr>\n",
       "    <tr>\n",
       "      <th>quote.USD.percent_change_7d</th>\n",
       "      <td>2.28906</td>\n",
       "    </tr>\n",
       "    <tr>\n",
       "      <th>quote.USD.percent_change_30d</th>\n",
       "      <td>3.40524</td>\n",
       "    </tr>\n",
       "    <tr>\n",
       "      <th>quote.USD.percent_change_60d</th>\n",
       "      <td>18.23896</td>\n",
       "    </tr>\n",
       "    <tr>\n",
       "      <th>quote.USD.percent_change_90d</th>\n",
       "      <td>17.40687</td>\n",
       "    </tr>\n",
       "    <tr>\n",
       "      <th rowspan=\"6\" valign=\"top\">Tether</th>\n",
       "      <th>quote.USD.percent_change_1h</th>\n",
       "      <td>0.01783</td>\n",
       "    </tr>\n",
       "    <tr>\n",
       "      <th>quote.USD.percent_change_24h</th>\n",
       "      <td>0.03244</td>\n",
       "    </tr>\n",
       "    <tr>\n",
       "      <th>quote.USD.percent_change_7d</th>\n",
       "      <td>0.05451</td>\n",
       "    </tr>\n",
       "    <tr>\n",
       "      <th>quote.USD.percent_change_30d</th>\n",
       "      <td>0.03601</td>\n",
       "    </tr>\n",
       "    <tr>\n",
       "      <th>quote.USD.percent_change_60d</th>\n",
       "      <td>0.02429</td>\n",
       "    </tr>\n",
       "    <tr>\n",
       "      <th>quote.USD.percent_change_90d</th>\n",
       "      <td>0.02709</td>\n",
       "    </tr>\n",
       "    <tr>\n",
       "      <th rowspan=\"6\" valign=\"top\">BNB</th>\n",
       "      <th>quote.USD.percent_change_1h</th>\n",
       "      <td>-0.18603</td>\n",
       "    </tr>\n",
       "    <tr>\n",
       "      <th>quote.USD.percent_change_24h</th>\n",
       "      <td>-2.15460</td>\n",
       "    </tr>\n",
       "    <tr>\n",
       "      <th>quote.USD.percent_change_7d</th>\n",
       "      <td>-2.15427</td>\n",
       "    </tr>\n",
       "    <tr>\n",
       "      <th>quote.USD.percent_change_30d</th>\n",
       "      <td>3.73015</td>\n",
       "    </tr>\n",
       "    <tr>\n",
       "      <th>quote.USD.percent_change_60d</th>\n",
       "      <td>11.93057</td>\n",
       "    </tr>\n",
       "    <tr>\n",
       "      <th>quote.USD.percent_change_90d</th>\n",
       "      <td>4.88787</td>\n",
       "    </tr>\n",
       "    <tr>\n",
       "      <th rowspan=\"6\" valign=\"top\">USD Coin</th>\n",
       "      <th>quote.USD.percent_change_1h</th>\n",
       "      <td>-0.00507</td>\n",
       "    </tr>\n",
       "    <tr>\n",
       "      <th>quote.USD.percent_change_24h</th>\n",
       "      <td>0.02856</td>\n",
       "    </tr>\n",
       "    <tr>\n",
       "      <th>quote.USD.percent_change_7d</th>\n",
       "      <td>0.03902</td>\n",
       "    </tr>\n",
       "    <tr>\n",
       "      <th>quote.USD.percent_change_30d</th>\n",
       "      <td>0.06473</td>\n",
       "    </tr>\n",
       "    <tr>\n",
       "      <th>quote.USD.percent_change_60d</th>\n",
       "      <td>0.01154</td>\n",
       "    </tr>\n",
       "    <tr>\n",
       "      <th>quote.USD.percent_change_90d</th>\n",
       "      <td>0.02824</td>\n",
       "    </tr>\n",
       "    <tr>\n",
       "      <th rowspan=\"6\" valign=\"top\">XRP</th>\n",
       "      <th>quote.USD.percent_change_1h</th>\n",
       "      <td>-0.24086</td>\n",
       "    </tr>\n",
       "    <tr>\n",
       "      <th>quote.USD.percent_change_24h</th>\n",
       "      <td>0.54868</td>\n",
       "    </tr>\n",
       "    <tr>\n",
       "      <th>quote.USD.percent_change_7d</th>\n",
       "      <td>1.26900</td>\n",
       "    </tr>\n",
       "    <tr>\n",
       "      <th>quote.USD.percent_change_30d</th>\n",
       "      <td>-11.65434</td>\n",
       "    </tr>\n",
       "    <tr>\n",
       "      <th>quote.USD.percent_change_60d</th>\n",
       "      <td>25.65749</td>\n",
       "    </tr>\n",
       "    <tr>\n",
       "      <th>quote.USD.percent_change_90d</th>\n",
       "      <td>15.21062</td>\n",
       "    </tr>\n",
       "    <tr>\n",
       "      <th rowspan=\"6\" valign=\"top\">Cardano</th>\n",
       "      <th>quote.USD.percent_change_1h</th>\n",
       "      <td>0.16862</td>\n",
       "    </tr>\n",
       "    <tr>\n",
       "      <th>quote.USD.percent_change_24h</th>\n",
       "      <td>0.67912</td>\n",
       "    </tr>\n",
       "    <tr>\n",
       "      <th>quote.USD.percent_change_7d</th>\n",
       "      <td>2.34605</td>\n",
       "    </tr>\n",
       "    <tr>\n",
       "      <th>quote.USD.percent_change_30d</th>\n",
       "      <td>2.21498</td>\n",
       "    </tr>\n",
       "    <tr>\n",
       "      <th>quote.USD.percent_change_60d</th>\n",
       "      <td>14.74907</td>\n",
       "    </tr>\n",
       "    <tr>\n",
       "      <th>quote.USD.percent_change_90d</th>\n",
       "      <td>2.47001</td>\n",
       "    </tr>\n",
       "    <tr>\n",
       "      <th rowspan=\"6\" valign=\"top\">Dogecoin</th>\n",
       "      <th>quote.USD.percent_change_1h</th>\n",
       "      <td>-0.30102</td>\n",
       "    </tr>\n",
       "    <tr>\n",
       "      <th>quote.USD.percent_change_24h</th>\n",
       "      <td>0.17393</td>\n",
       "    </tr>\n",
       "    <tr>\n",
       "      <th>quote.USD.percent_change_7d</th>\n",
       "      <td>0.38368</td>\n",
       "    </tr>\n",
       "    <tr>\n",
       "      <th>quote.USD.percent_change_30d</th>\n",
       "      <td>-0.38514</td>\n",
       "    </tr>\n",
       "    <tr>\n",
       "      <th>quote.USD.percent_change_60d</th>\n",
       "      <td>3.01802</td>\n",
       "    </tr>\n",
       "    <tr>\n",
       "      <th>quote.USD.percent_change_90d</th>\n",
       "      <td>-13.67901</td>\n",
       "    </tr>\n",
       "    <tr>\n",
       "      <th rowspan=\"6\" valign=\"top\">Polygon</th>\n",
       "      <th>quote.USD.percent_change_1h</th>\n",
       "      <td>-0.18132</td>\n",
       "    </tr>\n",
       "    <tr>\n",
       "      <th>quote.USD.percent_change_24h</th>\n",
       "      <td>0.24303</td>\n",
       "    </tr>\n",
       "    <tr>\n",
       "      <th>quote.USD.percent_change_7d</th>\n",
       "      <td>1.40955</td>\n",
       "    </tr>\n",
       "    <tr>\n",
       "      <th>quote.USD.percent_change_30d</th>\n",
       "      <td>-11.40086</td>\n",
       "    </tr>\n",
       "    <tr>\n",
       "      <th>quote.USD.percent_change_60d</th>\n",
       "      <td>-17.00877</td>\n",
       "    </tr>\n",
       "    <tr>\n",
       "      <th>quote.USD.percent_change_90d</th>\n",
       "      <td>-11.51974</td>\n",
       "    </tr>\n",
       "    <tr>\n",
       "      <th rowspan=\"6\" valign=\"top\">Solana</th>\n",
       "      <th>quote.USD.percent_change_1h</th>\n",
       "      <td>-0.22411</td>\n",
       "    </tr>\n",
       "    <tr>\n",
       "      <th>quote.USD.percent_change_24h</th>\n",
       "      <td>0.78610</td>\n",
       "    </tr>\n",
       "    <tr>\n",
       "      <th>quote.USD.percent_change_7d</th>\n",
       "      <td>5.73878</td>\n",
       "    </tr>\n",
       "    <tr>\n",
       "      <th>quote.USD.percent_change_30d</th>\n",
       "      <td>7.65392</td>\n",
       "    </tr>\n",
       "    <tr>\n",
       "      <th>quote.USD.percent_change_60d</th>\n",
       "      <td>3.80923</td>\n",
       "    </tr>\n",
       "    <tr>\n",
       "      <th>quote.USD.percent_change_90d</th>\n",
       "      <td>-4.83883</td>\n",
       "    </tr>\n",
       "    <tr>\n",
       "      <th rowspan=\"6\" valign=\"top\">Polkadot</th>\n",
       "      <th>quote.USD.percent_change_1h</th>\n",
       "      <td>-0.31694</td>\n",
       "    </tr>\n",
       "    <tr>\n",
       "      <th>quote.USD.percent_change_24h</th>\n",
       "      <td>-1.22892</td>\n",
       "    </tr>\n",
       "    <tr>\n",
       "      <th>quote.USD.percent_change_7d</th>\n",
       "      <td>-2.05960</td>\n",
       "    </tr>\n",
       "    <tr>\n",
       "      <th>quote.USD.percent_change_30d</th>\n",
       "      <td>-9.37515</td>\n",
       "    </tr>\n",
       "    <tr>\n",
       "      <th>quote.USD.percent_change_60d</th>\n",
       "      <td>-5.91265</td>\n",
       "    </tr>\n",
       "    <tr>\n",
       "      <th>quote.USD.percent_change_90d</th>\n",
       "      <td>-7.47763</td>\n",
       "    </tr>\n",
       "    <tr>\n",
       "      <th rowspan=\"6\" valign=\"top\">Litecoin</th>\n",
       "      <th>quote.USD.percent_change_1h</th>\n",
       "      <td>-0.74913</td>\n",
       "    </tr>\n",
       "    <tr>\n",
       "      <th>quote.USD.percent_change_24h</th>\n",
       "      <td>1.58541</td>\n",
       "    </tr>\n",
       "    <tr>\n",
       "      <th>quote.USD.percent_change_7d</th>\n",
       "      <td>-0.81579</td>\n",
       "    </tr>\n",
       "    <tr>\n",
       "      <th>quote.USD.percent_change_30d</th>\n",
       "      <td>-4.00244</td>\n",
       "    </tr>\n",
       "    <tr>\n",
       "      <th>quote.USD.percent_change_60d</th>\n",
       "      <td>-1.35124</td>\n",
       "    </tr>\n",
       "    <tr>\n",
       "      <th>quote.USD.percent_change_90d</th>\n",
       "      <td>-6.86043</td>\n",
       "    </tr>\n",
       "    <tr>\n",
       "      <th rowspan=\"6\" valign=\"top\">TRON</th>\n",
       "      <th>quote.USD.percent_change_1h</th>\n",
       "      <td>-0.25516</td>\n",
       "    </tr>\n",
       "    <tr>\n",
       "      <th>quote.USD.percent_change_24h</th>\n",
       "      <td>0.28065</td>\n",
       "    </tr>\n",
       "    <tr>\n",
       "      <th>quote.USD.percent_change_7d</th>\n",
       "      <td>4.96375</td>\n",
       "    </tr>\n",
       "    <tr>\n",
       "      <th>quote.USD.percent_change_30d</th>\n",
       "      <td>4.66268</td>\n",
       "    </tr>\n",
       "    <tr>\n",
       "      <th>quote.USD.percent_change_60d</th>\n",
       "      <td>1.87685</td>\n",
       "    </tr>\n",
       "    <tr>\n",
       "      <th>quote.USD.percent_change_90d</th>\n",
       "      <td>10.21794</td>\n",
       "    </tr>\n",
       "    <tr>\n",
       "      <th rowspan=\"6\" valign=\"top\">Binance USD</th>\n",
       "      <th>quote.USD.percent_change_1h</th>\n",
       "      <td>-0.01348</td>\n",
       "    </tr>\n",
       "    <tr>\n",
       "      <th>quote.USD.percent_change_24h</th>\n",
       "      <td>0.01837</td>\n",
       "    </tr>\n",
       "    <tr>\n",
       "      <th>quote.USD.percent_change_7d</th>\n",
       "      <td>0.04114</td>\n",
       "    </tr>\n",
       "    <tr>\n",
       "      <th>quote.USD.percent_change_30d</th>\n",
       "      <td>0.06681</td>\n",
       "    </tr>\n",
       "    <tr>\n",
       "      <th>quote.USD.percent_change_60d</th>\n",
       "      <td>-0.00659</td>\n",
       "    </tr>\n",
       "    <tr>\n",
       "      <th>quote.USD.percent_change_90d</th>\n",
       "      <td>-0.01532</td>\n",
       "    </tr>\n",
       "    <tr>\n",
       "      <th rowspan=\"6\" valign=\"top\">Shiba Inu</th>\n",
       "      <th>quote.USD.percent_change_1h</th>\n",
       "      <td>-0.13419</td>\n",
       "    </tr>\n",
       "    <tr>\n",
       "      <th>quote.USD.percent_change_24h</th>\n",
       "      <td>0.42483</td>\n",
       "    </tr>\n",
       "    <tr>\n",
       "      <th>quote.USD.percent_change_7d</th>\n",
       "      <td>-1.85230</td>\n",
       "    </tr>\n",
       "    <tr>\n",
       "      <th>quote.USD.percent_change_30d</th>\n",
       "      <td>-8.17492</td>\n",
       "    </tr>\n",
       "    <tr>\n",
       "      <th>quote.USD.percent_change_60d</th>\n",
       "      <td>-12.28061</td>\n",
       "    </tr>\n",
       "    <tr>\n",
       "      <th>quote.USD.percent_change_90d</th>\n",
       "      <td>-14.09099</td>\n",
       "    </tr>\n",
       "  </tbody>\n",
       "</table>\n",
       "</div>"
      ],
      "text/plain": [
       "                                            values\n",
       "name                                              \n",
       "Bitcoin     quote.USD.percent_change_1h   -0.01312\n",
       "            quote.USD.percent_change_24h   1.04523\n",
       "            quote.USD.percent_change_7d    4.07019\n",
       "            quote.USD.percent_change_30d   1.26226\n",
       "            quote.USD.percent_change_60d  27.22807\n",
       "            quote.USD.percent_change_90d  23.35532\n",
       "Ethereum    quote.USD.percent_change_1h    0.19667\n",
       "            quote.USD.percent_change_24h   1.22840\n",
       "            quote.USD.percent_change_7d    2.28906\n",
       "            quote.USD.percent_change_30d   3.40524\n",
       "            quote.USD.percent_change_60d  18.23896\n",
       "            quote.USD.percent_change_90d  17.40687\n",
       "Tether      quote.USD.percent_change_1h    0.01783\n",
       "            quote.USD.percent_change_24h   0.03244\n",
       "            quote.USD.percent_change_7d    0.05451\n",
       "            quote.USD.percent_change_30d   0.03601\n",
       "            quote.USD.percent_change_60d   0.02429\n",
       "            quote.USD.percent_change_90d   0.02709\n",
       "BNB         quote.USD.percent_change_1h   -0.18603\n",
       "            quote.USD.percent_change_24h  -2.15460\n",
       "            quote.USD.percent_change_7d   -2.15427\n",
       "            quote.USD.percent_change_30d   3.73015\n",
       "            quote.USD.percent_change_60d  11.93057\n",
       "            quote.USD.percent_change_90d   4.88787\n",
       "USD Coin    quote.USD.percent_change_1h   -0.00507\n",
       "            quote.USD.percent_change_24h   0.02856\n",
       "            quote.USD.percent_change_7d    0.03902\n",
       "            quote.USD.percent_change_30d   0.06473\n",
       "            quote.USD.percent_change_60d   0.01154\n",
       "            quote.USD.percent_change_90d   0.02824\n",
       "XRP         quote.USD.percent_change_1h   -0.24086\n",
       "            quote.USD.percent_change_24h   0.54868\n",
       "            quote.USD.percent_change_7d    1.26900\n",
       "            quote.USD.percent_change_30d -11.65434\n",
       "            quote.USD.percent_change_60d  25.65749\n",
       "            quote.USD.percent_change_90d  15.21062\n",
       "Cardano     quote.USD.percent_change_1h    0.16862\n",
       "            quote.USD.percent_change_24h   0.67912\n",
       "            quote.USD.percent_change_7d    2.34605\n",
       "            quote.USD.percent_change_30d   2.21498\n",
       "            quote.USD.percent_change_60d  14.74907\n",
       "            quote.USD.percent_change_90d   2.47001\n",
       "Dogecoin    quote.USD.percent_change_1h   -0.30102\n",
       "            quote.USD.percent_change_24h   0.17393\n",
       "            quote.USD.percent_change_7d    0.38368\n",
       "            quote.USD.percent_change_30d  -0.38514\n",
       "            quote.USD.percent_change_60d   3.01802\n",
       "            quote.USD.percent_change_90d -13.67901\n",
       "Polygon     quote.USD.percent_change_1h   -0.18132\n",
       "            quote.USD.percent_change_24h   0.24303\n",
       "            quote.USD.percent_change_7d    1.40955\n",
       "            quote.USD.percent_change_30d -11.40086\n",
       "            quote.USD.percent_change_60d -17.00877\n",
       "            quote.USD.percent_change_90d -11.51974\n",
       "Solana      quote.USD.percent_change_1h   -0.22411\n",
       "            quote.USD.percent_change_24h   0.78610\n",
       "            quote.USD.percent_change_7d    5.73878\n",
       "            quote.USD.percent_change_30d   7.65392\n",
       "            quote.USD.percent_change_60d   3.80923\n",
       "            quote.USD.percent_change_90d  -4.83883\n",
       "Polkadot    quote.USD.percent_change_1h   -0.31694\n",
       "            quote.USD.percent_change_24h  -1.22892\n",
       "            quote.USD.percent_change_7d   -2.05960\n",
       "            quote.USD.percent_change_30d  -9.37515\n",
       "            quote.USD.percent_change_60d  -5.91265\n",
       "            quote.USD.percent_change_90d  -7.47763\n",
       "Litecoin    quote.USD.percent_change_1h   -0.74913\n",
       "            quote.USD.percent_change_24h   1.58541\n",
       "            quote.USD.percent_change_7d   -0.81579\n",
       "            quote.USD.percent_change_30d  -4.00244\n",
       "            quote.USD.percent_change_60d  -1.35124\n",
       "            quote.USD.percent_change_90d  -6.86043\n",
       "TRON        quote.USD.percent_change_1h   -0.25516\n",
       "            quote.USD.percent_change_24h   0.28065\n",
       "            quote.USD.percent_change_7d    4.96375\n",
       "            quote.USD.percent_change_30d   4.66268\n",
       "            quote.USD.percent_change_60d   1.87685\n",
       "            quote.USD.percent_change_90d  10.21794\n",
       "Binance USD quote.USD.percent_change_1h   -0.01348\n",
       "            quote.USD.percent_change_24h   0.01837\n",
       "            quote.USD.percent_change_7d    0.04114\n",
       "            quote.USD.percent_change_30d   0.06681\n",
       "            quote.USD.percent_change_60d  -0.00659\n",
       "            quote.USD.percent_change_90d  -0.01532\n",
       "Shiba Inu   quote.USD.percent_change_1h   -0.13419\n",
       "            quote.USD.percent_change_24h   0.42483\n",
       "            quote.USD.percent_change_7d   -1.85230\n",
       "            quote.USD.percent_change_30d  -8.17492\n",
       "            quote.USD.percent_change_60d -12.28061\n",
       "            quote.USD.percent_change_90d -14.09099"
      ]
     },
     "execution_count": 65,
     "metadata": {},
     "output_type": "execute_result"
    }
   ],
   "source": [
    "dataframe5 = dataframe4.to_frame(name='values')\n",
    "dataframe5"
   ]
  },
  {
   "cell_type": "code",
   "execution_count": 66,
   "id": "5268e186",
   "metadata": {},
   "outputs": [
    {
     "data": {
      "text/plain": [
       "pandas.core.frame.DataFrame"
      ]
     },
     "execution_count": 66,
     "metadata": {},
     "output_type": "execute_result"
    }
   ],
   "source": [
    "type(dataframe5)"
   ]
  },
  {
   "cell_type": "code",
   "execution_count": 69,
   "id": "c7ea2d1a",
   "metadata": {},
   "outputs": [
    {
     "data": {
      "text/plain": [
       "values    90\n",
       "dtype: int64"
      ]
     },
     "execution_count": 69,
     "metadata": {},
     "output_type": "execute_result"
    }
   ],
   "source": [
    "dataframe5.count()"
   ]
  },
  {
   "cell_type": "code",
   "execution_count": 67,
   "id": "cab1ac9c",
   "metadata": {},
   "outputs": [
    {
     "ename": "ValueError",
     "evalue": "Length mismatch: Expected 90 rows, received array of length 15",
     "output_type": "error",
     "traceback": [
      "\u001b[1;31m---------------------------------------------------------------------------\u001b[0m",
      "\u001b[1;31mValueError\u001b[0m                                Traceback (most recent call last)",
      "\u001b[1;32m~\\AppData\\Local\\Temp\\ipykernel_17948\\1669110141.py\u001b[0m in \u001b[0;36m<module>\u001b[1;34m\u001b[0m\n\u001b[1;32m----> 1\u001b[1;33m \u001b[0mdataframe5\u001b[0m\u001b[1;33m.\u001b[0m\u001b[0mset_index\u001b[0m\u001b[1;33m(\u001b[0m\u001b[0mdataframe\u001b[0m\u001b[1;33m[\u001b[0m\u001b[1;34m'name'\u001b[0m\u001b[1;33m]\u001b[0m\u001b[1;33m)\u001b[0m\u001b[1;33m\u001b[0m\u001b[1;33m\u001b[0m\u001b[0m\n\u001b[0m",
      "\u001b[1;32m~\\anaconda3\\lib\\site-packages\\pandas\\util\\_decorators.py\u001b[0m in \u001b[0;36mwrapper\u001b[1;34m(*args, **kwargs)\u001b[0m\n\u001b[0;32m    309\u001b[0m                     \u001b[0mstacklevel\u001b[0m\u001b[1;33m=\u001b[0m\u001b[0mstacklevel\u001b[0m\u001b[1;33m,\u001b[0m\u001b[1;33m\u001b[0m\u001b[1;33m\u001b[0m\u001b[0m\n\u001b[0;32m    310\u001b[0m                 )\n\u001b[1;32m--> 311\u001b[1;33m             \u001b[1;32mreturn\u001b[0m \u001b[0mfunc\u001b[0m\u001b[1;33m(\u001b[0m\u001b[1;33m*\u001b[0m\u001b[0margs\u001b[0m\u001b[1;33m,\u001b[0m \u001b[1;33m**\u001b[0m\u001b[0mkwargs\u001b[0m\u001b[1;33m)\u001b[0m\u001b[1;33m\u001b[0m\u001b[1;33m\u001b[0m\u001b[0m\n\u001b[0m\u001b[0;32m    312\u001b[0m \u001b[1;33m\u001b[0m\u001b[0m\n\u001b[0;32m    313\u001b[0m         \u001b[1;32mreturn\u001b[0m \u001b[0mwrapper\u001b[0m\u001b[1;33m\u001b[0m\u001b[1;33m\u001b[0m\u001b[0m\n",
      "\u001b[1;32m~\\anaconda3\\lib\\site-packages\\pandas\\core\\frame.py\u001b[0m in \u001b[0;36mset_index\u001b[1;34m(self, keys, drop, append, inplace, verify_integrity)\u001b[0m\n\u001b[0;32m   5551\u001b[0m                 \u001b[1;31m# check newest element against length of calling frame, since\u001b[0m\u001b[1;33m\u001b[0m\u001b[1;33m\u001b[0m\u001b[0m\n\u001b[0;32m   5552\u001b[0m                 \u001b[1;31m# ensure_index_from_sequences would not raise for append=False.\u001b[0m\u001b[1;33m\u001b[0m\u001b[1;33m\u001b[0m\u001b[0m\n\u001b[1;32m-> 5553\u001b[1;33m                 raise ValueError(\n\u001b[0m\u001b[0;32m   5554\u001b[0m                     \u001b[1;34mf\"Length mismatch: Expected {len(self)} rows, \"\u001b[0m\u001b[1;33m\u001b[0m\u001b[1;33m\u001b[0m\u001b[0m\n\u001b[0;32m   5555\u001b[0m                     \u001b[1;34mf\"received array of length {len(arrays[-1])}\"\u001b[0m\u001b[1;33m\u001b[0m\u001b[1;33m\u001b[0m\u001b[0m\n",
      "\u001b[1;31mValueError\u001b[0m: Length mismatch: Expected 90 rows, received array of length 15"
     ]
    }
   ],
   "source": [
    "dataframe5.set_index(dataframe['name'])"
   ]
  },
  {
   "cell_type": "code",
   "execution_count": 72,
   "id": "fdf52015",
   "metadata": {},
   "outputs": [
    {
     "data": {
      "text/html": [
       "<div>\n",
       "<style scoped>\n",
       "    .dataframe tbody tr th:only-of-type {\n",
       "        vertical-align: middle;\n",
       "    }\n",
       "\n",
       "    .dataframe tbody tr th {\n",
       "        vertical-align: top;\n",
       "    }\n",
       "\n",
       "    .dataframe thead th {\n",
       "        text-align: right;\n",
       "    }\n",
       "</style>\n",
       "<table border=\"1\" class=\"dataframe\">\n",
       "  <thead>\n",
       "    <tr style=\"text-align: right;\">\n",
       "      <th></th>\n",
       "      <th>name</th>\n",
       "      <th>level_1</th>\n",
       "      <th>values</th>\n",
       "    </tr>\n",
       "  </thead>\n",
       "  <tbody>\n",
       "    <tr>\n",
       "      <th>0</th>\n",
       "      <td>Bitcoin</td>\n",
       "      <td>quote.USD.percent_change_1h</td>\n",
       "      <td>-0.01312</td>\n",
       "    </tr>\n",
       "    <tr>\n",
       "      <th>1</th>\n",
       "      <td>Bitcoin</td>\n",
       "      <td>quote.USD.percent_change_24h</td>\n",
       "      <td>1.04523</td>\n",
       "    </tr>\n",
       "    <tr>\n",
       "      <th>2</th>\n",
       "      <td>Bitcoin</td>\n",
       "      <td>quote.USD.percent_change_7d</td>\n",
       "      <td>4.07019</td>\n",
       "    </tr>\n",
       "    <tr>\n",
       "      <th>3</th>\n",
       "      <td>Bitcoin</td>\n",
       "      <td>quote.USD.percent_change_30d</td>\n",
       "      <td>1.26226</td>\n",
       "    </tr>\n",
       "    <tr>\n",
       "      <th>4</th>\n",
       "      <td>Bitcoin</td>\n",
       "      <td>quote.USD.percent_change_60d</td>\n",
       "      <td>27.22807</td>\n",
       "    </tr>\n",
       "    <tr>\n",
       "      <th>5</th>\n",
       "      <td>Bitcoin</td>\n",
       "      <td>quote.USD.percent_change_90d</td>\n",
       "      <td>23.35532</td>\n",
       "    </tr>\n",
       "    <tr>\n",
       "      <th>6</th>\n",
       "      <td>Ethereum</td>\n",
       "      <td>quote.USD.percent_change_1h</td>\n",
       "      <td>0.19667</td>\n",
       "    </tr>\n",
       "    <tr>\n",
       "      <th>7</th>\n",
       "      <td>Ethereum</td>\n",
       "      <td>quote.USD.percent_change_24h</td>\n",
       "      <td>1.22840</td>\n",
       "    </tr>\n",
       "    <tr>\n",
       "      <th>8</th>\n",
       "      <td>Ethereum</td>\n",
       "      <td>quote.USD.percent_change_7d</td>\n",
       "      <td>2.28906</td>\n",
       "    </tr>\n",
       "    <tr>\n",
       "      <th>9</th>\n",
       "      <td>Ethereum</td>\n",
       "      <td>quote.USD.percent_change_30d</td>\n",
       "      <td>3.40524</td>\n",
       "    </tr>\n",
       "    <tr>\n",
       "      <th>10</th>\n",
       "      <td>Ethereum</td>\n",
       "      <td>quote.USD.percent_change_60d</td>\n",
       "      <td>18.23896</td>\n",
       "    </tr>\n",
       "    <tr>\n",
       "      <th>11</th>\n",
       "      <td>Ethereum</td>\n",
       "      <td>quote.USD.percent_change_90d</td>\n",
       "      <td>17.40687</td>\n",
       "    </tr>\n",
       "    <tr>\n",
       "      <th>12</th>\n",
       "      <td>Tether</td>\n",
       "      <td>quote.USD.percent_change_1h</td>\n",
       "      <td>0.01783</td>\n",
       "    </tr>\n",
       "    <tr>\n",
       "      <th>13</th>\n",
       "      <td>Tether</td>\n",
       "      <td>quote.USD.percent_change_24h</td>\n",
       "      <td>0.03244</td>\n",
       "    </tr>\n",
       "    <tr>\n",
       "      <th>14</th>\n",
       "      <td>Tether</td>\n",
       "      <td>quote.USD.percent_change_7d</td>\n",
       "      <td>0.05451</td>\n",
       "    </tr>\n",
       "    <tr>\n",
       "      <th>15</th>\n",
       "      <td>Tether</td>\n",
       "      <td>quote.USD.percent_change_30d</td>\n",
       "      <td>0.03601</td>\n",
       "    </tr>\n",
       "    <tr>\n",
       "      <th>16</th>\n",
       "      <td>Tether</td>\n",
       "      <td>quote.USD.percent_change_60d</td>\n",
       "      <td>0.02429</td>\n",
       "    </tr>\n",
       "    <tr>\n",
       "      <th>17</th>\n",
       "      <td>Tether</td>\n",
       "      <td>quote.USD.percent_change_90d</td>\n",
       "      <td>0.02709</td>\n",
       "    </tr>\n",
       "    <tr>\n",
       "      <th>18</th>\n",
       "      <td>BNB</td>\n",
       "      <td>quote.USD.percent_change_1h</td>\n",
       "      <td>-0.18603</td>\n",
       "    </tr>\n",
       "    <tr>\n",
       "      <th>19</th>\n",
       "      <td>BNB</td>\n",
       "      <td>quote.USD.percent_change_24h</td>\n",
       "      <td>-2.15460</td>\n",
       "    </tr>\n",
       "    <tr>\n",
       "      <th>20</th>\n",
       "      <td>BNB</td>\n",
       "      <td>quote.USD.percent_change_7d</td>\n",
       "      <td>-2.15427</td>\n",
       "    </tr>\n",
       "    <tr>\n",
       "      <th>21</th>\n",
       "      <td>BNB</td>\n",
       "      <td>quote.USD.percent_change_30d</td>\n",
       "      <td>3.73015</td>\n",
       "    </tr>\n",
       "    <tr>\n",
       "      <th>22</th>\n",
       "      <td>BNB</td>\n",
       "      <td>quote.USD.percent_change_60d</td>\n",
       "      <td>11.93057</td>\n",
       "    </tr>\n",
       "    <tr>\n",
       "      <th>23</th>\n",
       "      <td>BNB</td>\n",
       "      <td>quote.USD.percent_change_90d</td>\n",
       "      <td>4.88787</td>\n",
       "    </tr>\n",
       "    <tr>\n",
       "      <th>24</th>\n",
       "      <td>USD Coin</td>\n",
       "      <td>quote.USD.percent_change_1h</td>\n",
       "      <td>-0.00507</td>\n",
       "    </tr>\n",
       "    <tr>\n",
       "      <th>25</th>\n",
       "      <td>USD Coin</td>\n",
       "      <td>quote.USD.percent_change_24h</td>\n",
       "      <td>0.02856</td>\n",
       "    </tr>\n",
       "    <tr>\n",
       "      <th>26</th>\n",
       "      <td>USD Coin</td>\n",
       "      <td>quote.USD.percent_change_7d</td>\n",
       "      <td>0.03902</td>\n",
       "    </tr>\n",
       "    <tr>\n",
       "      <th>27</th>\n",
       "      <td>USD Coin</td>\n",
       "      <td>quote.USD.percent_change_30d</td>\n",
       "      <td>0.06473</td>\n",
       "    </tr>\n",
       "    <tr>\n",
       "      <th>28</th>\n",
       "      <td>USD Coin</td>\n",
       "      <td>quote.USD.percent_change_60d</td>\n",
       "      <td>0.01154</td>\n",
       "    </tr>\n",
       "    <tr>\n",
       "      <th>29</th>\n",
       "      <td>USD Coin</td>\n",
       "      <td>quote.USD.percent_change_90d</td>\n",
       "      <td>0.02824</td>\n",
       "    </tr>\n",
       "    <tr>\n",
       "      <th>30</th>\n",
       "      <td>XRP</td>\n",
       "      <td>quote.USD.percent_change_1h</td>\n",
       "      <td>-0.24086</td>\n",
       "    </tr>\n",
       "    <tr>\n",
       "      <th>31</th>\n",
       "      <td>XRP</td>\n",
       "      <td>quote.USD.percent_change_24h</td>\n",
       "      <td>0.54868</td>\n",
       "    </tr>\n",
       "    <tr>\n",
       "      <th>32</th>\n",
       "      <td>XRP</td>\n",
       "      <td>quote.USD.percent_change_7d</td>\n",
       "      <td>1.26900</td>\n",
       "    </tr>\n",
       "    <tr>\n",
       "      <th>33</th>\n",
       "      <td>XRP</td>\n",
       "      <td>quote.USD.percent_change_30d</td>\n",
       "      <td>-11.65434</td>\n",
       "    </tr>\n",
       "    <tr>\n",
       "      <th>34</th>\n",
       "      <td>XRP</td>\n",
       "      <td>quote.USD.percent_change_60d</td>\n",
       "      <td>25.65749</td>\n",
       "    </tr>\n",
       "    <tr>\n",
       "      <th>35</th>\n",
       "      <td>XRP</td>\n",
       "      <td>quote.USD.percent_change_90d</td>\n",
       "      <td>15.21062</td>\n",
       "    </tr>\n",
       "    <tr>\n",
       "      <th>36</th>\n",
       "      <td>Cardano</td>\n",
       "      <td>quote.USD.percent_change_1h</td>\n",
       "      <td>0.16862</td>\n",
       "    </tr>\n",
       "    <tr>\n",
       "      <th>37</th>\n",
       "      <td>Cardano</td>\n",
       "      <td>quote.USD.percent_change_24h</td>\n",
       "      <td>0.67912</td>\n",
       "    </tr>\n",
       "    <tr>\n",
       "      <th>38</th>\n",
       "      <td>Cardano</td>\n",
       "      <td>quote.USD.percent_change_7d</td>\n",
       "      <td>2.34605</td>\n",
       "    </tr>\n",
       "    <tr>\n",
       "      <th>39</th>\n",
       "      <td>Cardano</td>\n",
       "      <td>quote.USD.percent_change_30d</td>\n",
       "      <td>2.21498</td>\n",
       "    </tr>\n",
       "    <tr>\n",
       "      <th>40</th>\n",
       "      <td>Cardano</td>\n",
       "      <td>quote.USD.percent_change_60d</td>\n",
       "      <td>14.74907</td>\n",
       "    </tr>\n",
       "    <tr>\n",
       "      <th>41</th>\n",
       "      <td>Cardano</td>\n",
       "      <td>quote.USD.percent_change_90d</td>\n",
       "      <td>2.47001</td>\n",
       "    </tr>\n",
       "    <tr>\n",
       "      <th>42</th>\n",
       "      <td>Dogecoin</td>\n",
       "      <td>quote.USD.percent_change_1h</td>\n",
       "      <td>-0.30102</td>\n",
       "    </tr>\n",
       "    <tr>\n",
       "      <th>43</th>\n",
       "      <td>Dogecoin</td>\n",
       "      <td>quote.USD.percent_change_24h</td>\n",
       "      <td>0.17393</td>\n",
       "    </tr>\n",
       "    <tr>\n",
       "      <th>44</th>\n",
       "      <td>Dogecoin</td>\n",
       "      <td>quote.USD.percent_change_7d</td>\n",
       "      <td>0.38368</td>\n",
       "    </tr>\n",
       "    <tr>\n",
       "      <th>45</th>\n",
       "      <td>Dogecoin</td>\n",
       "      <td>quote.USD.percent_change_30d</td>\n",
       "      <td>-0.38514</td>\n",
       "    </tr>\n",
       "    <tr>\n",
       "      <th>46</th>\n",
       "      <td>Dogecoin</td>\n",
       "      <td>quote.USD.percent_change_60d</td>\n",
       "      <td>3.01802</td>\n",
       "    </tr>\n",
       "    <tr>\n",
       "      <th>47</th>\n",
       "      <td>Dogecoin</td>\n",
       "      <td>quote.USD.percent_change_90d</td>\n",
       "      <td>-13.67901</td>\n",
       "    </tr>\n",
       "    <tr>\n",
       "      <th>48</th>\n",
       "      <td>Polygon</td>\n",
       "      <td>quote.USD.percent_change_1h</td>\n",
       "      <td>-0.18132</td>\n",
       "    </tr>\n",
       "    <tr>\n",
       "      <th>49</th>\n",
       "      <td>Polygon</td>\n",
       "      <td>quote.USD.percent_change_24h</td>\n",
       "      <td>0.24303</td>\n",
       "    </tr>\n",
       "    <tr>\n",
       "      <th>50</th>\n",
       "      <td>Polygon</td>\n",
       "      <td>quote.USD.percent_change_7d</td>\n",
       "      <td>1.40955</td>\n",
       "    </tr>\n",
       "    <tr>\n",
       "      <th>51</th>\n",
       "      <td>Polygon</td>\n",
       "      <td>quote.USD.percent_change_30d</td>\n",
       "      <td>-11.40086</td>\n",
       "    </tr>\n",
       "    <tr>\n",
       "      <th>52</th>\n",
       "      <td>Polygon</td>\n",
       "      <td>quote.USD.percent_change_60d</td>\n",
       "      <td>-17.00877</td>\n",
       "    </tr>\n",
       "    <tr>\n",
       "      <th>53</th>\n",
       "      <td>Polygon</td>\n",
       "      <td>quote.USD.percent_change_90d</td>\n",
       "      <td>-11.51974</td>\n",
       "    </tr>\n",
       "    <tr>\n",
       "      <th>54</th>\n",
       "      <td>Solana</td>\n",
       "      <td>quote.USD.percent_change_1h</td>\n",
       "      <td>-0.22411</td>\n",
       "    </tr>\n",
       "    <tr>\n",
       "      <th>55</th>\n",
       "      <td>Solana</td>\n",
       "      <td>quote.USD.percent_change_24h</td>\n",
       "      <td>0.78610</td>\n",
       "    </tr>\n",
       "    <tr>\n",
       "      <th>56</th>\n",
       "      <td>Solana</td>\n",
       "      <td>quote.USD.percent_change_7d</td>\n",
       "      <td>5.73878</td>\n",
       "    </tr>\n",
       "    <tr>\n",
       "      <th>57</th>\n",
       "      <td>Solana</td>\n",
       "      <td>quote.USD.percent_change_30d</td>\n",
       "      <td>7.65392</td>\n",
       "    </tr>\n",
       "    <tr>\n",
       "      <th>58</th>\n",
       "      <td>Solana</td>\n",
       "      <td>quote.USD.percent_change_60d</td>\n",
       "      <td>3.80923</td>\n",
       "    </tr>\n",
       "    <tr>\n",
       "      <th>59</th>\n",
       "      <td>Solana</td>\n",
       "      <td>quote.USD.percent_change_90d</td>\n",
       "      <td>-4.83883</td>\n",
       "    </tr>\n",
       "    <tr>\n",
       "      <th>60</th>\n",
       "      <td>Polkadot</td>\n",
       "      <td>quote.USD.percent_change_1h</td>\n",
       "      <td>-0.31694</td>\n",
       "    </tr>\n",
       "    <tr>\n",
       "      <th>61</th>\n",
       "      <td>Polkadot</td>\n",
       "      <td>quote.USD.percent_change_24h</td>\n",
       "      <td>-1.22892</td>\n",
       "    </tr>\n",
       "    <tr>\n",
       "      <th>62</th>\n",
       "      <td>Polkadot</td>\n",
       "      <td>quote.USD.percent_change_7d</td>\n",
       "      <td>-2.05960</td>\n",
       "    </tr>\n",
       "    <tr>\n",
       "      <th>63</th>\n",
       "      <td>Polkadot</td>\n",
       "      <td>quote.USD.percent_change_30d</td>\n",
       "      <td>-9.37515</td>\n",
       "    </tr>\n",
       "    <tr>\n",
       "      <th>64</th>\n",
       "      <td>Polkadot</td>\n",
       "      <td>quote.USD.percent_change_60d</td>\n",
       "      <td>-5.91265</td>\n",
       "    </tr>\n",
       "    <tr>\n",
       "      <th>65</th>\n",
       "      <td>Polkadot</td>\n",
       "      <td>quote.USD.percent_change_90d</td>\n",
       "      <td>-7.47763</td>\n",
       "    </tr>\n",
       "    <tr>\n",
       "      <th>66</th>\n",
       "      <td>Litecoin</td>\n",
       "      <td>quote.USD.percent_change_1h</td>\n",
       "      <td>-0.74913</td>\n",
       "    </tr>\n",
       "    <tr>\n",
       "      <th>67</th>\n",
       "      <td>Litecoin</td>\n",
       "      <td>quote.USD.percent_change_24h</td>\n",
       "      <td>1.58541</td>\n",
       "    </tr>\n",
       "    <tr>\n",
       "      <th>68</th>\n",
       "      <td>Litecoin</td>\n",
       "      <td>quote.USD.percent_change_7d</td>\n",
       "      <td>-0.81579</td>\n",
       "    </tr>\n",
       "    <tr>\n",
       "      <th>69</th>\n",
       "      <td>Litecoin</td>\n",
       "      <td>quote.USD.percent_change_30d</td>\n",
       "      <td>-4.00244</td>\n",
       "    </tr>\n",
       "    <tr>\n",
       "      <th>70</th>\n",
       "      <td>Litecoin</td>\n",
       "      <td>quote.USD.percent_change_60d</td>\n",
       "      <td>-1.35124</td>\n",
       "    </tr>\n",
       "    <tr>\n",
       "      <th>71</th>\n",
       "      <td>Litecoin</td>\n",
       "      <td>quote.USD.percent_change_90d</td>\n",
       "      <td>-6.86043</td>\n",
       "    </tr>\n",
       "    <tr>\n",
       "      <th>72</th>\n",
       "      <td>TRON</td>\n",
       "      <td>quote.USD.percent_change_1h</td>\n",
       "      <td>-0.25516</td>\n",
       "    </tr>\n",
       "    <tr>\n",
       "      <th>73</th>\n",
       "      <td>TRON</td>\n",
       "      <td>quote.USD.percent_change_24h</td>\n",
       "      <td>0.28065</td>\n",
       "    </tr>\n",
       "    <tr>\n",
       "      <th>74</th>\n",
       "      <td>TRON</td>\n",
       "      <td>quote.USD.percent_change_7d</td>\n",
       "      <td>4.96375</td>\n",
       "    </tr>\n",
       "    <tr>\n",
       "      <th>75</th>\n",
       "      <td>TRON</td>\n",
       "      <td>quote.USD.percent_change_30d</td>\n",
       "      <td>4.66268</td>\n",
       "    </tr>\n",
       "    <tr>\n",
       "      <th>76</th>\n",
       "      <td>TRON</td>\n",
       "      <td>quote.USD.percent_change_60d</td>\n",
       "      <td>1.87685</td>\n",
       "    </tr>\n",
       "    <tr>\n",
       "      <th>77</th>\n",
       "      <td>TRON</td>\n",
       "      <td>quote.USD.percent_change_90d</td>\n",
       "      <td>10.21794</td>\n",
       "    </tr>\n",
       "    <tr>\n",
       "      <th>78</th>\n",
       "      <td>Binance USD</td>\n",
       "      <td>quote.USD.percent_change_1h</td>\n",
       "      <td>-0.01348</td>\n",
       "    </tr>\n",
       "    <tr>\n",
       "      <th>79</th>\n",
       "      <td>Binance USD</td>\n",
       "      <td>quote.USD.percent_change_24h</td>\n",
       "      <td>0.01837</td>\n",
       "    </tr>\n",
       "    <tr>\n",
       "      <th>80</th>\n",
       "      <td>Binance USD</td>\n",
       "      <td>quote.USD.percent_change_7d</td>\n",
       "      <td>0.04114</td>\n",
       "    </tr>\n",
       "    <tr>\n",
       "      <th>81</th>\n",
       "      <td>Binance USD</td>\n",
       "      <td>quote.USD.percent_change_30d</td>\n",
       "      <td>0.06681</td>\n",
       "    </tr>\n",
       "    <tr>\n",
       "      <th>82</th>\n",
       "      <td>Binance USD</td>\n",
       "      <td>quote.USD.percent_change_60d</td>\n",
       "      <td>-0.00659</td>\n",
       "    </tr>\n",
       "    <tr>\n",
       "      <th>83</th>\n",
       "      <td>Binance USD</td>\n",
       "      <td>quote.USD.percent_change_90d</td>\n",
       "      <td>-0.01532</td>\n",
       "    </tr>\n",
       "    <tr>\n",
       "      <th>84</th>\n",
       "      <td>Shiba Inu</td>\n",
       "      <td>quote.USD.percent_change_1h</td>\n",
       "      <td>-0.13419</td>\n",
       "    </tr>\n",
       "    <tr>\n",
       "      <th>85</th>\n",
       "      <td>Shiba Inu</td>\n",
       "      <td>quote.USD.percent_change_24h</td>\n",
       "      <td>0.42483</td>\n",
       "    </tr>\n",
       "    <tr>\n",
       "      <th>86</th>\n",
       "      <td>Shiba Inu</td>\n",
       "      <td>quote.USD.percent_change_7d</td>\n",
       "      <td>-1.85230</td>\n",
       "    </tr>\n",
       "    <tr>\n",
       "      <th>87</th>\n",
       "      <td>Shiba Inu</td>\n",
       "      <td>quote.USD.percent_change_30d</td>\n",
       "      <td>-8.17492</td>\n",
       "    </tr>\n",
       "    <tr>\n",
       "      <th>88</th>\n",
       "      <td>Shiba Inu</td>\n",
       "      <td>quote.USD.percent_change_60d</td>\n",
       "      <td>-12.28061</td>\n",
       "    </tr>\n",
       "    <tr>\n",
       "      <th>89</th>\n",
       "      <td>Shiba Inu</td>\n",
       "      <td>quote.USD.percent_change_90d</td>\n",
       "      <td>-14.09099</td>\n",
       "    </tr>\n",
       "  </tbody>\n",
       "</table>\n",
       "</div>"
      ],
      "text/plain": [
       "           name                       level_1    values\n",
       "0       Bitcoin   quote.USD.percent_change_1h  -0.01312\n",
       "1       Bitcoin  quote.USD.percent_change_24h   1.04523\n",
       "2       Bitcoin   quote.USD.percent_change_7d   4.07019\n",
       "3       Bitcoin  quote.USD.percent_change_30d   1.26226\n",
       "4       Bitcoin  quote.USD.percent_change_60d  27.22807\n",
       "5       Bitcoin  quote.USD.percent_change_90d  23.35532\n",
       "6      Ethereum   quote.USD.percent_change_1h   0.19667\n",
       "7      Ethereum  quote.USD.percent_change_24h   1.22840\n",
       "8      Ethereum   quote.USD.percent_change_7d   2.28906\n",
       "9      Ethereum  quote.USD.percent_change_30d   3.40524\n",
       "10     Ethereum  quote.USD.percent_change_60d  18.23896\n",
       "11     Ethereum  quote.USD.percent_change_90d  17.40687\n",
       "12       Tether   quote.USD.percent_change_1h   0.01783\n",
       "13       Tether  quote.USD.percent_change_24h   0.03244\n",
       "14       Tether   quote.USD.percent_change_7d   0.05451\n",
       "15       Tether  quote.USD.percent_change_30d   0.03601\n",
       "16       Tether  quote.USD.percent_change_60d   0.02429\n",
       "17       Tether  quote.USD.percent_change_90d   0.02709\n",
       "18          BNB   quote.USD.percent_change_1h  -0.18603\n",
       "19          BNB  quote.USD.percent_change_24h  -2.15460\n",
       "20          BNB   quote.USD.percent_change_7d  -2.15427\n",
       "21          BNB  quote.USD.percent_change_30d   3.73015\n",
       "22          BNB  quote.USD.percent_change_60d  11.93057\n",
       "23          BNB  quote.USD.percent_change_90d   4.88787\n",
       "24     USD Coin   quote.USD.percent_change_1h  -0.00507\n",
       "25     USD Coin  quote.USD.percent_change_24h   0.02856\n",
       "26     USD Coin   quote.USD.percent_change_7d   0.03902\n",
       "27     USD Coin  quote.USD.percent_change_30d   0.06473\n",
       "28     USD Coin  quote.USD.percent_change_60d   0.01154\n",
       "29     USD Coin  quote.USD.percent_change_90d   0.02824\n",
       "30          XRP   quote.USD.percent_change_1h  -0.24086\n",
       "31          XRP  quote.USD.percent_change_24h   0.54868\n",
       "32          XRP   quote.USD.percent_change_7d   1.26900\n",
       "33          XRP  quote.USD.percent_change_30d -11.65434\n",
       "34          XRP  quote.USD.percent_change_60d  25.65749\n",
       "35          XRP  quote.USD.percent_change_90d  15.21062\n",
       "36      Cardano   quote.USD.percent_change_1h   0.16862\n",
       "37      Cardano  quote.USD.percent_change_24h   0.67912\n",
       "38      Cardano   quote.USD.percent_change_7d   2.34605\n",
       "39      Cardano  quote.USD.percent_change_30d   2.21498\n",
       "40      Cardano  quote.USD.percent_change_60d  14.74907\n",
       "41      Cardano  quote.USD.percent_change_90d   2.47001\n",
       "42     Dogecoin   quote.USD.percent_change_1h  -0.30102\n",
       "43     Dogecoin  quote.USD.percent_change_24h   0.17393\n",
       "44     Dogecoin   quote.USD.percent_change_7d   0.38368\n",
       "45     Dogecoin  quote.USD.percent_change_30d  -0.38514\n",
       "46     Dogecoin  quote.USD.percent_change_60d   3.01802\n",
       "47     Dogecoin  quote.USD.percent_change_90d -13.67901\n",
       "48      Polygon   quote.USD.percent_change_1h  -0.18132\n",
       "49      Polygon  quote.USD.percent_change_24h   0.24303\n",
       "50      Polygon   quote.USD.percent_change_7d   1.40955\n",
       "51      Polygon  quote.USD.percent_change_30d -11.40086\n",
       "52      Polygon  quote.USD.percent_change_60d -17.00877\n",
       "53      Polygon  quote.USD.percent_change_90d -11.51974\n",
       "54       Solana   quote.USD.percent_change_1h  -0.22411\n",
       "55       Solana  quote.USD.percent_change_24h   0.78610\n",
       "56       Solana   quote.USD.percent_change_7d   5.73878\n",
       "57       Solana  quote.USD.percent_change_30d   7.65392\n",
       "58       Solana  quote.USD.percent_change_60d   3.80923\n",
       "59       Solana  quote.USD.percent_change_90d  -4.83883\n",
       "60     Polkadot   quote.USD.percent_change_1h  -0.31694\n",
       "61     Polkadot  quote.USD.percent_change_24h  -1.22892\n",
       "62     Polkadot   quote.USD.percent_change_7d  -2.05960\n",
       "63     Polkadot  quote.USD.percent_change_30d  -9.37515\n",
       "64     Polkadot  quote.USD.percent_change_60d  -5.91265\n",
       "65     Polkadot  quote.USD.percent_change_90d  -7.47763\n",
       "66     Litecoin   quote.USD.percent_change_1h  -0.74913\n",
       "67     Litecoin  quote.USD.percent_change_24h   1.58541\n",
       "68     Litecoin   quote.USD.percent_change_7d  -0.81579\n",
       "69     Litecoin  quote.USD.percent_change_30d  -4.00244\n",
       "70     Litecoin  quote.USD.percent_change_60d  -1.35124\n",
       "71     Litecoin  quote.USD.percent_change_90d  -6.86043\n",
       "72         TRON   quote.USD.percent_change_1h  -0.25516\n",
       "73         TRON  quote.USD.percent_change_24h   0.28065\n",
       "74         TRON   quote.USD.percent_change_7d   4.96375\n",
       "75         TRON  quote.USD.percent_change_30d   4.66268\n",
       "76         TRON  quote.USD.percent_change_60d   1.87685\n",
       "77         TRON  quote.USD.percent_change_90d  10.21794\n",
       "78  Binance USD   quote.USD.percent_change_1h  -0.01348\n",
       "79  Binance USD  quote.USD.percent_change_24h   0.01837\n",
       "80  Binance USD   quote.USD.percent_change_7d   0.04114\n",
       "81  Binance USD  quote.USD.percent_change_30d   0.06681\n",
       "82  Binance USD  quote.USD.percent_change_60d  -0.00659\n",
       "83  Binance USD  quote.USD.percent_change_90d  -0.01532\n",
       "84    Shiba Inu   quote.USD.percent_change_1h  -0.13419\n",
       "85    Shiba Inu  quote.USD.percent_change_24h   0.42483\n",
       "86    Shiba Inu   quote.USD.percent_change_7d  -1.85230\n",
       "87    Shiba Inu  quote.USD.percent_change_30d  -8.17492\n",
       "88    Shiba Inu  quote.USD.percent_change_60d -12.28061\n",
       "89    Shiba Inu  quote.USD.percent_change_90d -14.09099"
      ]
     },
     "execution_count": 72,
     "metadata": {},
     "output_type": "execute_result"
    }
   ],
   "source": [
    "index = pd.Index(range(90))\n",
    "dataframe6 = dataframe5.reset_index()\n",
    "dataframe6"
   ]
  },
  {
   "cell_type": "code",
   "execution_count": 100,
   "id": "7d60404f",
   "metadata": {},
   "outputs": [
    {
     "data": {
      "text/html": [
       "<div>\n",
       "<style scoped>\n",
       "    .dataframe tbody tr th:only-of-type {\n",
       "        vertical-align: middle;\n",
       "    }\n",
       "\n",
       "    .dataframe tbody tr th {\n",
       "        vertical-align: top;\n",
       "    }\n",
       "\n",
       "    .dataframe thead th {\n",
       "        text-align: right;\n",
       "    }\n",
       "</style>\n",
       "<table border=\"1\" class=\"dataframe\">\n",
       "  <thead>\n",
       "    <tr style=\"text-align: right;\">\n",
       "      <th></th>\n",
       "      <th>name</th>\n",
       "      <th>percent_change</th>\n",
       "      <th>values</th>\n",
       "    </tr>\n",
       "  </thead>\n",
       "  <tbody>\n",
       "    <tr>\n",
       "      <th>0</th>\n",
       "      <td>Bitcoin</td>\n",
       "      <td>quote.USD.percent_change_1h</td>\n",
       "      <td>-0.01312</td>\n",
       "    </tr>\n",
       "    <tr>\n",
       "      <th>1</th>\n",
       "      <td>Bitcoin</td>\n",
       "      <td>quote.USD.percent_change_24h</td>\n",
       "      <td>1.04523</td>\n",
       "    </tr>\n",
       "    <tr>\n",
       "      <th>2</th>\n",
       "      <td>Bitcoin</td>\n",
       "      <td>quote.USD.percent_change_7d</td>\n",
       "      <td>4.07019</td>\n",
       "    </tr>\n",
       "    <tr>\n",
       "      <th>3</th>\n",
       "      <td>Bitcoin</td>\n",
       "      <td>quote.USD.percent_change_30d</td>\n",
       "      <td>1.26226</td>\n",
       "    </tr>\n",
       "    <tr>\n",
       "      <th>4</th>\n",
       "      <td>Bitcoin</td>\n",
       "      <td>quote.USD.percent_change_60d</td>\n",
       "      <td>27.22807</td>\n",
       "    </tr>\n",
       "    <tr>\n",
       "      <th>5</th>\n",
       "      <td>Bitcoin</td>\n",
       "      <td>quote.USD.percent_change_90d</td>\n",
       "      <td>23.35532</td>\n",
       "    </tr>\n",
       "    <tr>\n",
       "      <th>6</th>\n",
       "      <td>Ethereum</td>\n",
       "      <td>quote.USD.percent_change_1h</td>\n",
       "      <td>0.19667</td>\n",
       "    </tr>\n",
       "    <tr>\n",
       "      <th>7</th>\n",
       "      <td>Ethereum</td>\n",
       "      <td>quote.USD.percent_change_24h</td>\n",
       "      <td>1.22840</td>\n",
       "    </tr>\n",
       "    <tr>\n",
       "      <th>8</th>\n",
       "      <td>Ethereum</td>\n",
       "      <td>quote.USD.percent_change_7d</td>\n",
       "      <td>2.28906</td>\n",
       "    </tr>\n",
       "    <tr>\n",
       "      <th>9</th>\n",
       "      <td>Ethereum</td>\n",
       "      <td>quote.USD.percent_change_30d</td>\n",
       "      <td>3.40524</td>\n",
       "    </tr>\n",
       "    <tr>\n",
       "      <th>10</th>\n",
       "      <td>Ethereum</td>\n",
       "      <td>quote.USD.percent_change_60d</td>\n",
       "      <td>18.23896</td>\n",
       "    </tr>\n",
       "    <tr>\n",
       "      <th>11</th>\n",
       "      <td>Ethereum</td>\n",
       "      <td>quote.USD.percent_change_90d</td>\n",
       "      <td>17.40687</td>\n",
       "    </tr>\n",
       "    <tr>\n",
       "      <th>12</th>\n",
       "      <td>Tether</td>\n",
       "      <td>quote.USD.percent_change_1h</td>\n",
       "      <td>0.01783</td>\n",
       "    </tr>\n",
       "    <tr>\n",
       "      <th>13</th>\n",
       "      <td>Tether</td>\n",
       "      <td>quote.USD.percent_change_24h</td>\n",
       "      <td>0.03244</td>\n",
       "    </tr>\n",
       "    <tr>\n",
       "      <th>14</th>\n",
       "      <td>Tether</td>\n",
       "      <td>quote.USD.percent_change_7d</td>\n",
       "      <td>0.05451</td>\n",
       "    </tr>\n",
       "    <tr>\n",
       "      <th>15</th>\n",
       "      <td>Tether</td>\n",
       "      <td>quote.USD.percent_change_30d</td>\n",
       "      <td>0.03601</td>\n",
       "    </tr>\n",
       "    <tr>\n",
       "      <th>16</th>\n",
       "      <td>Tether</td>\n",
       "      <td>quote.USD.percent_change_60d</td>\n",
       "      <td>0.02429</td>\n",
       "    </tr>\n",
       "    <tr>\n",
       "      <th>17</th>\n",
       "      <td>Tether</td>\n",
       "      <td>quote.USD.percent_change_90d</td>\n",
       "      <td>0.02709</td>\n",
       "    </tr>\n",
       "    <tr>\n",
       "      <th>18</th>\n",
       "      <td>BNB</td>\n",
       "      <td>quote.USD.percent_change_1h</td>\n",
       "      <td>-0.18603</td>\n",
       "    </tr>\n",
       "    <tr>\n",
       "      <th>19</th>\n",
       "      <td>BNB</td>\n",
       "      <td>quote.USD.percent_change_24h</td>\n",
       "      <td>-2.15460</td>\n",
       "    </tr>\n",
       "    <tr>\n",
       "      <th>20</th>\n",
       "      <td>BNB</td>\n",
       "      <td>quote.USD.percent_change_7d</td>\n",
       "      <td>-2.15427</td>\n",
       "    </tr>\n",
       "    <tr>\n",
       "      <th>21</th>\n",
       "      <td>BNB</td>\n",
       "      <td>quote.USD.percent_change_30d</td>\n",
       "      <td>3.73015</td>\n",
       "    </tr>\n",
       "    <tr>\n",
       "      <th>22</th>\n",
       "      <td>BNB</td>\n",
       "      <td>quote.USD.percent_change_60d</td>\n",
       "      <td>11.93057</td>\n",
       "    </tr>\n",
       "    <tr>\n",
       "      <th>23</th>\n",
       "      <td>BNB</td>\n",
       "      <td>quote.USD.percent_change_90d</td>\n",
       "      <td>4.88787</td>\n",
       "    </tr>\n",
       "    <tr>\n",
       "      <th>24</th>\n",
       "      <td>USD Coin</td>\n",
       "      <td>quote.USD.percent_change_1h</td>\n",
       "      <td>-0.00507</td>\n",
       "    </tr>\n",
       "    <tr>\n",
       "      <th>25</th>\n",
       "      <td>USD Coin</td>\n",
       "      <td>quote.USD.percent_change_24h</td>\n",
       "      <td>0.02856</td>\n",
       "    </tr>\n",
       "    <tr>\n",
       "      <th>26</th>\n",
       "      <td>USD Coin</td>\n",
       "      <td>quote.USD.percent_change_7d</td>\n",
       "      <td>0.03902</td>\n",
       "    </tr>\n",
       "    <tr>\n",
       "      <th>27</th>\n",
       "      <td>USD Coin</td>\n",
       "      <td>quote.USD.percent_change_30d</td>\n",
       "      <td>0.06473</td>\n",
       "    </tr>\n",
       "    <tr>\n",
       "      <th>28</th>\n",
       "      <td>USD Coin</td>\n",
       "      <td>quote.USD.percent_change_60d</td>\n",
       "      <td>0.01154</td>\n",
       "    </tr>\n",
       "    <tr>\n",
       "      <th>29</th>\n",
       "      <td>USD Coin</td>\n",
       "      <td>quote.USD.percent_change_90d</td>\n",
       "      <td>0.02824</td>\n",
       "    </tr>\n",
       "    <tr>\n",
       "      <th>30</th>\n",
       "      <td>XRP</td>\n",
       "      <td>quote.USD.percent_change_1h</td>\n",
       "      <td>-0.24086</td>\n",
       "    </tr>\n",
       "    <tr>\n",
       "      <th>31</th>\n",
       "      <td>XRP</td>\n",
       "      <td>quote.USD.percent_change_24h</td>\n",
       "      <td>0.54868</td>\n",
       "    </tr>\n",
       "    <tr>\n",
       "      <th>32</th>\n",
       "      <td>XRP</td>\n",
       "      <td>quote.USD.percent_change_7d</td>\n",
       "      <td>1.26900</td>\n",
       "    </tr>\n",
       "    <tr>\n",
       "      <th>33</th>\n",
       "      <td>XRP</td>\n",
       "      <td>quote.USD.percent_change_30d</td>\n",
       "      <td>-11.65434</td>\n",
       "    </tr>\n",
       "    <tr>\n",
       "      <th>34</th>\n",
       "      <td>XRP</td>\n",
       "      <td>quote.USD.percent_change_60d</td>\n",
       "      <td>25.65749</td>\n",
       "    </tr>\n",
       "    <tr>\n",
       "      <th>35</th>\n",
       "      <td>XRP</td>\n",
       "      <td>quote.USD.percent_change_90d</td>\n",
       "      <td>15.21062</td>\n",
       "    </tr>\n",
       "    <tr>\n",
       "      <th>36</th>\n",
       "      <td>Cardano</td>\n",
       "      <td>quote.USD.percent_change_1h</td>\n",
       "      <td>0.16862</td>\n",
       "    </tr>\n",
       "    <tr>\n",
       "      <th>37</th>\n",
       "      <td>Cardano</td>\n",
       "      <td>quote.USD.percent_change_24h</td>\n",
       "      <td>0.67912</td>\n",
       "    </tr>\n",
       "    <tr>\n",
       "      <th>38</th>\n",
       "      <td>Cardano</td>\n",
       "      <td>quote.USD.percent_change_7d</td>\n",
       "      <td>2.34605</td>\n",
       "    </tr>\n",
       "    <tr>\n",
       "      <th>39</th>\n",
       "      <td>Cardano</td>\n",
       "      <td>quote.USD.percent_change_30d</td>\n",
       "      <td>2.21498</td>\n",
       "    </tr>\n",
       "    <tr>\n",
       "      <th>40</th>\n",
       "      <td>Cardano</td>\n",
       "      <td>quote.USD.percent_change_60d</td>\n",
       "      <td>14.74907</td>\n",
       "    </tr>\n",
       "    <tr>\n",
       "      <th>41</th>\n",
       "      <td>Cardano</td>\n",
       "      <td>quote.USD.percent_change_90d</td>\n",
       "      <td>2.47001</td>\n",
       "    </tr>\n",
       "    <tr>\n",
       "      <th>42</th>\n",
       "      <td>Dogecoin</td>\n",
       "      <td>quote.USD.percent_change_1h</td>\n",
       "      <td>-0.30102</td>\n",
       "    </tr>\n",
       "    <tr>\n",
       "      <th>43</th>\n",
       "      <td>Dogecoin</td>\n",
       "      <td>quote.USD.percent_change_24h</td>\n",
       "      <td>0.17393</td>\n",
       "    </tr>\n",
       "    <tr>\n",
       "      <th>44</th>\n",
       "      <td>Dogecoin</td>\n",
       "      <td>quote.USD.percent_change_7d</td>\n",
       "      <td>0.38368</td>\n",
       "    </tr>\n",
       "    <tr>\n",
       "      <th>45</th>\n",
       "      <td>Dogecoin</td>\n",
       "      <td>quote.USD.percent_change_30d</td>\n",
       "      <td>-0.38514</td>\n",
       "    </tr>\n",
       "    <tr>\n",
       "      <th>46</th>\n",
       "      <td>Dogecoin</td>\n",
       "      <td>quote.USD.percent_change_60d</td>\n",
       "      <td>3.01802</td>\n",
       "    </tr>\n",
       "    <tr>\n",
       "      <th>47</th>\n",
       "      <td>Dogecoin</td>\n",
       "      <td>quote.USD.percent_change_90d</td>\n",
       "      <td>-13.67901</td>\n",
       "    </tr>\n",
       "    <tr>\n",
       "      <th>48</th>\n",
       "      <td>Polygon</td>\n",
       "      <td>quote.USD.percent_change_1h</td>\n",
       "      <td>-0.18132</td>\n",
       "    </tr>\n",
       "    <tr>\n",
       "      <th>49</th>\n",
       "      <td>Polygon</td>\n",
       "      <td>quote.USD.percent_change_24h</td>\n",
       "      <td>0.24303</td>\n",
       "    </tr>\n",
       "    <tr>\n",
       "      <th>50</th>\n",
       "      <td>Polygon</td>\n",
       "      <td>quote.USD.percent_change_7d</td>\n",
       "      <td>1.40955</td>\n",
       "    </tr>\n",
       "    <tr>\n",
       "      <th>51</th>\n",
       "      <td>Polygon</td>\n",
       "      <td>quote.USD.percent_change_30d</td>\n",
       "      <td>-11.40086</td>\n",
       "    </tr>\n",
       "    <tr>\n",
       "      <th>52</th>\n",
       "      <td>Polygon</td>\n",
       "      <td>quote.USD.percent_change_60d</td>\n",
       "      <td>-17.00877</td>\n",
       "    </tr>\n",
       "    <tr>\n",
       "      <th>53</th>\n",
       "      <td>Polygon</td>\n",
       "      <td>quote.USD.percent_change_90d</td>\n",
       "      <td>-11.51974</td>\n",
       "    </tr>\n",
       "    <tr>\n",
       "      <th>54</th>\n",
       "      <td>Solana</td>\n",
       "      <td>quote.USD.percent_change_1h</td>\n",
       "      <td>-0.22411</td>\n",
       "    </tr>\n",
       "    <tr>\n",
       "      <th>55</th>\n",
       "      <td>Solana</td>\n",
       "      <td>quote.USD.percent_change_24h</td>\n",
       "      <td>0.78610</td>\n",
       "    </tr>\n",
       "    <tr>\n",
       "      <th>56</th>\n",
       "      <td>Solana</td>\n",
       "      <td>quote.USD.percent_change_7d</td>\n",
       "      <td>5.73878</td>\n",
       "    </tr>\n",
       "    <tr>\n",
       "      <th>57</th>\n",
       "      <td>Solana</td>\n",
       "      <td>quote.USD.percent_change_30d</td>\n",
       "      <td>7.65392</td>\n",
       "    </tr>\n",
       "    <tr>\n",
       "      <th>58</th>\n",
       "      <td>Solana</td>\n",
       "      <td>quote.USD.percent_change_60d</td>\n",
       "      <td>3.80923</td>\n",
       "    </tr>\n",
       "    <tr>\n",
       "      <th>59</th>\n",
       "      <td>Solana</td>\n",
       "      <td>quote.USD.percent_change_90d</td>\n",
       "      <td>-4.83883</td>\n",
       "    </tr>\n",
       "    <tr>\n",
       "      <th>60</th>\n",
       "      <td>Polkadot</td>\n",
       "      <td>quote.USD.percent_change_1h</td>\n",
       "      <td>-0.31694</td>\n",
       "    </tr>\n",
       "    <tr>\n",
       "      <th>61</th>\n",
       "      <td>Polkadot</td>\n",
       "      <td>quote.USD.percent_change_24h</td>\n",
       "      <td>-1.22892</td>\n",
       "    </tr>\n",
       "    <tr>\n",
       "      <th>62</th>\n",
       "      <td>Polkadot</td>\n",
       "      <td>quote.USD.percent_change_7d</td>\n",
       "      <td>-2.05960</td>\n",
       "    </tr>\n",
       "    <tr>\n",
       "      <th>63</th>\n",
       "      <td>Polkadot</td>\n",
       "      <td>quote.USD.percent_change_30d</td>\n",
       "      <td>-9.37515</td>\n",
       "    </tr>\n",
       "    <tr>\n",
       "      <th>64</th>\n",
       "      <td>Polkadot</td>\n",
       "      <td>quote.USD.percent_change_60d</td>\n",
       "      <td>-5.91265</td>\n",
       "    </tr>\n",
       "    <tr>\n",
       "      <th>65</th>\n",
       "      <td>Polkadot</td>\n",
       "      <td>quote.USD.percent_change_90d</td>\n",
       "      <td>-7.47763</td>\n",
       "    </tr>\n",
       "    <tr>\n",
       "      <th>66</th>\n",
       "      <td>Litecoin</td>\n",
       "      <td>quote.USD.percent_change_1h</td>\n",
       "      <td>-0.74913</td>\n",
       "    </tr>\n",
       "    <tr>\n",
       "      <th>67</th>\n",
       "      <td>Litecoin</td>\n",
       "      <td>quote.USD.percent_change_24h</td>\n",
       "      <td>1.58541</td>\n",
       "    </tr>\n",
       "    <tr>\n",
       "      <th>68</th>\n",
       "      <td>Litecoin</td>\n",
       "      <td>quote.USD.percent_change_7d</td>\n",
       "      <td>-0.81579</td>\n",
       "    </tr>\n",
       "    <tr>\n",
       "      <th>69</th>\n",
       "      <td>Litecoin</td>\n",
       "      <td>quote.USD.percent_change_30d</td>\n",
       "      <td>-4.00244</td>\n",
       "    </tr>\n",
       "    <tr>\n",
       "      <th>70</th>\n",
       "      <td>Litecoin</td>\n",
       "      <td>quote.USD.percent_change_60d</td>\n",
       "      <td>-1.35124</td>\n",
       "    </tr>\n",
       "    <tr>\n",
       "      <th>71</th>\n",
       "      <td>Litecoin</td>\n",
       "      <td>quote.USD.percent_change_90d</td>\n",
       "      <td>-6.86043</td>\n",
       "    </tr>\n",
       "    <tr>\n",
       "      <th>72</th>\n",
       "      <td>TRON</td>\n",
       "      <td>quote.USD.percent_change_1h</td>\n",
       "      <td>-0.25516</td>\n",
       "    </tr>\n",
       "    <tr>\n",
       "      <th>73</th>\n",
       "      <td>TRON</td>\n",
       "      <td>quote.USD.percent_change_24h</td>\n",
       "      <td>0.28065</td>\n",
       "    </tr>\n",
       "    <tr>\n",
       "      <th>74</th>\n",
       "      <td>TRON</td>\n",
       "      <td>quote.USD.percent_change_7d</td>\n",
       "      <td>4.96375</td>\n",
       "    </tr>\n",
       "    <tr>\n",
       "      <th>75</th>\n",
       "      <td>TRON</td>\n",
       "      <td>quote.USD.percent_change_30d</td>\n",
       "      <td>4.66268</td>\n",
       "    </tr>\n",
       "    <tr>\n",
       "      <th>76</th>\n",
       "      <td>TRON</td>\n",
       "      <td>quote.USD.percent_change_60d</td>\n",
       "      <td>1.87685</td>\n",
       "    </tr>\n",
       "    <tr>\n",
       "      <th>77</th>\n",
       "      <td>TRON</td>\n",
       "      <td>quote.USD.percent_change_90d</td>\n",
       "      <td>10.21794</td>\n",
       "    </tr>\n",
       "    <tr>\n",
       "      <th>78</th>\n",
       "      <td>Binance USD</td>\n",
       "      <td>quote.USD.percent_change_1h</td>\n",
       "      <td>-0.01348</td>\n",
       "    </tr>\n",
       "    <tr>\n",
       "      <th>79</th>\n",
       "      <td>Binance USD</td>\n",
       "      <td>quote.USD.percent_change_24h</td>\n",
       "      <td>0.01837</td>\n",
       "    </tr>\n",
       "    <tr>\n",
       "      <th>80</th>\n",
       "      <td>Binance USD</td>\n",
       "      <td>quote.USD.percent_change_7d</td>\n",
       "      <td>0.04114</td>\n",
       "    </tr>\n",
       "    <tr>\n",
       "      <th>81</th>\n",
       "      <td>Binance USD</td>\n",
       "      <td>quote.USD.percent_change_30d</td>\n",
       "      <td>0.06681</td>\n",
       "    </tr>\n",
       "    <tr>\n",
       "      <th>82</th>\n",
       "      <td>Binance USD</td>\n",
       "      <td>quote.USD.percent_change_60d</td>\n",
       "      <td>-0.00659</td>\n",
       "    </tr>\n",
       "    <tr>\n",
       "      <th>83</th>\n",
       "      <td>Binance USD</td>\n",
       "      <td>quote.USD.percent_change_90d</td>\n",
       "      <td>-0.01532</td>\n",
       "    </tr>\n",
       "    <tr>\n",
       "      <th>84</th>\n",
       "      <td>Shiba Inu</td>\n",
       "      <td>quote.USD.percent_change_1h</td>\n",
       "      <td>-0.13419</td>\n",
       "    </tr>\n",
       "    <tr>\n",
       "      <th>85</th>\n",
       "      <td>Shiba Inu</td>\n",
       "      <td>quote.USD.percent_change_24h</td>\n",
       "      <td>0.42483</td>\n",
       "    </tr>\n",
       "    <tr>\n",
       "      <th>86</th>\n",
       "      <td>Shiba Inu</td>\n",
       "      <td>quote.USD.percent_change_7d</td>\n",
       "      <td>-1.85230</td>\n",
       "    </tr>\n",
       "    <tr>\n",
       "      <th>87</th>\n",
       "      <td>Shiba Inu</td>\n",
       "      <td>quote.USD.percent_change_30d</td>\n",
       "      <td>-8.17492</td>\n",
       "    </tr>\n",
       "    <tr>\n",
       "      <th>88</th>\n",
       "      <td>Shiba Inu</td>\n",
       "      <td>quote.USD.percent_change_60d</td>\n",
       "      <td>-12.28061</td>\n",
       "    </tr>\n",
       "    <tr>\n",
       "      <th>89</th>\n",
       "      <td>Shiba Inu</td>\n",
       "      <td>quote.USD.percent_change_90d</td>\n",
       "      <td>-14.09099</td>\n",
       "    </tr>\n",
       "  </tbody>\n",
       "</table>\n",
       "</div>"
      ],
      "text/plain": [
       "           name                percent_change    values\n",
       "0       Bitcoin   quote.USD.percent_change_1h  -0.01312\n",
       "1       Bitcoin  quote.USD.percent_change_24h   1.04523\n",
       "2       Bitcoin   quote.USD.percent_change_7d   4.07019\n",
       "3       Bitcoin  quote.USD.percent_change_30d   1.26226\n",
       "4       Bitcoin  quote.USD.percent_change_60d  27.22807\n",
       "5       Bitcoin  quote.USD.percent_change_90d  23.35532\n",
       "6      Ethereum   quote.USD.percent_change_1h   0.19667\n",
       "7      Ethereum  quote.USD.percent_change_24h   1.22840\n",
       "8      Ethereum   quote.USD.percent_change_7d   2.28906\n",
       "9      Ethereum  quote.USD.percent_change_30d   3.40524\n",
       "10     Ethereum  quote.USD.percent_change_60d  18.23896\n",
       "11     Ethereum  quote.USD.percent_change_90d  17.40687\n",
       "12       Tether   quote.USD.percent_change_1h   0.01783\n",
       "13       Tether  quote.USD.percent_change_24h   0.03244\n",
       "14       Tether   quote.USD.percent_change_7d   0.05451\n",
       "15       Tether  quote.USD.percent_change_30d   0.03601\n",
       "16       Tether  quote.USD.percent_change_60d   0.02429\n",
       "17       Tether  quote.USD.percent_change_90d   0.02709\n",
       "18          BNB   quote.USD.percent_change_1h  -0.18603\n",
       "19          BNB  quote.USD.percent_change_24h  -2.15460\n",
       "20          BNB   quote.USD.percent_change_7d  -2.15427\n",
       "21          BNB  quote.USD.percent_change_30d   3.73015\n",
       "22          BNB  quote.USD.percent_change_60d  11.93057\n",
       "23          BNB  quote.USD.percent_change_90d   4.88787\n",
       "24     USD Coin   quote.USD.percent_change_1h  -0.00507\n",
       "25     USD Coin  quote.USD.percent_change_24h   0.02856\n",
       "26     USD Coin   quote.USD.percent_change_7d   0.03902\n",
       "27     USD Coin  quote.USD.percent_change_30d   0.06473\n",
       "28     USD Coin  quote.USD.percent_change_60d   0.01154\n",
       "29     USD Coin  quote.USD.percent_change_90d   0.02824\n",
       "30          XRP   quote.USD.percent_change_1h  -0.24086\n",
       "31          XRP  quote.USD.percent_change_24h   0.54868\n",
       "32          XRP   quote.USD.percent_change_7d   1.26900\n",
       "33          XRP  quote.USD.percent_change_30d -11.65434\n",
       "34          XRP  quote.USD.percent_change_60d  25.65749\n",
       "35          XRP  quote.USD.percent_change_90d  15.21062\n",
       "36      Cardano   quote.USD.percent_change_1h   0.16862\n",
       "37      Cardano  quote.USD.percent_change_24h   0.67912\n",
       "38      Cardano   quote.USD.percent_change_7d   2.34605\n",
       "39      Cardano  quote.USD.percent_change_30d   2.21498\n",
       "40      Cardano  quote.USD.percent_change_60d  14.74907\n",
       "41      Cardano  quote.USD.percent_change_90d   2.47001\n",
       "42     Dogecoin   quote.USD.percent_change_1h  -0.30102\n",
       "43     Dogecoin  quote.USD.percent_change_24h   0.17393\n",
       "44     Dogecoin   quote.USD.percent_change_7d   0.38368\n",
       "45     Dogecoin  quote.USD.percent_change_30d  -0.38514\n",
       "46     Dogecoin  quote.USD.percent_change_60d   3.01802\n",
       "47     Dogecoin  quote.USD.percent_change_90d -13.67901\n",
       "48      Polygon   quote.USD.percent_change_1h  -0.18132\n",
       "49      Polygon  quote.USD.percent_change_24h   0.24303\n",
       "50      Polygon   quote.USD.percent_change_7d   1.40955\n",
       "51      Polygon  quote.USD.percent_change_30d -11.40086\n",
       "52      Polygon  quote.USD.percent_change_60d -17.00877\n",
       "53      Polygon  quote.USD.percent_change_90d -11.51974\n",
       "54       Solana   quote.USD.percent_change_1h  -0.22411\n",
       "55       Solana  quote.USD.percent_change_24h   0.78610\n",
       "56       Solana   quote.USD.percent_change_7d   5.73878\n",
       "57       Solana  quote.USD.percent_change_30d   7.65392\n",
       "58       Solana  quote.USD.percent_change_60d   3.80923\n",
       "59       Solana  quote.USD.percent_change_90d  -4.83883\n",
       "60     Polkadot   quote.USD.percent_change_1h  -0.31694\n",
       "61     Polkadot  quote.USD.percent_change_24h  -1.22892\n",
       "62     Polkadot   quote.USD.percent_change_7d  -2.05960\n",
       "63     Polkadot  quote.USD.percent_change_30d  -9.37515\n",
       "64     Polkadot  quote.USD.percent_change_60d  -5.91265\n",
       "65     Polkadot  quote.USD.percent_change_90d  -7.47763\n",
       "66     Litecoin   quote.USD.percent_change_1h  -0.74913\n",
       "67     Litecoin  quote.USD.percent_change_24h   1.58541\n",
       "68     Litecoin   quote.USD.percent_change_7d  -0.81579\n",
       "69     Litecoin  quote.USD.percent_change_30d  -4.00244\n",
       "70     Litecoin  quote.USD.percent_change_60d  -1.35124\n",
       "71     Litecoin  quote.USD.percent_change_90d  -6.86043\n",
       "72         TRON   quote.USD.percent_change_1h  -0.25516\n",
       "73         TRON  quote.USD.percent_change_24h   0.28065\n",
       "74         TRON   quote.USD.percent_change_7d   4.96375\n",
       "75         TRON  quote.USD.percent_change_30d   4.66268\n",
       "76         TRON  quote.USD.percent_change_60d   1.87685\n",
       "77         TRON  quote.USD.percent_change_90d  10.21794\n",
       "78  Binance USD   quote.USD.percent_change_1h  -0.01348\n",
       "79  Binance USD  quote.USD.percent_change_24h   0.01837\n",
       "80  Binance USD   quote.USD.percent_change_7d   0.04114\n",
       "81  Binance USD  quote.USD.percent_change_30d   0.06681\n",
       "82  Binance USD  quote.USD.percent_change_60d  -0.00659\n",
       "83  Binance USD  quote.USD.percent_change_90d  -0.01532\n",
       "84    Shiba Inu   quote.USD.percent_change_1h  -0.13419\n",
       "85    Shiba Inu  quote.USD.percent_change_24h   0.42483\n",
       "86    Shiba Inu   quote.USD.percent_change_7d  -1.85230\n",
       "87    Shiba Inu  quote.USD.percent_change_30d  -8.17492\n",
       "88    Shiba Inu  quote.USD.percent_change_60d -12.28061\n",
       "89    Shiba Inu  quote.USD.percent_change_90d -14.09099"
      ]
     },
     "execution_count": 100,
     "metadata": {},
     "output_type": "execute_result"
    }
   ],
   "source": [
    "dataframe7 = dataframe6.rename(columns={'level_1':'percent_change'})\n",
    "dataframe7"
   ]
  },
  {
   "cell_type": "code",
   "execution_count": 102,
   "id": "2d0edd06",
   "metadata": {},
   "outputs": [],
   "source": [
    "import seaborn as sns\n",
    "import matplotlib.pyplot as plt"
   ]
  },
  {
   "cell_type": "code",
   "execution_count": 103,
   "id": "2ad747db",
   "metadata": {},
   "outputs": [
    {
     "data": {
      "text/plain": [
       "<seaborn.axisgrid.FacetGrid at 0x241d990ea60>"
      ]
     },
     "execution_count": 103,
     "metadata": {},
     "output_type": "execute_result"
    }
   ],
   "source": [
    "sns.catplot(x = 'percent_change', y = 'values', hue = 'name', data = dataframe7, kind = 'point')"
   ]
  },
  {
   "cell_type": "code",
   "execution_count": 104,
   "id": "1974a5b7",
   "metadata": {},
   "outputs": [
    {
     "data": {
      "text/html": [
       "<div>\n",
       "<style scoped>\n",
       "    .dataframe tbody tr th:only-of-type {\n",
       "        vertical-align: middle;\n",
       "    }\n",
       "\n",
       "    .dataframe tbody tr th {\n",
       "        vertical-align: top;\n",
       "    }\n",
       "\n",
       "    .dataframe thead th {\n",
       "        text-align: right;\n",
       "    }\n",
       "</style>\n",
       "<table border=\"1\" class=\"dataframe\">\n",
       "  <thead>\n",
       "    <tr style=\"text-align: right;\">\n",
       "      <th></th>\n",
       "      <th>name</th>\n",
       "      <th>percent_change</th>\n",
       "      <th>values</th>\n",
       "    </tr>\n",
       "  </thead>\n",
       "  <tbody>\n",
       "    <tr>\n",
       "      <th>0</th>\n",
       "      <td>Bitcoin</td>\n",
       "      <td>quote.USD.percent_change_1h</td>\n",
       "      <td>-0.01312</td>\n",
       "    </tr>\n",
       "    <tr>\n",
       "      <th>1</th>\n",
       "      <td>Bitcoin</td>\n",
       "      <td>quote.USD.percent_change_24h</td>\n",
       "      <td>1.04523</td>\n",
       "    </tr>\n",
       "    <tr>\n",
       "      <th>2</th>\n",
       "      <td>Bitcoin</td>\n",
       "      <td>quote.USD.percent_change_7d</td>\n",
       "      <td>4.07019</td>\n",
       "    </tr>\n",
       "    <tr>\n",
       "      <th>3</th>\n",
       "      <td>Bitcoin</td>\n",
       "      <td>quote.USD.percent_change_30d</td>\n",
       "      <td>1.26226</td>\n",
       "    </tr>\n",
       "    <tr>\n",
       "      <th>4</th>\n",
       "      <td>Bitcoin</td>\n",
       "      <td>quote.USD.percent_change_60d</td>\n",
       "      <td>27.22807</td>\n",
       "    </tr>\n",
       "    <tr>\n",
       "      <th>5</th>\n",
       "      <td>Bitcoin</td>\n",
       "      <td>quote.USD.percent_change_90d</td>\n",
       "      <td>23.35532</td>\n",
       "    </tr>\n",
       "    <tr>\n",
       "      <th>6</th>\n",
       "      <td>Ethereum</td>\n",
       "      <td>quote.USD.percent_change_1h</td>\n",
       "      <td>0.19667</td>\n",
       "    </tr>\n",
       "    <tr>\n",
       "      <th>7</th>\n",
       "      <td>Ethereum</td>\n",
       "      <td>quote.USD.percent_change_24h</td>\n",
       "      <td>1.22840</td>\n",
       "    </tr>\n",
       "    <tr>\n",
       "      <th>8</th>\n",
       "      <td>Ethereum</td>\n",
       "      <td>quote.USD.percent_change_7d</td>\n",
       "      <td>2.28906</td>\n",
       "    </tr>\n",
       "    <tr>\n",
       "      <th>9</th>\n",
       "      <td>Ethereum</td>\n",
       "      <td>quote.USD.percent_change_30d</td>\n",
       "      <td>3.40524</td>\n",
       "    </tr>\n",
       "    <tr>\n",
       "      <th>10</th>\n",
       "      <td>Ethereum</td>\n",
       "      <td>quote.USD.percent_change_60d</td>\n",
       "      <td>18.23896</td>\n",
       "    </tr>\n",
       "    <tr>\n",
       "      <th>11</th>\n",
       "      <td>Ethereum</td>\n",
       "      <td>quote.USD.percent_change_90d</td>\n",
       "      <td>17.40687</td>\n",
       "    </tr>\n",
       "    <tr>\n",
       "      <th>12</th>\n",
       "      <td>Tether</td>\n",
       "      <td>quote.USD.percent_change_1h</td>\n",
       "      <td>0.01783</td>\n",
       "    </tr>\n",
       "    <tr>\n",
       "      <th>13</th>\n",
       "      <td>Tether</td>\n",
       "      <td>quote.USD.percent_change_24h</td>\n",
       "      <td>0.03244</td>\n",
       "    </tr>\n",
       "    <tr>\n",
       "      <th>14</th>\n",
       "      <td>Tether</td>\n",
       "      <td>quote.USD.percent_change_7d</td>\n",
       "      <td>0.05451</td>\n",
       "    </tr>\n",
       "    <tr>\n",
       "      <th>15</th>\n",
       "      <td>Tether</td>\n",
       "      <td>quote.USD.percent_change_30d</td>\n",
       "      <td>0.03601</td>\n",
       "    </tr>\n",
       "    <tr>\n",
       "      <th>16</th>\n",
       "      <td>Tether</td>\n",
       "      <td>quote.USD.percent_change_60d</td>\n",
       "      <td>0.02429</td>\n",
       "    </tr>\n",
       "    <tr>\n",
       "      <th>17</th>\n",
       "      <td>Tether</td>\n",
       "      <td>quote.USD.percent_change_90d</td>\n",
       "      <td>0.02709</td>\n",
       "    </tr>\n",
       "    <tr>\n",
       "      <th>18</th>\n",
       "      <td>BNB</td>\n",
       "      <td>quote.USD.percent_change_1h</td>\n",
       "      <td>-0.18603</td>\n",
       "    </tr>\n",
       "    <tr>\n",
       "      <th>19</th>\n",
       "      <td>BNB</td>\n",
       "      <td>quote.USD.percent_change_24h</td>\n",
       "      <td>-2.15460</td>\n",
       "    </tr>\n",
       "    <tr>\n",
       "      <th>20</th>\n",
       "      <td>BNB</td>\n",
       "      <td>quote.USD.percent_change_7d</td>\n",
       "      <td>-2.15427</td>\n",
       "    </tr>\n",
       "    <tr>\n",
       "      <th>21</th>\n",
       "      <td>BNB</td>\n",
       "      <td>quote.USD.percent_change_30d</td>\n",
       "      <td>3.73015</td>\n",
       "    </tr>\n",
       "    <tr>\n",
       "      <th>22</th>\n",
       "      <td>BNB</td>\n",
       "      <td>quote.USD.percent_change_60d</td>\n",
       "      <td>11.93057</td>\n",
       "    </tr>\n",
       "    <tr>\n",
       "      <th>23</th>\n",
       "      <td>BNB</td>\n",
       "      <td>quote.USD.percent_change_90d</td>\n",
       "      <td>4.88787</td>\n",
       "    </tr>\n",
       "    <tr>\n",
       "      <th>24</th>\n",
       "      <td>USD Coin</td>\n",
       "      <td>quote.USD.percent_change_1h</td>\n",
       "      <td>-0.00507</td>\n",
       "    </tr>\n",
       "    <tr>\n",
       "      <th>25</th>\n",
       "      <td>USD Coin</td>\n",
       "      <td>quote.USD.percent_change_24h</td>\n",
       "      <td>0.02856</td>\n",
       "    </tr>\n",
       "    <tr>\n",
       "      <th>26</th>\n",
       "      <td>USD Coin</td>\n",
       "      <td>quote.USD.percent_change_7d</td>\n",
       "      <td>0.03902</td>\n",
       "    </tr>\n",
       "    <tr>\n",
       "      <th>27</th>\n",
       "      <td>USD Coin</td>\n",
       "      <td>quote.USD.percent_change_30d</td>\n",
       "      <td>0.06473</td>\n",
       "    </tr>\n",
       "    <tr>\n",
       "      <th>28</th>\n",
       "      <td>USD Coin</td>\n",
       "      <td>quote.USD.percent_change_60d</td>\n",
       "      <td>0.01154</td>\n",
       "    </tr>\n",
       "    <tr>\n",
       "      <th>29</th>\n",
       "      <td>USD Coin</td>\n",
       "      <td>quote.USD.percent_change_90d</td>\n",
       "      <td>0.02824</td>\n",
       "    </tr>\n",
       "    <tr>\n",
       "      <th>30</th>\n",
       "      <td>XRP</td>\n",
       "      <td>quote.USD.percent_change_1h</td>\n",
       "      <td>-0.24086</td>\n",
       "    </tr>\n",
       "    <tr>\n",
       "      <th>31</th>\n",
       "      <td>XRP</td>\n",
       "      <td>quote.USD.percent_change_24h</td>\n",
       "      <td>0.54868</td>\n",
       "    </tr>\n",
       "    <tr>\n",
       "      <th>32</th>\n",
       "      <td>XRP</td>\n",
       "      <td>quote.USD.percent_change_7d</td>\n",
       "      <td>1.26900</td>\n",
       "    </tr>\n",
       "    <tr>\n",
       "      <th>33</th>\n",
       "      <td>XRP</td>\n",
       "      <td>quote.USD.percent_change_30d</td>\n",
       "      <td>-11.65434</td>\n",
       "    </tr>\n",
       "    <tr>\n",
       "      <th>34</th>\n",
       "      <td>XRP</td>\n",
       "      <td>quote.USD.percent_change_60d</td>\n",
       "      <td>25.65749</td>\n",
       "    </tr>\n",
       "    <tr>\n",
       "      <th>35</th>\n",
       "      <td>XRP</td>\n",
       "      <td>quote.USD.percent_change_90d</td>\n",
       "      <td>15.21062</td>\n",
       "    </tr>\n",
       "    <tr>\n",
       "      <th>36</th>\n",
       "      <td>Cardano</td>\n",
       "      <td>quote.USD.percent_change_1h</td>\n",
       "      <td>0.16862</td>\n",
       "    </tr>\n",
       "    <tr>\n",
       "      <th>37</th>\n",
       "      <td>Cardano</td>\n",
       "      <td>quote.USD.percent_change_24h</td>\n",
       "      <td>0.67912</td>\n",
       "    </tr>\n",
       "    <tr>\n",
       "      <th>38</th>\n",
       "      <td>Cardano</td>\n",
       "      <td>quote.USD.percent_change_7d</td>\n",
       "      <td>2.34605</td>\n",
       "    </tr>\n",
       "    <tr>\n",
       "      <th>39</th>\n",
       "      <td>Cardano</td>\n",
       "      <td>quote.USD.percent_change_30d</td>\n",
       "      <td>2.21498</td>\n",
       "    </tr>\n",
       "    <tr>\n",
       "      <th>40</th>\n",
       "      <td>Cardano</td>\n",
       "      <td>quote.USD.percent_change_60d</td>\n",
       "      <td>14.74907</td>\n",
       "    </tr>\n",
       "    <tr>\n",
       "      <th>41</th>\n",
       "      <td>Cardano</td>\n",
       "      <td>quote.USD.percent_change_90d</td>\n",
       "      <td>2.47001</td>\n",
       "    </tr>\n",
       "    <tr>\n",
       "      <th>42</th>\n",
       "      <td>Dogecoin</td>\n",
       "      <td>quote.USD.percent_change_1h</td>\n",
       "      <td>-0.30102</td>\n",
       "    </tr>\n",
       "    <tr>\n",
       "      <th>43</th>\n",
       "      <td>Dogecoin</td>\n",
       "      <td>quote.USD.percent_change_24h</td>\n",
       "      <td>0.17393</td>\n",
       "    </tr>\n",
       "    <tr>\n",
       "      <th>44</th>\n",
       "      <td>Dogecoin</td>\n",
       "      <td>quote.USD.percent_change_7d</td>\n",
       "      <td>0.38368</td>\n",
       "    </tr>\n",
       "    <tr>\n",
       "      <th>45</th>\n",
       "      <td>Dogecoin</td>\n",
       "      <td>quote.USD.percent_change_30d</td>\n",
       "      <td>-0.38514</td>\n",
       "    </tr>\n",
       "    <tr>\n",
       "      <th>46</th>\n",
       "      <td>Dogecoin</td>\n",
       "      <td>quote.USD.percent_change_60d</td>\n",
       "      <td>3.01802</td>\n",
       "    </tr>\n",
       "    <tr>\n",
       "      <th>47</th>\n",
       "      <td>Dogecoin</td>\n",
       "      <td>quote.USD.percent_change_90d</td>\n",
       "      <td>-13.67901</td>\n",
       "    </tr>\n",
       "    <tr>\n",
       "      <th>48</th>\n",
       "      <td>Polygon</td>\n",
       "      <td>quote.USD.percent_change_1h</td>\n",
       "      <td>-0.18132</td>\n",
       "    </tr>\n",
       "    <tr>\n",
       "      <th>49</th>\n",
       "      <td>Polygon</td>\n",
       "      <td>quote.USD.percent_change_24h</td>\n",
       "      <td>0.24303</td>\n",
       "    </tr>\n",
       "    <tr>\n",
       "      <th>50</th>\n",
       "      <td>Polygon</td>\n",
       "      <td>quote.USD.percent_change_7d</td>\n",
       "      <td>1.40955</td>\n",
       "    </tr>\n",
       "    <tr>\n",
       "      <th>51</th>\n",
       "      <td>Polygon</td>\n",
       "      <td>quote.USD.percent_change_30d</td>\n",
       "      <td>-11.40086</td>\n",
       "    </tr>\n",
       "    <tr>\n",
       "      <th>52</th>\n",
       "      <td>Polygon</td>\n",
       "      <td>quote.USD.percent_change_60d</td>\n",
       "      <td>-17.00877</td>\n",
       "    </tr>\n",
       "    <tr>\n",
       "      <th>53</th>\n",
       "      <td>Polygon</td>\n",
       "      <td>quote.USD.percent_change_90d</td>\n",
       "      <td>-11.51974</td>\n",
       "    </tr>\n",
       "    <tr>\n",
       "      <th>54</th>\n",
       "      <td>Solana</td>\n",
       "      <td>quote.USD.percent_change_1h</td>\n",
       "      <td>-0.22411</td>\n",
       "    </tr>\n",
       "    <tr>\n",
       "      <th>55</th>\n",
       "      <td>Solana</td>\n",
       "      <td>quote.USD.percent_change_24h</td>\n",
       "      <td>0.78610</td>\n",
       "    </tr>\n",
       "    <tr>\n",
       "      <th>56</th>\n",
       "      <td>Solana</td>\n",
       "      <td>quote.USD.percent_change_7d</td>\n",
       "      <td>5.73878</td>\n",
       "    </tr>\n",
       "    <tr>\n",
       "      <th>57</th>\n",
       "      <td>Solana</td>\n",
       "      <td>quote.USD.percent_change_30d</td>\n",
       "      <td>7.65392</td>\n",
       "    </tr>\n",
       "    <tr>\n",
       "      <th>58</th>\n",
       "      <td>Solana</td>\n",
       "      <td>quote.USD.percent_change_60d</td>\n",
       "      <td>3.80923</td>\n",
       "    </tr>\n",
       "    <tr>\n",
       "      <th>59</th>\n",
       "      <td>Solana</td>\n",
       "      <td>quote.USD.percent_change_90d</td>\n",
       "      <td>-4.83883</td>\n",
       "    </tr>\n",
       "    <tr>\n",
       "      <th>60</th>\n",
       "      <td>Polkadot</td>\n",
       "      <td>quote.USD.percent_change_1h</td>\n",
       "      <td>-0.31694</td>\n",
       "    </tr>\n",
       "    <tr>\n",
       "      <th>61</th>\n",
       "      <td>Polkadot</td>\n",
       "      <td>quote.USD.percent_change_24h</td>\n",
       "      <td>-1.22892</td>\n",
       "    </tr>\n",
       "    <tr>\n",
       "      <th>62</th>\n",
       "      <td>Polkadot</td>\n",
       "      <td>quote.USD.percent_change_7d</td>\n",
       "      <td>-2.05960</td>\n",
       "    </tr>\n",
       "    <tr>\n",
       "      <th>63</th>\n",
       "      <td>Polkadot</td>\n",
       "      <td>quote.USD.percent_change_30d</td>\n",
       "      <td>-9.37515</td>\n",
       "    </tr>\n",
       "    <tr>\n",
       "      <th>64</th>\n",
       "      <td>Polkadot</td>\n",
       "      <td>quote.USD.percent_change_60d</td>\n",
       "      <td>-5.91265</td>\n",
       "    </tr>\n",
       "    <tr>\n",
       "      <th>65</th>\n",
       "      <td>Polkadot</td>\n",
       "      <td>quote.USD.percent_change_90d</td>\n",
       "      <td>-7.47763</td>\n",
       "    </tr>\n",
       "    <tr>\n",
       "      <th>66</th>\n",
       "      <td>Litecoin</td>\n",
       "      <td>quote.USD.percent_change_1h</td>\n",
       "      <td>-0.74913</td>\n",
       "    </tr>\n",
       "    <tr>\n",
       "      <th>67</th>\n",
       "      <td>Litecoin</td>\n",
       "      <td>quote.USD.percent_change_24h</td>\n",
       "      <td>1.58541</td>\n",
       "    </tr>\n",
       "    <tr>\n",
       "      <th>68</th>\n",
       "      <td>Litecoin</td>\n",
       "      <td>quote.USD.percent_change_7d</td>\n",
       "      <td>-0.81579</td>\n",
       "    </tr>\n",
       "    <tr>\n",
       "      <th>69</th>\n",
       "      <td>Litecoin</td>\n",
       "      <td>quote.USD.percent_change_30d</td>\n",
       "      <td>-4.00244</td>\n",
       "    </tr>\n",
       "    <tr>\n",
       "      <th>70</th>\n",
       "      <td>Litecoin</td>\n",
       "      <td>quote.USD.percent_change_60d</td>\n",
       "      <td>-1.35124</td>\n",
       "    </tr>\n",
       "    <tr>\n",
       "      <th>71</th>\n",
       "      <td>Litecoin</td>\n",
       "      <td>quote.USD.percent_change_90d</td>\n",
       "      <td>-6.86043</td>\n",
       "    </tr>\n",
       "    <tr>\n",
       "      <th>72</th>\n",
       "      <td>TRON</td>\n",
       "      <td>quote.USD.percent_change_1h</td>\n",
       "      <td>-0.25516</td>\n",
       "    </tr>\n",
       "    <tr>\n",
       "      <th>73</th>\n",
       "      <td>TRON</td>\n",
       "      <td>quote.USD.percent_change_24h</td>\n",
       "      <td>0.28065</td>\n",
       "    </tr>\n",
       "    <tr>\n",
       "      <th>74</th>\n",
       "      <td>TRON</td>\n",
       "      <td>quote.USD.percent_change_7d</td>\n",
       "      <td>4.96375</td>\n",
       "    </tr>\n",
       "    <tr>\n",
       "      <th>75</th>\n",
       "      <td>TRON</td>\n",
       "      <td>quote.USD.percent_change_30d</td>\n",
       "      <td>4.66268</td>\n",
       "    </tr>\n",
       "    <tr>\n",
       "      <th>76</th>\n",
       "      <td>TRON</td>\n",
       "      <td>quote.USD.percent_change_60d</td>\n",
       "      <td>1.87685</td>\n",
       "    </tr>\n",
       "    <tr>\n",
       "      <th>77</th>\n",
       "      <td>TRON</td>\n",
       "      <td>quote.USD.percent_change_90d</td>\n",
       "      <td>10.21794</td>\n",
       "    </tr>\n",
       "    <tr>\n",
       "      <th>78</th>\n",
       "      <td>Binance USD</td>\n",
       "      <td>quote.USD.percent_change_1h</td>\n",
       "      <td>-0.01348</td>\n",
       "    </tr>\n",
       "    <tr>\n",
       "      <th>79</th>\n",
       "      <td>Binance USD</td>\n",
       "      <td>quote.USD.percent_change_24h</td>\n",
       "      <td>0.01837</td>\n",
       "    </tr>\n",
       "    <tr>\n",
       "      <th>80</th>\n",
       "      <td>Binance USD</td>\n",
       "      <td>quote.USD.percent_change_7d</td>\n",
       "      <td>0.04114</td>\n",
       "    </tr>\n",
       "    <tr>\n",
       "      <th>81</th>\n",
       "      <td>Binance USD</td>\n",
       "      <td>quote.USD.percent_change_30d</td>\n",
       "      <td>0.06681</td>\n",
       "    </tr>\n",
       "    <tr>\n",
       "      <th>82</th>\n",
       "      <td>Binance USD</td>\n",
       "      <td>quote.USD.percent_change_60d</td>\n",
       "      <td>-0.00659</td>\n",
       "    </tr>\n",
       "    <tr>\n",
       "      <th>83</th>\n",
       "      <td>Binance USD</td>\n",
       "      <td>quote.USD.percent_change_90d</td>\n",
       "      <td>-0.01532</td>\n",
       "    </tr>\n",
       "    <tr>\n",
       "      <th>84</th>\n",
       "      <td>Shiba Inu</td>\n",
       "      <td>quote.USD.percent_change_1h</td>\n",
       "      <td>-0.13419</td>\n",
       "    </tr>\n",
       "    <tr>\n",
       "      <th>85</th>\n",
       "      <td>Shiba Inu</td>\n",
       "      <td>quote.USD.percent_change_24h</td>\n",
       "      <td>0.42483</td>\n",
       "    </tr>\n",
       "    <tr>\n",
       "      <th>86</th>\n",
       "      <td>Shiba Inu</td>\n",
       "      <td>quote.USD.percent_change_7d</td>\n",
       "      <td>-1.85230</td>\n",
       "    </tr>\n",
       "    <tr>\n",
       "      <th>87</th>\n",
       "      <td>Shiba Inu</td>\n",
       "      <td>quote.USD.percent_change_30d</td>\n",
       "      <td>-8.17492</td>\n",
       "    </tr>\n",
       "    <tr>\n",
       "      <th>88</th>\n",
       "      <td>Shiba Inu</td>\n",
       "      <td>quote.USD.percent_change_60d</td>\n",
       "      <td>-12.28061</td>\n",
       "    </tr>\n",
       "    <tr>\n",
       "      <th>89</th>\n",
       "      <td>Shiba Inu</td>\n",
       "      <td>quote.USD.percent_change_90d</td>\n",
       "      <td>-14.09099</td>\n",
       "    </tr>\n",
       "  </tbody>\n",
       "</table>\n",
       "</div>"
      ],
      "text/plain": [
       "           name                percent_change    values\n",
       "0       Bitcoin   quote.USD.percent_change_1h  -0.01312\n",
       "1       Bitcoin  quote.USD.percent_change_24h   1.04523\n",
       "2       Bitcoin   quote.USD.percent_change_7d   4.07019\n",
       "3       Bitcoin  quote.USD.percent_change_30d   1.26226\n",
       "4       Bitcoin  quote.USD.percent_change_60d  27.22807\n",
       "5       Bitcoin  quote.USD.percent_change_90d  23.35532\n",
       "6      Ethereum   quote.USD.percent_change_1h   0.19667\n",
       "7      Ethereum  quote.USD.percent_change_24h   1.22840\n",
       "8      Ethereum   quote.USD.percent_change_7d   2.28906\n",
       "9      Ethereum  quote.USD.percent_change_30d   3.40524\n",
       "10     Ethereum  quote.USD.percent_change_60d  18.23896\n",
       "11     Ethereum  quote.USD.percent_change_90d  17.40687\n",
       "12       Tether   quote.USD.percent_change_1h   0.01783\n",
       "13       Tether  quote.USD.percent_change_24h   0.03244\n",
       "14       Tether   quote.USD.percent_change_7d   0.05451\n",
       "15       Tether  quote.USD.percent_change_30d   0.03601\n",
       "16       Tether  quote.USD.percent_change_60d   0.02429\n",
       "17       Tether  quote.USD.percent_change_90d   0.02709\n",
       "18          BNB   quote.USD.percent_change_1h  -0.18603\n",
       "19          BNB  quote.USD.percent_change_24h  -2.15460\n",
       "20          BNB   quote.USD.percent_change_7d  -2.15427\n",
       "21          BNB  quote.USD.percent_change_30d   3.73015\n",
       "22          BNB  quote.USD.percent_change_60d  11.93057\n",
       "23          BNB  quote.USD.percent_change_90d   4.88787\n",
       "24     USD Coin   quote.USD.percent_change_1h  -0.00507\n",
       "25     USD Coin  quote.USD.percent_change_24h   0.02856\n",
       "26     USD Coin   quote.USD.percent_change_7d   0.03902\n",
       "27     USD Coin  quote.USD.percent_change_30d   0.06473\n",
       "28     USD Coin  quote.USD.percent_change_60d   0.01154\n",
       "29     USD Coin  quote.USD.percent_change_90d   0.02824\n",
       "30          XRP   quote.USD.percent_change_1h  -0.24086\n",
       "31          XRP  quote.USD.percent_change_24h   0.54868\n",
       "32          XRP   quote.USD.percent_change_7d   1.26900\n",
       "33          XRP  quote.USD.percent_change_30d -11.65434\n",
       "34          XRP  quote.USD.percent_change_60d  25.65749\n",
       "35          XRP  quote.USD.percent_change_90d  15.21062\n",
       "36      Cardano   quote.USD.percent_change_1h   0.16862\n",
       "37      Cardano  quote.USD.percent_change_24h   0.67912\n",
       "38      Cardano   quote.USD.percent_change_7d   2.34605\n",
       "39      Cardano  quote.USD.percent_change_30d   2.21498\n",
       "40      Cardano  quote.USD.percent_change_60d  14.74907\n",
       "41      Cardano  quote.USD.percent_change_90d   2.47001\n",
       "42     Dogecoin   quote.USD.percent_change_1h  -0.30102\n",
       "43     Dogecoin  quote.USD.percent_change_24h   0.17393\n",
       "44     Dogecoin   quote.USD.percent_change_7d   0.38368\n",
       "45     Dogecoin  quote.USD.percent_change_30d  -0.38514\n",
       "46     Dogecoin  quote.USD.percent_change_60d   3.01802\n",
       "47     Dogecoin  quote.USD.percent_change_90d -13.67901\n",
       "48      Polygon   quote.USD.percent_change_1h  -0.18132\n",
       "49      Polygon  quote.USD.percent_change_24h   0.24303\n",
       "50      Polygon   quote.USD.percent_change_7d   1.40955\n",
       "51      Polygon  quote.USD.percent_change_30d -11.40086\n",
       "52      Polygon  quote.USD.percent_change_60d -17.00877\n",
       "53      Polygon  quote.USD.percent_change_90d -11.51974\n",
       "54       Solana   quote.USD.percent_change_1h  -0.22411\n",
       "55       Solana  quote.USD.percent_change_24h   0.78610\n",
       "56       Solana   quote.USD.percent_change_7d   5.73878\n",
       "57       Solana  quote.USD.percent_change_30d   7.65392\n",
       "58       Solana  quote.USD.percent_change_60d   3.80923\n",
       "59       Solana  quote.USD.percent_change_90d  -4.83883\n",
       "60     Polkadot   quote.USD.percent_change_1h  -0.31694\n",
       "61     Polkadot  quote.USD.percent_change_24h  -1.22892\n",
       "62     Polkadot   quote.USD.percent_change_7d  -2.05960\n",
       "63     Polkadot  quote.USD.percent_change_30d  -9.37515\n",
       "64     Polkadot  quote.USD.percent_change_60d  -5.91265\n",
       "65     Polkadot  quote.USD.percent_change_90d  -7.47763\n",
       "66     Litecoin   quote.USD.percent_change_1h  -0.74913\n",
       "67     Litecoin  quote.USD.percent_change_24h   1.58541\n",
       "68     Litecoin   quote.USD.percent_change_7d  -0.81579\n",
       "69     Litecoin  quote.USD.percent_change_30d  -4.00244\n",
       "70     Litecoin  quote.USD.percent_change_60d  -1.35124\n",
       "71     Litecoin  quote.USD.percent_change_90d  -6.86043\n",
       "72         TRON   quote.USD.percent_change_1h  -0.25516\n",
       "73         TRON  quote.USD.percent_change_24h   0.28065\n",
       "74         TRON   quote.USD.percent_change_7d   4.96375\n",
       "75         TRON  quote.USD.percent_change_30d   4.66268\n",
       "76         TRON  quote.USD.percent_change_60d   1.87685\n",
       "77         TRON  quote.USD.percent_change_90d  10.21794\n",
       "78  Binance USD   quote.USD.percent_change_1h  -0.01348\n",
       "79  Binance USD  quote.USD.percent_change_24h   0.01837\n",
       "80  Binance USD   quote.USD.percent_change_7d   0.04114\n",
       "81  Binance USD  quote.USD.percent_change_30d   0.06681\n",
       "82  Binance USD  quote.USD.percent_change_60d  -0.00659\n",
       "83  Binance USD  quote.USD.percent_change_90d  -0.01532\n",
       "84    Shiba Inu   quote.USD.percent_change_1h  -0.13419\n",
       "85    Shiba Inu  quote.USD.percent_change_24h   0.42483\n",
       "86    Shiba Inu   quote.USD.percent_change_7d  -1.85230\n",
       "87    Shiba Inu  quote.USD.percent_change_30d  -8.17492\n",
       "88    Shiba Inu  quote.USD.percent_change_60d -12.28061\n",
       "89    Shiba Inu  quote.USD.percent_change_90d -14.09099"
      ]
     },
     "execution_count": 104,
     "metadata": {},
     "output_type": "execute_result"
    }
   ],
   "source": [
    "#we've to change percent_change column value\n",
    "dataframe7['percent_change'].replace(['quote.USD.percent_change_1h'],['1h'])\n",
    "dataframe7"
   ]
  },
  {
   "cell_type": "code",
   "execution_count": 106,
   "id": "8a056fd3",
   "metadata": {},
   "outputs": [
    {
     "data": {
      "text/html": [
       "<div>\n",
       "<style scoped>\n",
       "    .dataframe tbody tr th:only-of-type {\n",
       "        vertical-align: middle;\n",
       "    }\n",
       "\n",
       "    .dataframe tbody tr th {\n",
       "        vertical-align: top;\n",
       "    }\n",
       "\n",
       "    .dataframe thead th {\n",
       "        text-align: right;\n",
       "    }\n",
       "</style>\n",
       "<table border=\"1\" class=\"dataframe\">\n",
       "  <thead>\n",
       "    <tr style=\"text-align: right;\">\n",
       "      <th></th>\n",
       "      <th>name</th>\n",
       "      <th>percent_change</th>\n",
       "      <th>values</th>\n",
       "    </tr>\n",
       "  </thead>\n",
       "  <tbody>\n",
       "    <tr>\n",
       "      <th>0</th>\n",
       "      <td>Bitcoin</td>\n",
       "      <td>1h</td>\n",
       "      <td>-0.01312</td>\n",
       "    </tr>\n",
       "    <tr>\n",
       "      <th>1</th>\n",
       "      <td>Bitcoin</td>\n",
       "      <td>24h</td>\n",
       "      <td>1.04523</td>\n",
       "    </tr>\n",
       "    <tr>\n",
       "      <th>2</th>\n",
       "      <td>Bitcoin</td>\n",
       "      <td>7d</td>\n",
       "      <td>4.07019</td>\n",
       "    </tr>\n",
       "    <tr>\n",
       "      <th>3</th>\n",
       "      <td>Bitcoin</td>\n",
       "      <td>30d</td>\n",
       "      <td>1.26226</td>\n",
       "    </tr>\n",
       "    <tr>\n",
       "      <th>4</th>\n",
       "      <td>Bitcoin</td>\n",
       "      <td>60d</td>\n",
       "      <td>27.22807</td>\n",
       "    </tr>\n",
       "    <tr>\n",
       "      <th>5</th>\n",
       "      <td>Bitcoin</td>\n",
       "      <td>90d</td>\n",
       "      <td>23.35532</td>\n",
       "    </tr>\n",
       "    <tr>\n",
       "      <th>6</th>\n",
       "      <td>Ethereum</td>\n",
       "      <td>1h</td>\n",
       "      <td>0.19667</td>\n",
       "    </tr>\n",
       "    <tr>\n",
       "      <th>7</th>\n",
       "      <td>Ethereum</td>\n",
       "      <td>24h</td>\n",
       "      <td>1.22840</td>\n",
       "    </tr>\n",
       "    <tr>\n",
       "      <th>8</th>\n",
       "      <td>Ethereum</td>\n",
       "      <td>7d</td>\n",
       "      <td>2.28906</td>\n",
       "    </tr>\n",
       "    <tr>\n",
       "      <th>9</th>\n",
       "      <td>Ethereum</td>\n",
       "      <td>30d</td>\n",
       "      <td>3.40524</td>\n",
       "    </tr>\n",
       "    <tr>\n",
       "      <th>10</th>\n",
       "      <td>Ethereum</td>\n",
       "      <td>60d</td>\n",
       "      <td>18.23896</td>\n",
       "    </tr>\n",
       "    <tr>\n",
       "      <th>11</th>\n",
       "      <td>Ethereum</td>\n",
       "      <td>90d</td>\n",
       "      <td>17.40687</td>\n",
       "    </tr>\n",
       "    <tr>\n",
       "      <th>12</th>\n",
       "      <td>Tether</td>\n",
       "      <td>1h</td>\n",
       "      <td>0.01783</td>\n",
       "    </tr>\n",
       "    <tr>\n",
       "      <th>13</th>\n",
       "      <td>Tether</td>\n",
       "      <td>24h</td>\n",
       "      <td>0.03244</td>\n",
       "    </tr>\n",
       "    <tr>\n",
       "      <th>14</th>\n",
       "      <td>Tether</td>\n",
       "      <td>7d</td>\n",
       "      <td>0.05451</td>\n",
       "    </tr>\n",
       "    <tr>\n",
       "      <th>15</th>\n",
       "      <td>Tether</td>\n",
       "      <td>30d</td>\n",
       "      <td>0.03601</td>\n",
       "    </tr>\n",
       "    <tr>\n",
       "      <th>16</th>\n",
       "      <td>Tether</td>\n",
       "      <td>60d</td>\n",
       "      <td>0.02429</td>\n",
       "    </tr>\n",
       "    <tr>\n",
       "      <th>17</th>\n",
       "      <td>Tether</td>\n",
       "      <td>90d</td>\n",
       "      <td>0.02709</td>\n",
       "    </tr>\n",
       "    <tr>\n",
       "      <th>18</th>\n",
       "      <td>BNB</td>\n",
       "      <td>1h</td>\n",
       "      <td>-0.18603</td>\n",
       "    </tr>\n",
       "    <tr>\n",
       "      <th>19</th>\n",
       "      <td>BNB</td>\n",
       "      <td>24h</td>\n",
       "      <td>-2.15460</td>\n",
       "    </tr>\n",
       "    <tr>\n",
       "      <th>20</th>\n",
       "      <td>BNB</td>\n",
       "      <td>7d</td>\n",
       "      <td>-2.15427</td>\n",
       "    </tr>\n",
       "    <tr>\n",
       "      <th>21</th>\n",
       "      <td>BNB</td>\n",
       "      <td>30d</td>\n",
       "      <td>3.73015</td>\n",
       "    </tr>\n",
       "    <tr>\n",
       "      <th>22</th>\n",
       "      <td>BNB</td>\n",
       "      <td>60d</td>\n",
       "      <td>11.93057</td>\n",
       "    </tr>\n",
       "    <tr>\n",
       "      <th>23</th>\n",
       "      <td>BNB</td>\n",
       "      <td>90d</td>\n",
       "      <td>4.88787</td>\n",
       "    </tr>\n",
       "    <tr>\n",
       "      <th>24</th>\n",
       "      <td>USD Coin</td>\n",
       "      <td>1h</td>\n",
       "      <td>-0.00507</td>\n",
       "    </tr>\n",
       "    <tr>\n",
       "      <th>25</th>\n",
       "      <td>USD Coin</td>\n",
       "      <td>24h</td>\n",
       "      <td>0.02856</td>\n",
       "    </tr>\n",
       "    <tr>\n",
       "      <th>26</th>\n",
       "      <td>USD Coin</td>\n",
       "      <td>7d</td>\n",
       "      <td>0.03902</td>\n",
       "    </tr>\n",
       "    <tr>\n",
       "      <th>27</th>\n",
       "      <td>USD Coin</td>\n",
       "      <td>30d</td>\n",
       "      <td>0.06473</td>\n",
       "    </tr>\n",
       "    <tr>\n",
       "      <th>28</th>\n",
       "      <td>USD Coin</td>\n",
       "      <td>60d</td>\n",
       "      <td>0.01154</td>\n",
       "    </tr>\n",
       "    <tr>\n",
       "      <th>29</th>\n",
       "      <td>USD Coin</td>\n",
       "      <td>90d</td>\n",
       "      <td>0.02824</td>\n",
       "    </tr>\n",
       "    <tr>\n",
       "      <th>30</th>\n",
       "      <td>XRP</td>\n",
       "      <td>1h</td>\n",
       "      <td>-0.24086</td>\n",
       "    </tr>\n",
       "    <tr>\n",
       "      <th>31</th>\n",
       "      <td>XRP</td>\n",
       "      <td>24h</td>\n",
       "      <td>0.54868</td>\n",
       "    </tr>\n",
       "    <tr>\n",
       "      <th>32</th>\n",
       "      <td>XRP</td>\n",
       "      <td>7d</td>\n",
       "      <td>1.26900</td>\n",
       "    </tr>\n",
       "    <tr>\n",
       "      <th>33</th>\n",
       "      <td>XRP</td>\n",
       "      <td>30d</td>\n",
       "      <td>-11.65434</td>\n",
       "    </tr>\n",
       "    <tr>\n",
       "      <th>34</th>\n",
       "      <td>XRP</td>\n",
       "      <td>60d</td>\n",
       "      <td>25.65749</td>\n",
       "    </tr>\n",
       "    <tr>\n",
       "      <th>35</th>\n",
       "      <td>XRP</td>\n",
       "      <td>90d</td>\n",
       "      <td>15.21062</td>\n",
       "    </tr>\n",
       "    <tr>\n",
       "      <th>36</th>\n",
       "      <td>Cardano</td>\n",
       "      <td>1h</td>\n",
       "      <td>0.16862</td>\n",
       "    </tr>\n",
       "    <tr>\n",
       "      <th>37</th>\n",
       "      <td>Cardano</td>\n",
       "      <td>24h</td>\n",
       "      <td>0.67912</td>\n",
       "    </tr>\n",
       "    <tr>\n",
       "      <th>38</th>\n",
       "      <td>Cardano</td>\n",
       "      <td>7d</td>\n",
       "      <td>2.34605</td>\n",
       "    </tr>\n",
       "    <tr>\n",
       "      <th>39</th>\n",
       "      <td>Cardano</td>\n",
       "      <td>30d</td>\n",
       "      <td>2.21498</td>\n",
       "    </tr>\n",
       "    <tr>\n",
       "      <th>40</th>\n",
       "      <td>Cardano</td>\n",
       "      <td>60d</td>\n",
       "      <td>14.74907</td>\n",
       "    </tr>\n",
       "    <tr>\n",
       "      <th>41</th>\n",
       "      <td>Cardano</td>\n",
       "      <td>90d</td>\n",
       "      <td>2.47001</td>\n",
       "    </tr>\n",
       "    <tr>\n",
       "      <th>42</th>\n",
       "      <td>Dogecoin</td>\n",
       "      <td>1h</td>\n",
       "      <td>-0.30102</td>\n",
       "    </tr>\n",
       "    <tr>\n",
       "      <th>43</th>\n",
       "      <td>Dogecoin</td>\n",
       "      <td>24h</td>\n",
       "      <td>0.17393</td>\n",
       "    </tr>\n",
       "    <tr>\n",
       "      <th>44</th>\n",
       "      <td>Dogecoin</td>\n",
       "      <td>7d</td>\n",
       "      <td>0.38368</td>\n",
       "    </tr>\n",
       "    <tr>\n",
       "      <th>45</th>\n",
       "      <td>Dogecoin</td>\n",
       "      <td>30d</td>\n",
       "      <td>-0.38514</td>\n",
       "    </tr>\n",
       "    <tr>\n",
       "      <th>46</th>\n",
       "      <td>Dogecoin</td>\n",
       "      <td>60d</td>\n",
       "      <td>3.01802</td>\n",
       "    </tr>\n",
       "    <tr>\n",
       "      <th>47</th>\n",
       "      <td>Dogecoin</td>\n",
       "      <td>90d</td>\n",
       "      <td>-13.67901</td>\n",
       "    </tr>\n",
       "    <tr>\n",
       "      <th>48</th>\n",
       "      <td>Polygon</td>\n",
       "      <td>1h</td>\n",
       "      <td>-0.18132</td>\n",
       "    </tr>\n",
       "    <tr>\n",
       "      <th>49</th>\n",
       "      <td>Polygon</td>\n",
       "      <td>24h</td>\n",
       "      <td>0.24303</td>\n",
       "    </tr>\n",
       "    <tr>\n",
       "      <th>50</th>\n",
       "      <td>Polygon</td>\n",
       "      <td>7d</td>\n",
       "      <td>1.40955</td>\n",
       "    </tr>\n",
       "    <tr>\n",
       "      <th>51</th>\n",
       "      <td>Polygon</td>\n",
       "      <td>30d</td>\n",
       "      <td>-11.40086</td>\n",
       "    </tr>\n",
       "    <tr>\n",
       "      <th>52</th>\n",
       "      <td>Polygon</td>\n",
       "      <td>60d</td>\n",
       "      <td>-17.00877</td>\n",
       "    </tr>\n",
       "    <tr>\n",
       "      <th>53</th>\n",
       "      <td>Polygon</td>\n",
       "      <td>90d</td>\n",
       "      <td>-11.51974</td>\n",
       "    </tr>\n",
       "    <tr>\n",
       "      <th>54</th>\n",
       "      <td>Solana</td>\n",
       "      <td>1h</td>\n",
       "      <td>-0.22411</td>\n",
       "    </tr>\n",
       "    <tr>\n",
       "      <th>55</th>\n",
       "      <td>Solana</td>\n",
       "      <td>24h</td>\n",
       "      <td>0.78610</td>\n",
       "    </tr>\n",
       "    <tr>\n",
       "      <th>56</th>\n",
       "      <td>Solana</td>\n",
       "      <td>7d</td>\n",
       "      <td>5.73878</td>\n",
       "    </tr>\n",
       "    <tr>\n",
       "      <th>57</th>\n",
       "      <td>Solana</td>\n",
       "      <td>30d</td>\n",
       "      <td>7.65392</td>\n",
       "    </tr>\n",
       "    <tr>\n",
       "      <th>58</th>\n",
       "      <td>Solana</td>\n",
       "      <td>60d</td>\n",
       "      <td>3.80923</td>\n",
       "    </tr>\n",
       "    <tr>\n",
       "      <th>59</th>\n",
       "      <td>Solana</td>\n",
       "      <td>90d</td>\n",
       "      <td>-4.83883</td>\n",
       "    </tr>\n",
       "    <tr>\n",
       "      <th>60</th>\n",
       "      <td>Polkadot</td>\n",
       "      <td>1h</td>\n",
       "      <td>-0.31694</td>\n",
       "    </tr>\n",
       "    <tr>\n",
       "      <th>61</th>\n",
       "      <td>Polkadot</td>\n",
       "      <td>24h</td>\n",
       "      <td>-1.22892</td>\n",
       "    </tr>\n",
       "    <tr>\n",
       "      <th>62</th>\n",
       "      <td>Polkadot</td>\n",
       "      <td>7d</td>\n",
       "      <td>-2.05960</td>\n",
       "    </tr>\n",
       "    <tr>\n",
       "      <th>63</th>\n",
       "      <td>Polkadot</td>\n",
       "      <td>30d</td>\n",
       "      <td>-9.37515</td>\n",
       "    </tr>\n",
       "    <tr>\n",
       "      <th>64</th>\n",
       "      <td>Polkadot</td>\n",
       "      <td>60d</td>\n",
       "      <td>-5.91265</td>\n",
       "    </tr>\n",
       "    <tr>\n",
       "      <th>65</th>\n",
       "      <td>Polkadot</td>\n",
       "      <td>90d</td>\n",
       "      <td>-7.47763</td>\n",
       "    </tr>\n",
       "    <tr>\n",
       "      <th>66</th>\n",
       "      <td>Litecoin</td>\n",
       "      <td>1h</td>\n",
       "      <td>-0.74913</td>\n",
       "    </tr>\n",
       "    <tr>\n",
       "      <th>67</th>\n",
       "      <td>Litecoin</td>\n",
       "      <td>24h</td>\n",
       "      <td>1.58541</td>\n",
       "    </tr>\n",
       "    <tr>\n",
       "      <th>68</th>\n",
       "      <td>Litecoin</td>\n",
       "      <td>7d</td>\n",
       "      <td>-0.81579</td>\n",
       "    </tr>\n",
       "    <tr>\n",
       "      <th>69</th>\n",
       "      <td>Litecoin</td>\n",
       "      <td>30d</td>\n",
       "      <td>-4.00244</td>\n",
       "    </tr>\n",
       "    <tr>\n",
       "      <th>70</th>\n",
       "      <td>Litecoin</td>\n",
       "      <td>60d</td>\n",
       "      <td>-1.35124</td>\n",
       "    </tr>\n",
       "    <tr>\n",
       "      <th>71</th>\n",
       "      <td>Litecoin</td>\n",
       "      <td>90d</td>\n",
       "      <td>-6.86043</td>\n",
       "    </tr>\n",
       "    <tr>\n",
       "      <th>72</th>\n",
       "      <td>TRON</td>\n",
       "      <td>1h</td>\n",
       "      <td>-0.25516</td>\n",
       "    </tr>\n",
       "    <tr>\n",
       "      <th>73</th>\n",
       "      <td>TRON</td>\n",
       "      <td>24h</td>\n",
       "      <td>0.28065</td>\n",
       "    </tr>\n",
       "    <tr>\n",
       "      <th>74</th>\n",
       "      <td>TRON</td>\n",
       "      <td>7d</td>\n",
       "      <td>4.96375</td>\n",
       "    </tr>\n",
       "    <tr>\n",
       "      <th>75</th>\n",
       "      <td>TRON</td>\n",
       "      <td>30d</td>\n",
       "      <td>4.66268</td>\n",
       "    </tr>\n",
       "    <tr>\n",
       "      <th>76</th>\n",
       "      <td>TRON</td>\n",
       "      <td>60d</td>\n",
       "      <td>1.87685</td>\n",
       "    </tr>\n",
       "    <tr>\n",
       "      <th>77</th>\n",
       "      <td>TRON</td>\n",
       "      <td>90d</td>\n",
       "      <td>10.21794</td>\n",
       "    </tr>\n",
       "    <tr>\n",
       "      <th>78</th>\n",
       "      <td>Binance USD</td>\n",
       "      <td>1h</td>\n",
       "      <td>-0.01348</td>\n",
       "    </tr>\n",
       "    <tr>\n",
       "      <th>79</th>\n",
       "      <td>Binance USD</td>\n",
       "      <td>24h</td>\n",
       "      <td>0.01837</td>\n",
       "    </tr>\n",
       "    <tr>\n",
       "      <th>80</th>\n",
       "      <td>Binance USD</td>\n",
       "      <td>7d</td>\n",
       "      <td>0.04114</td>\n",
       "    </tr>\n",
       "    <tr>\n",
       "      <th>81</th>\n",
       "      <td>Binance USD</td>\n",
       "      <td>30d</td>\n",
       "      <td>0.06681</td>\n",
       "    </tr>\n",
       "    <tr>\n",
       "      <th>82</th>\n",
       "      <td>Binance USD</td>\n",
       "      <td>60d</td>\n",
       "      <td>-0.00659</td>\n",
       "    </tr>\n",
       "    <tr>\n",
       "      <th>83</th>\n",
       "      <td>Binance USD</td>\n",
       "      <td>90d</td>\n",
       "      <td>-0.01532</td>\n",
       "    </tr>\n",
       "    <tr>\n",
       "      <th>84</th>\n",
       "      <td>Shiba Inu</td>\n",
       "      <td>1h</td>\n",
       "      <td>-0.13419</td>\n",
       "    </tr>\n",
       "    <tr>\n",
       "      <th>85</th>\n",
       "      <td>Shiba Inu</td>\n",
       "      <td>24h</td>\n",
       "      <td>0.42483</td>\n",
       "    </tr>\n",
       "    <tr>\n",
       "      <th>86</th>\n",
       "      <td>Shiba Inu</td>\n",
       "      <td>7d</td>\n",
       "      <td>-1.85230</td>\n",
       "    </tr>\n",
       "    <tr>\n",
       "      <th>87</th>\n",
       "      <td>Shiba Inu</td>\n",
       "      <td>30d</td>\n",
       "      <td>-8.17492</td>\n",
       "    </tr>\n",
       "    <tr>\n",
       "      <th>88</th>\n",
       "      <td>Shiba Inu</td>\n",
       "      <td>60d</td>\n",
       "      <td>-12.28061</td>\n",
       "    </tr>\n",
       "    <tr>\n",
       "      <th>89</th>\n",
       "      <td>Shiba Inu</td>\n",
       "      <td>90d</td>\n",
       "      <td>-14.09099</td>\n",
       "    </tr>\n",
       "  </tbody>\n",
       "</table>\n",
       "</div>"
      ],
      "text/plain": [
       "           name percent_change    values\n",
       "0       Bitcoin             1h  -0.01312\n",
       "1       Bitcoin            24h   1.04523\n",
       "2       Bitcoin             7d   4.07019\n",
       "3       Bitcoin            30d   1.26226\n",
       "4       Bitcoin            60d  27.22807\n",
       "5       Bitcoin            90d  23.35532\n",
       "6      Ethereum             1h   0.19667\n",
       "7      Ethereum            24h   1.22840\n",
       "8      Ethereum             7d   2.28906\n",
       "9      Ethereum            30d   3.40524\n",
       "10     Ethereum            60d  18.23896\n",
       "11     Ethereum            90d  17.40687\n",
       "12       Tether             1h   0.01783\n",
       "13       Tether            24h   0.03244\n",
       "14       Tether             7d   0.05451\n",
       "15       Tether            30d   0.03601\n",
       "16       Tether            60d   0.02429\n",
       "17       Tether            90d   0.02709\n",
       "18          BNB             1h  -0.18603\n",
       "19          BNB            24h  -2.15460\n",
       "20          BNB             7d  -2.15427\n",
       "21          BNB            30d   3.73015\n",
       "22          BNB            60d  11.93057\n",
       "23          BNB            90d   4.88787\n",
       "24     USD Coin             1h  -0.00507\n",
       "25     USD Coin            24h   0.02856\n",
       "26     USD Coin             7d   0.03902\n",
       "27     USD Coin            30d   0.06473\n",
       "28     USD Coin            60d   0.01154\n",
       "29     USD Coin            90d   0.02824\n",
       "30          XRP             1h  -0.24086\n",
       "31          XRP            24h   0.54868\n",
       "32          XRP             7d   1.26900\n",
       "33          XRP            30d -11.65434\n",
       "34          XRP            60d  25.65749\n",
       "35          XRP            90d  15.21062\n",
       "36      Cardano             1h   0.16862\n",
       "37      Cardano            24h   0.67912\n",
       "38      Cardano             7d   2.34605\n",
       "39      Cardano            30d   2.21498\n",
       "40      Cardano            60d  14.74907\n",
       "41      Cardano            90d   2.47001\n",
       "42     Dogecoin             1h  -0.30102\n",
       "43     Dogecoin            24h   0.17393\n",
       "44     Dogecoin             7d   0.38368\n",
       "45     Dogecoin            30d  -0.38514\n",
       "46     Dogecoin            60d   3.01802\n",
       "47     Dogecoin            90d -13.67901\n",
       "48      Polygon             1h  -0.18132\n",
       "49      Polygon            24h   0.24303\n",
       "50      Polygon             7d   1.40955\n",
       "51      Polygon            30d -11.40086\n",
       "52      Polygon            60d -17.00877\n",
       "53      Polygon            90d -11.51974\n",
       "54       Solana             1h  -0.22411\n",
       "55       Solana            24h   0.78610\n",
       "56       Solana             7d   5.73878\n",
       "57       Solana            30d   7.65392\n",
       "58       Solana            60d   3.80923\n",
       "59       Solana            90d  -4.83883\n",
       "60     Polkadot             1h  -0.31694\n",
       "61     Polkadot            24h  -1.22892\n",
       "62     Polkadot             7d  -2.05960\n",
       "63     Polkadot            30d  -9.37515\n",
       "64     Polkadot            60d  -5.91265\n",
       "65     Polkadot            90d  -7.47763\n",
       "66     Litecoin             1h  -0.74913\n",
       "67     Litecoin            24h   1.58541\n",
       "68     Litecoin             7d  -0.81579\n",
       "69     Litecoin            30d  -4.00244\n",
       "70     Litecoin            60d  -1.35124\n",
       "71     Litecoin            90d  -6.86043\n",
       "72         TRON             1h  -0.25516\n",
       "73         TRON            24h   0.28065\n",
       "74         TRON             7d   4.96375\n",
       "75         TRON            30d   4.66268\n",
       "76         TRON            60d   1.87685\n",
       "77         TRON            90d  10.21794\n",
       "78  Binance USD             1h  -0.01348\n",
       "79  Binance USD            24h   0.01837\n",
       "80  Binance USD             7d   0.04114\n",
       "81  Binance USD            30d   0.06681\n",
       "82  Binance USD            60d  -0.00659\n",
       "83  Binance USD            90d  -0.01532\n",
       "84    Shiba Inu             1h  -0.13419\n",
       "85    Shiba Inu            24h   0.42483\n",
       "86    Shiba Inu             7d  -1.85230\n",
       "87    Shiba Inu            30d  -8.17492\n",
       "88    Shiba Inu            60d -12.28061\n",
       "89    Shiba Inu            90d -14.09099"
      ]
     },
     "execution_count": 106,
     "metadata": {},
     "output_type": "execute_result"
    }
   ],
   "source": [
    "dataframe7['percent_change'] = dataframe7['percent_change'].replace(['quote.USD.percent_change_1h','quote.USD.percent_change_24h','quote.USD.percent_change_7d','quote.USD.percent_change_30d','quote.USD.percent_change_60d','quote.USD.percent_change_90d']\n",
    ",['1h','24h','7d','30d','60d','90d'])\n",
    "dataframe7"
   ]
  },
  {
   "cell_type": "code",
   "execution_count": 107,
   "id": "8752c0ee",
   "metadata": {},
   "outputs": [],
   "source": [
    "import seaborn as sns\n",
    "import matplotlib.pyplot as plt"
   ]
  },
  {
   "cell_type": "code",
   "execution_count": 109,
   "id": "d91919b4",
   "metadata": {},
   "outputs": [
    {
     "data": {
      "text/plain": [
       "<seaborn.axisgrid.FacetGrid at 0x241dffeabb0>"
      ]
     },
     "execution_count": 109,
     "metadata": {},
     "output_type": "execute_result"
    }
   ],
   "source": [
    "sns.catplot(x = 'percent_change', y = 'values', hue = 'name', data = dataframe7, kind = 'point')"
   ]
  },
  {
   "cell_type": "code",
   "execution_count": 115,
   "id": "44b3ea21",
   "metadata": {
    "scrolled": false
   },
   "outputs": [
    {
     "data": {
      "text/html": [
       "<div>\n",
       "<style scoped>\n",
       "    .dataframe tbody tr th:only-of-type {\n",
       "        vertical-align: middle;\n",
       "    }\n",
       "\n",
       "    .dataframe tbody tr th {\n",
       "        vertical-align: top;\n",
       "    }\n",
       "\n",
       "    .dataframe thead th {\n",
       "        text-align: right;\n",
       "    }\n",
       "</style>\n",
       "<table border=\"1\" class=\"dataframe\">\n",
       "  <thead>\n",
       "    <tr style=\"text-align: right;\">\n",
       "      <th></th>\n",
       "      <th>name</th>\n",
       "      <th>quote.USD.price</th>\n",
       "      <th>timestamp</th>\n",
       "    </tr>\n",
       "  </thead>\n",
       "  <tbody>\n",
       "    <tr>\n",
       "      <th>0</th>\n",
       "      <td>Bitcoin</td>\n",
       "      <td>29384.26966</td>\n",
       "      <td>2023-04-30 19:58:16.776100</td>\n",
       "    </tr>\n",
       "    <tr>\n",
       "      <th>1</th>\n",
       "      <td>Ethereum</td>\n",
       "      <td>1905.54115</td>\n",
       "      <td>2023-04-30 19:58:16.776100</td>\n",
       "    </tr>\n",
       "    <tr>\n",
       "      <th>2</th>\n",
       "      <td>Tether</td>\n",
       "      <td>1.00068</td>\n",
       "      <td>2023-04-30 19:58:16.776100</td>\n",
       "    </tr>\n",
       "    <tr>\n",
       "      <th>3</th>\n",
       "      <td>BNB</td>\n",
       "      <td>335.60927</td>\n",
       "      <td>2023-04-30 19:58:16.776100</td>\n",
       "    </tr>\n",
       "    <tr>\n",
       "      <th>4</th>\n",
       "      <td>USD Coin</td>\n",
       "      <td>0.99993</td>\n",
       "      <td>2023-04-30 19:58:16.776100</td>\n",
       "    </tr>\n",
       "    <tr>\n",
       "      <th>5</th>\n",
       "      <td>XRP</td>\n",
       "      <td>0.47633</td>\n",
       "      <td>2023-04-30 19:58:16.776100</td>\n",
       "    </tr>\n",
       "    <tr>\n",
       "      <th>6</th>\n",
       "      <td>Cardano</td>\n",
       "      <td>0.40136</td>\n",
       "      <td>2023-04-30 19:58:16.776100</td>\n",
       "    </tr>\n",
       "    <tr>\n",
       "      <th>7</th>\n",
       "      <td>Dogecoin</td>\n",
       "      <td>0.08023</td>\n",
       "      <td>2023-04-30 19:58:16.776100</td>\n",
       "    </tr>\n",
       "    <tr>\n",
       "      <th>8</th>\n",
       "      <td>Polygon</td>\n",
       "      <td>0.99130</td>\n",
       "      <td>2023-04-30 19:58:16.776100</td>\n",
       "    </tr>\n",
       "    <tr>\n",
       "      <th>9</th>\n",
       "      <td>Solana</td>\n",
       "      <td>23.22368</td>\n",
       "      <td>2023-04-30 19:58:16.776100</td>\n",
       "    </tr>\n",
       "    <tr>\n",
       "      <th>10</th>\n",
       "      <td>Polkadot</td>\n",
       "      <td>5.93454</td>\n",
       "      <td>2023-04-30 19:58:16.776100</td>\n",
       "    </tr>\n",
       "    <tr>\n",
       "      <th>11</th>\n",
       "      <td>Litecoin</td>\n",
       "      <td>89.18384</td>\n",
       "      <td>2023-04-30 19:58:16.776100</td>\n",
       "    </tr>\n",
       "    <tr>\n",
       "      <th>12</th>\n",
       "      <td>Binance USD</td>\n",
       "      <td>1.00071</td>\n",
       "      <td>2023-04-30 19:58:16.776100</td>\n",
       "    </tr>\n",
       "    <tr>\n",
       "      <th>13</th>\n",
       "      <td>TRON</td>\n",
       "      <td>0.06764</td>\n",
       "      <td>2023-04-30 19:58:16.776100</td>\n",
       "    </tr>\n",
       "    <tr>\n",
       "      <th>14</th>\n",
       "      <td>Shiba Inu</td>\n",
       "      <td>0.00001</td>\n",
       "      <td>2023-04-30 19:58:16.776100</td>\n",
       "    </tr>\n",
       "    <tr>\n",
       "      <th>15</th>\n",
       "      <td>Bitcoin</td>\n",
       "      <td>29380.57360</td>\n",
       "      <td>2023-04-30 19:59:18.249088</td>\n",
       "    </tr>\n",
       "    <tr>\n",
       "      <th>16</th>\n",
       "      <td>Ethereum</td>\n",
       "      <td>1905.84316</td>\n",
       "      <td>2023-04-30 19:59:18.249088</td>\n",
       "    </tr>\n",
       "    <tr>\n",
       "      <th>17</th>\n",
       "      <td>Tether</td>\n",
       "      <td>1.00066</td>\n",
       "      <td>2023-04-30 19:59:18.249088</td>\n",
       "    </tr>\n",
       "    <tr>\n",
       "      <th>18</th>\n",
       "      <td>BNB</td>\n",
       "      <td>335.61870</td>\n",
       "      <td>2023-04-30 19:59:18.249088</td>\n",
       "    </tr>\n",
       "    <tr>\n",
       "      <th>19</th>\n",
       "      <td>USD Coin</td>\n",
       "      <td>0.99999</td>\n",
       "      <td>2023-04-30 19:59:18.249088</td>\n",
       "    </tr>\n",
       "    <tr>\n",
       "      <th>20</th>\n",
       "      <td>XRP</td>\n",
       "      <td>0.47641</td>\n",
       "      <td>2023-04-30 19:59:18.249088</td>\n",
       "    </tr>\n",
       "    <tr>\n",
       "      <th>21</th>\n",
       "      <td>Cardano</td>\n",
       "      <td>0.40134</td>\n",
       "      <td>2023-04-30 19:59:18.249088</td>\n",
       "    </tr>\n",
       "    <tr>\n",
       "      <th>22</th>\n",
       "      <td>Dogecoin</td>\n",
       "      <td>0.08019</td>\n",
       "      <td>2023-04-30 19:59:18.249088</td>\n",
       "    </tr>\n",
       "    <tr>\n",
       "      <th>23</th>\n",
       "      <td>Polygon</td>\n",
       "      <td>0.99117</td>\n",
       "      <td>2023-04-30 19:59:18.249088</td>\n",
       "    </tr>\n",
       "    <tr>\n",
       "      <th>24</th>\n",
       "      <td>Solana</td>\n",
       "      <td>23.22121</td>\n",
       "      <td>2023-04-30 19:59:18.249088</td>\n",
       "    </tr>\n",
       "    <tr>\n",
       "      <th>25</th>\n",
       "      <td>Polkadot</td>\n",
       "      <td>5.93403</td>\n",
       "      <td>2023-04-30 19:59:18.249088</td>\n",
       "    </tr>\n",
       "    <tr>\n",
       "      <th>26</th>\n",
       "      <td>Litecoin</td>\n",
       "      <td>89.17693</td>\n",
       "      <td>2023-04-30 19:59:18.249088</td>\n",
       "    </tr>\n",
       "    <tr>\n",
       "      <th>27</th>\n",
       "      <td>Binance USD</td>\n",
       "      <td>1.00074</td>\n",
       "      <td>2023-04-30 19:59:18.249088</td>\n",
       "    </tr>\n",
       "    <tr>\n",
       "      <th>28</th>\n",
       "      <td>TRON</td>\n",
       "      <td>0.06765</td>\n",
       "      <td>2023-04-30 19:59:18.249088</td>\n",
       "    </tr>\n",
       "    <tr>\n",
       "      <th>29</th>\n",
       "      <td>Shiba Inu</td>\n",
       "      <td>0.00001</td>\n",
       "      <td>2023-04-30 19:59:18.249088</td>\n",
       "    </tr>\n",
       "    <tr>\n",
       "      <th>30</th>\n",
       "      <td>Bitcoin</td>\n",
       "      <td>29360.01048</td>\n",
       "      <td>2023-04-30 20:00:19.537686</td>\n",
       "    </tr>\n",
       "    <tr>\n",
       "      <th>31</th>\n",
       "      <td>Ethereum</td>\n",
       "      <td>1904.37473</td>\n",
       "      <td>2023-04-30 20:00:19.537686</td>\n",
       "    </tr>\n",
       "    <tr>\n",
       "      <th>32</th>\n",
       "      <td>Tether</td>\n",
       "      <td>1.00087</td>\n",
       "      <td>2023-04-30 20:00:19.537686</td>\n",
       "    </tr>\n",
       "    <tr>\n",
       "      <th>33</th>\n",
       "      <td>BNB</td>\n",
       "      <td>335.74122</td>\n",
       "      <td>2023-04-30 20:00:19.537686</td>\n",
       "    </tr>\n",
       "    <tr>\n",
       "      <th>34</th>\n",
       "      <td>USD Coin</td>\n",
       "      <td>1.00023</td>\n",
       "      <td>2023-04-30 20:00:19.537686</td>\n",
       "    </tr>\n",
       "    <tr>\n",
       "      <th>35</th>\n",
       "      <td>XRP</td>\n",
       "      <td>0.47630</td>\n",
       "      <td>2023-04-30 20:00:19.537686</td>\n",
       "    </tr>\n",
       "    <tr>\n",
       "      <th>36</th>\n",
       "      <td>Cardano</td>\n",
       "      <td>0.40118</td>\n",
       "      <td>2023-04-30 20:00:19.537686</td>\n",
       "    </tr>\n",
       "    <tr>\n",
       "      <th>37</th>\n",
       "      <td>Dogecoin</td>\n",
       "      <td>0.08018</td>\n",
       "      <td>2023-04-30 20:00:19.537686</td>\n",
       "    </tr>\n",
       "    <tr>\n",
       "      <th>38</th>\n",
       "      <td>Polygon</td>\n",
       "      <td>0.99063</td>\n",
       "      <td>2023-04-30 20:00:19.537686</td>\n",
       "    </tr>\n",
       "    <tr>\n",
       "      <th>39</th>\n",
       "      <td>Solana</td>\n",
       "      <td>23.21350</td>\n",
       "      <td>2023-04-30 20:00:19.537686</td>\n",
       "    </tr>\n",
       "    <tr>\n",
       "      <th>40</th>\n",
       "      <td>Polkadot</td>\n",
       "      <td>5.93597</td>\n",
       "      <td>2023-04-30 20:00:19.537686</td>\n",
       "    </tr>\n",
       "    <tr>\n",
       "      <th>41</th>\n",
       "      <td>Litecoin</td>\n",
       "      <td>89.13005</td>\n",
       "      <td>2023-04-30 20:00:19.537686</td>\n",
       "    </tr>\n",
       "    <tr>\n",
       "      <th>42</th>\n",
       "      <td>Binance USD</td>\n",
       "      <td>1.00060</td>\n",
       "      <td>2023-04-30 20:00:19.537686</td>\n",
       "    </tr>\n",
       "    <tr>\n",
       "      <th>43</th>\n",
       "      <td>TRON</td>\n",
       "      <td>0.06769</td>\n",
       "      <td>2023-04-30 20:00:19.537686</td>\n",
       "    </tr>\n",
       "    <tr>\n",
       "      <th>44</th>\n",
       "      <td>Shiba Inu</td>\n",
       "      <td>0.00001</td>\n",
       "      <td>2023-04-30 20:00:19.537686</td>\n",
       "    </tr>\n",
       "    <tr>\n",
       "      <th>45</th>\n",
       "      <td>Bitcoin</td>\n",
       "      <td>28450.14590</td>\n",
       "      <td>2023-05-02 15:35:25.791898</td>\n",
       "    </tr>\n",
       "    <tr>\n",
       "      <th>46</th>\n",
       "      <td>Ethereum</td>\n",
       "      <td>1856.03706</td>\n",
       "      <td>2023-05-02 15:35:25.791898</td>\n",
       "    </tr>\n",
       "    <tr>\n",
       "      <th>47</th>\n",
       "      <td>Tether</td>\n",
       "      <td>1.00036</td>\n",
       "      <td>2023-05-02 15:35:25.791898</td>\n",
       "    </tr>\n",
       "    <tr>\n",
       "      <th>48</th>\n",
       "      <td>BNB</td>\n",
       "      <td>324.53310</td>\n",
       "      <td>2023-05-02 15:35:25.791898</td>\n",
       "    </tr>\n",
       "    <tr>\n",
       "      <th>49</th>\n",
       "      <td>USD Coin</td>\n",
       "      <td>1.00022</td>\n",
       "      <td>2023-05-02 15:35:25.791898</td>\n",
       "    </tr>\n",
       "    <tr>\n",
       "      <th>50</th>\n",
       "      <td>XRP</td>\n",
       "      <td>0.46307</td>\n",
       "      <td>2023-05-02 15:35:25.791898</td>\n",
       "    </tr>\n",
       "    <tr>\n",
       "      <th>51</th>\n",
       "      <td>Cardano</td>\n",
       "      <td>0.38965</td>\n",
       "      <td>2023-05-02 15:35:25.791898</td>\n",
       "    </tr>\n",
       "    <tr>\n",
       "      <th>52</th>\n",
       "      <td>Dogecoin</td>\n",
       "      <td>0.07856</td>\n",
       "      <td>2023-05-02 15:35:25.791898</td>\n",
       "    </tr>\n",
       "    <tr>\n",
       "      <th>53</th>\n",
       "      <td>Polygon</td>\n",
       "      <td>0.96923</td>\n",
       "      <td>2023-05-02 15:35:25.791898</td>\n",
       "    </tr>\n",
       "    <tr>\n",
       "      <th>54</th>\n",
       "      <td>Solana</td>\n",
       "      <td>22.17240</td>\n",
       "      <td>2023-05-02 15:35:25.791898</td>\n",
       "    </tr>\n",
       "    <tr>\n",
       "      <th>55</th>\n",
       "      <td>Polkadot</td>\n",
       "      <td>5.70972</td>\n",
       "      <td>2023-05-02 15:35:25.791898</td>\n",
       "    </tr>\n",
       "    <tr>\n",
       "      <th>56</th>\n",
       "      <td>Litecoin</td>\n",
       "      <td>88.43331</td>\n",
       "      <td>2023-05-02 15:35:25.791898</td>\n",
       "    </tr>\n",
       "    <tr>\n",
       "      <th>57</th>\n",
       "      <td>TRON</td>\n",
       "      <td>0.06868</td>\n",
       "      <td>2023-05-02 15:35:25.791898</td>\n",
       "    </tr>\n",
       "    <tr>\n",
       "      <th>58</th>\n",
       "      <td>Binance USD</td>\n",
       "      <td>1.00010</td>\n",
       "      <td>2023-05-02 15:35:25.791898</td>\n",
       "    </tr>\n",
       "    <tr>\n",
       "      <th>59</th>\n",
       "      <td>Shiba Inu</td>\n",
       "      <td>0.00001</td>\n",
       "      <td>2023-05-02 15:35:25.791898</td>\n",
       "    </tr>\n",
       "    <tr>\n",
       "      <th>60</th>\n",
       "      <td>Bitcoin</td>\n",
       "      <td>28422.44838</td>\n",
       "      <td>2023-05-02 15:36:26.871444</td>\n",
       "    </tr>\n",
       "    <tr>\n",
       "      <th>61</th>\n",
       "      <td>Ethereum</td>\n",
       "      <td>1854.97799</td>\n",
       "      <td>2023-05-02 15:36:26.871444</td>\n",
       "    </tr>\n",
       "    <tr>\n",
       "      <th>62</th>\n",
       "      <td>Tether</td>\n",
       "      <td>1.00023</td>\n",
       "      <td>2023-05-02 15:36:26.871444</td>\n",
       "    </tr>\n",
       "    <tr>\n",
       "      <th>63</th>\n",
       "      <td>BNB</td>\n",
       "      <td>324.26954</td>\n",
       "      <td>2023-05-02 15:36:26.871444</td>\n",
       "    </tr>\n",
       "    <tr>\n",
       "      <th>64</th>\n",
       "      <td>USD Coin</td>\n",
       "      <td>1.00009</td>\n",
       "      <td>2023-05-02 15:36:26.871444</td>\n",
       "    </tr>\n",
       "    <tr>\n",
       "      <th>65</th>\n",
       "      <td>XRP</td>\n",
       "      <td>0.46251</td>\n",
       "      <td>2023-05-02 15:36:26.871444</td>\n",
       "    </tr>\n",
       "    <tr>\n",
       "      <th>66</th>\n",
       "      <td>Cardano</td>\n",
       "      <td>0.38917</td>\n",
       "      <td>2023-05-02 15:36:26.871444</td>\n",
       "    </tr>\n",
       "    <tr>\n",
       "      <th>67</th>\n",
       "      <td>Dogecoin</td>\n",
       "      <td>0.07846</td>\n",
       "      <td>2023-05-02 15:36:26.871444</td>\n",
       "    </tr>\n",
       "    <tr>\n",
       "      <th>68</th>\n",
       "      <td>Polygon</td>\n",
       "      <td>0.96771</td>\n",
       "      <td>2023-05-02 15:36:26.871444</td>\n",
       "    </tr>\n",
       "    <tr>\n",
       "      <th>69</th>\n",
       "      <td>Solana</td>\n",
       "      <td>22.13977</td>\n",
       "      <td>2023-05-02 15:36:26.871444</td>\n",
       "    </tr>\n",
       "    <tr>\n",
       "      <th>70</th>\n",
       "      <td>Polkadot</td>\n",
       "      <td>5.70010</td>\n",
       "      <td>2023-05-02 15:36:26.871444</td>\n",
       "    </tr>\n",
       "    <tr>\n",
       "      <th>71</th>\n",
       "      <td>Litecoin</td>\n",
       "      <td>88.29824</td>\n",
       "      <td>2023-05-02 15:36:26.871444</td>\n",
       "    </tr>\n",
       "    <tr>\n",
       "      <th>72</th>\n",
       "      <td>TRON</td>\n",
       "      <td>0.06865</td>\n",
       "      <td>2023-05-02 15:36:26.871444</td>\n",
       "    </tr>\n",
       "    <tr>\n",
       "      <th>73</th>\n",
       "      <td>Binance USD</td>\n",
       "      <td>1.00002</td>\n",
       "      <td>2023-05-02 15:36:26.871444</td>\n",
       "    </tr>\n",
       "    <tr>\n",
       "      <th>74</th>\n",
       "      <td>Shiba Inu</td>\n",
       "      <td>0.00001</td>\n",
       "      <td>2023-05-02 15:36:26.871444</td>\n",
       "    </tr>\n",
       "    <tr>\n",
       "      <th>75</th>\n",
       "      <td>Bitcoin</td>\n",
       "      <td>28464.27836</td>\n",
       "      <td>2023-05-02 15:37:28.846709</td>\n",
       "    </tr>\n",
       "    <tr>\n",
       "      <th>76</th>\n",
       "      <td>Ethereum</td>\n",
       "      <td>1857.23365</td>\n",
       "      <td>2023-05-02 15:37:28.846709</td>\n",
       "    </tr>\n",
       "    <tr>\n",
       "      <th>77</th>\n",
       "      <td>Tether</td>\n",
       "      <td>1.00036</td>\n",
       "      <td>2023-05-02 15:37:28.846709</td>\n",
       "    </tr>\n",
       "    <tr>\n",
       "      <th>78</th>\n",
       "      <td>BNB</td>\n",
       "      <td>324.31074</td>\n",
       "      <td>2023-05-02 15:37:28.846709</td>\n",
       "    </tr>\n",
       "    <tr>\n",
       "      <th>79</th>\n",
       "      <td>USD Coin</td>\n",
       "      <td>1.00014</td>\n",
       "      <td>2023-05-02 15:37:28.846709</td>\n",
       "    </tr>\n",
       "    <tr>\n",
       "      <th>80</th>\n",
       "      <td>XRP</td>\n",
       "      <td>0.46250</td>\n",
       "      <td>2023-05-02 15:37:28.846709</td>\n",
       "    </tr>\n",
       "    <tr>\n",
       "      <th>81</th>\n",
       "      <td>Cardano</td>\n",
       "      <td>0.38890</td>\n",
       "      <td>2023-05-02 15:37:28.846709</td>\n",
       "    </tr>\n",
       "    <tr>\n",
       "      <th>82</th>\n",
       "      <td>Dogecoin</td>\n",
       "      <td>0.07847</td>\n",
       "      <td>2023-05-02 15:37:28.846709</td>\n",
       "    </tr>\n",
       "    <tr>\n",
       "      <th>83</th>\n",
       "      <td>Polygon</td>\n",
       "      <td>0.96775</td>\n",
       "      <td>2023-05-02 15:37:28.846709</td>\n",
       "    </tr>\n",
       "    <tr>\n",
       "      <th>84</th>\n",
       "      <td>Solana</td>\n",
       "      <td>22.13681</td>\n",
       "      <td>2023-05-02 15:37:28.846709</td>\n",
       "    </tr>\n",
       "    <tr>\n",
       "      <th>85</th>\n",
       "      <td>Polkadot</td>\n",
       "      <td>5.70058</td>\n",
       "      <td>2023-05-02 15:37:28.846709</td>\n",
       "    </tr>\n",
       "    <tr>\n",
       "      <th>86</th>\n",
       "      <td>Litecoin</td>\n",
       "      <td>88.30502</td>\n",
       "      <td>2023-05-02 15:37:28.846709</td>\n",
       "    </tr>\n",
       "    <tr>\n",
       "      <th>87</th>\n",
       "      <td>TRON</td>\n",
       "      <td>0.06866</td>\n",
       "      <td>2023-05-02 15:37:28.846709</td>\n",
       "    </tr>\n",
       "    <tr>\n",
       "      <th>88</th>\n",
       "      <td>Binance USD</td>\n",
       "      <td>1.00001</td>\n",
       "      <td>2023-05-02 15:37:28.846709</td>\n",
       "    </tr>\n",
       "    <tr>\n",
       "      <th>89</th>\n",
       "      <td>Shiba Inu</td>\n",
       "      <td>0.00001</td>\n",
       "      <td>2023-05-02 15:37:28.846709</td>\n",
       "    </tr>\n",
       "  </tbody>\n",
       "</table>\n",
       "</div>"
      ],
      "text/plain": [
       "           name  quote.USD.price                   timestamp\n",
       "0       Bitcoin      29384.26966  2023-04-30 19:58:16.776100\n",
       "1      Ethereum       1905.54115  2023-04-30 19:58:16.776100\n",
       "2        Tether          1.00068  2023-04-30 19:58:16.776100\n",
       "3           BNB        335.60927  2023-04-30 19:58:16.776100\n",
       "4      USD Coin          0.99993  2023-04-30 19:58:16.776100\n",
       "5           XRP          0.47633  2023-04-30 19:58:16.776100\n",
       "6       Cardano          0.40136  2023-04-30 19:58:16.776100\n",
       "7      Dogecoin          0.08023  2023-04-30 19:58:16.776100\n",
       "8       Polygon          0.99130  2023-04-30 19:58:16.776100\n",
       "9        Solana         23.22368  2023-04-30 19:58:16.776100\n",
       "10     Polkadot          5.93454  2023-04-30 19:58:16.776100\n",
       "11     Litecoin         89.18384  2023-04-30 19:58:16.776100\n",
       "12  Binance USD          1.00071  2023-04-30 19:58:16.776100\n",
       "13         TRON          0.06764  2023-04-30 19:58:16.776100\n",
       "14    Shiba Inu          0.00001  2023-04-30 19:58:16.776100\n",
       "15      Bitcoin      29380.57360  2023-04-30 19:59:18.249088\n",
       "16     Ethereum       1905.84316  2023-04-30 19:59:18.249088\n",
       "17       Tether          1.00066  2023-04-30 19:59:18.249088\n",
       "18          BNB        335.61870  2023-04-30 19:59:18.249088\n",
       "19     USD Coin          0.99999  2023-04-30 19:59:18.249088\n",
       "20          XRP          0.47641  2023-04-30 19:59:18.249088\n",
       "21      Cardano          0.40134  2023-04-30 19:59:18.249088\n",
       "22     Dogecoin          0.08019  2023-04-30 19:59:18.249088\n",
       "23      Polygon          0.99117  2023-04-30 19:59:18.249088\n",
       "24       Solana         23.22121  2023-04-30 19:59:18.249088\n",
       "25     Polkadot          5.93403  2023-04-30 19:59:18.249088\n",
       "26     Litecoin         89.17693  2023-04-30 19:59:18.249088\n",
       "27  Binance USD          1.00074  2023-04-30 19:59:18.249088\n",
       "28         TRON          0.06765  2023-04-30 19:59:18.249088\n",
       "29    Shiba Inu          0.00001  2023-04-30 19:59:18.249088\n",
       "30      Bitcoin      29360.01048  2023-04-30 20:00:19.537686\n",
       "31     Ethereum       1904.37473  2023-04-30 20:00:19.537686\n",
       "32       Tether          1.00087  2023-04-30 20:00:19.537686\n",
       "33          BNB        335.74122  2023-04-30 20:00:19.537686\n",
       "34     USD Coin          1.00023  2023-04-30 20:00:19.537686\n",
       "35          XRP          0.47630  2023-04-30 20:00:19.537686\n",
       "36      Cardano          0.40118  2023-04-30 20:00:19.537686\n",
       "37     Dogecoin          0.08018  2023-04-30 20:00:19.537686\n",
       "38      Polygon          0.99063  2023-04-30 20:00:19.537686\n",
       "39       Solana         23.21350  2023-04-30 20:00:19.537686\n",
       "40     Polkadot          5.93597  2023-04-30 20:00:19.537686\n",
       "41     Litecoin         89.13005  2023-04-30 20:00:19.537686\n",
       "42  Binance USD          1.00060  2023-04-30 20:00:19.537686\n",
       "43         TRON          0.06769  2023-04-30 20:00:19.537686\n",
       "44    Shiba Inu          0.00001  2023-04-30 20:00:19.537686\n",
       "45      Bitcoin      28450.14590  2023-05-02 15:35:25.791898\n",
       "46     Ethereum       1856.03706  2023-05-02 15:35:25.791898\n",
       "47       Tether          1.00036  2023-05-02 15:35:25.791898\n",
       "48          BNB        324.53310  2023-05-02 15:35:25.791898\n",
       "49     USD Coin          1.00022  2023-05-02 15:35:25.791898\n",
       "50          XRP          0.46307  2023-05-02 15:35:25.791898\n",
       "51      Cardano          0.38965  2023-05-02 15:35:25.791898\n",
       "52     Dogecoin          0.07856  2023-05-02 15:35:25.791898\n",
       "53      Polygon          0.96923  2023-05-02 15:35:25.791898\n",
       "54       Solana         22.17240  2023-05-02 15:35:25.791898\n",
       "55     Polkadot          5.70972  2023-05-02 15:35:25.791898\n",
       "56     Litecoin         88.43331  2023-05-02 15:35:25.791898\n",
       "57         TRON          0.06868  2023-05-02 15:35:25.791898\n",
       "58  Binance USD          1.00010  2023-05-02 15:35:25.791898\n",
       "59    Shiba Inu          0.00001  2023-05-02 15:35:25.791898\n",
       "60      Bitcoin      28422.44838  2023-05-02 15:36:26.871444\n",
       "61     Ethereum       1854.97799  2023-05-02 15:36:26.871444\n",
       "62       Tether          1.00023  2023-05-02 15:36:26.871444\n",
       "63          BNB        324.26954  2023-05-02 15:36:26.871444\n",
       "64     USD Coin          1.00009  2023-05-02 15:36:26.871444\n",
       "65          XRP          0.46251  2023-05-02 15:36:26.871444\n",
       "66      Cardano          0.38917  2023-05-02 15:36:26.871444\n",
       "67     Dogecoin          0.07846  2023-05-02 15:36:26.871444\n",
       "68      Polygon          0.96771  2023-05-02 15:36:26.871444\n",
       "69       Solana         22.13977  2023-05-02 15:36:26.871444\n",
       "70     Polkadot          5.70010  2023-05-02 15:36:26.871444\n",
       "71     Litecoin         88.29824  2023-05-02 15:36:26.871444\n",
       "72         TRON          0.06865  2023-05-02 15:36:26.871444\n",
       "73  Binance USD          1.00002  2023-05-02 15:36:26.871444\n",
       "74    Shiba Inu          0.00001  2023-05-02 15:36:26.871444\n",
       "75      Bitcoin      28464.27836  2023-05-02 15:37:28.846709\n",
       "76     Ethereum       1857.23365  2023-05-02 15:37:28.846709\n",
       "77       Tether          1.00036  2023-05-02 15:37:28.846709\n",
       "78          BNB        324.31074  2023-05-02 15:37:28.846709\n",
       "79     USD Coin          1.00014  2023-05-02 15:37:28.846709\n",
       "80          XRP          0.46250  2023-05-02 15:37:28.846709\n",
       "81      Cardano          0.38890  2023-05-02 15:37:28.846709\n",
       "82     Dogecoin          0.07847  2023-05-02 15:37:28.846709\n",
       "83      Polygon          0.96775  2023-05-02 15:37:28.846709\n",
       "84       Solana         22.13681  2023-05-02 15:37:28.846709\n",
       "85     Polkadot          5.70058  2023-05-02 15:37:28.846709\n",
       "86     Litecoin         88.30502  2023-05-02 15:37:28.846709\n",
       "87         TRON          0.06866  2023-05-02 15:37:28.846709\n",
       "88  Binance USD          1.00001  2023-05-02 15:37:28.846709\n",
       "89    Shiba Inu          0.00001  2023-05-02 15:37:28.846709"
      ]
     },
     "execution_count": 115,
     "metadata": {},
     "output_type": "execute_result"
    }
   ],
   "source": [
    "dataframe8 = dataframe2[['name','quote.USD.price','timestamp']]\n",
    "dataframe8"
   ]
  },
  {
   "cell_type": "code",
   "execution_count": 119,
   "id": "22493d7c",
   "metadata": {},
   "outputs": [
    {
     "data": {
      "text/html": [
       "<div>\n",
       "<style scoped>\n",
       "    .dataframe tbody tr th:only-of-type {\n",
       "        vertical-align: middle;\n",
       "    }\n",
       "\n",
       "    .dataframe tbody tr th {\n",
       "        vertical-align: top;\n",
       "    }\n",
       "\n",
       "    .dataframe thead th {\n",
       "        text-align: right;\n",
       "    }\n",
       "</style>\n",
       "<table border=\"1\" class=\"dataframe\">\n",
       "  <thead>\n",
       "    <tr style=\"text-align: right;\">\n",
       "      <th></th>\n",
       "      <th>name</th>\n",
       "      <th>quote.USD.price</th>\n",
       "      <th>timestamp</th>\n",
       "    </tr>\n",
       "  </thead>\n",
       "  <tbody>\n",
       "    <tr>\n",
       "      <th>0</th>\n",
       "      <td>Bitcoin</td>\n",
       "      <td>28464.27836</td>\n",
       "      <td>2023-05-02 15:37:28.846709</td>\n",
       "    </tr>\n",
       "  </tbody>\n",
       "</table>\n",
       "</div>"
      ],
      "text/plain": [
       "      name  quote.USD.price                  timestamp\n",
       "0  Bitcoin      28464.27836 2023-05-02 15:37:28.846709"
      ]
     },
     "execution_count": 119,
     "metadata": {},
     "output_type": "execute_result"
    }
   ],
   "source": [
    "dataframe8 = dataframe[['name','quote.USD.price','timestamp']]\n",
    "dataframe8 = dataframe8.query(\"name=='Bitcoin'\")\n",
    "dataframe8"
   ]
  },
  {
   "cell_type": "code",
   "execution_count": 120,
   "id": "f568a71a",
   "metadata": {},
   "outputs": [
    {
     "data": {
      "text/plain": [
       "<AxesSubplot:xlabel='percent_change', ylabel='values'>"
      ]
     },
     "execution_count": 120,
     "metadata": {},
     "output_type": "execute_result"
    }
   ],
   "source": [
    "sns.set_theme(style = \"darkgrid\")\n",
    "sns.lineplot(x = 'timestamp', y = 'quote.USD.price', data = dataframe8)"
   ]
  },
  {
   "cell_type": "code",
   "execution_count": null,
   "id": "af63a218",
   "metadata": {},
   "outputs": [],
   "source": []
  },
  {
   "cell_type": "code",
   "execution_count": null,
   "id": "cb629eb7",
   "metadata": {},
   "outputs": [],
   "source": []
  },
  {
   "cell_type": "code",
   "execution_count": null,
   "id": "3f6cd6aa",
   "metadata": {},
   "outputs": [],
   "source": []
  },
  {
   "cell_type": "code",
   "execution_count": null,
   "id": "fa29059b",
   "metadata": {},
   "outputs": [],
   "source": []
  }
 ],
 "metadata": {
  "kernelspec": {
   "display_name": "Python 3 (ipykernel)",
   "language": "python",
   "name": "python3"
  },
  "language_info": {
   "codemirror_mode": {
    "name": "ipython",
    "version": 3
   },
   "file_extension": ".py",
   "mimetype": "text/x-python",
   "name": "python",
   "nbconvert_exporter": "python",
   "pygments_lexer": "ipython3",
   "version": "3.10.9"
  }
 },
 "nbformat": 4,
 "nbformat_minor": 5
}
